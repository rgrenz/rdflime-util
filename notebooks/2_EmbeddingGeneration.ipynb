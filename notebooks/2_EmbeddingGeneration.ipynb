{
 "cells": [
  {
   "cell_type": "markdown",
   "id": "74656ace",
   "metadata": {},
   "source": [
    "## Initial embedding pipeline\n",
    "Prerequisites:<br>\n",
    "DBpedia subset hosted with a SPARQL endpoint, relevant datasets (e.g. metacritic-movies) cleaned in previous notebook.\n",
    "\n",
    "Purpose:<br>\n",
    "This pipeline builds knowledge graph embeddings for entities of interest (e.g. movies) and trains a classifier to predict the target variable.\n",
    "\n",
    "(Hint)\n",
    "Make sure to select the poetry kernel. If it does not show up, try to reload your editor."
   ]
  },
  {
   "cell_type": "code",
   "execution_count": 1,
   "id": "c6525562",
   "metadata": {},
   "outputs": [],
   "source": [
    "import pandas as pd\n",
    "import os.path\n",
    "import pickle\n",
    "import json\n",
    "from pathlib import Path\n",
    "from pyrdf2vec import RDF2VecTransformer\n",
    "from pyrdf2vec.embedders import Word2Vec\n",
    "from pyrdf2vec.graphs import KG\n",
    "from pyrdf2vec.walkers import RandomWalker\n",
    "from sklearn.svm import SVC\n",
    "from sklearn.metrics import accuracy_score\n",
    "from evaluation_framework.manager import FrameworkManager\n",
    "from rdflimeConfig import dbpediaLocation, dataLocation, datasets, load_dataset, split_dataset"
   ]
  },
  {
   "cell_type": "code",
   "execution_count": 2,
   "id": "526d0957",
   "metadata": {},
   "outputs": [],
   "source": [
    "from pyrdf2vec.graphs import KG, Vertex\n",
    "\n",
    "GRAPH = [\n",
    "     [\"A\", \"knows\", \"B\"],\n",
    "     [\"B\", \"knows\", \"C\"],\n",
    "     [\"C\", \"knows\", \"D\"],\n",
    "     [\"D\", \"knows\", \"E\"],\n",
    "     [\"E\", \"knows\", \"F\"],\n",
    "     [\"F\", \"knows\", \"G\"],\n",
    "     [\"G\", \"knows\", \"H\"],\n",
    "     [\"H\", \"knows\", \"I\"],\n",
    "     [\"I\", \"knows\", \"J\"],\n",
    "     [\"J\", \"knows\", \"K\"]\n",
    " ]\n",
    "URL = \"http://pyRDF2Vec\"\n",
    "CUSTOM_KG = KG()\n",
    "\n",
    "for row in GRAPH:\n",
    "    subj = Vertex(f\"{URL}#{row[0]}\")\n",
    "    obj = Vertex((f\"{URL}#{row[2]}\"))\n",
    "    pred = Vertex((f\"{URL}#{row[1]}\"), predicate=True, vprev=subj, vnext=obj)\n",
    "    CUSTOM_KG.add_walk(subj, pred, obj)"
   ]
  },
  {
   "cell_type": "code",
   "execution_count": 3,
   "id": "17bc90f5",
   "metadata": {},
   "outputs": [
    {
     "data": {
      "text/plain": [
       "KG(location=None, skip_predicates=set(), literals=[], fmt=None, mul_req=False, skip_verify=False, cache=TTLCache([], maxsize=1024, currsize=0), _is_remote=False)"
      ]
     },
     "execution_count": 3,
     "metadata": {},
     "output_type": "execute_result"
    }
   ],
   "source": [
    "transformer = RDF2VecTransformer(\n",
    "    Word2Vec(sg=0, vector_size=10), # negative = 25\n",
    "    walkers=[RandomWalker(max_walks=500, max_depth=4, with_reverse=False, n_jobs=2, md5_bytes=None)], # max_walks = 22, max_depth = 2\n",
    "    verbose=1\n",
    ")"
   ]
  },
  {
   "cell_type": "code",
   "execution_count": 21,
   "id": "0c04f83b",
   "metadata": {},
   "outputs": [],
   "source": []
  },
  {
   "cell_type": "code",
   "execution_count": 45,
   "id": "e8d1d849",
   "metadata": {},
   "outputs": [
    {
     "name": "stderr",
     "output_type": "stream",
     "text": [
      "100%|██████████| 1/1 [00:00<00:00,  4.84it/s]"
     ]
    },
    {
     "name": "stdout",
     "output_type": "stream",
     "text": [
      "Extracted 1 walks for 1 entities (0.2355s)\n"
     ]
    },
    {
     "name": "stderr",
     "output_type": "stream",
     "text": [
      "\n"
     ]
    },
    {
     "data": {
      "text/plain": [
       "[[('Matrix',\n",
       "   'http://www.w3.org/2000/01/rdf-schema#label',\n",
       "   'http://dbpedia.org/resource/The_Matrix',\n",
       "   'http://dbpedia.org/ontology/wikiPageWikiLink',\n",
       "   'http://dbpedia.org/resource/2001:_A_Space_Odyssey_(film)')]]"
      ]
     },
     "execution_count": 45,
     "metadata": {},
     "output_type": "execute_result"
    }
   ],
   "source": [
    "dbpedia = KG(\"https://dbpedia.org/sparql\")\n",
    "\n",
    "transformer = RDF2VecTransformer(\n",
    "    Word2Vec(sg=0, vector_size=10),\n",
    "    walkers=[RandomWalker(max_walks=1, max_depth=1, with_reverse=True, md5_bytes=None)],\n",
    "    verbose=1\n",
    ")\n",
    "\n",
    "transformer.get_walks(dbpedia, [\"http://dbpedia.org/resource/The_Matrix\"])"
   ]
  },
  {
   "cell_type": "code",
   "execution_count": 25,
   "id": "11e29619",
   "metadata": {},
   "outputs": [
    {
     "name": "stdout",
     "output_type": "stream",
     "text": [
      "('European Film Awards winners (films)', 'http://www.w3.org/2004/02/skos/core#prefLabel', 'http://dbpedia.org/resource/Category:European_Film_Awards_winners_(films)', 'http://purl.org/dc/terms/subject', 'http://dbpedia.org/resource/4_Months,_3_Weeks_and_2_Days', 'http://dbpedia.org/ontology/distributor', 'http://dbpedia.org/resource/BAC_Films')\n",
      "('European Film Awards winners (films)', 'http://www.w3.org/2004/02/skos/core#prefLabel', 'http://dbpedia.org/resource/Category:European_Film_Awards_winners_(films)', 'http://purl.org/dc/terms/subject', 'http://dbpedia.org/resource/4_Months,_3_Weeks_and_2_Days', 'http://dbpedia.org/ontology/distributor', 'http://dbpedia.org/resource/BAC_Films')\n",
      "('http://dbpedia.org/resource/Category:Romanian-language_media', 'http://www.w3.org/2004/02/skos/core#broader', 'http://dbpedia.org/resource/Category:Romanian-language_films', 'http://purl.org/dc/terms/subject', 'http://dbpedia.org/resource/4_Months,_3_Weeks_and_2_Days', 'http://dbpedia.org/ontology/starring', 'http://dbpedia.org/resource/Laura_Vasiliu')\n",
      "('http://dbpedia.org/resource/Category:Romanian-language_media', 'http://www.w3.org/2004/02/skos/core#broader', 'http://dbpedia.org/resource/Category:Romanian-language_films', 'http://purl.org/dc/terms/subject', 'http://dbpedia.org/resource/4_Months,_3_Weeks_and_2_Days', 'http://dbpedia.org/ontology/starring', 'http://dbpedia.org/resource/Laura_Vasiliu')\n",
      "('http://www.wikidata.org/entity/Q215627', 'http://www.w3.org/1999/02/22-rdf-syntax-ns#type', 'http://dbpedia.org/resource/Cristian_Mungiu', 'http://dbpedia.org/ontology/producer', 'http://dbpedia.org/resource/4_Months,_3_Weeks_and_2_Days', 'http://dbpedia.org/ontology/producer', 'http://dbpedia.org/resource/Cristian_Mungiu', 'http://www.w3.org/1999/02/22-rdf-syntax-ns#type', 'http://dbpedia.org/ontology/Agent')\n",
      "('http://www.wikidata.org/entity/Q215627', 'http://www.w3.org/1999/02/22-rdf-syntax-ns#type', 'http://dbpedia.org/resource/Cristian_Mungiu', 'http://dbpedia.org/ontology/producer', 'http://dbpedia.org/resource/4_Months,_3_Weeks_and_2_Days', 'http://dbpedia.org/ontology/producer', 'http://dbpedia.org/resource/Cristian_Mungiu', 'http://www.w3.org/1999/02/22-rdf-syntax-ns#type', 'http://dbpedia.org/ontology/Agent')\n",
      "('http://www.w3.org/2004/02/skos/core#Concept', 'http://www.w3.org/1999/02/22-rdf-syntax-ns#type', 'http://dbpedia.org/resource/Category:Films_set_in_1987', 'http://purl.org/dc/terms/subject', 'http://dbpedia.org/resource/4_Months,_3_Weeks_and_2_Days', 'http://dbpedia.org/ontology/starring', 'http://dbpedia.org/resource/Luminița_Gheorghiu', 'http://www.w3.org/1999/02/22-rdf-syntax-ns#type', 'http://www.ontologydesignpatterns.org/ont/dul/DUL.owl#NaturalPerson')\n",
      "('http://www.w3.org/2004/02/skos/core#Concept', 'http://www.w3.org/1999/02/22-rdf-syntax-ns#type', 'http://dbpedia.org/resource/Category:Films_set_in_1987', 'http://purl.org/dc/terms/subject', 'http://dbpedia.org/resource/4_Months,_3_Weeks_and_2_Days', 'http://dbpedia.org/ontology/starring', 'http://dbpedia.org/resource/Luminița_Gheorghiu', 'http://www.w3.org/1999/02/22-rdf-syntax-ns#type', 'http://www.ontologydesignpatterns.org/ont/dul/DUL.owl#NaturalPerson')\n",
      "('http://dbpedia.org/ontology/Film', 'http://www.w3.org/1999/02/22-rdf-syntax-ns#type', 'http://dbpedia.org/resource/4_Months,_3_Weeks_and_2_Days', 'http://dbpedia.org/ontology/producer', 'http://dbpedia.org/resource/Cristian_Mungiu', 'http://purl.org/dc/terms/subject', 'http://dbpedia.org/resource/Category:People_from_Iași')\n",
      "('http://dbpedia.org/resource/Dana_Bunescu', 'http://dbpedia.org/ontology/editing', 'http://dbpedia.org/resource/4_Months,_3_Weeks_and_2_Days', 'http://dbpedia.org/ontology/starring', 'http://dbpedia.org/resource/Anamaria_Marinca', 'http://www.w3.org/1999/02/22-rdf-syntax-ns#type', 'http://www.wikidata.org/entity/Q5')\n",
      "('http://dbpedia.org/resource/Romania', 'http://dbpedia.org/ontology/birthPlace', 'http://dbpedia.org/resource/Cristian_Mungiu', 'http://dbpedia.org/ontology/director', 'http://dbpedia.org/resource/4_Months,_3_Weeks_and_2_Days', 'http://dbpedia.org/ontology/starring', 'http://dbpedia.org/resource/Laura_Vasiliu')\n",
      "('http://dbpedia.org/resource/Romania', 'http://dbpedia.org/ontology/birthPlace', 'http://dbpedia.org/resource/Cristian_Mungiu', 'http://dbpedia.org/ontology/director', 'http://dbpedia.org/resource/4_Months,_3_Weeks_and_2_Days', 'http://dbpedia.org/ontology/starring', 'http://dbpedia.org/resource/Laura_Vasiliu')\n",
      "('http://dbpedia.org/ontology/Film', 'http://www.w3.org/1999/02/22-rdf-syntax-ns#type', 'http://dbpedia.org/resource/4_Months,_3_Weeks_and_2_Days', 'http://dbpedia.org/ontology/starring', 'http://dbpedia.org/resource/Luminița_Gheorghiu', 'http://www.w3.org/1999/02/22-rdf-syntax-ns#type', 'http://www.ontologydesignpatterns.org/ont/dul/DUL.owl#NaturalPerson')\n",
      "('http://dbpedia.org/resource/Category:Films_by_year', 'http://www.w3.org/2004/02/skos/core#broader', 'http://dbpedia.org/resource/Category:2007_films', 'http://purl.org/dc/terms/subject', 'http://dbpedia.org/resource/4_Months,_3_Weeks_and_2_Days', 'http://dbpedia.org/ontology/starring', 'http://dbpedia.org/resource/Luminița_Gheorghiu', 'http://www.w3.org/1999/02/22-rdf-syntax-ns#type', 'http://www.ontologydesignpatterns.org/ont/dul/DUL.owl#NaturalPerson')\n",
      "('http://dbpedia.org/resource/Category:Films_by_year', 'http://www.w3.org/2004/02/skos/core#broader', 'http://dbpedia.org/resource/Category:2007_films', 'http://purl.org/dc/terms/subject', 'http://dbpedia.org/resource/4_Months,_3_Weeks_and_2_Days', 'http://dbpedia.org/ontology/starring', 'http://dbpedia.org/resource/Luminița_Gheorghiu', 'http://www.w3.org/1999/02/22-rdf-syntax-ns#type', 'http://www.ontologydesignpatterns.org/ont/dul/DUL.owl#NaturalPerson')\n",
      "('http://dbpedia.org/resource/Oleg_Mutu', 'http://dbpedia.org/ontology/cinematography', 'http://dbpedia.org/resource/4_Months,_3_Weeks_and_2_Days', 'http://purl.org/dc/terms/subject', 'http://dbpedia.org/resource/Category:2007_films', 'http://www.w3.org/2004/02/skos/core#prefLabel', '2007 films')\n",
      "('http://www.w3.org/2004/02/skos/core#Concept', 'http://www.w3.org/1999/02/22-rdf-syntax-ns#type', 'http://dbpedia.org/resource/Category:Romanian-language_films', 'http://purl.org/dc/terms/subject', 'http://dbpedia.org/resource/4_Months,_3_Weeks_and_2_Days', 'http://purl.org/dc/terms/subject', 'http://dbpedia.org/resource/Category:Romanian-language_films', 'http://www.w3.org/1999/02/22-rdf-syntax-ns#type', 'http://www.w3.org/2004/02/skos/core#Concept')\n",
      "('http://www.w3.org/2004/02/skos/core#Concept', 'http://www.w3.org/1999/02/22-rdf-syntax-ns#type', 'http://dbpedia.org/resource/Category:Romanian-language_films', 'http://purl.org/dc/terms/subject', 'http://dbpedia.org/resource/4_Months,_3_Weeks_and_2_Days', 'http://purl.org/dc/terms/subject', 'http://dbpedia.org/resource/Category:Romanian-language_films', 'http://www.w3.org/1999/02/22-rdf-syntax-ns#type', 'http://www.w3.org/2004/02/skos/core#Concept')\n",
      "('http://dbpedia.org/ontology/Person', 'http://www.w3.org/1999/02/22-rdf-syntax-ns#type', 'http://dbpedia.org/resource/Vlad_Ivanov', 'http://dbpedia.org/ontology/starring', 'http://dbpedia.org/resource/4_Months,_3_Weeks_and_2_Days', 'http://dbpedia.org/ontology/starring', 'http://dbpedia.org/resource/Laura_Vasiliu')\n",
      "('http://dbpedia.org/ontology/Person', 'http://www.w3.org/1999/02/22-rdf-syntax-ns#type', 'http://dbpedia.org/resource/Vlad_Ivanov', 'http://dbpedia.org/ontology/starring', 'http://dbpedia.org/resource/4_Months,_3_Weeks_and_2_Days', 'http://dbpedia.org/ontology/starring', 'http://dbpedia.org/resource/Laura_Vasiliu')\n",
      "('http://dbpedia.org/resource/Category:Cinema_of_Romania', 'http://www.w3.org/2004/02/skos/core#broader', 'http://dbpedia.org/resource/Category:Romanian-language_films', 'http://purl.org/dc/terms/subject', 'http://dbpedia.org/resource/4_Months,_3_Weeks_and_2_Days', 'http://dbpedia.org/ontology/starring', 'http://dbpedia.org/resource/Anamaria_Marinca', 'http://www.w3.org/1999/02/22-rdf-syntax-ns#type', 'http://www.wikidata.org/entity/Q5')\n",
      "('http://dbpedia.org/resource/Category:Cinema_of_Romania', 'http://www.w3.org/2004/02/skos/core#broader', 'http://dbpedia.org/resource/Category:Romanian-language_films', 'http://purl.org/dc/terms/subject', 'http://dbpedia.org/resource/4_Months,_3_Weeks_and_2_Days', 'http://dbpedia.org/ontology/starring', 'http://dbpedia.org/resource/Anamaria_Marinca', 'http://www.w3.org/1999/02/22-rdf-syntax-ns#type', 'http://www.wikidata.org/entity/Q5')\n",
      "('Romanian drama films', 'http://www.w3.org/2004/02/skos/core#prefLabel', 'http://dbpedia.org/resource/Category:Romanian_drama_films', 'http://purl.org/dc/terms/subject', 'http://dbpedia.org/resource/4_Months,_3_Weeks_and_2_Days', 'http://purl.org/dc/terms/subject', 'http://dbpedia.org/resource/Category:IFC_Films_films', 'http://www.w3.org/2004/02/skos/core#broader', 'http://dbpedia.org/resource/Category:AMC_Networks')\n",
      "('Romanian drama films', 'http://www.w3.org/2004/02/skos/core#prefLabel', 'http://dbpedia.org/resource/Category:Romanian_drama_films', 'http://purl.org/dc/terms/subject', 'http://dbpedia.org/resource/4_Months,_3_Weeks_and_2_Days', 'http://purl.org/dc/terms/subject', 'http://dbpedia.org/resource/Category:IFC_Films_films', 'http://www.w3.org/2004/02/skos/core#broader', 'http://dbpedia.org/resource/Category:AMC_Networks')\n",
      "('http://dbpedia.org/ontology/Wikidata:Q11424', 'http://www.w3.org/1999/02/22-rdf-syntax-ns#type', 'http://dbpedia.org/resource/4_Months,_3_Weeks_and_2_Days', 'http://purl.org/dc/terms/subject', 'http://dbpedia.org/resource/Category:Romanian_drama_films', 'http://www.w3.org/2004/02/skos/core#broader', 'http://dbpedia.org/resource/Category:Romanian_films_by_genre')\n",
      "('http://www.w3.org/2004/02/skos/core#Concept', 'http://www.w3.org/1999/02/22-rdf-syntax-ns#type', 'http://dbpedia.org/resource/Category:Films_set_in_1987', 'http://purl.org/dc/terms/subject', 'http://dbpedia.org/resource/4_Months,_3_Weeks_and_2_Days', 'http://purl.org/dc/terms/subject', 'http://dbpedia.org/resource/Category:IFC_Films_films', 'http://www.w3.org/2004/02/skos/core#broader', 'http://dbpedia.org/resource/Category:AMC_Networks')\n",
      "('http://www.w3.org/2004/02/skos/core#Concept', 'http://www.w3.org/1999/02/22-rdf-syntax-ns#type', 'http://dbpedia.org/resource/Category:Films_set_in_1987', 'http://purl.org/dc/terms/subject', 'http://dbpedia.org/resource/4_Months,_3_Weeks_and_2_Days', 'http://purl.org/dc/terms/subject', 'http://dbpedia.org/resource/Category:IFC_Films_films', 'http://www.w3.org/2004/02/skos/core#broader', 'http://dbpedia.org/resource/Category:AMC_Networks')\n",
      "('http://dbpedia.org/resource/Laura_Vasiliu', 'http://dbpedia.org/ontology/starring', 'http://dbpedia.org/resource/4_Months,_3_Weeks_and_2_Days', 'http://purl.org/dc/terms/subject', 'http://dbpedia.org/resource/Category:Romanian-language_films', 'http://www.w3.org/1999/02/22-rdf-syntax-ns#type', 'http://www.w3.org/2004/02/skos/core#Concept')\n",
      "('Political drama films', 'http://www.w3.org/2004/02/skos/core#prefLabel', 'http://dbpedia.org/resource/Category:Political_drama_films', 'http://purl.org/dc/terms/subject', 'http://dbpedia.org/resource/4_Months,_3_Weeks_and_2_Days', 'http://purl.org/dc/terms/subject', 'http://dbpedia.org/resource/Category:IFC_Films_films', 'http://www.w3.org/2004/02/skos/core#broader', 'http://dbpedia.org/resource/Category:AMC_Networks')\n",
      "('Political drama films', 'http://www.w3.org/2004/02/skos/core#prefLabel', 'http://dbpedia.org/resource/Category:Political_drama_films', 'http://purl.org/dc/terms/subject', 'http://dbpedia.org/resource/4_Months,_3_Weeks_and_2_Days', 'http://purl.org/dc/terms/subject', 'http://dbpedia.org/resource/Category:IFC_Films_films', 'http://www.w3.org/2004/02/skos/core#broader', 'http://dbpedia.org/resource/Category:AMC_Networks')\n",
      "('http://dbpedia.org/resource/Category:2007_in_fiction', 'http://www.w3.org/2004/02/skos/core#broader', 'http://dbpedia.org/resource/Category:2007_films', 'http://purl.org/dc/terms/subject', 'http://dbpedia.org/resource/4_Months,_3_Weeks_and_2_Days', 'http://dbpedia.org/ontology/starring', 'http://dbpedia.org/resource/Luminița_Gheorghiu', 'http://www.w3.org/1999/02/22-rdf-syntax-ns#type', 'http://www.ontologydesignpatterns.org/ont/dul/DUL.owl#NaturalPerson')\n",
      "('http://dbpedia.org/resource/Category:2007_in_fiction', 'http://www.w3.org/2004/02/skos/core#broader', 'http://dbpedia.org/resource/Category:2007_films', 'http://purl.org/dc/terms/subject', 'http://dbpedia.org/resource/4_Months,_3_Weeks_and_2_Days', 'http://dbpedia.org/ontology/starring', 'http://dbpedia.org/resource/Luminița_Gheorghiu', 'http://www.w3.org/1999/02/22-rdf-syntax-ns#type', 'http://www.ontologydesignpatterns.org/ont/dul/DUL.owl#NaturalPerson')\n",
      "('IFC Films films', 'http://www.w3.org/2004/02/skos/core#prefLabel', 'http://dbpedia.org/resource/Category:IFC_Films_films', 'http://purl.org/dc/terms/subject', 'http://dbpedia.org/resource/4_Months,_3_Weeks_and_2_Days', 'http://purl.org/dc/terms/subject', 'http://dbpedia.org/resource/Category:2007_films', 'http://www.w3.org/2004/02/skos/core#prefLabel', '2007 films')\n",
      "('IFC Films films', 'http://www.w3.org/2004/02/skos/core#prefLabel', 'http://dbpedia.org/resource/Category:IFC_Films_films', 'http://purl.org/dc/terms/subject', 'http://dbpedia.org/resource/4_Months,_3_Weeks_and_2_Days', 'http://purl.org/dc/terms/subject', 'http://dbpedia.org/resource/Category:2007_films', 'http://www.w3.org/2004/02/skos/core#prefLabel', '2007 films')\n",
      "('http://dbpedia.org/ontology/Film', 'http://www.w3.org/1999/02/22-rdf-syntax-ns#type', 'http://dbpedia.org/resource/4_Months,_3_Weeks_and_2_Days', 'http://www.w3.org/1999/02/22-rdf-syntax-ns#type', 'http://schema.org/CreativeWork')\n",
      "('2007 films', 'http://www.w3.org/2004/02/skos/core#prefLabel', 'http://dbpedia.org/resource/Category:2007_films', 'http://purl.org/dc/terms/subject', 'http://dbpedia.org/resource/4_Months,_3_Weeks_and_2_Days', 'http://dbpedia.org/ontology/starring', 'http://dbpedia.org/resource/Adi_Carauleanu')\n",
      "('2007 films', 'http://www.w3.org/2004/02/skos/core#prefLabel', 'http://dbpedia.org/resource/Category:2007_films', 'http://purl.org/dc/terms/subject', 'http://dbpedia.org/resource/4_Months,_3_Weeks_and_2_Days', 'http://dbpedia.org/ontology/starring', 'http://dbpedia.org/resource/Adi_Carauleanu')\n",
      "('http://dbpedia.org/resource/Category:Films_by_year', 'http://www.w3.org/2004/02/skos/core#broader', 'http://dbpedia.org/resource/Category:2007_films', 'http://purl.org/dc/terms/subject', 'http://dbpedia.org/resource/4_Months,_3_Weeks_and_2_Days', 'http://purl.org/dc/terms/subject', 'http://dbpedia.org/resource/Category:Romanian_drama_films', 'http://www.w3.org/2004/02/skos/core#broader', 'http://dbpedia.org/resource/Category:Romanian_films_by_genre')\n",
      "('http://dbpedia.org/resource/Category:Films_by_year', 'http://www.w3.org/2004/02/skos/core#broader', 'http://dbpedia.org/resource/Category:2007_films', 'http://purl.org/dc/terms/subject', 'http://dbpedia.org/resource/4_Months,_3_Weeks_and_2_Days', 'http://purl.org/dc/terms/subject', 'http://dbpedia.org/resource/Category:Romanian_drama_films', 'http://www.w3.org/2004/02/skos/core#broader', 'http://dbpedia.org/resource/Category:Romanian_films_by_genre')\n",
      "('http://dbpedia.org/resource/Category:Film_award_winners', 'http://www.w3.org/2004/02/skos/core#broader', 'http://dbpedia.org/resource/Category:European_Film_Awards_winners_(films)', 'http://purl.org/dc/terms/subject', 'http://dbpedia.org/resource/4_Months,_3_Weeks_and_2_Days', 'http://dbpedia.org/ontology/starring', 'http://dbpedia.org/resource/Luminița_Gheorghiu', 'http://www.w3.org/1999/02/22-rdf-syntax-ns#type', 'http://schema.org/Person')\n",
      "('http://dbpedia.org/resource/Category:Film_award_winners', 'http://www.w3.org/2004/02/skos/core#broader', 'http://dbpedia.org/resource/Category:European_Film_Awards_winners_(films)', 'http://purl.org/dc/terms/subject', 'http://dbpedia.org/resource/4_Months,_3_Weeks_and_2_Days', 'http://dbpedia.org/ontology/starring', 'http://dbpedia.org/resource/Luminița_Gheorghiu', 'http://www.w3.org/1999/02/22-rdf-syntax-ns#type', 'http://schema.org/Person')\n",
      "('http://dbpedia.org/resource/Dana_Bunescu', 'http://dbpedia.org/ontology/editing', 'http://dbpedia.org/resource/4_Months,_3_Weeks_and_2_Days', 'http://dbpedia.org/ontology/starring', 'http://dbpedia.org/resource/Luminița_Gheorghiu', 'http://www.w3.org/1999/02/22-rdf-syntax-ns#type', 'http://schema.org/Person')\n",
      "('http://dbpedia.org/resource/Category:American_films_by_studio', 'http://www.w3.org/2004/02/skos/core#broader', 'http://dbpedia.org/resource/Category:IFC_Films_films', 'http://purl.org/dc/terms/subject', 'http://dbpedia.org/resource/4_Months,_3_Weeks_and_2_Days', 'http://dbpedia.org/ontology/starring', 'http://dbpedia.org/resource/Anamaria_Marinca', 'http://www.w3.org/1999/02/22-rdf-syntax-ns#type', 'http://www.wikidata.org/entity/Q5')\n",
      "('http://dbpedia.org/resource/Category:American_films_by_studio', 'http://www.w3.org/2004/02/skos/core#broader', 'http://dbpedia.org/resource/Category:IFC_Films_films', 'http://purl.org/dc/terms/subject', 'http://dbpedia.org/resource/4_Months,_3_Weeks_and_2_Days', 'http://dbpedia.org/ontology/starring', 'http://dbpedia.org/resource/Anamaria_Marinca', 'http://www.w3.org/1999/02/22-rdf-syntax-ns#type', 'http://www.wikidata.org/entity/Q5')\n",
      "('http://dbpedia.org/resource/Category:European_Film_Awards', 'http://www.w3.org/2004/02/skos/core#broader', 'http://dbpedia.org/resource/Category:European_Film_Awards_winners_(films)', 'http://purl.org/dc/terms/subject', 'http://dbpedia.org/resource/4_Months,_3_Weeks_and_2_Days', 'http://purl.org/dc/terms/subject', 'http://dbpedia.org/resource/Category:IFC_Films_films', 'http://www.w3.org/2004/02/skos/core#broader', 'http://dbpedia.org/resource/Category:AMC_Networks')\n",
      "('http://dbpedia.org/resource/Category:European_Film_Awards', 'http://www.w3.org/2004/02/skos/core#broader', 'http://dbpedia.org/resource/Category:European_Film_Awards_winners_(films)', 'http://purl.org/dc/terms/subject', 'http://dbpedia.org/resource/4_Months,_3_Weeks_and_2_Days', 'http://purl.org/dc/terms/subject', 'http://dbpedia.org/resource/Category:IFC_Films_films', 'http://www.w3.org/2004/02/skos/core#broader', 'http://dbpedia.org/resource/Category:AMC_Networks')\n",
      "('http://www.ontologydesignpatterns.org/ont/dul/DUL.owl#NaturalPerson', 'http://www.w3.org/1999/02/22-rdf-syntax-ns#type', 'http://dbpedia.org/resource/Alexandru_Potocean', 'http://dbpedia.org/ontology/starring', 'http://dbpedia.org/resource/4_Months,_3_Weeks_and_2_Days', 'http://dbpedia.org/ontology/distributor', 'http://dbpedia.org/resource/BAC_Films')\n",
      "('http://www.ontologydesignpatterns.org/ont/dul/DUL.owl#NaturalPerson', 'http://www.w3.org/1999/02/22-rdf-syntax-ns#type', 'http://dbpedia.org/resource/Alexandru_Potocean', 'http://dbpedia.org/ontology/starring', 'http://dbpedia.org/resource/4_Months,_3_Weeks_and_2_Days', 'http://dbpedia.org/ontology/distributor', 'http://dbpedia.org/resource/BAC_Films')\n",
      "('http://dbpedia.org/ontology/Agent', 'http://www.w3.org/1999/02/22-rdf-syntax-ns#type', 'http://dbpedia.org/resource/Luminița_Gheorghiu', 'http://dbpedia.org/ontology/starring', 'http://dbpedia.org/resource/4_Months,_3_Weeks_and_2_Days', 'http://www.w3.org/1999/02/22-rdf-syntax-ns#type', 'http://www.w3.org/2002/07/owl#Thing')\n",
      "('http://dbpedia.org/ontology/Agent', 'http://www.w3.org/1999/02/22-rdf-syntax-ns#type', 'http://dbpedia.org/resource/Luminița_Gheorghiu', 'http://dbpedia.org/ontology/starring', 'http://dbpedia.org/resource/4_Months,_3_Weeks_and_2_Days', 'http://www.w3.org/1999/02/22-rdf-syntax-ns#type', 'http://www.w3.org/2002/07/owl#Thing')\n",
      "('http://dbpedia.org/resource/Category:2007_in_fiction', 'http://www.w3.org/2004/02/skos/core#broader', 'http://dbpedia.org/resource/Category:2007_films', 'http://purl.org/dc/terms/subject', 'http://dbpedia.org/resource/4_Months,_3_Weeks_and_2_Days', 'http://dbpedia.org/ontology/starring', 'http://dbpedia.org/resource/Vlad_Ivanov', 'http://purl.org/dc/terms/subject', 'http://dbpedia.org/resource/Category:Living_people')\n",
      "('http://dbpedia.org/resource/Category:2007_in_fiction', 'http://www.w3.org/2004/02/skos/core#broader', 'http://dbpedia.org/resource/Category:2007_films', 'http://purl.org/dc/terms/subject', 'http://dbpedia.org/resource/4_Months,_3_Weeks_and_2_Days', 'http://dbpedia.org/ontology/starring', 'http://dbpedia.org/resource/Vlad_Ivanov', 'http://purl.org/dc/terms/subject', 'http://dbpedia.org/resource/Category:Living_people')\n",
      "('Political drama films', 'http://www.w3.org/2004/02/skos/core#prefLabel', 'http://dbpedia.org/resource/Category:Political_drama_films', 'http://purl.org/dc/terms/subject', 'http://dbpedia.org/resource/4_Months,_3_Weeks_and_2_Days', 'http://www.w3.org/1999/02/22-rdf-syntax-ns#type', 'http://dbpedia.org/ontology/Wikidata:Q11424')\n",
      "('Political drama films', 'http://www.w3.org/2004/02/skos/core#prefLabel', 'http://dbpedia.org/resource/Category:Political_drama_films', 'http://purl.org/dc/terms/subject', 'http://dbpedia.org/resource/4_Months,_3_Weeks_and_2_Days', 'http://www.w3.org/1999/02/22-rdf-syntax-ns#type', 'http://dbpedia.org/ontology/Wikidata:Q11424')\n",
      "('http://dbpedia.org/resource/Category:Drama_films_by_country', 'http://www.w3.org/2004/02/skos/core#broader', 'http://dbpedia.org/resource/Category:Romanian_drama_films', 'http://purl.org/dc/terms/subject', 'http://dbpedia.org/resource/4_Months,_3_Weeks_and_2_Days', 'http://www.w3.org/1999/02/22-rdf-syntax-ns#type', 'http://schema.org/Movie')\n",
      "('http://dbpedia.org/resource/Category:Drama_films_by_country', 'http://www.w3.org/2004/02/skos/core#broader', 'http://dbpedia.org/resource/Category:Romanian_drama_films', 'http://purl.org/dc/terms/subject', 'http://dbpedia.org/resource/4_Months,_3_Weeks_and_2_Days', 'http://www.w3.org/1999/02/22-rdf-syntax-ns#type', 'http://schema.org/Movie')\n",
      "(\"http://dbpedia.org/resource/Category:Palme_d'Or\", 'http://www.w3.org/2004/02/skos/core#broader', \"http://dbpedia.org/resource/Category:Palme_d'Or_winners\", 'http://purl.org/dc/terms/subject', 'http://dbpedia.org/resource/4_Months,_3_Weeks_and_2_Days', 'http://www.w3.org/1999/02/22-rdf-syntax-ns#type', 'http://dbpedia.org/ontology/Film')\n",
      "(\"http://dbpedia.org/resource/Category:Palme_d'Or\", 'http://www.w3.org/2004/02/skos/core#broader', \"http://dbpedia.org/resource/Category:Palme_d'Or_winners\", 'http://purl.org/dc/terms/subject', 'http://dbpedia.org/resource/4_Months,_3_Weeks_and_2_Days', 'http://www.w3.org/1999/02/22-rdf-syntax-ns#type', 'http://dbpedia.org/ontology/Film')\n",
      "('http://dbpedia.org/ontology/Wikidata:Q11424', 'http://www.w3.org/1999/02/22-rdf-syntax-ns#type', 'http://dbpedia.org/resource/4_Months,_3_Weeks_and_2_Days', 'http://dbpedia.org/ontology/distributor', 'http://dbpedia.org/resource/BAC_Films')\n",
      "('http://dbpedia.org/resource/Category:Films_by_Romanian_directors', 'http://www.w3.org/2004/02/skos/core#broader', 'http://dbpedia.org/resource/Category:Films_directed_by_Cristian_Mungiu', 'http://purl.org/dc/terms/subject', 'http://dbpedia.org/resource/4_Months,_3_Weeks_and_2_Days', 'http://www.w3.org/1999/02/22-rdf-syntax-ns#type', 'http://dbpedia.org/ontology/Wikidata:Q11424')\n",
      "('http://dbpedia.org/resource/Category:Films_by_Romanian_directors', 'http://www.w3.org/2004/02/skos/core#broader', 'http://dbpedia.org/resource/Category:Films_directed_by_Cristian_Mungiu', 'http://purl.org/dc/terms/subject', 'http://dbpedia.org/resource/4_Months,_3_Weeks_and_2_Days', 'http://www.w3.org/1999/02/22-rdf-syntax-ns#type', 'http://dbpedia.org/ontology/Wikidata:Q11424')\n",
      "('http://dbpedia.org/resource/Laura_Vasiliu', 'http://dbpedia.org/ontology/starring', 'http://dbpedia.org/resource/4_Months,_3_Weeks_and_2_Days', 'http://purl.org/dc/terms/subject', 'http://dbpedia.org/resource/Category:Abortion_in_Romania', 'http://www.w3.org/2004/02/skos/core#broader', \"http://dbpedia.org/resource/Category:Women's_rights_in_Romania\")\n",
      "('Abortion in Romania', 'http://www.w3.org/2004/02/skos/core#prefLabel', 'http://dbpedia.org/resource/Category:Abortion_in_Romania', 'http://purl.org/dc/terms/subject', 'http://dbpedia.org/resource/4_Months,_3_Weeks_and_2_Days', 'http://purl.org/dc/terms/subject', 'http://dbpedia.org/resource/Category:2007_films', 'http://www.w3.org/2004/02/skos/core#prefLabel', '2007 films')\n",
      "('Abortion in Romania', 'http://www.w3.org/2004/02/skos/core#prefLabel', 'http://dbpedia.org/resource/Category:Abortion_in_Romania', 'http://purl.org/dc/terms/subject', 'http://dbpedia.org/resource/4_Months,_3_Weeks_and_2_Days', 'http://purl.org/dc/terms/subject', 'http://dbpedia.org/resource/Category:2007_films', 'http://www.w3.org/2004/02/skos/core#prefLabel', '2007 films')\n",
      "('http://dbpedia.org/resource/Category:Pregnancy_films', 'http://www.w3.org/2004/02/skos/core#broader', 'http://dbpedia.org/resource/Category:Films_about_abortion', 'http://purl.org/dc/terms/subject', 'http://dbpedia.org/resource/4_Months,_3_Weeks_and_2_Days', 'http://www.w3.org/1999/02/22-rdf-syntax-ns#type', 'http://schema.org/Movie')\n",
      "('http://dbpedia.org/resource/Category:Pregnancy_films', 'http://www.w3.org/2004/02/skos/core#broader', 'http://dbpedia.org/resource/Category:Films_about_abortion', 'http://purl.org/dc/terms/subject', 'http://dbpedia.org/resource/4_Months,_3_Weeks_and_2_Days', 'http://www.w3.org/1999/02/22-rdf-syntax-ns#type', 'http://schema.org/Movie')\n",
      "('http://www.wikidata.org/entity/Q386724', 'http://www.w3.org/1999/02/22-rdf-syntax-ns#type', 'http://dbpedia.org/resource/4_Months,_3_Weeks_and_2_Days', 'http://dbpedia.org/ontology/starring', 'http://dbpedia.org/resource/Anamaria_Marinca', 'http://www.w3.org/1999/02/22-rdf-syntax-ns#type', 'http://www.wikidata.org/entity/Q5')\n",
      "('http://xmlns.com/foaf/0.1/Person', 'http://www.w3.org/1999/02/22-rdf-syntax-ns#type', 'http://dbpedia.org/resource/Vlad_Ivanov', 'http://dbpedia.org/ontology/starring', 'http://dbpedia.org/resource/4_Months,_3_Weeks_and_2_Days', 'http://purl.org/dc/terms/subject', 'http://dbpedia.org/resource/Category:IFC_Films_films', 'http://www.w3.org/2004/02/skos/core#broader', 'http://dbpedia.org/resource/Category:AMC_Networks')\n",
      "('http://xmlns.com/foaf/0.1/Person', 'http://www.w3.org/1999/02/22-rdf-syntax-ns#type', 'http://dbpedia.org/resource/Vlad_Ivanov', 'http://dbpedia.org/ontology/starring', 'http://dbpedia.org/resource/4_Months,_3_Weeks_and_2_Days', 'http://purl.org/dc/terms/subject', 'http://dbpedia.org/resource/Category:IFC_Films_films', 'http://www.w3.org/2004/02/skos/core#broader', 'http://dbpedia.org/resource/Category:AMC_Networks')\n",
      "('http://xmlns.com/foaf/0.1/Person', 'http://www.w3.org/1999/02/22-rdf-syntax-ns#type', 'http://dbpedia.org/resource/Cristian_Mungiu', 'http://dbpedia.org/ontology/director', 'http://dbpedia.org/resource/4_Months,_3_Weeks_and_2_Days', 'http://dbpedia.org/ontology/starring', 'http://dbpedia.org/resource/Luminița_Gheorghiu', 'http://www.w3.org/1999/02/22-rdf-syntax-ns#type', 'http://www.ontologydesignpatterns.org/ont/dul/DUL.owl#NaturalPerson')\n",
      "('http://xmlns.com/foaf/0.1/Person', 'http://www.w3.org/1999/02/22-rdf-syntax-ns#type', 'http://dbpedia.org/resource/Cristian_Mungiu', 'http://dbpedia.org/ontology/director', 'http://dbpedia.org/resource/4_Months,_3_Weeks_and_2_Days', 'http://dbpedia.org/ontology/starring', 'http://dbpedia.org/resource/Luminița_Gheorghiu', 'http://www.w3.org/1999/02/22-rdf-syntax-ns#type', 'http://www.ontologydesignpatterns.org/ont/dul/DUL.owl#NaturalPerson')\n",
      "('http://dbpedia.org/resource/Category:Drama_films_by_genre', 'http://www.w3.org/2004/02/skos/core#broader', 'http://dbpedia.org/resource/Category:Political_drama_films', 'http://purl.org/dc/terms/subject', 'http://dbpedia.org/resource/4_Months,_3_Weeks_and_2_Days', 'http://www.w3.org/1999/02/22-rdf-syntax-ns#type', 'http://dbpedia.org/ontology/Wikidata:Q11424')\n",
      "('http://dbpedia.org/resource/Category:Drama_films_by_genre', 'http://www.w3.org/2004/02/skos/core#broader', 'http://dbpedia.org/resource/Category:Political_drama_films', 'http://purl.org/dc/terms/subject', 'http://dbpedia.org/resource/4_Months,_3_Weeks_and_2_Days', 'http://www.w3.org/1999/02/22-rdf-syntax-ns#type', 'http://dbpedia.org/ontology/Wikidata:Q11424')\n",
      "('http://dbpedia.org/resource/Dana_Bunescu', 'http://dbpedia.org/ontology/editing', 'http://dbpedia.org/resource/4_Months,_3_Weeks_and_2_Days', 'http://www.w3.org/1999/02/22-rdf-syntax-ns#type', 'http://dbpedia.org/ontology/Film')\n",
      "('http://dbpedia.org/resource/Category:AMC_Networks', 'http://www.w3.org/2004/02/skos/core#broader', 'http://dbpedia.org/resource/Category:IFC_Films_films', 'http://purl.org/dc/terms/subject', 'http://dbpedia.org/resource/4_Months,_3_Weeks_and_2_Days', 'http://purl.org/dc/terms/subject', 'http://dbpedia.org/resource/Category:Romanian-language_films', 'http://www.w3.org/1999/02/22-rdf-syntax-ns#type', 'http://www.w3.org/2004/02/skos/core#Concept')\n",
      "('http://dbpedia.org/resource/Category:AMC_Networks', 'http://www.w3.org/2004/02/skos/core#broader', 'http://dbpedia.org/resource/Category:IFC_Films_films', 'http://purl.org/dc/terms/subject', 'http://dbpedia.org/resource/4_Months,_3_Weeks_and_2_Days', 'http://purl.org/dc/terms/subject', 'http://dbpedia.org/resource/Category:Romanian-language_films', 'http://www.w3.org/1999/02/22-rdf-syntax-ns#type', 'http://www.w3.org/2004/02/skos/core#Concept')\n",
      "('http://www.w3.org/2004/02/skos/core#Concept', 'http://www.w3.org/1999/02/22-rdf-syntax-ns#type', 'http://dbpedia.org/resource/Category:Abortion_in_Romania', 'http://purl.org/dc/terms/subject', 'http://dbpedia.org/resource/4_Months,_3_Weeks_and_2_Days', 'http://purl.org/dc/terms/subject', 'http://dbpedia.org/resource/Category:Romanian-language_films', 'http://www.w3.org/1999/02/22-rdf-syntax-ns#type', 'http://www.w3.org/2004/02/skos/core#Concept')\n",
      "('http://www.w3.org/2004/02/skos/core#Concept', 'http://www.w3.org/1999/02/22-rdf-syntax-ns#type', 'http://dbpedia.org/resource/Category:Abortion_in_Romania', 'http://purl.org/dc/terms/subject', 'http://dbpedia.org/resource/4_Months,_3_Weeks_and_2_Days', 'http://purl.org/dc/terms/subject', 'http://dbpedia.org/resource/Category:Romanian-language_films', 'http://www.w3.org/1999/02/22-rdf-syntax-ns#type', 'http://www.w3.org/2004/02/skos/core#Concept')\n",
      "('2007 films', 'http://www.w3.org/2004/02/skos/core#prefLabel', 'http://dbpedia.org/resource/Category:2007_films', 'http://purl.org/dc/terms/subject', 'http://dbpedia.org/resource/4_Months,_3_Weeks_and_2_Days', 'http://dbpedia.org/ontology/starring', 'http://dbpedia.org/resource/Luminița_Gheorghiu', 'http://www.w3.org/1999/02/22-rdf-syntax-ns#type', 'http://schema.org/Person')\n",
      "('2007 films', 'http://www.w3.org/2004/02/skos/core#prefLabel', 'http://dbpedia.org/resource/Category:2007_films', 'http://purl.org/dc/terms/subject', 'http://dbpedia.org/resource/4_Months,_3_Weeks_and_2_Days', 'http://dbpedia.org/ontology/starring', 'http://dbpedia.org/resource/Luminița_Gheorghiu', 'http://www.w3.org/1999/02/22-rdf-syntax-ns#type', 'http://schema.org/Person')\n",
      "('http://dbpedia.org/resource/Adi_Carauleanu', 'http://dbpedia.org/ontology/starring', 'http://dbpedia.org/resource/4_Months,_3_Weeks_and_2_Days', 'http://www.w3.org/1999/02/22-rdf-syntax-ns#type', 'http://dbpedia.org/ontology/Film')\n",
      "('http://www.w3.org/2004/02/skos/core#Concept', 'http://www.w3.org/1999/02/22-rdf-syntax-ns#type', 'http://dbpedia.org/resource/Category:Romanian_films', 'http://purl.org/dc/terms/subject', 'http://dbpedia.org/resource/4_Months,_3_Weeks_and_2_Days', 'http://purl.org/dc/terms/subject', 'http://dbpedia.org/resource/Category:2007_films', 'http://www.w3.org/2004/02/skos/core#prefLabel', '2007 films')\n",
      "('http://www.w3.org/2004/02/skos/core#Concept', 'http://www.w3.org/1999/02/22-rdf-syntax-ns#type', 'http://dbpedia.org/resource/Category:Romanian_films', 'http://purl.org/dc/terms/subject', 'http://dbpedia.org/resource/4_Months,_3_Weeks_and_2_Days', 'http://purl.org/dc/terms/subject', 'http://dbpedia.org/resource/Category:2007_films', 'http://www.w3.org/2004/02/skos/core#prefLabel', '2007 films')\n",
      "('http://schema.org/Movie', 'http://www.w3.org/1999/02/22-rdf-syntax-ns#type', 'http://dbpedia.org/resource/4_Months,_3_Weeks_and_2_Days', 'http://purl.org/dc/terms/subject', 'http://dbpedia.org/resource/Category:IFC_Films_films', 'http://www.w3.org/2004/02/skos/core#broader', 'http://dbpedia.org/resource/Category:AMC_Networks')\n",
      "('http://www.w3.org/2004/02/skos/core#Concept', 'http://www.w3.org/1999/02/22-rdf-syntax-ns#type', 'http://dbpedia.org/resource/Category:Films_directed_by_Cristian_Mungiu', 'http://purl.org/dc/terms/subject', 'http://dbpedia.org/resource/4_Months,_3_Weeks_and_2_Days', 'http://dbpedia.org/ontology/starring', 'http://dbpedia.org/resource/Luminița_Gheorghiu', 'http://www.w3.org/1999/02/22-rdf-syntax-ns#type', 'http://schema.org/Person')\n",
      "('http://www.w3.org/2004/02/skos/core#Concept', 'http://www.w3.org/1999/02/22-rdf-syntax-ns#type', 'http://dbpedia.org/resource/Category:Films_directed_by_Cristian_Mungiu', 'http://purl.org/dc/terms/subject', 'http://dbpedia.org/resource/4_Months,_3_Weeks_and_2_Days', 'http://dbpedia.org/ontology/starring', 'http://dbpedia.org/resource/Luminița_Gheorghiu', 'http://www.w3.org/1999/02/22-rdf-syntax-ns#type', 'http://schema.org/Person')\n",
      "('http://dbpedia.org/resource/Category:Drama_films_by_country', 'http://www.w3.org/2004/02/skos/core#broader', 'http://dbpedia.org/resource/Category:Romanian_drama_films', 'http://purl.org/dc/terms/subject', 'http://dbpedia.org/resource/4_Months,_3_Weeks_and_2_Days', 'http://www.w3.org/1999/02/22-rdf-syntax-ns#type', 'http://www.wikidata.org/entity/Q386724')\n",
      "('http://dbpedia.org/resource/Category:Drama_films_by_country', 'http://www.w3.org/2004/02/skos/core#broader', 'http://dbpedia.org/resource/Category:Romanian_drama_films', 'http://purl.org/dc/terms/subject', 'http://dbpedia.org/resource/4_Months,_3_Weeks_and_2_Days', 'http://www.w3.org/1999/02/22-rdf-syntax-ns#type', 'http://www.wikidata.org/entity/Q386724')\n",
      "('http://dbpedia.org/resource/Oleg_Mutu', 'http://dbpedia.org/ontology/producer', 'http://dbpedia.org/resource/4_Months,_3_Weeks_and_2_Days', 'http://www.w3.org/1999/02/22-rdf-syntax-ns#type', 'http://schema.org/Movie')\n",
      "('http://dbpedia.org/resource/Socialist_Republic_of_Romania', 'http://dbpedia.org/ontology/birthPlace', 'http://dbpedia.org/resource/Cristian_Mungiu', 'http://dbpedia.org/ontology/writer', 'http://dbpedia.org/resource/4_Months,_3_Weeks_and_2_Days', 'http://www.w3.org/1999/02/22-rdf-syntax-ns#type', 'http://schema.org/Movie')\n",
      "('http://dbpedia.org/resource/Socialist_Republic_of_Romania', 'http://dbpedia.org/ontology/birthPlace', 'http://dbpedia.org/resource/Cristian_Mungiu', 'http://dbpedia.org/ontology/writer', 'http://dbpedia.org/resource/4_Months,_3_Weeks_and_2_Days', 'http://www.w3.org/1999/02/22-rdf-syntax-ns#type', 'http://schema.org/Movie')\n",
      "('http://www.w3.org/2004/02/skos/core#Concept', 'http://www.w3.org/1999/02/22-rdf-syntax-ns#type', 'http://dbpedia.org/resource/Category:European_Film_Awards_winners_(films)', 'http://purl.org/dc/terms/subject', 'http://dbpedia.org/resource/4_Months,_3_Weeks_and_2_Days', 'http://dbpedia.org/ontology/cinematography', 'http://dbpedia.org/resource/Oleg_Mutu')\n",
      "('http://www.w3.org/2004/02/skos/core#Concept', 'http://www.w3.org/1999/02/22-rdf-syntax-ns#type', 'http://dbpedia.org/resource/Category:European_Film_Awards_winners_(films)', 'http://purl.org/dc/terms/subject', 'http://dbpedia.org/resource/4_Months,_3_Weeks_and_2_Days', 'http://dbpedia.org/ontology/cinematography', 'http://dbpedia.org/resource/Oleg_Mutu')\n",
      "('http://schema.org/Movie', 'http://www.w3.org/1999/02/22-rdf-syntax-ns#type', 'http://dbpedia.org/resource/4_Months,_3_Weeks_and_2_Days', 'http://purl.org/dc/terms/subject', 'http://dbpedia.org/resource/Category:Romanian_drama_films', 'http://www.w3.org/2004/02/skos/core#broader', 'http://dbpedia.org/resource/Category:Romanian_films_by_genre')\n",
      "('http://dbpedia.org/resource/Category:Films_about_healthcare', 'http://www.w3.org/2004/02/skos/core#broader', 'http://dbpedia.org/resource/Category:Films_about_abortion', 'http://purl.org/dc/terms/subject', 'http://dbpedia.org/resource/4_Months,_3_Weeks_and_2_Days', 'http://www.w3.org/1999/02/22-rdf-syntax-ns#type', 'http://dbpedia.org/ontology/Wikidata:Q11424')\n",
      "('http://dbpedia.org/resource/Category:Films_about_healthcare', 'http://www.w3.org/2004/02/skos/core#broader', 'http://dbpedia.org/resource/Category:Films_about_abortion', 'http://purl.org/dc/terms/subject', 'http://dbpedia.org/resource/4_Months,_3_Weeks_and_2_Days', 'http://www.w3.org/1999/02/22-rdf-syntax-ns#type', 'http://dbpedia.org/ontology/Wikidata:Q11424')\n",
      "('http://www.w3.org/2002/07/owl#Thing', 'http://www.w3.org/1999/02/22-rdf-syntax-ns#type', 'http://dbpedia.org/resource/4_Months,_3_Weeks_and_2_Days', 'http://dbpedia.org/ontology/distributor', 'http://dbpedia.org/resource/BAC_Films')\n",
      "('http://www.wikidata.org/entity/Q386724', 'http://www.w3.org/1999/02/22-rdf-syntax-ns#type', 'http://dbpedia.org/resource/4_Months,_3_Weeks_and_2_Days', 'http://dbpedia.org/ontology/starring', 'http://dbpedia.org/resource/Luminița_Gheorghiu', 'http://www.w3.org/1999/02/22-rdf-syntax-ns#type', 'http://schema.org/Person')\n",
      "('http://www.w3.org/2004/02/skos/core#Concept', 'http://www.w3.org/1999/02/22-rdf-syntax-ns#type', 'http://dbpedia.org/resource/Category:Films_set_in_1987', 'http://purl.org/dc/terms/subject', 'http://dbpedia.org/resource/4_Months,_3_Weeks_and_2_Days', 'http://www.w3.org/1999/02/22-rdf-syntax-ns#type', 'http://schema.org/Movie')\n",
      "('http://www.w3.org/2004/02/skos/core#Concept', 'http://www.w3.org/1999/02/22-rdf-syntax-ns#type', 'http://dbpedia.org/resource/Category:Films_set_in_1987', 'http://purl.org/dc/terms/subject', 'http://dbpedia.org/resource/4_Months,_3_Weeks_and_2_Days', 'http://www.w3.org/1999/02/22-rdf-syntax-ns#type', 'http://schema.org/Movie')\n",
      "('http://dbpedia.org/ontology/Film', 'http://www.w3.org/1999/02/22-rdf-syntax-ns#type', 'http://dbpedia.org/resource/4_Months,_3_Weeks_and_2_Days', 'http://purl.org/dc/terms/subject', 'http://dbpedia.org/resource/Category:Romanian-language_films', 'http://www.w3.org/1999/02/22-rdf-syntax-ns#type', 'http://www.w3.org/2004/02/skos/core#Concept')\n",
      "('http://www.wikidata.org/entity/Q386724', 'http://www.w3.org/1999/02/22-rdf-syntax-ns#type', 'http://dbpedia.org/resource/4_Months,_3_Weeks_and_2_Days', 'http://dbpedia.org/ontology/producer', 'http://dbpedia.org/resource/Oleg_Mutu')\n",
      "('http://dbpedia.org/resource/Category:Pregnancy_films', 'http://www.w3.org/2004/02/skos/core#broader', 'http://dbpedia.org/resource/Category:Films_about_abortion', 'http://purl.org/dc/terms/subject', 'http://dbpedia.org/resource/4_Months,_3_Weeks_and_2_Days', 'http://www.w3.org/1999/02/22-rdf-syntax-ns#type', 'http://www.wikidata.org/entity/Q386724')\n",
      "('http://dbpedia.org/resource/Category:Pregnancy_films', 'http://www.w3.org/2004/02/skos/core#broader', 'http://dbpedia.org/resource/Category:Films_about_abortion', 'http://purl.org/dc/terms/subject', 'http://dbpedia.org/resource/4_Months,_3_Weeks_and_2_Days', 'http://www.w3.org/1999/02/22-rdf-syntax-ns#type', 'http://www.wikidata.org/entity/Q386724')\n",
      "('http://dbpedia.org/resource/Category:Romanian_male_film_actors', 'http://purl.org/dc/terms/subject', 'http://dbpedia.org/resource/Vlad_Ivanov', 'http://dbpedia.org/ontology/starring', 'http://dbpedia.org/resource/4_Months,_3_Weeks_and_2_Days', 'http://dbpedia.org/ontology/starring', 'http://dbpedia.org/resource/Vlad_Ivanov', 'http://purl.org/dc/terms/subject', 'http://dbpedia.org/resource/Category:Living_people')\n",
      "('http://dbpedia.org/resource/Category:Romanian_male_film_actors', 'http://purl.org/dc/terms/subject', 'http://dbpedia.org/resource/Vlad_Ivanov', 'http://dbpedia.org/ontology/starring', 'http://dbpedia.org/resource/4_Months,_3_Weeks_and_2_Days', 'http://dbpedia.org/ontology/starring', 'http://dbpedia.org/resource/Vlad_Ivanov', 'http://purl.org/dc/terms/subject', 'http://dbpedia.org/resource/Category:Living_people')\n",
      "('http://www.ontologydesignpatterns.org/ont/dul/DUL.owl#Agent', 'http://www.w3.org/1999/02/22-rdf-syntax-ns#type', 'http://dbpedia.org/resource/Cristian_Mungiu', 'http://dbpedia.org/ontology/writer', 'http://dbpedia.org/resource/4_Months,_3_Weeks_and_2_Days', 'http://dbpedia.org/ontology/distributor', 'http://dbpedia.org/resource/BAC_Films')\n",
      "('http://www.ontologydesignpatterns.org/ont/dul/DUL.owl#Agent', 'http://www.w3.org/1999/02/22-rdf-syntax-ns#type', 'http://dbpedia.org/resource/Cristian_Mungiu', 'http://dbpedia.org/ontology/writer', 'http://dbpedia.org/resource/4_Months,_3_Weeks_and_2_Days', 'http://dbpedia.org/ontology/distributor', 'http://dbpedia.org/resource/BAC_Films')\n",
      "('http://www.w3.org/2002/07/owl#Thing', 'http://www.w3.org/1999/02/22-rdf-syntax-ns#type', 'http://dbpedia.org/resource/4_Months,_3_Weeks_and_2_Days', 'http://www.w3.org/1999/02/22-rdf-syntax-ns#type', 'http://dbpedia.org/ontology/Film')\n",
      "('http://www.w3.org/2004/02/skos/core#Concept', 'http://www.w3.org/1999/02/22-rdf-syntax-ns#type', 'http://dbpedia.org/resource/Category:Films_set_in_1987', 'http://purl.org/dc/terms/subject', 'http://dbpedia.org/resource/4_Months,_3_Weeks_and_2_Days', 'http://dbpedia.org/ontology/producer', 'http://dbpedia.org/resource/Cristian_Mungiu', 'http://www.w3.org/1999/02/22-rdf-syntax-ns#type', 'http://dbpedia.org/ontology/Agent')\n",
      "('http://www.w3.org/2004/02/skos/core#Concept', 'http://www.w3.org/1999/02/22-rdf-syntax-ns#type', 'http://dbpedia.org/resource/Category:Films_set_in_1987', 'http://purl.org/dc/terms/subject', 'http://dbpedia.org/resource/4_Months,_3_Weeks_and_2_Days', 'http://dbpedia.org/ontology/producer', 'http://dbpedia.org/resource/Cristian_Mungiu', 'http://www.w3.org/1999/02/22-rdf-syntax-ns#type', 'http://dbpedia.org/ontology/Agent')\n",
      "('http://www.w3.org/2004/02/skos/core#Concept', 'http://www.w3.org/1999/02/22-rdf-syntax-ns#type', 'http://dbpedia.org/resource/Category:Political_drama_films', 'http://purl.org/dc/terms/subject', 'http://dbpedia.org/resource/4_Months,_3_Weeks_and_2_Days', 'http://dbpedia.org/ontology/starring', 'http://dbpedia.org/resource/Luminița_Gheorghiu', 'http://www.w3.org/1999/02/22-rdf-syntax-ns#type', 'http://schema.org/Person')\n",
      "('http://www.w3.org/2004/02/skos/core#Concept', 'http://www.w3.org/1999/02/22-rdf-syntax-ns#type', 'http://dbpedia.org/resource/Category:Political_drama_films', 'http://purl.org/dc/terms/subject', 'http://dbpedia.org/resource/4_Months,_3_Weeks_and_2_Days', 'http://dbpedia.org/ontology/starring', 'http://dbpedia.org/resource/Luminița_Gheorghiu', 'http://www.w3.org/1999/02/22-rdf-syntax-ns#type', 'http://schema.org/Person')\n",
      "('http://schema.org/Movie', 'http://www.w3.org/1999/02/22-rdf-syntax-ns#type', 'http://dbpedia.org/resource/4_Months,_3_Weeks_and_2_Days', 'http://www.w3.org/1999/02/22-rdf-syntax-ns#type', 'http://schema.org/CreativeWork')\n",
      "('http://dbpedia.org/resource/Category:Film_award_winners', 'http://www.w3.org/2004/02/skos/core#broader', \"http://dbpedia.org/resource/Category:Palme_d'Or_winners\", 'http://purl.org/dc/terms/subject', 'http://dbpedia.org/resource/4_Months,_3_Weeks_and_2_Days', 'http://dbpedia.org/ontology/starring', 'http://dbpedia.org/resource/Adi_Carauleanu')\n",
      "('http://dbpedia.org/resource/Category:Film_award_winners', 'http://www.w3.org/2004/02/skos/core#broader', \"http://dbpedia.org/resource/Category:Palme_d'Or_winners\", 'http://purl.org/dc/terms/subject', 'http://dbpedia.org/resource/4_Months,_3_Weeks_and_2_Days', 'http://dbpedia.org/ontology/starring', 'http://dbpedia.org/resource/Adi_Carauleanu')\n",
      "('Romanian films', 'http://www.w3.org/2004/02/skos/core#prefLabel', 'http://dbpedia.org/resource/Category:Romanian_films', 'http://purl.org/dc/terms/subject', 'http://dbpedia.org/resource/4_Months,_3_Weeks_and_2_Days', 'http://dbpedia.org/ontology/starring', 'http://dbpedia.org/resource/Laura_Vasiliu')\n",
      "('Romanian films', 'http://www.w3.org/2004/02/skos/core#prefLabel', 'http://dbpedia.org/resource/Category:Romanian_films', 'http://purl.org/dc/terms/subject', 'http://dbpedia.org/resource/4_Months,_3_Weeks_and_2_Days', 'http://dbpedia.org/ontology/starring', 'http://dbpedia.org/resource/Laura_Vasiliu')\n",
      "('http://www.w3.org/2004/02/skos/core#Concept', 'http://www.w3.org/1999/02/22-rdf-syntax-ns#type', 'http://dbpedia.org/resource/Category:Romanian_films', 'http://purl.org/dc/terms/subject', 'http://dbpedia.org/resource/4_Months,_3_Weeks_and_2_Days', 'http://purl.org/dc/terms/subject', 'http://dbpedia.org/resource/Category:Romanian-language_films', 'http://www.w3.org/1999/02/22-rdf-syntax-ns#type', 'http://www.w3.org/2004/02/skos/core#Concept')\n",
      "('http://www.w3.org/2004/02/skos/core#Concept', 'http://www.w3.org/1999/02/22-rdf-syntax-ns#type', 'http://dbpedia.org/resource/Category:Romanian_films', 'http://purl.org/dc/terms/subject', 'http://dbpedia.org/resource/4_Months,_3_Weeks_and_2_Days', 'http://purl.org/dc/terms/subject', 'http://dbpedia.org/resource/Category:Romanian-language_films', 'http://www.w3.org/1999/02/22-rdf-syntax-ns#type', 'http://www.w3.org/2004/02/skos/core#Concept')\n",
      "('http://dbpedia.org/ontology/Agent', 'http://www.w3.org/1999/02/22-rdf-syntax-ns#type', 'http://dbpedia.org/resource/Alexandru_Potocean', 'http://dbpedia.org/ontology/starring', 'http://dbpedia.org/resource/4_Months,_3_Weeks_and_2_Days', 'http://purl.org/dc/terms/subject', 'http://dbpedia.org/resource/Category:Abortion_in_Romania', 'http://www.w3.org/2004/02/skos/core#broader', \"http://dbpedia.org/resource/Category:Women's_rights_in_Romania\")\n",
      "('http://dbpedia.org/ontology/Agent', 'http://www.w3.org/1999/02/22-rdf-syntax-ns#type', 'http://dbpedia.org/resource/Alexandru_Potocean', 'http://dbpedia.org/ontology/starring', 'http://dbpedia.org/resource/4_Months,_3_Weeks_and_2_Days', 'http://purl.org/dc/terms/subject', 'http://dbpedia.org/resource/Category:Abortion_in_Romania', 'http://www.w3.org/2004/02/skos/core#broader', \"http://dbpedia.org/resource/Category:Women's_rights_in_Romania\")\n",
      "('http://dbpedia.org/resource/Oleg_Mutu', 'http://dbpedia.org/ontology/producer', 'http://dbpedia.org/resource/4_Months,_3_Weeks_and_2_Days', 'http://www.w3.org/1999/02/22-rdf-syntax-ns#type', 'http://www.wikidata.org/entity/Q386724')\n",
      "('http://dbpedia.org/ontology/Film', 'http://www.w3.org/1999/02/22-rdf-syntax-ns#type', 'http://dbpedia.org/resource/4_Months,_3_Weeks_and_2_Days', 'http://dbpedia.org/ontology/cinematography', 'http://dbpedia.org/resource/Oleg_Mutu')\n",
      "('http://dbpedia.org/resource/Romania', 'http://dbpedia.org/ontology/birthPlace', 'http://dbpedia.org/resource/Cristian_Mungiu', 'http://dbpedia.org/ontology/producer', 'http://dbpedia.org/resource/4_Months,_3_Weeks_and_2_Days', 'http://www.w3.org/1999/02/22-rdf-syntax-ns#type', 'http://dbpedia.org/ontology/Film')\n",
      "('http://dbpedia.org/resource/Romania', 'http://dbpedia.org/ontology/birthPlace', 'http://dbpedia.org/resource/Cristian_Mungiu', 'http://dbpedia.org/ontology/producer', 'http://dbpedia.org/resource/4_Months,_3_Weeks_and_2_Days', 'http://www.w3.org/1999/02/22-rdf-syntax-ns#type', 'http://dbpedia.org/ontology/Film')\n",
      "('http://dbpedia.org/resource/Category:2007_in_fiction', 'http://www.w3.org/2004/02/skos/core#broader', 'http://dbpedia.org/resource/Category:2007_films', 'http://purl.org/dc/terms/subject', 'http://dbpedia.org/resource/4_Months,_3_Weeks_and_2_Days', 'http://dbpedia.org/ontology/starring', 'http://dbpedia.org/resource/Anamaria_Marinca', 'http://www.w3.org/1999/02/22-rdf-syntax-ns#type', 'http://www.wikidata.org/entity/Q5')\n",
      "('http://dbpedia.org/resource/Category:2007_in_fiction', 'http://www.w3.org/2004/02/skos/core#broader', 'http://dbpedia.org/resource/Category:2007_films', 'http://purl.org/dc/terms/subject', 'http://dbpedia.org/resource/4_Months,_3_Weeks_and_2_Days', 'http://dbpedia.org/ontology/starring', 'http://dbpedia.org/resource/Anamaria_Marinca', 'http://www.w3.org/1999/02/22-rdf-syntax-ns#type', 'http://www.wikidata.org/entity/Q5')\n",
      "('http://dbpedia.org/resource/Actor', 'http://dbpedia.org/ontology/occupation', 'http://dbpedia.org/resource/Luminița_Gheorghiu', 'http://dbpedia.org/ontology/starring', 'http://dbpedia.org/resource/4_Months,_3_Weeks_and_2_Days', 'http://www.w3.org/1999/02/22-rdf-syntax-ns#type', 'http://www.wikidata.org/entity/Q386724')\n",
      "('http://dbpedia.org/resource/Actor', 'http://dbpedia.org/ontology/occupation', 'http://dbpedia.org/resource/Luminița_Gheorghiu', 'http://dbpedia.org/ontology/starring', 'http://dbpedia.org/resource/4_Months,_3_Weeks_and_2_Days', 'http://www.w3.org/1999/02/22-rdf-syntax-ns#type', 'http://www.wikidata.org/entity/Q386724')\n",
      "('http://www.w3.org/2004/02/skos/core#Concept', 'http://www.w3.org/1999/02/22-rdf-syntax-ns#type', 'http://dbpedia.org/resource/Category:Films_set_in_1987', 'http://purl.org/dc/terms/subject', 'http://dbpedia.org/resource/4_Months,_3_Weeks_and_2_Days', 'http://dbpedia.org/ontology/starring', 'http://dbpedia.org/resource/Luminița_Gheorghiu', 'http://www.w3.org/1999/02/22-rdf-syntax-ns#type', 'http://schema.org/Person')\n",
      "('http://www.w3.org/2004/02/skos/core#Concept', 'http://www.w3.org/1999/02/22-rdf-syntax-ns#type', 'http://dbpedia.org/resource/Category:Films_set_in_1987', 'http://purl.org/dc/terms/subject', 'http://dbpedia.org/resource/4_Months,_3_Weeks_and_2_Days', 'http://dbpedia.org/ontology/starring', 'http://dbpedia.org/resource/Luminița_Gheorghiu', 'http://www.w3.org/1999/02/22-rdf-syntax-ns#type', 'http://schema.org/Person')\n",
      "('http://dbpedia.org/resource/Category:1968_births', 'http://purl.org/dc/terms/subject', 'http://dbpedia.org/resource/Cristian_Mungiu', 'http://dbpedia.org/ontology/writer', 'http://dbpedia.org/resource/4_Months,_3_Weeks_and_2_Days', 'http://www.w3.org/1999/02/22-rdf-syntax-ns#type', 'http://dbpedia.org/ontology/Wikidata:Q11424')\n",
      "('http://dbpedia.org/resource/Category:1968_births', 'http://purl.org/dc/terms/subject', 'http://dbpedia.org/resource/Cristian_Mungiu', 'http://dbpedia.org/ontology/writer', 'http://dbpedia.org/resource/4_Months,_3_Weeks_and_2_Days', 'http://www.w3.org/1999/02/22-rdf-syntax-ns#type', 'http://dbpedia.org/ontology/Wikidata:Q11424')\n"
     ]
    },
    {
     "ename": "KeyboardInterrupt",
     "evalue": "",
     "output_type": "error",
     "traceback": [
      "\u001b[0;31m---------------------------------------------------------------------------\u001b[0m",
      "\u001b[0;31mKeyboardInterrupt\u001b[0m                         Traceback (most recent call last)",
      "\u001b[1;32m/workspaces/rdflime/rdflime-util/notebooks/2_EmbeddingGeneration.ipynb Cell 6\u001b[0m in \u001b[0;36m<cell line: 10>\u001b[0;34m()\u001b[0m\n\u001b[1;32m     <a href='vscode-notebook-cell://dev-container%2B5c5c77736c2e6c6f63616c686f73745c44656269616e5c686f6d655c726f7576656e5c776f726b5c756e696d615c7264666c696d65/workspaces/rdflime/rdflime-util/notebooks/2_EmbeddingGeneration.ipynb#ch0000022vscode-remote?line=12'>13</a>\u001b[0m \u001b[39mfor\u001b[39;00m triple \u001b[39min\u001b[39;00m triples:\n\u001b[1;32m     <a href='vscode-notebook-cell://dev-container%2B5c5c77736c2e6c6f63616c686f73745c44656269616e5c686f6d655c726f7576656e5c776f726b5c756e696d615c7264666c696d65/workspaces/rdflime/rdflime-util/notebooks/2_EmbeddingGeneration.ipynb#ch0000022vscode-remote?line=13'>14</a>\u001b[0m     data \u001b[39m=\u001b[39m {\n\u001b[1;32m     <a href='vscode-notebook-cell://dev-container%2B5c5c77736c2e6c6f63616c686f73745c44656269616e5c686f6d655c726f7576656e5c776f726b5c756e696d615c7264666c696d65/workspaces/rdflime/rdflime-util/notebooks/2_EmbeddingGeneration.ipynb#ch0000022vscode-remote?line=14'>15</a>\u001b[0m         \u001b[39m'\u001b[39m\u001b[39mquery\u001b[39m\u001b[39m'\u001b[39m: \u001b[39mf\u001b[39m\u001b[39m'\u001b[39m\u001b[39mASK WHERE \u001b[39m\u001b[39m{{\u001b[39;00m\u001b[39m<\u001b[39m\u001b[39m{\u001b[39;00mtriple[\u001b[39m0\u001b[39m]\u001b[39m}\u001b[39;00m\u001b[39m> <\u001b[39m\u001b[39m{\u001b[39;00mtriple[\u001b[39m1\u001b[39m]\u001b[39m}\u001b[39;00m\u001b[39m> <\u001b[39m\u001b[39m{\u001b[39;00mtriple[\u001b[39m2\u001b[39m]\u001b[39m}\u001b[39;00m\u001b[39m> .\u001b[39m\u001b[39m}}\u001b[39;00m\u001b[39m'\u001b[39m,\n\u001b[1;32m     <a href='vscode-notebook-cell://dev-container%2B5c5c77736c2e6c6f63616c686f73745c44656269616e5c686f6d655c726f7576656e5c776f726b5c756e696d615c7264666c696d65/workspaces/rdflime/rdflime-util/notebooks/2_EmbeddingGeneration.ipynb#ch0000022vscode-remote?line=15'>16</a>\u001b[0m     }\n\u001b[0;32m---> <a href='vscode-notebook-cell://dev-container%2B5c5c77736c2e6c6f63616c686f73745c44656269616e5c686f6d655c726f7576656e5c776f726b5c756e696d615c7264666c696d65/workspaces/rdflime/rdflime-util/notebooks/2_EmbeddingGeneration.ipynb#ch0000022vscode-remote?line=16'>17</a>\u001b[0m     response \u001b[39m=\u001b[39m requests\u001b[39m.\u001b[39;49mpost(\u001b[39m'\u001b[39;49m\u001b[39mhttp://localhost:3030/dbpedia/sparql\u001b[39;49m\u001b[39m'\u001b[39;49m, data\u001b[39m=\u001b[39;49mdata)\n\u001b[1;32m     <a href='vscode-notebook-cell://dev-container%2B5c5c77736c2e6c6f63616c686f73745c44656269616e5c686f6d655c726f7576656e5c776f726b5c756e696d615c7264666c696d65/workspaces/rdflime/rdflime-util/notebooks/2_EmbeddingGeneration.ipynb#ch0000022vscode-remote?line=17'>18</a>\u001b[0m     \u001b[39mif\u001b[39;00m \u001b[39mnot\u001b[39;00m triple[\u001b[39m2\u001b[39m]\u001b[39m.\u001b[39mstartswith(\u001b[39m\"\u001b[39m\u001b[39mhttp://dbpedia.org\u001b[39m\u001b[39m\"\u001b[39m):\n\u001b[1;32m     <a href='vscode-notebook-cell://dev-container%2B5c5c77736c2e6c6f63616c686f73745c44656269616e5c686f6d655c726f7576656e5c776f726b5c756e696d615c7264666c696d65/workspaces/rdflime/rdflime-util/notebooks/2_EmbeddingGeneration.ipynb#ch0000022vscode-remote?line=18'>19</a>\u001b[0m         \u001b[39m# print(triple[2])\u001b[39;00m\n\u001b[1;32m     <a href='vscode-notebook-cell://dev-container%2B5c5c77736c2e6c6f63616c686f73745c44656269616e5c686f6d655c726f7576656e5c776f726b5c756e696d615c7264666c696d65/workspaces/rdflime/rdflime-util/notebooks/2_EmbeddingGeneration.ipynb#ch0000022vscode-remote?line=19'>20</a>\u001b[0m         \u001b[39mcontinue\u001b[39;00m\n",
      "File \u001b[0;32m~/.cache/pypoetry/virtualenvs/rdflime-util-cLuY5sAo-py3.8/lib/python3.8/site-packages/requests/api.py:115\u001b[0m, in \u001b[0;36mpost\u001b[0;34m(url, data, json, **kwargs)\u001b[0m\n\u001b[1;32m    103\u001b[0m \u001b[39mdef\u001b[39;00m \u001b[39mpost\u001b[39m(url, data\u001b[39m=\u001b[39m\u001b[39mNone\u001b[39;00m, json\u001b[39m=\u001b[39m\u001b[39mNone\u001b[39;00m, \u001b[39m*\u001b[39m\u001b[39m*\u001b[39mkwargs):\n\u001b[1;32m    104\u001b[0m     \u001b[39mr\u001b[39m\u001b[39m\"\"\"Sends a POST request.\u001b[39;00m\n\u001b[1;32m    105\u001b[0m \n\u001b[1;32m    106\u001b[0m \u001b[39m    :param url: URL for the new :class:`Request` object.\u001b[39;00m\n\u001b[0;32m   (...)\u001b[0m\n\u001b[1;32m    112\u001b[0m \u001b[39m    :rtype: requests.Response\u001b[39;00m\n\u001b[1;32m    113\u001b[0m \u001b[39m    \"\"\"\u001b[39;00m\n\u001b[0;32m--> 115\u001b[0m     \u001b[39mreturn\u001b[39;00m request(\u001b[39m\"\u001b[39;49m\u001b[39mpost\u001b[39;49m\u001b[39m\"\u001b[39;49m, url, data\u001b[39m=\u001b[39;49mdata, json\u001b[39m=\u001b[39;49mjson, \u001b[39m*\u001b[39;49m\u001b[39m*\u001b[39;49mkwargs)\n",
      "File \u001b[0;32m~/.cache/pypoetry/virtualenvs/rdflime-util-cLuY5sAo-py3.8/lib/python3.8/site-packages/requests/api.py:59\u001b[0m, in \u001b[0;36mrequest\u001b[0;34m(method, url, **kwargs)\u001b[0m\n\u001b[1;32m     55\u001b[0m \u001b[39m# By using the 'with' statement we are sure the session is closed, thus we\u001b[39;00m\n\u001b[1;32m     56\u001b[0m \u001b[39m# avoid leaving sockets open which can trigger a ResourceWarning in some\u001b[39;00m\n\u001b[1;32m     57\u001b[0m \u001b[39m# cases, and look like a memory leak in others.\u001b[39;00m\n\u001b[1;32m     58\u001b[0m \u001b[39mwith\u001b[39;00m sessions\u001b[39m.\u001b[39mSession() \u001b[39mas\u001b[39;00m session:\n\u001b[0;32m---> 59\u001b[0m     \u001b[39mreturn\u001b[39;00m session\u001b[39m.\u001b[39;49mrequest(method\u001b[39m=\u001b[39;49mmethod, url\u001b[39m=\u001b[39;49murl, \u001b[39m*\u001b[39;49m\u001b[39m*\u001b[39;49mkwargs)\n",
      "File \u001b[0;32m~/.cache/pypoetry/virtualenvs/rdflime-util-cLuY5sAo-py3.8/lib/python3.8/site-packages/requests/sessions.py:587\u001b[0m, in \u001b[0;36mSession.request\u001b[0;34m(self, method, url, params, data, headers, cookies, files, auth, timeout, allow_redirects, proxies, hooks, stream, verify, cert, json)\u001b[0m\n\u001b[1;32m    582\u001b[0m send_kwargs \u001b[39m=\u001b[39m {\n\u001b[1;32m    583\u001b[0m     \u001b[39m\"\u001b[39m\u001b[39mtimeout\u001b[39m\u001b[39m\"\u001b[39m: timeout,\n\u001b[1;32m    584\u001b[0m     \u001b[39m\"\u001b[39m\u001b[39mallow_redirects\u001b[39m\u001b[39m\"\u001b[39m: allow_redirects,\n\u001b[1;32m    585\u001b[0m }\n\u001b[1;32m    586\u001b[0m send_kwargs\u001b[39m.\u001b[39mupdate(settings)\n\u001b[0;32m--> 587\u001b[0m resp \u001b[39m=\u001b[39m \u001b[39mself\u001b[39;49m\u001b[39m.\u001b[39;49msend(prep, \u001b[39m*\u001b[39;49m\u001b[39m*\u001b[39;49msend_kwargs)\n\u001b[1;32m    589\u001b[0m \u001b[39mreturn\u001b[39;00m resp\n",
      "File \u001b[0;32m~/.cache/pypoetry/virtualenvs/rdflime-util-cLuY5sAo-py3.8/lib/python3.8/site-packages/requests/sessions.py:701\u001b[0m, in \u001b[0;36mSession.send\u001b[0;34m(self, request, **kwargs)\u001b[0m\n\u001b[1;32m    698\u001b[0m start \u001b[39m=\u001b[39m preferred_clock()\n\u001b[1;32m    700\u001b[0m \u001b[39m# Send the request\u001b[39;00m\n\u001b[0;32m--> 701\u001b[0m r \u001b[39m=\u001b[39m adapter\u001b[39m.\u001b[39;49msend(request, \u001b[39m*\u001b[39;49m\u001b[39m*\u001b[39;49mkwargs)\n\u001b[1;32m    703\u001b[0m \u001b[39m# Total elapsed time of the request (approximately)\u001b[39;00m\n\u001b[1;32m    704\u001b[0m elapsed \u001b[39m=\u001b[39m preferred_clock() \u001b[39m-\u001b[39m start\n",
      "File \u001b[0;32m~/.cache/pypoetry/virtualenvs/rdflime-util-cLuY5sAo-py3.8/lib/python3.8/site-packages/requests/adapters.py:489\u001b[0m, in \u001b[0;36mHTTPAdapter.send\u001b[0;34m(self, request, stream, timeout, verify, cert, proxies)\u001b[0m\n\u001b[1;32m    487\u001b[0m \u001b[39mtry\u001b[39;00m:\n\u001b[1;32m    488\u001b[0m     \u001b[39mif\u001b[39;00m \u001b[39mnot\u001b[39;00m chunked:\n\u001b[0;32m--> 489\u001b[0m         resp \u001b[39m=\u001b[39m conn\u001b[39m.\u001b[39;49murlopen(\n\u001b[1;32m    490\u001b[0m             method\u001b[39m=\u001b[39;49mrequest\u001b[39m.\u001b[39;49mmethod,\n\u001b[1;32m    491\u001b[0m             url\u001b[39m=\u001b[39;49murl,\n\u001b[1;32m    492\u001b[0m             body\u001b[39m=\u001b[39;49mrequest\u001b[39m.\u001b[39;49mbody,\n\u001b[1;32m    493\u001b[0m             headers\u001b[39m=\u001b[39;49mrequest\u001b[39m.\u001b[39;49mheaders,\n\u001b[1;32m    494\u001b[0m             redirect\u001b[39m=\u001b[39;49m\u001b[39mFalse\u001b[39;49;00m,\n\u001b[1;32m    495\u001b[0m             assert_same_host\u001b[39m=\u001b[39;49m\u001b[39mFalse\u001b[39;49;00m,\n\u001b[1;32m    496\u001b[0m             preload_content\u001b[39m=\u001b[39;49m\u001b[39mFalse\u001b[39;49;00m,\n\u001b[1;32m    497\u001b[0m             decode_content\u001b[39m=\u001b[39;49m\u001b[39mFalse\u001b[39;49;00m,\n\u001b[1;32m    498\u001b[0m             retries\u001b[39m=\u001b[39;49m\u001b[39mself\u001b[39;49m\u001b[39m.\u001b[39;49mmax_retries,\n\u001b[1;32m    499\u001b[0m             timeout\u001b[39m=\u001b[39;49mtimeout,\n\u001b[1;32m    500\u001b[0m         )\n\u001b[1;32m    502\u001b[0m     \u001b[39m# Send the request.\u001b[39;00m\n\u001b[1;32m    503\u001b[0m     \u001b[39melse\u001b[39;00m:\n\u001b[1;32m    504\u001b[0m         \u001b[39mif\u001b[39;00m \u001b[39mhasattr\u001b[39m(conn, \u001b[39m\"\u001b[39m\u001b[39mproxy_pool\u001b[39m\u001b[39m\"\u001b[39m):\n",
      "File \u001b[0;32m~/.cache/pypoetry/virtualenvs/rdflime-util-cLuY5sAo-py3.8/lib/python3.8/site-packages/urllib3/connectionpool.py:703\u001b[0m, in \u001b[0;36mHTTPConnectionPool.urlopen\u001b[0;34m(self, method, url, body, headers, retries, redirect, assert_same_host, timeout, pool_timeout, release_conn, chunked, body_pos, **response_kw)\u001b[0m\n\u001b[1;32m    700\u001b[0m     \u001b[39mself\u001b[39m\u001b[39m.\u001b[39m_prepare_proxy(conn)\n\u001b[1;32m    702\u001b[0m \u001b[39m# Make the request on the httplib connection object.\u001b[39;00m\n\u001b[0;32m--> 703\u001b[0m httplib_response \u001b[39m=\u001b[39m \u001b[39mself\u001b[39;49m\u001b[39m.\u001b[39;49m_make_request(\n\u001b[1;32m    704\u001b[0m     conn,\n\u001b[1;32m    705\u001b[0m     method,\n\u001b[1;32m    706\u001b[0m     url,\n\u001b[1;32m    707\u001b[0m     timeout\u001b[39m=\u001b[39;49mtimeout_obj,\n\u001b[1;32m    708\u001b[0m     body\u001b[39m=\u001b[39;49mbody,\n\u001b[1;32m    709\u001b[0m     headers\u001b[39m=\u001b[39;49mheaders,\n\u001b[1;32m    710\u001b[0m     chunked\u001b[39m=\u001b[39;49mchunked,\n\u001b[1;32m    711\u001b[0m )\n\u001b[1;32m    713\u001b[0m \u001b[39m# If we're going to release the connection in ``finally:``, then\u001b[39;00m\n\u001b[1;32m    714\u001b[0m \u001b[39m# the response doesn't need to know about the connection. Otherwise\u001b[39;00m\n\u001b[1;32m    715\u001b[0m \u001b[39m# it will also try to release it and we'll have a double-release\u001b[39;00m\n\u001b[1;32m    716\u001b[0m \u001b[39m# mess.\u001b[39;00m\n\u001b[1;32m    717\u001b[0m response_conn \u001b[39m=\u001b[39m conn \u001b[39mif\u001b[39;00m \u001b[39mnot\u001b[39;00m release_conn \u001b[39melse\u001b[39;00m \u001b[39mNone\u001b[39;00m\n",
      "File \u001b[0;32m~/.cache/pypoetry/virtualenvs/rdflime-util-cLuY5sAo-py3.8/lib/python3.8/site-packages/urllib3/connectionpool.py:398\u001b[0m, in \u001b[0;36mHTTPConnectionPool._make_request\u001b[0;34m(self, conn, method, url, timeout, chunked, **httplib_request_kw)\u001b[0m\n\u001b[1;32m    396\u001b[0m         conn\u001b[39m.\u001b[39mrequest_chunked(method, url, \u001b[39m*\u001b[39m\u001b[39m*\u001b[39mhttplib_request_kw)\n\u001b[1;32m    397\u001b[0m     \u001b[39melse\u001b[39;00m:\n\u001b[0;32m--> 398\u001b[0m         conn\u001b[39m.\u001b[39;49mrequest(method, url, \u001b[39m*\u001b[39;49m\u001b[39m*\u001b[39;49mhttplib_request_kw)\n\u001b[1;32m    400\u001b[0m \u001b[39m# We are swallowing BrokenPipeError (errno.EPIPE) since the server is\u001b[39;00m\n\u001b[1;32m    401\u001b[0m \u001b[39m# legitimately able to close the connection after sending a valid response.\u001b[39;00m\n\u001b[1;32m    402\u001b[0m \u001b[39m# With this behaviour, the received response is still readable.\u001b[39;00m\n\u001b[1;32m    403\u001b[0m \u001b[39mexcept\u001b[39;00m \u001b[39mBrokenPipeError\u001b[39;00m:\n\u001b[1;32m    404\u001b[0m     \u001b[39m# Python 3\u001b[39;00m\n",
      "File \u001b[0;32m~/.cache/pypoetry/virtualenvs/rdflime-util-cLuY5sAo-py3.8/lib/python3.8/site-packages/urllib3/connection.py:237\u001b[0m, in \u001b[0;36mHTTPConnection.request\u001b[0;34m(self, method, url, body, headers)\u001b[0m\n\u001b[1;32m    234\u001b[0m \u001b[39melse\u001b[39;00m:\n\u001b[1;32m    235\u001b[0m     \u001b[39m# Avoid modifying the headers passed into .request()\u001b[39;00m\n\u001b[1;32m    236\u001b[0m     headers \u001b[39m=\u001b[39m headers\u001b[39m.\u001b[39mcopy()\n\u001b[0;32m--> 237\u001b[0m \u001b[39mif\u001b[39;00m \u001b[39m\"\u001b[39;49m\u001b[39muser-agent\u001b[39;49m\u001b[39m\"\u001b[39;49m \u001b[39mnot\u001b[39;49;00m \u001b[39min\u001b[39;49;00m (six\u001b[39m.\u001b[39;49mensure_str(k\u001b[39m.\u001b[39;49mlower()) \u001b[39mfor\u001b[39;49;00m k \u001b[39min\u001b[39;49;00m headers):\n\u001b[1;32m    238\u001b[0m     headers[\u001b[39m\"\u001b[39m\u001b[39mUser-Agent\u001b[39m\u001b[39m\"\u001b[39m] \u001b[39m=\u001b[39m _get_default_user_agent()\n\u001b[1;32m    239\u001b[0m \u001b[39msuper\u001b[39m(HTTPConnection, \u001b[39mself\u001b[39m)\u001b[39m.\u001b[39mrequest(method, url, body\u001b[39m=\u001b[39mbody, headers\u001b[39m=\u001b[39mheaders)\n",
      "\u001b[0;31mKeyboardInterrupt\u001b[0m: "
     ]
    }
   ],
   "source": [
    "\n",
    "\n",
    "import requests\n",
    "import pandas as pd\n",
    "import os.path\n",
    "import pickle\n",
    "import json\n",
    "from pathlib import Path\n",
    "from pyrdf2vec import RDF2VecTransformer\n",
    "from pyrdf2vec.embedders import Word2Vec\n",
    "from pyrdf2vec.graphs import KG\n",
    "from pyrdf2vec.walkers import RandomWalker\n",
    "from sklearn.svm import SVC\n",
    "from sklearn.metrics import accuracy_score\n",
    "from evaluation_framework.manager import FrameworkManager\n",
    "from rdflimeConfig import dbpediaLocation, dataLocation, datasets, load_dataset, split_dataset\n",
    "\n",
    "t = RDF2VecTransformer.load(\"/workspaces/rdflime/rdflime-util/data/metacritic-movies/transformers/rdf2vec_transformer_cbow_100\")\n",
    "\n",
    "\n",
    "\n",
    "dbpedia = KG(dbpediaLocation, skip_verify=False, mul_req=False)\n",
    "\n",
    "class Vertex:\n",
    "    def __init__(self, name):\n",
    "        self.name = name\n",
    "\n",
    "for ew in t._walks:\n",
    "    for walk in ew:\n",
    "        triples = [(walk[i-2], walk[i-1], walk[i]) for i in range(2, len(walk), 2)]\n",
    "        for triple in triples:\n",
    "            data = {\n",
    "                'query': f'ASK WHERE {{<{triple[0]}> <{triple[1]}> <{triple[2]}> .}}',\n",
    "            }\n",
    "            response = requests.post('http://localhost:3030/dbpedia/sparql', data=data)\n",
    "            if not triple[2].startswith(\"http://dbpedia.org\"):\n",
    "                # print(triple[2])\n",
    "                continue\n",
    "            j = None\n",
    "            try:\n",
    "                j = response.json()[\"boolean\"]\n",
    "            except:\n",
    "                print(walk)\n",
    "                continue\n",
    "            if not j:\n",
    "                print(walk)\n",
    "                # assert False\n",
    "            "
   ]
  },
  {
   "cell_type": "markdown",
   "id": "5654e869",
   "metadata": {},
   "source": [
    "### Build DBpedia embeddings"
   ]
  },
  {
   "cell_type": "markdown",
   "id": "0f4a4af2",
   "metadata": {},
   "source": [
    "Train and store a PyRDF2Vec transformer with various parameter settings."
   ]
  },
  {
   "cell_type": "code",
   "execution_count": 20,
   "id": "aaedf8a9",
   "metadata": {},
   "outputs": [
    {
     "name": "stdout",
     "output_type": "stream",
     "text": [
      "metacritic-movies 0 50\n",
      "Skipping transformer, as it already exists.\n",
      "metacritic-movies 0 100\n"
     ]
    },
    {
     "name": "stderr",
     "output_type": "stream",
     "text": [
      "100%|██████████| 2000/2000 [08:18<00:00,  4.01it/s]\n"
     ]
    },
    {
     "name": "stdout",
     "output_type": "stream",
     "text": [
      "Extracted 967877 walks for 2000 entities (498.4974s)\n",
      "Fitted 967877 walks (17.8324s)\n",
      "metacritic-movies 0 200\n"
     ]
    },
    {
     "ename": "KeyboardInterrupt",
     "evalue": "",
     "output_type": "error",
     "traceback": [
      "\u001b[0;31m---------------------------------------------------------------------------\u001b[0m",
      "\u001b[0;31mKeyboardInterrupt\u001b[0m                         Traceback (most recent call last)",
      "\u001b[1;32m/workspaces/rdflime/rdflime-util/notebooks/2_EmbeddingGeneration.ipynb Cell 9\u001b[0m in \u001b[0;36m<cell line: 1>\u001b[0;34m()\u001b[0m\n\u001b[1;32m     <a href='vscode-notebook-cell://dev-container%2B5c5c77736c2e6c6f63616c686f73745c44656269616e5c686f6d655c726f7576656e5c776f726b5c756e696d615c7264666c696d65/workspaces/rdflime/rdflime-util/notebooks/2_EmbeddingGeneration.ipynb#ch0000006vscode-remote?line=14'>15</a>\u001b[0m dbpedia \u001b[39m=\u001b[39m KG(dbpediaLocation, skip_verify\u001b[39m=\u001b[39m\u001b[39mFalse\u001b[39;00m, mul_req\u001b[39m=\u001b[39m\u001b[39mFalse\u001b[39;00m)\n\u001b[1;32m     <a href='vscode-notebook-cell://dev-container%2B5c5c77736c2e6c6f63616c686f73745c44656269616e5c686f6d655c726f7576656e5c776f726b5c756e696d615c7264666c696d65/workspaces/rdflime/rdflime-util/notebooks/2_EmbeddingGeneration.ipynb#ch0000006vscode-remote?line=16'>17</a>\u001b[0m transformer \u001b[39m=\u001b[39m RDF2VecTransformer(\n\u001b[1;32m     <a href='vscode-notebook-cell://dev-container%2B5c5c77736c2e6c6f63616c686f73745c44656269616e5c686f6d655c726f7576656e5c776f726b5c756e696d615c7264666c696d65/workspaces/rdflime/rdflime-util/notebooks/2_EmbeddingGeneration.ipynb#ch0000006vscode-remote?line=17'>18</a>\u001b[0m     Word2Vec(sg\u001b[39m=\u001b[39malgo, vector_size\u001b[39m=\u001b[39mvsize), \u001b[39m# negative = 25\u001b[39;00m\n\u001b[1;32m     <a href='vscode-notebook-cell://dev-container%2B5c5c77736c2e6c6f63616c686f73745c44656269616e5c686f6d655c726f7576656e5c776f726b5c756e696d615c7264666c696d65/workspaces/rdflime/rdflime-util/notebooks/2_EmbeddingGeneration.ipynb#ch0000006vscode-remote?line=18'>19</a>\u001b[0m     walkers\u001b[39m=\u001b[39m[RandomWalker(max_walks\u001b[39m=\u001b[39m\u001b[39m22\u001b[39m, max_depth\u001b[39m=\u001b[39m\u001b[39m2\u001b[39m, with_reverse\u001b[39m=\u001b[39m\u001b[39mTrue\u001b[39;00m, n_jobs\u001b[39m=\u001b[39m\u001b[39m2\u001b[39m, md5_bytes\u001b[39m=\u001b[39m\u001b[39mNone\u001b[39;00m)], \u001b[39m# max_walks = 22, max_depth = 2\u001b[39;00m\n\u001b[1;32m     <a href='vscode-notebook-cell://dev-container%2B5c5c77736c2e6c6f63616c686f73745c44656269616e5c686f6d655c726f7576656e5c776f726b5c756e696d615c7264666c696d65/workspaces/rdflime/rdflime-util/notebooks/2_EmbeddingGeneration.ipynb#ch0000006vscode-remote?line=19'>20</a>\u001b[0m     verbose\u001b[39m=\u001b[39m\u001b[39m1\u001b[39m\n\u001b[1;32m     <a href='vscode-notebook-cell://dev-container%2B5c5c77736c2e6c6f63616c686f73745c44656269616e5c686f6d655c726f7576656e5c776f726b5c756e696d615c7264666c696d65/workspaces/rdflime/rdflime-util/notebooks/2_EmbeddingGeneration.ipynb#ch0000006vscode-remote?line=20'>21</a>\u001b[0m )\n\u001b[0;32m---> <a href='vscode-notebook-cell://dev-container%2B5c5c77736c2e6c6f63616c686f73745c44656269616e5c686f6d655c726f7576656e5c776f726b5c756e696d615c7264666c696d65/workspaces/rdflime/rdflime-util/notebooks/2_EmbeddingGeneration.ipynb#ch0000006vscode-remote?line=22'>23</a>\u001b[0m walks \u001b[39m=\u001b[39m transformer\u001b[39m.\u001b[39;49mget_walks(dbpedia, entities)\n\u001b[1;32m     <a href='vscode-notebook-cell://dev-container%2B5c5c77736c2e6c6f63616c686f73745c44656269616e5c686f6d655c726f7576656e5c776f726b5c756e696d615c7264666c696d65/workspaces/rdflime/rdflime-util/notebooks/2_EmbeddingGeneration.ipynb#ch0000006vscode-remote?line=23'>24</a>\u001b[0m transformer\u001b[39m.\u001b[39mfit(walks)\n\u001b[1;32m     <a href='vscode-notebook-cell://dev-container%2B5c5c77736c2e6c6f63616c686f73745c44656269616e5c686f6d655c726f7576656e5c776f726b5c756e696d615c7264666c696d65/workspaces/rdflime/rdflime-util/notebooks/2_EmbeddingGeneration.ipynb#ch0000006vscode-remote?line=24'>25</a>\u001b[0m embeddings, literals \u001b[39m=\u001b[39m transformer\u001b[39m.\u001b[39mtransform(dbpedia, entities)\n",
      "File \u001b[0;32m~/.cache/pypoetry/virtualenvs/rdflime-util-cLuY5sAo-py3.8/lib/python3.8/site-packages/pyrdf2vec/rdf2vec.py:163\u001b[0m, in \u001b[0;36mRDF2VecTransformer.get_walks\u001b[0;34m(self, kg, entities)\u001b[0m\n\u001b[1;32m    146\u001b[0m \u001b[39mdef\u001b[39;00m \u001b[39mget_walks\u001b[39m(\u001b[39mself\u001b[39m, kg: KG, entities: Entities) \u001b[39m-\u001b[39m\u001b[39m>\u001b[39m List[List[SWalk]]:\n\u001b[1;32m    147\u001b[0m     \u001b[39m\"\"\"Gets the walks of an entity based on a Knowledge Graph and a\u001b[39;00m\n\u001b[1;32m    148\u001b[0m \u001b[39m    list of walkers\u001b[39;00m\n\u001b[1;32m    149\u001b[0m \n\u001b[0;32m   (...)\u001b[0m\n\u001b[1;32m    161\u001b[0m \n\u001b[1;32m    162\u001b[0m \u001b[39m    \"\"\"\u001b[39;00m\n\u001b[0;32m--> 163\u001b[0m     \u001b[39mif\u001b[39;00m kg\u001b[39m.\u001b[39mskip_verify \u001b[39mis\u001b[39;00m \u001b[39mFalse\u001b[39;00m \u001b[39mand\u001b[39;00m \u001b[39mnot\u001b[39;00m kg\u001b[39m.\u001b[39;49mis_exist(entities):\n\u001b[1;32m    164\u001b[0m         \u001b[39mif\u001b[39;00m kg\u001b[39m.\u001b[39mmul_req:\n\u001b[1;32m    165\u001b[0m             asyncio\u001b[39m.\u001b[39mrun(kg\u001b[39m.\u001b[39mconnector\u001b[39m.\u001b[39mclose())\n",
      "File \u001b[0;32m~/.cache/pypoetry/virtualenvs/rdflime-util-cLuY5sAo-py3.8/lib/python3.8/site-packages/pyrdf2vec/graphs/kg.py:374\u001b[0m, in \u001b[0;36mKG.is_exist\u001b[0;34m(self, entities)\u001b[0m\n\u001b[1;32m    369\u001b[0m     responses \u001b[39m=\u001b[39m [\n\u001b[1;32m    370\u001b[0m         res[\u001b[39m\"\u001b[39m\u001b[39mboolean\u001b[39m\u001b[39m\"\u001b[39m]  \u001b[39m# type: ignore\u001b[39;00m\n\u001b[1;32m    371\u001b[0m         \u001b[39mfor\u001b[39;00m res \u001b[39min\u001b[39;00m asyncio\u001b[39m.\u001b[39mrun(\u001b[39mself\u001b[39m\u001b[39m.\u001b[39mconnector\u001b[39m.\u001b[39mafetch(queries))\n\u001b[1;32m    372\u001b[0m     ]\n\u001b[1;32m    373\u001b[0m \u001b[39melse\u001b[39;00m:\n\u001b[0;32m--> 374\u001b[0m     responses \u001b[39m=\u001b[39m [\u001b[39mself\u001b[39m\u001b[39m.\u001b[39mconnector\u001b[39m.\u001b[39mfetch(query) \u001b[39mfor\u001b[39;00m query \u001b[39min\u001b[39;00m queries]\n\u001b[1;32m    375\u001b[0m     responses \u001b[39m=\u001b[39m [res[\u001b[39m\"\u001b[39m\u001b[39mboolean\u001b[39m\u001b[39m\"\u001b[39m] \u001b[39mfor\u001b[39;00m res \u001b[39min\u001b[39;00m responses]\n\u001b[1;32m    376\u001b[0m \u001b[39mreturn\u001b[39;00m \u001b[39mFalse\u001b[39;00m \u001b[39mnot\u001b[39;00m \u001b[39min\u001b[39;00m responses\n",
      "File \u001b[0;32m~/.cache/pypoetry/virtualenvs/rdflime-util-cLuY5sAo-py3.8/lib/python3.8/site-packages/pyrdf2vec/graphs/kg.py:374\u001b[0m, in \u001b[0;36m<listcomp>\u001b[0;34m(.0)\u001b[0m\n\u001b[1;32m    369\u001b[0m     responses \u001b[39m=\u001b[39m [\n\u001b[1;32m    370\u001b[0m         res[\u001b[39m\"\u001b[39m\u001b[39mboolean\u001b[39m\u001b[39m\"\u001b[39m]  \u001b[39m# type: ignore\u001b[39;00m\n\u001b[1;32m    371\u001b[0m         \u001b[39mfor\u001b[39;00m res \u001b[39min\u001b[39;00m asyncio\u001b[39m.\u001b[39mrun(\u001b[39mself\u001b[39m\u001b[39m.\u001b[39mconnector\u001b[39m.\u001b[39mafetch(queries))\n\u001b[1;32m    372\u001b[0m     ]\n\u001b[1;32m    373\u001b[0m \u001b[39melse\u001b[39;00m:\n\u001b[0;32m--> 374\u001b[0m     responses \u001b[39m=\u001b[39m [\u001b[39mself\u001b[39;49m\u001b[39m.\u001b[39;49mconnector\u001b[39m.\u001b[39;49mfetch(query) \u001b[39mfor\u001b[39;00m query \u001b[39min\u001b[39;00m queries]\n\u001b[1;32m    375\u001b[0m     responses \u001b[39m=\u001b[39m [res[\u001b[39m\"\u001b[39m\u001b[39mboolean\u001b[39m\u001b[39m\"\u001b[39m] \u001b[39mfor\u001b[39;00m res \u001b[39min\u001b[39;00m responses]\n\u001b[1;32m    376\u001b[0m \u001b[39mreturn\u001b[39;00m \u001b[39mFalse\u001b[39;00m \u001b[39mnot\u001b[39;00m \u001b[39min\u001b[39;00m responses\n",
      "File \u001b[0;32m~/.cache/pypoetry/virtualenvs/rdflime-util-cLuY5sAo-py3.8/lib/python3.8/site-packages/cachetools/__init__.py:567\u001b[0m, in \u001b[0;36mcachedmethod.<locals>.decorator.<locals>.wrapper\u001b[0;34m(self, *args, **kwargs)\u001b[0m\n\u001b[1;32m    565\u001b[0m \u001b[39mexcept\u001b[39;00m \u001b[39mKeyError\u001b[39;00m:\n\u001b[1;32m    566\u001b[0m     \u001b[39mpass\u001b[39;00m  \u001b[39m# key not found\u001b[39;00m\n\u001b[0;32m--> 567\u001b[0m v \u001b[39m=\u001b[39m method(\u001b[39mself\u001b[39;49m, \u001b[39m*\u001b[39;49margs, \u001b[39m*\u001b[39;49m\u001b[39m*\u001b[39;49mkwargs)\n\u001b[1;32m    568\u001b[0m \u001b[39mtry\u001b[39;00m:\n\u001b[1;32m    569\u001b[0m     c[k] \u001b[39m=\u001b[39m v\n",
      "File \u001b[0;32m~/.cache/pypoetry/virtualenvs/rdflime-util-cLuY5sAo-py3.8/lib/python3.8/site-packages/pyrdf2vec/connectors.py:135\u001b[0m, in \u001b[0;36mSPARQLConnector.fetch\u001b[0;34m(self, query)\u001b[0m\n\u001b[1;32m    125\u001b[0m \u001b[39m\"\"\"Fetchs the result of a SPARQL query.\u001b[39;00m\n\u001b[1;32m    126\u001b[0m \n\u001b[1;32m    127\u001b[0m \u001b[39mArgs:\u001b[39;00m\n\u001b[0;32m   (...)\u001b[0m\n\u001b[1;32m    132\u001b[0m \n\u001b[1;32m    133\u001b[0m \u001b[39m\"\"\"\u001b[39;00m\n\u001b[1;32m    134\u001b[0m url \u001b[39m=\u001b[39m \u001b[39mf\u001b[39m\u001b[39m\"\u001b[39m\u001b[39m{\u001b[39;00m\u001b[39mself\u001b[39m\u001b[39m.\u001b[39mendpoint\u001b[39m}\u001b[39;00m\u001b[39m/query?query=\u001b[39m\u001b[39m{\u001b[39;00mparse\u001b[39m.\u001b[39mquote(query)\u001b[39m}\u001b[39;00m\u001b[39m\"\u001b[39m\n\u001b[0;32m--> 135\u001b[0m \u001b[39mwith\u001b[39;00m requests\u001b[39m.\u001b[39;49mget(url, headers\u001b[39m=\u001b[39;49m\u001b[39mself\u001b[39;49m\u001b[39m.\u001b[39;49m_headers) \u001b[39mas\u001b[39;00m res:\n\u001b[1;32m    136\u001b[0m     \u001b[39mreturn\u001b[39;00m res\u001b[39m.\u001b[39mjson()\n",
      "File \u001b[0;32m~/.cache/pypoetry/virtualenvs/rdflime-util-cLuY5sAo-py3.8/lib/python3.8/site-packages/requests/api.py:73\u001b[0m, in \u001b[0;36mget\u001b[0;34m(url, params, **kwargs)\u001b[0m\n\u001b[1;32m     62\u001b[0m \u001b[39mdef\u001b[39;00m \u001b[39mget\u001b[39m(url, params\u001b[39m=\u001b[39m\u001b[39mNone\u001b[39;00m, \u001b[39m*\u001b[39m\u001b[39m*\u001b[39mkwargs):\n\u001b[1;32m     63\u001b[0m     \u001b[39mr\u001b[39m\u001b[39m\"\"\"Sends a GET request.\u001b[39;00m\n\u001b[1;32m     64\u001b[0m \n\u001b[1;32m     65\u001b[0m \u001b[39m    :param url: URL for the new :class:`Request` object.\u001b[39;00m\n\u001b[0;32m   (...)\u001b[0m\n\u001b[1;32m     70\u001b[0m \u001b[39m    :rtype: requests.Response\u001b[39;00m\n\u001b[1;32m     71\u001b[0m \u001b[39m    \"\"\"\u001b[39;00m\n\u001b[0;32m---> 73\u001b[0m     \u001b[39mreturn\u001b[39;00m request(\u001b[39m\"\u001b[39;49m\u001b[39mget\u001b[39;49m\u001b[39m\"\u001b[39;49m, url, params\u001b[39m=\u001b[39;49mparams, \u001b[39m*\u001b[39;49m\u001b[39m*\u001b[39;49mkwargs)\n",
      "File \u001b[0;32m~/.cache/pypoetry/virtualenvs/rdflime-util-cLuY5sAo-py3.8/lib/python3.8/site-packages/requests/api.py:59\u001b[0m, in \u001b[0;36mrequest\u001b[0;34m(method, url, **kwargs)\u001b[0m\n\u001b[1;32m     55\u001b[0m \u001b[39m# By using the 'with' statement we are sure the session is closed, thus we\u001b[39;00m\n\u001b[1;32m     56\u001b[0m \u001b[39m# avoid leaving sockets open which can trigger a ResourceWarning in some\u001b[39;00m\n\u001b[1;32m     57\u001b[0m \u001b[39m# cases, and look like a memory leak in others.\u001b[39;00m\n\u001b[1;32m     58\u001b[0m \u001b[39mwith\u001b[39;00m sessions\u001b[39m.\u001b[39mSession() \u001b[39mas\u001b[39;00m session:\n\u001b[0;32m---> 59\u001b[0m     \u001b[39mreturn\u001b[39;00m session\u001b[39m.\u001b[39;49mrequest(method\u001b[39m=\u001b[39;49mmethod, url\u001b[39m=\u001b[39;49murl, \u001b[39m*\u001b[39;49m\u001b[39m*\u001b[39;49mkwargs)\n",
      "File \u001b[0;32m~/.cache/pypoetry/virtualenvs/rdflime-util-cLuY5sAo-py3.8/lib/python3.8/site-packages/requests/sessions.py:587\u001b[0m, in \u001b[0;36mSession.request\u001b[0;34m(self, method, url, params, data, headers, cookies, files, auth, timeout, allow_redirects, proxies, hooks, stream, verify, cert, json)\u001b[0m\n\u001b[1;32m    582\u001b[0m send_kwargs \u001b[39m=\u001b[39m {\n\u001b[1;32m    583\u001b[0m     \u001b[39m\"\u001b[39m\u001b[39mtimeout\u001b[39m\u001b[39m\"\u001b[39m: timeout,\n\u001b[1;32m    584\u001b[0m     \u001b[39m\"\u001b[39m\u001b[39mallow_redirects\u001b[39m\u001b[39m\"\u001b[39m: allow_redirects,\n\u001b[1;32m    585\u001b[0m }\n\u001b[1;32m    586\u001b[0m send_kwargs\u001b[39m.\u001b[39mupdate(settings)\n\u001b[0;32m--> 587\u001b[0m resp \u001b[39m=\u001b[39m \u001b[39mself\u001b[39;49m\u001b[39m.\u001b[39;49msend(prep, \u001b[39m*\u001b[39;49m\u001b[39m*\u001b[39;49msend_kwargs)\n\u001b[1;32m    589\u001b[0m \u001b[39mreturn\u001b[39;00m resp\n",
      "File \u001b[0;32m~/.cache/pypoetry/virtualenvs/rdflime-util-cLuY5sAo-py3.8/lib/python3.8/site-packages/requests/sessions.py:701\u001b[0m, in \u001b[0;36mSession.send\u001b[0;34m(self, request, **kwargs)\u001b[0m\n\u001b[1;32m    698\u001b[0m start \u001b[39m=\u001b[39m preferred_clock()\n\u001b[1;32m    700\u001b[0m \u001b[39m# Send the request\u001b[39;00m\n\u001b[0;32m--> 701\u001b[0m r \u001b[39m=\u001b[39m adapter\u001b[39m.\u001b[39;49msend(request, \u001b[39m*\u001b[39;49m\u001b[39m*\u001b[39;49mkwargs)\n\u001b[1;32m    703\u001b[0m \u001b[39m# Total elapsed time of the request (approximately)\u001b[39;00m\n\u001b[1;32m    704\u001b[0m elapsed \u001b[39m=\u001b[39m preferred_clock() \u001b[39m-\u001b[39m start\n",
      "File \u001b[0;32m~/.cache/pypoetry/virtualenvs/rdflime-util-cLuY5sAo-py3.8/lib/python3.8/site-packages/requests/adapters.py:489\u001b[0m, in \u001b[0;36mHTTPAdapter.send\u001b[0;34m(self, request, stream, timeout, verify, cert, proxies)\u001b[0m\n\u001b[1;32m    487\u001b[0m \u001b[39mtry\u001b[39;00m:\n\u001b[1;32m    488\u001b[0m     \u001b[39mif\u001b[39;00m \u001b[39mnot\u001b[39;00m chunked:\n\u001b[0;32m--> 489\u001b[0m         resp \u001b[39m=\u001b[39m conn\u001b[39m.\u001b[39;49murlopen(\n\u001b[1;32m    490\u001b[0m             method\u001b[39m=\u001b[39;49mrequest\u001b[39m.\u001b[39;49mmethod,\n\u001b[1;32m    491\u001b[0m             url\u001b[39m=\u001b[39;49murl,\n\u001b[1;32m    492\u001b[0m             body\u001b[39m=\u001b[39;49mrequest\u001b[39m.\u001b[39;49mbody,\n\u001b[1;32m    493\u001b[0m             headers\u001b[39m=\u001b[39;49mrequest\u001b[39m.\u001b[39;49mheaders,\n\u001b[1;32m    494\u001b[0m             redirect\u001b[39m=\u001b[39;49m\u001b[39mFalse\u001b[39;49;00m,\n\u001b[1;32m    495\u001b[0m             assert_same_host\u001b[39m=\u001b[39;49m\u001b[39mFalse\u001b[39;49;00m,\n\u001b[1;32m    496\u001b[0m             preload_content\u001b[39m=\u001b[39;49m\u001b[39mFalse\u001b[39;49;00m,\n\u001b[1;32m    497\u001b[0m             decode_content\u001b[39m=\u001b[39;49m\u001b[39mFalse\u001b[39;49;00m,\n\u001b[1;32m    498\u001b[0m             retries\u001b[39m=\u001b[39;49m\u001b[39mself\u001b[39;49m\u001b[39m.\u001b[39;49mmax_retries,\n\u001b[1;32m    499\u001b[0m             timeout\u001b[39m=\u001b[39;49mtimeout,\n\u001b[1;32m    500\u001b[0m         )\n\u001b[1;32m    502\u001b[0m     \u001b[39m# Send the request.\u001b[39;00m\n\u001b[1;32m    503\u001b[0m     \u001b[39melse\u001b[39;00m:\n\u001b[1;32m    504\u001b[0m         \u001b[39mif\u001b[39;00m \u001b[39mhasattr\u001b[39m(conn, \u001b[39m\"\u001b[39m\u001b[39mproxy_pool\u001b[39m\u001b[39m\"\u001b[39m):\n",
      "File \u001b[0;32m~/.cache/pypoetry/virtualenvs/rdflime-util-cLuY5sAo-py3.8/lib/python3.8/site-packages/urllib3/connectionpool.py:703\u001b[0m, in \u001b[0;36mHTTPConnectionPool.urlopen\u001b[0;34m(self, method, url, body, headers, retries, redirect, assert_same_host, timeout, pool_timeout, release_conn, chunked, body_pos, **response_kw)\u001b[0m\n\u001b[1;32m    700\u001b[0m     \u001b[39mself\u001b[39m\u001b[39m.\u001b[39m_prepare_proxy(conn)\n\u001b[1;32m    702\u001b[0m \u001b[39m# Make the request on the httplib connection object.\u001b[39;00m\n\u001b[0;32m--> 703\u001b[0m httplib_response \u001b[39m=\u001b[39m \u001b[39mself\u001b[39;49m\u001b[39m.\u001b[39;49m_make_request(\n\u001b[1;32m    704\u001b[0m     conn,\n\u001b[1;32m    705\u001b[0m     method,\n\u001b[1;32m    706\u001b[0m     url,\n\u001b[1;32m    707\u001b[0m     timeout\u001b[39m=\u001b[39;49mtimeout_obj,\n\u001b[1;32m    708\u001b[0m     body\u001b[39m=\u001b[39;49mbody,\n\u001b[1;32m    709\u001b[0m     headers\u001b[39m=\u001b[39;49mheaders,\n\u001b[1;32m    710\u001b[0m     chunked\u001b[39m=\u001b[39;49mchunked,\n\u001b[1;32m    711\u001b[0m )\n\u001b[1;32m    713\u001b[0m \u001b[39m# If we're going to release the connection in ``finally:``, then\u001b[39;00m\n\u001b[1;32m    714\u001b[0m \u001b[39m# the response doesn't need to know about the connection. Otherwise\u001b[39;00m\n\u001b[1;32m    715\u001b[0m \u001b[39m# it will also try to release it and we'll have a double-release\u001b[39;00m\n\u001b[1;32m    716\u001b[0m \u001b[39m# mess.\u001b[39;00m\n\u001b[1;32m    717\u001b[0m response_conn \u001b[39m=\u001b[39m conn \u001b[39mif\u001b[39;00m \u001b[39mnot\u001b[39;00m release_conn \u001b[39melse\u001b[39;00m \u001b[39mNone\u001b[39;00m\n",
      "File \u001b[0;32m~/.cache/pypoetry/virtualenvs/rdflime-util-cLuY5sAo-py3.8/lib/python3.8/site-packages/urllib3/connectionpool.py:449\u001b[0m, in \u001b[0;36mHTTPConnectionPool._make_request\u001b[0;34m(self, conn, method, url, timeout, chunked, **httplib_request_kw)\u001b[0m\n\u001b[1;32m    444\u001b[0m             httplib_response \u001b[39m=\u001b[39m conn\u001b[39m.\u001b[39mgetresponse()\n\u001b[1;32m    445\u001b[0m         \u001b[39mexcept\u001b[39;00m \u001b[39mBaseException\u001b[39;00m \u001b[39mas\u001b[39;00m e:\n\u001b[1;32m    446\u001b[0m             \u001b[39m# Remove the TypeError from the exception chain in\u001b[39;00m\n\u001b[1;32m    447\u001b[0m             \u001b[39m# Python 3 (including for exceptions like SystemExit).\u001b[39;00m\n\u001b[1;32m    448\u001b[0m             \u001b[39m# Otherwise it looks like a bug in the code.\u001b[39;00m\n\u001b[0;32m--> 449\u001b[0m             six\u001b[39m.\u001b[39;49mraise_from(e, \u001b[39mNone\u001b[39;49;00m)\n\u001b[1;32m    450\u001b[0m \u001b[39mexcept\u001b[39;00m (SocketTimeout, BaseSSLError, SocketError) \u001b[39mas\u001b[39;00m e:\n\u001b[1;32m    451\u001b[0m     \u001b[39mself\u001b[39m\u001b[39m.\u001b[39m_raise_timeout(err\u001b[39m=\u001b[39me, url\u001b[39m=\u001b[39murl, timeout_value\u001b[39m=\u001b[39mread_timeout)\n",
      "File \u001b[0;32m<string>:3\u001b[0m, in \u001b[0;36mraise_from\u001b[0;34m(value, from_value)\u001b[0m\n",
      "File \u001b[0;32m~/.cache/pypoetry/virtualenvs/rdflime-util-cLuY5sAo-py3.8/lib/python3.8/site-packages/urllib3/connectionpool.py:444\u001b[0m, in \u001b[0;36mHTTPConnectionPool._make_request\u001b[0;34m(self, conn, method, url, timeout, chunked, **httplib_request_kw)\u001b[0m\n\u001b[1;32m    441\u001b[0m \u001b[39mexcept\u001b[39;00m \u001b[39mTypeError\u001b[39;00m:\n\u001b[1;32m    442\u001b[0m     \u001b[39m# Python 3\u001b[39;00m\n\u001b[1;32m    443\u001b[0m     \u001b[39mtry\u001b[39;00m:\n\u001b[0;32m--> 444\u001b[0m         httplib_response \u001b[39m=\u001b[39m conn\u001b[39m.\u001b[39;49mgetresponse()\n\u001b[1;32m    445\u001b[0m     \u001b[39mexcept\u001b[39;00m \u001b[39mBaseException\u001b[39;00m \u001b[39mas\u001b[39;00m e:\n\u001b[1;32m    446\u001b[0m         \u001b[39m# Remove the TypeError from the exception chain in\u001b[39;00m\n\u001b[1;32m    447\u001b[0m         \u001b[39m# Python 3 (including for exceptions like SystemExit).\u001b[39;00m\n\u001b[1;32m    448\u001b[0m         \u001b[39m# Otherwise it looks like a bug in the code.\u001b[39;00m\n\u001b[1;32m    449\u001b[0m         six\u001b[39m.\u001b[39mraise_from(e, \u001b[39mNone\u001b[39;00m)\n",
      "File \u001b[0;32m/usr/local/lib/python3.8/http/client.py:1348\u001b[0m, in \u001b[0;36mHTTPConnection.getresponse\u001b[0;34m(self)\u001b[0m\n\u001b[1;32m   1346\u001b[0m \u001b[39mtry\u001b[39;00m:\n\u001b[1;32m   1347\u001b[0m     \u001b[39mtry\u001b[39;00m:\n\u001b[0;32m-> 1348\u001b[0m         response\u001b[39m.\u001b[39;49mbegin()\n\u001b[1;32m   1349\u001b[0m     \u001b[39mexcept\u001b[39;00m \u001b[39mConnectionError\u001b[39;00m:\n\u001b[1;32m   1350\u001b[0m         \u001b[39mself\u001b[39m\u001b[39m.\u001b[39mclose()\n",
      "File \u001b[0;32m/usr/local/lib/python3.8/http/client.py:316\u001b[0m, in \u001b[0;36mHTTPResponse.begin\u001b[0;34m(self)\u001b[0m\n\u001b[1;32m    314\u001b[0m \u001b[39m# read until we get a non-100 response\u001b[39;00m\n\u001b[1;32m    315\u001b[0m \u001b[39mwhile\u001b[39;00m \u001b[39mTrue\u001b[39;00m:\n\u001b[0;32m--> 316\u001b[0m     version, status, reason \u001b[39m=\u001b[39m \u001b[39mself\u001b[39;49m\u001b[39m.\u001b[39;49m_read_status()\n\u001b[1;32m    317\u001b[0m     \u001b[39mif\u001b[39;00m status \u001b[39m!=\u001b[39m CONTINUE:\n\u001b[1;32m    318\u001b[0m         \u001b[39mbreak\u001b[39;00m\n",
      "File \u001b[0;32m/usr/local/lib/python3.8/http/client.py:277\u001b[0m, in \u001b[0;36mHTTPResponse._read_status\u001b[0;34m(self)\u001b[0m\n\u001b[1;32m    276\u001b[0m \u001b[39mdef\u001b[39;00m \u001b[39m_read_status\u001b[39m(\u001b[39mself\u001b[39m):\n\u001b[0;32m--> 277\u001b[0m     line \u001b[39m=\u001b[39m \u001b[39mstr\u001b[39m(\u001b[39mself\u001b[39;49m\u001b[39m.\u001b[39;49mfp\u001b[39m.\u001b[39;49mreadline(_MAXLINE \u001b[39m+\u001b[39;49m \u001b[39m1\u001b[39;49m), \u001b[39m\"\u001b[39m\u001b[39miso-8859-1\u001b[39m\u001b[39m\"\u001b[39m)\n\u001b[1;32m    278\u001b[0m     \u001b[39mif\u001b[39;00m \u001b[39mlen\u001b[39m(line) \u001b[39m>\u001b[39m _MAXLINE:\n\u001b[1;32m    279\u001b[0m         \u001b[39mraise\u001b[39;00m LineTooLong(\u001b[39m\"\u001b[39m\u001b[39mstatus line\u001b[39m\u001b[39m\"\u001b[39m)\n",
      "File \u001b[0;32m/usr/local/lib/python3.8/socket.py:669\u001b[0m, in \u001b[0;36mSocketIO.readinto\u001b[0;34m(self, b)\u001b[0m\n\u001b[1;32m    667\u001b[0m \u001b[39mwhile\u001b[39;00m \u001b[39mTrue\u001b[39;00m:\n\u001b[1;32m    668\u001b[0m     \u001b[39mtry\u001b[39;00m:\n\u001b[0;32m--> 669\u001b[0m         \u001b[39mreturn\u001b[39;00m \u001b[39mself\u001b[39;49m\u001b[39m.\u001b[39;49m_sock\u001b[39m.\u001b[39;49mrecv_into(b)\n\u001b[1;32m    670\u001b[0m     \u001b[39mexcept\u001b[39;00m timeout:\n\u001b[1;32m    671\u001b[0m         \u001b[39mself\u001b[39m\u001b[39m.\u001b[39m_timeout_occurred \u001b[39m=\u001b[39m \u001b[39mTrue\u001b[39;00m\n",
      "\u001b[0;31mKeyboardInterrupt\u001b[0m: "
     ]
    }
   ],
   "source": [
    "for cfg in datasets:\n",
    "    for algo in [0,1]: # 0: CBOW, 1: SG\n",
    "        for vsize in [50, 100, 200]: # Vector size of embeddings\n",
    "            print(cfg[\"name\"], algo, vsize)\n",
    "\n",
    "            dataset, entities = load_dataset(cfg)\n",
    "            datasetLocation = cfg[\"location\"]\n",
    "            \n",
    "            targetPath = os.path.join(datasetLocation, \"transformers\")\n",
    "            targetFile = f\"rdf2vec_transformer_{'sg' if algo else 'cbow'}_{vsize}\"\n",
    "            if os.path.exists(os.path.join(targetPath, targetFile)):\n",
    "                print(f\"Skipping transformer, as it already exists.\")\n",
    "                continue\n",
    "            \n",
    "            dbpedia = KG(dbpediaLocation, skip_verify=False, mul_req=False)\n",
    "            \n",
    "            transformer = RDF2VecTransformer(\n",
    "                Word2Vec(sg=algo, vector_size=vsize), # negative = 25\n",
    "                walkers=[RandomWalker(max_walks=22, max_depth=2, with_reverse=True, n_jobs=2, md5_bytes=None)], # max_walks = 22, max_depth = 2\n",
    "                verbose=1\n",
    "            )\n",
    "\n",
    "            walks = transformer.get_walks(dbpedia, entities)\n",
    "            transformer.fit(walks)\n",
    "            embeddings, literals = transformer.transform(dbpedia, entities)\n",
    "\n",
    "            Path(targetPath).mkdir(parents=True, exist_ok=True)\n",
    "            transformer.save(os.path.join(targetPath, targetFile))"
   ]
  },
  {
   "cell_type": "markdown",
   "id": "1f464e3f",
   "metadata": {},
   "source": [
    "### Store embeddings that are compatible to the Evaluation Framework\n",
    "In a next step, we would like to evaluate the quality of our generated embeddings. However, we first need to convert to a format that is readable by [GEval](https://github.com/mariaangelapellegrino/Evaluation-Framework), the graph embedding framework by Pellegrino et al.\n",
    "\n",
    "This entails two steps: First, apply the fixes from 1_DBpediaFixes.ipynb in reverse, i.e. \"unfix\" the IRIs to be compatible with the framework. Second, store the embeddings in the required CSV-like format."
   ]
  },
  {
   "cell_type": "code",
   "execution_count": 7,
   "id": "f7b056ce",
   "metadata": {},
   "outputs": [
    {
     "ename": "FileNotFoundError",
     "evalue": "[Errno 2] No such file or directory: '../data/metacritic-albums/transformers/rdf2vec_transformer_cbow_100'",
     "output_type": "error",
     "traceback": [
      "\u001b[0;31m---------------------------------------------------------------------------\u001b[0m",
      "\u001b[0;31mFileNotFoundError\u001b[0m                         Traceback (most recent call last)",
      "\u001b[1;32m/workspaces/rdflime/rdflime-util/notebooks/2_EmbeddingGeneration.ipynb Cell 7'\u001b[0m in \u001b[0;36m<cell line: 1>\u001b[0;34m()\u001b[0m\n\u001b[1;32m      <a href='vscode-notebook-cell://dev-container%2B5c5c77736c2e6c6f63616c686f73745c44656269616e5c686f6d655c726f7576656e5c776f726b5c756e696d615c7264666c696d65/workspaces/rdflime/rdflime-util/notebooks/2_EmbeddingGeneration.ipynb#ch0000008vscode-remote?line=4'>5</a>\u001b[0m \u001b[39mfor\u001b[39;00m algo \u001b[39min\u001b[39;00m [\u001b[39m\"\u001b[39m\u001b[39mcbow\u001b[39m\u001b[39m\"\u001b[39m, \u001b[39m\"\u001b[39m\u001b[39msg\u001b[39m\u001b[39m\"\u001b[39m]:\n\u001b[1;32m      <a href='vscode-notebook-cell://dev-container%2B5c5c77736c2e6c6f63616c686f73745c44656269616e5c686f6d655c726f7576656e5c776f726b5c756e696d615c7264666c696d65/workspaces/rdflime/rdflime-util/notebooks/2_EmbeddingGeneration.ipynb#ch0000008vscode-remote?line=5'>6</a>\u001b[0m     \u001b[39mfor\u001b[39;00m vsize \u001b[39min\u001b[39;00m [\u001b[39m50\u001b[39m, \u001b[39m100\u001b[39m, \u001b[39m200\u001b[39m]: \u001b[39m# Vector size of embeddings\u001b[39;00m\n\u001b[0;32m----> <a href='vscode-notebook-cell://dev-container%2B5c5c77736c2e6c6f63616c686f73745c44656269616e5c686f6d655c726f7576656e5c776f726b5c756e696d615c7264666c696d65/workspaces/rdflime/rdflime-util/notebooks/2_EmbeddingGeneration.ipynb#ch0000008vscode-remote?line=7'>8</a>\u001b[0m         \u001b[39mwith\u001b[39;00m \u001b[39mopen\u001b[39;49m(os\u001b[39m.\u001b[39;49mpath\u001b[39m.\u001b[39;49mjoin(datasetLocation, \u001b[39m\"\u001b[39;49m\u001b[39mtransformers\u001b[39;49m\u001b[39m\"\u001b[39;49m, \u001b[39mf\u001b[39;49m\u001b[39m\"\u001b[39;49m\u001b[39mrdf2vec_transformer_\u001b[39;49m\u001b[39m{\u001b[39;49;00malgo\u001b[39m}\u001b[39;49;00m\u001b[39m_\u001b[39;49m\u001b[39m{\u001b[39;49;00mvsize\u001b[39m}\u001b[39;49;00m\u001b[39m\"\u001b[39;49m), \u001b[39m\"\u001b[39;49m\u001b[39mrb\u001b[39;49m\u001b[39m\"\u001b[39;49m) \u001b[39mas\u001b[39;00m file:\n\u001b[1;32m      <a href='vscode-notebook-cell://dev-container%2B5c5c77736c2e6c6f63616c686f73745c44656269616e5c686f6d655c726f7576656e5c776f726b5c756e696d615c7264666c696d65/workspaces/rdflime/rdflime-util/notebooks/2_EmbeddingGeneration.ipynb#ch0000008vscode-remote?line=8'>9</a>\u001b[0m             transformer: RDF2VecTransformer \u001b[39m=\u001b[39m pickle\u001b[39m.\u001b[39mload(file)\n\u001b[1;32m     <a href='vscode-notebook-cell://dev-container%2B5c5c77736c2e6c6f63616c686f73745c44656269616e5c686f6d655c726f7576656e5c776f726b5c756e696d615c7264666c696d65/workspaces/rdflime/rdflime-util/notebooks/2_EmbeddingGeneration.ipynb#ch0000008vscode-remote?line=10'>11</a>\u001b[0m         targetPath \u001b[39m=\u001b[39m os\u001b[39m.\u001b[39mpath\u001b[39m.\u001b[39mjoin(datasetLocation, \u001b[39m\"\u001b[39m\u001b[39m..\u001b[39m\u001b[39m\"\u001b[39m, \u001b[39m\"\u001b[39m\u001b[39membeddings\u001b[39m\u001b[39m\"\u001b[39m)\n",
      "\u001b[0;31mFileNotFoundError\u001b[0m: [Errno 2] No such file or directory: '../data/metacritic-albums/transformers/rdf2vec_transformer_cbow_100'"
     ]
    }
   ],
   "source": [
    "for cfg in datasets:\n",
    "    datasetLocation = cfg[\"location\"]\n",
    "    dataset, entities = load_dataset(cfg)\n",
    "\n",
    "    for algo in [\"cbow\", \"sg\"]:\n",
    "        for vsize in [50, 100, 200]: # Vector size of embeddings\n",
    "\n",
    "            with open(os.path.join(datasetLocation, \"transformers\", f\"rdf2vec_transformer_{algo}_{vsize}\"), \"rb\") as file:\n",
    "                transformer: RDF2VecTransformer = pickle.load(file)\n",
    "\n",
    "            targetPath = os.path.join(dataLocation, \"embeddings\")\n",
    "            Path(targetPath).mkdir(parents=True, exist_ok=True)\n",
    "\n",
    "            with open(os.path.join(targetPath, f\"embeddings_{algo}_{vsize}\"), \"a\") as file:\n",
    "                for entity, embedding in zip(transformer._entities, transformer._embeddings):\n",
    "\n",
    "                    # \"Unfix\" IRI and replace with the version that the Evaluation Framework by Pellegrino et al. understands\n",
    "                    entity = dataset[dataset[cfg[\"columns\"][\"uri_fixed\"]] == entity][cfg[\"columns\"][\"uri_geval\"]].iloc[0].replace(\" \", \"+\")        \n",
    "\n",
    "                    # Write embedding to file\n",
    "                    line = f\"{entity} {' '.join(map(str,embedding))}\\n\"\n",
    "                    file.write(line)"
   ]
  },
  {
   "cell_type": "markdown",
   "id": "64077094",
   "metadata": {},
   "source": [
    "## Evaluation"
   ]
  },
  {
   "cell_type": "markdown",
   "id": "d8b207f3",
   "metadata": {},
   "source": [
    "### Evaluation using Evaluation-Framework by Pellegrino et al.\n",
    "Load each of our embedding versions and run the classification task on the movie dataset."
   ]
  },
  {
   "cell_type": "code",
   "execution_count": 8,
   "id": "bc5e727d",
   "metadata": {},
   "outputs": [
    {
     "name": "stdout",
     "output_type": "stream",
     "text": [
      "cbow 50\n",
      "Start evaluation...\n",
      "Classification finished\n",
      "0:02:51\n",
      "cbow 100\n",
      "Start evaluation...\n",
      "Classification finished\n",
      "0:02:18\n",
      "cbow 200\n",
      "Start evaluation...\n",
      "Classification finished\n",
      "0:04:23\n",
      "sg 50\n",
      "Start evaluation...\n",
      "Classification finished\n",
      "0:01:30\n",
      "sg 100\n",
      "Start evaluation...\n",
      "Classification finished\n",
      "0:02:40\n",
      "sg 200\n",
      "Start evaluation...\n",
      "Classification finished\n",
      "0:05:07\n"
     ]
    }
   ],
   "source": [
    "evalPath = os.path.join(dataLocation, \"embeddings\", \"evaluation\")\n",
    "Path(evalPath).mkdir(parents=True, exist_ok=True)\n",
    "\n",
    "for algo in [\"cbow\", \"sg\"]:\n",
    "    for vsize in [50, 100, 200]: # Vector size of embeddings\n",
    "        print(algo, vsize)\n",
    "\n",
    "        embeddingPath = os.path.join(dataLocation, \"embeddings\", f\"embeddings_{algo}_{vsize}\")\n",
    "        \n",
    "        evaluation_manager = FrameworkManager()\n",
    "        evaluation_manager.evaluate(\n",
    "            embeddingPath,\n",
    "            tasks=[\"Classification\"],\n",
    "            parallel=False,\n",
    "            debugging_mode=False,\n",
    "            vector_size=vsize,\n",
    "            result_directory_path=os.path.join(evalPath, f\"geval_result_{algo}_{vsize}\")\n",
    "        )"
   ]
  },
  {
   "cell_type": "code",
   "execution_count": 49,
   "id": "5f7281c0",
   "metadata": {},
   "outputs": [
    {
     "data": {
      "text/plain": [
       "0.6342696709788933"
      ]
     },
     "execution_count": 49,
     "metadata": {},
     "output_type": "execute_result"
    }
   ],
   "source": [
    "# Move the results file to the proper location\n",
    "# !mv comparison.csv $evalPath\n",
    "results[(results.test_name.str.contains(f\"cbow_200\")) & (results.model == \"NB\")].score_value.mean()"
   ]
  },
  {
   "cell_type": "code",
   "execution_count": 59,
   "id": "27d31e69",
   "metadata": {},
   "outputs": [
    {
     "name": "stdout",
     "output_type": "stream",
     "text": [
      "\\begin{tabular}{lllllll}\n",
      "\\toprule\n",
      "{} &        0 &         1 &         2 &      3 &       4 &       5 \\\\\n",
      "\\midrule\n",
      "strategy    &  cbow\\_50 &  cbow\\_100 &  cbow\\_200 &  sg\\_50 &  sg\\_100 &  sg\\_200 \\\\\n",
      "NB -        &    63.87 &     62.47 &     63.43 &  70.49 &   69.47 &    69.5 \\\\\n",
      "C45 -       &    59.41 &     60.15 &     60.87 &  59.48 &   59.83 &   60.15 \\\\\n",
      "KNN K=3     &    67.01 &     67.28 &     67.14 &  69.98 &   70.34 &   69.85 \\\\\n",
      "SVM C=0.001 &    51.76 &     51.75 &     51.79 &  51.97 &   51.96 &   51.96 \\\\\n",
      "SVM C=0.01  &    57.64 &     56.79 &     56.97 &  56.95 &   53.01 &   52.33 \\\\\n",
      "SVM C=0.1   &    64.63 &     65.14 &     65.31 &  64.96 &   65.56 &   65.44 \\\\\n",
      "SVM C=1.0   &    71.77 &     72.86 &     72.91 &  74.36 &   75.08 &   75.38 \\\\\n",
      "SVM C=10.0  &     70.7 &     72.08 &      72.8 &  73.14 &   73.96 &   74.76 \\\\\n",
      "SVM C=100   &    68.98 &     70.88 &     71.39 &  72.67 &    73.9 &   74.77 \\\\\n",
      "SVM C=1000  &     68.2 &     69.74 &     70.87 &  71.42 &   73.14 &   73.36 \\\\\n",
      "\\bottomrule\n",
      "\\end{tabular}\n",
      "\n"
     ]
    },
    {
     "name": "stderr",
     "output_type": "stream",
     "text": [
      "/home/vscode/.cache/pypoetry/virtualenvs/rdflime-util-cLuY5sAo-py3.8/lib/python3.8/site-packages/pandas/core/indexing.py:966: SettingWithCopyWarning: \n",
      "A value is trying to be set on a copy of a slice from a DataFrame.\n",
      "Try using .loc[row_indexer,col_indexer] = value instead\n",
      "\n",
      "See the caveats in the documentation: https://pandas.pydata.org/pandas-docs/stable/user_guide/indexing.html#returning-a-view-versus-a-copy\n",
      "  self.obj[item] = s\n"
     ]
    },
    {
     "data": {
      "text/html": [
       "<div>\n",
       "<style scoped>\n",
       "    .dataframe tbody tr th:only-of-type {\n",
       "        vertical-align: middle;\n",
       "    }\n",
       "\n",
       "    .dataframe tbody tr th {\n",
       "        vertical-align: top;\n",
       "    }\n",
       "\n",
       "    .dataframe thead th {\n",
       "        text-align: right;\n",
       "    }\n",
       "</style>\n",
       "<table border=\"1\" class=\"dataframe\">\n",
       "  <thead>\n",
       "    <tr style=\"text-align: right;\">\n",
       "      <th></th>\n",
       "      <th>strategy</th>\n",
       "      <th>NB -</th>\n",
       "      <th>C45 -</th>\n",
       "      <th>KNN K=3</th>\n",
       "      <th>SVM C=0.001</th>\n",
       "      <th>SVM C=0.01</th>\n",
       "      <th>SVM C=0.1</th>\n",
       "      <th>SVM C=1.0</th>\n",
       "      <th>SVM C=10.0</th>\n",
       "      <th>SVM C=100</th>\n",
       "      <th>SVM C=1000</th>\n",
       "    </tr>\n",
       "  </thead>\n",
       "  <tbody>\n",
       "    <tr>\n",
       "      <th>0</th>\n",
       "      <td>cbow_50</td>\n",
       "      <td>63.87</td>\n",
       "      <td>59.41</td>\n",
       "      <td>67.01</td>\n",
       "      <td>51.76</td>\n",
       "      <td>57.64</td>\n",
       "      <td>64.63</td>\n",
       "      <td>71.77</td>\n",
       "      <td>70.70</td>\n",
       "      <td>68.98</td>\n",
       "      <td>68.20</td>\n",
       "    </tr>\n",
       "    <tr>\n",
       "      <th>1</th>\n",
       "      <td>cbow_100</td>\n",
       "      <td>62.47</td>\n",
       "      <td>60.15</td>\n",
       "      <td>67.28</td>\n",
       "      <td>51.75</td>\n",
       "      <td>56.79</td>\n",
       "      <td>65.14</td>\n",
       "      <td>72.86</td>\n",
       "      <td>72.08</td>\n",
       "      <td>70.88</td>\n",
       "      <td>69.74</td>\n",
       "    </tr>\n",
       "    <tr>\n",
       "      <th>2</th>\n",
       "      <td>cbow_200</td>\n",
       "      <td>63.43</td>\n",
       "      <td>60.87</td>\n",
       "      <td>67.14</td>\n",
       "      <td>51.79</td>\n",
       "      <td>56.97</td>\n",
       "      <td>65.31</td>\n",
       "      <td>72.91</td>\n",
       "      <td>72.80</td>\n",
       "      <td>71.39</td>\n",
       "      <td>70.87</td>\n",
       "    </tr>\n",
       "    <tr>\n",
       "      <th>3</th>\n",
       "      <td>sg_50</td>\n",
       "      <td>70.49</td>\n",
       "      <td>59.48</td>\n",
       "      <td>69.98</td>\n",
       "      <td>51.97</td>\n",
       "      <td>56.95</td>\n",
       "      <td>64.96</td>\n",
       "      <td>74.36</td>\n",
       "      <td>73.14</td>\n",
       "      <td>72.67</td>\n",
       "      <td>71.42</td>\n",
       "    </tr>\n",
       "    <tr>\n",
       "      <th>4</th>\n",
       "      <td>sg_100</td>\n",
       "      <td>69.47</td>\n",
       "      <td>59.83</td>\n",
       "      <td>70.34</td>\n",
       "      <td>51.96</td>\n",
       "      <td>53.01</td>\n",
       "      <td>65.56</td>\n",
       "      <td>75.08</td>\n",
       "      <td>73.96</td>\n",
       "      <td>73.90</td>\n",
       "      <td>73.14</td>\n",
       "    </tr>\n",
       "    <tr>\n",
       "      <th>5</th>\n",
       "      <td>sg_200</td>\n",
       "      <td>69.50</td>\n",
       "      <td>60.15</td>\n",
       "      <td>69.85</td>\n",
       "      <td>51.96</td>\n",
       "      <td>52.33</td>\n",
       "      <td>65.44</td>\n",
       "      <td>75.38</td>\n",
       "      <td>74.76</td>\n",
       "      <td>74.77</td>\n",
       "      <td>73.36</td>\n",
       "    </tr>\n",
       "  </tbody>\n",
       "</table>\n",
       "</div>"
      ],
      "text/plain": [
       "   strategy   NB -  C45 -  KNN K=3  SVM C=0.001  SVM C=0.01  SVM C=0.1  \\\n",
       "0   cbow_50  63.87  59.41    67.01        51.76       57.64      64.63   \n",
       "1  cbow_100  62.47  60.15    67.28        51.75       56.79      65.14   \n",
       "2  cbow_200  63.43  60.87    67.14        51.79       56.97      65.31   \n",
       "3     sg_50  70.49  59.48    69.98        51.97       56.95      64.96   \n",
       "4    sg_100  69.47  59.83    70.34        51.96       53.01      65.56   \n",
       "5    sg_200  69.50  60.15    69.85        51.96       52.33      65.44   \n",
       "\n",
       "   SVM C=1.0  SVM C=10.0  SVM C=100  SVM C=1000  \n",
       "0      71.77       70.70      68.98       68.20  \n",
       "1      72.86       72.08      70.88       69.74  \n",
       "2      72.91       72.80      71.39       70.87  \n",
       "3      74.36       73.14      72.67       71.42  \n",
       "4      75.08       73.96      73.90       73.14  \n",
       "5      75.38       74.76      74.77       73.36  "
      ]
     },
     "execution_count": 59,
     "metadata": {},
     "output_type": "execute_result"
    }
   ],
   "source": [
    "evalPath = os.path.join(dataLocation, \"embeddings\", \"evaluation\")\n",
    "\n",
    "results = pd.read_csv(os.path.join(evalPath, \"comparison.csv\"), sep=\" \")\n",
    "tab = pd.DataFrame()\n",
    "\n",
    "for algo in [\"cbow\", \"sg\"]:\n",
    "    for vsize in [50, 100, 200]:\n",
    "        r = results[results.test_name.str.contains(f\"{algo}_{vsize}\")] #\\\n",
    "            #.groupby(\"model\") \\\n",
    "            #.max() \\\n",
    "            #.reset_index()\n",
    "\n",
    "        r.loc[:, \"model\"] = r.model + \" \" + r.model_configuration\n",
    "\n",
    "        row = {\"strategy\": f\"{algo}_{vsize}\"}\n",
    "        for m in [\"NB -\", \"C45 -\", \"KNN K=3\", \"SVM C=0.001\", \"SVM C=0.01\", \"SVM C=0.1\", \"SVM C=1.0\", \"SVM C=10.0\", \"SVM C=100\", \"SVM C=1000\"]:\n",
    "            mean_score = r[r.model == m].score_value.mean()\n",
    "            row[m] = round(mean_score*100, 2)\n",
    "        tab = pd.concat([tab, pd.DataFrame([row])], ignore_index=True)\n",
    "\n",
    "print(tab.transpose().to_latex())\n",
    "tab"
   ]
  },
  {
   "cell_type": "markdown",
   "id": "331db838",
   "metadata": {},
   "source": [
    "### Learn final classifier on embeddings\n",
    "Testing with the framework by Pellegrino et al. (see above) reveals that SVC with C=100 delivers high accuracy on the given task (predicting movie quality). We therefore train and store such a classifier for every embedding variant that was trained. "
   ]
  },
  {
   "cell_type": "code",
   "execution_count": 25,
   "id": "071242ed",
   "metadata": {},
   "outputs": [
    {
     "data": {
      "text/plain": [
       "list"
      ]
     },
     "execution_count": 25,
     "metadata": {},
     "output_type": "execute_result"
    }
   ],
   "source": [
    "type(transformer._embeddings)"
   ]
  },
  {
   "cell_type": "code",
   "execution_count": 29,
   "id": "ff568210",
   "metadata": {},
   "outputs": [
    {
     "name": "stdout",
     "output_type": "stream",
     "text": [
      "metacritic-movies 0 50\n",
      "0.96\n",
      "metacritic-movies 0 100\n",
      "0.955\n",
      "metacritic-movies 0 200\n",
      "0.965\n",
      "metacritic-movies 1 50\n",
      "0.9\n",
      "metacritic-movies 1 100\n",
      "0.915\n",
      "metacritic-movies 1 200\n",
      "0.935\n",
      "metacritic-albums 0 50\n"
     ]
    },
    {
     "ename": "IndexError",
     "evalue": "list index out of range",
     "output_type": "error",
     "traceback": [
      "\u001b[0;31m---------------------------------------------------------------------------\u001b[0m",
      "\u001b[0;31mIndexError\u001b[0m                                Traceback (most recent call last)",
      "\u001b[1;32m/workspaces/rdflime/rdflime-util/notebooks/2_EmbeddingGeneration.ipynb Cell 15'\u001b[0m in \u001b[0;36m<cell line: 1>\u001b[0;34m()\u001b[0m\n\u001b[1;32m     <a href='vscode-notebook-cell://dev-container%2B5c5c77736c2e6c6f63616c686f73745c44656269616e5c686f6d655c726f7576656e5c776f726b5c756e696d615c7264666c696d65/workspaces/rdflime/rdflime-util/notebooks/2_EmbeddingGeneration.ipynb#ch0000013vscode-remote?line=15'>16</a>\u001b[0m clf \u001b[39m=\u001b[39m SVC(C\u001b[39m=\u001b[39m\u001b[39m100\u001b[39m, probability\u001b[39m=\u001b[39m\u001b[39mTrue\u001b[39;00m)\n\u001b[1;32m     <a href='vscode-notebook-cell://dev-container%2B5c5c77736c2e6c6f63616c686f73745c44656269616e5c686f6d655c726f7576656e5c776f726b5c756e696d615c7264666c696d65/workspaces/rdflime/rdflime-util/notebooks/2_EmbeddingGeneration.ipynb#ch0000013vscode-remote?line=17'>18</a>\u001b[0m \u001b[39m# Train classifier\u001b[39;00m\n\u001b[1;32m     <a href='vscode-notebook-cell://dev-container%2B5c5c77736c2e6c6f63616c686f73745c44656269616e5c686f6d655c726f7576656e5c776f726b5c756e696d615c7264666c696d65/workspaces/rdflime/rdflime-util/notebooks/2_EmbeddingGeneration.ipynb#ch0000013vscode-remote?line=18'>19</a>\u001b[0m \u001b[39m# Train/Test split is not necessarily in same order as original embedding dataset\u001b[39;00m\n\u001b[0;32m---> <a href='vscode-notebook-cell://dev-container%2B5c5c77736c2e6c6f63616c686f73745c44656269616e5c686f6d655c726f7576656e5c776f726b5c756e696d615c7264666c696d65/workspaces/rdflime/rdflime-util/notebooks/2_EmbeddingGeneration.ipynb#ch0000013vscode-remote?line=19'>20</a>\u001b[0m train_embeddings \u001b[39m=\u001b[39m [transformer\u001b[39m.\u001b[39m_embeddings[i] \u001b[39mfor\u001b[39;00m i \u001b[39min\u001b[39;00m train\u001b[39m.\u001b[39mindex\u001b[39m.\u001b[39mvalues]\n\u001b[1;32m     <a href='vscode-notebook-cell://dev-container%2B5c5c77736c2e6c6f63616c686f73745c44656269616e5c686f6d655c726f7576656e5c776f726b5c756e696d615c7264666c696d65/workspaces/rdflime/rdflime-util/notebooks/2_EmbeddingGeneration.ipynb#ch0000013vscode-remote?line=20'>21</a>\u001b[0m train_targets \u001b[39m=\u001b[39m train[label_col]\n\u001b[1;32m     <a href='vscode-notebook-cell://dev-container%2B5c5c77736c2e6c6f63616c686f73745c44656269616e5c686f6d655c726f7576656e5c776f726b5c756e696d615c7264666c696d65/workspaces/rdflime/rdflime-util/notebooks/2_EmbeddingGeneration.ipynb#ch0000013vscode-remote?line=21'>22</a>\u001b[0m clf\u001b[39m.\u001b[39mfit(train_embeddings, train_targets)\n",
      "\u001b[1;32m/workspaces/rdflime/rdflime-util/notebooks/2_EmbeddingGeneration.ipynb Cell 15'\u001b[0m in \u001b[0;36m<listcomp>\u001b[0;34m(.0)\u001b[0m\n\u001b[1;32m     <a href='vscode-notebook-cell://dev-container%2B5c5c77736c2e6c6f63616c686f73745c44656269616e5c686f6d655c726f7576656e5c776f726b5c756e696d615c7264666c696d65/workspaces/rdflime/rdflime-util/notebooks/2_EmbeddingGeneration.ipynb#ch0000013vscode-remote?line=15'>16</a>\u001b[0m clf \u001b[39m=\u001b[39m SVC(C\u001b[39m=\u001b[39m\u001b[39m100\u001b[39m, probability\u001b[39m=\u001b[39m\u001b[39mTrue\u001b[39;00m)\n\u001b[1;32m     <a href='vscode-notebook-cell://dev-container%2B5c5c77736c2e6c6f63616c686f73745c44656269616e5c686f6d655c726f7576656e5c776f726b5c756e696d615c7264666c696d65/workspaces/rdflime/rdflime-util/notebooks/2_EmbeddingGeneration.ipynb#ch0000013vscode-remote?line=17'>18</a>\u001b[0m \u001b[39m# Train classifier\u001b[39;00m\n\u001b[1;32m     <a href='vscode-notebook-cell://dev-container%2B5c5c77736c2e6c6f63616c686f73745c44656269616e5c686f6d655c726f7576656e5c776f726b5c756e696d615c7264666c696d65/workspaces/rdflime/rdflime-util/notebooks/2_EmbeddingGeneration.ipynb#ch0000013vscode-remote?line=18'>19</a>\u001b[0m \u001b[39m# Train/Test split is not necessarily in same order as original embedding dataset\u001b[39;00m\n\u001b[0;32m---> <a href='vscode-notebook-cell://dev-container%2B5c5c77736c2e6c6f63616c686f73745c44656269616e5c686f6d655c726f7576656e5c776f726b5c756e696d615c7264666c696d65/workspaces/rdflime/rdflime-util/notebooks/2_EmbeddingGeneration.ipynb#ch0000013vscode-remote?line=19'>20</a>\u001b[0m train_embeddings \u001b[39m=\u001b[39m [transformer\u001b[39m.\u001b[39;49m_embeddings[i] \u001b[39mfor\u001b[39;00m i \u001b[39min\u001b[39;00m train\u001b[39m.\u001b[39mindex\u001b[39m.\u001b[39mvalues]\n\u001b[1;32m     <a href='vscode-notebook-cell://dev-container%2B5c5c77736c2e6c6f63616c686f73745c44656269616e5c686f6d655c726f7576656e5c776f726b5c756e696d615c7264666c696d65/workspaces/rdflime/rdflime-util/notebooks/2_EmbeddingGeneration.ipynb#ch0000013vscode-remote?line=20'>21</a>\u001b[0m train_targets \u001b[39m=\u001b[39m train[label_col]\n\u001b[1;32m     <a href='vscode-notebook-cell://dev-container%2B5c5c77736c2e6c6f63616c686f73745c44656269616e5c686f6d655c726f7576656e5c776f726b5c756e696d615c7264666c696d65/workspaces/rdflime/rdflime-util/notebooks/2_EmbeddingGeneration.ipynb#ch0000013vscode-remote?line=21'>22</a>\u001b[0m clf\u001b[39m.\u001b[39mfit(train_embeddings, train_targets)\n",
      "\u001b[0;31mIndexError\u001b[0m: list index out of range"
     ]
    }
   ],
   "source": [
    "for cfg in datasets:\n",
    "    for algo in [0,1]: # 0: CBOW, 1: SG\n",
    "        for vsize in [50,100,200]: # Vector size of embeddings\n",
    "\n",
    "            print(cfg[\"name\"], algo, vsize)\n",
    "\n",
    "            dataset, entities = load_dataset(cfg)\n",
    "            train, test = split_dataset(dataset, cfg, randomize=True)\n",
    "            datasetLocation = cfg[\"location\"]\n",
    "            label_col = cfg[\"columns\"][\"label\"]\n",
    "            uri_col = cfg[\"columns\"][\"uri_fixed\"]\n",
    "        \n",
    "            transformerPath = os.path.join(datasetLocation, \"transformers\", f\"rdf2vec_transformer_{'sg' if algo else 'cbow'}_{vsize}\")\n",
    "            transformer = RDF2VecTransformer.load(transformerPath)\n",
    "\n",
    "            clf = SVC(C=100, probability=True)\n",
    "\n",
    "            # Train classifier\n",
    "            # Train/Test split is not necessarily in same order as original embedding dataset\n",
    "            train_embeddings = [transformer._embeddings[transformer._entities.index(uri)] for uri in train[uri_col]]\n",
    "            train_targets = train[label_col]\n",
    "            clf.fit(train_embeddings, train_targets)\n",
    "\n",
    "            # Test classifier\n",
    "            test_embeddings = [transformer._embeddings[transformer._entities.index(uri)] for uri in train[uri_col]]\n",
    "            test_targets = test[label_col]\n",
    "            pred = clf.predict(test_embeddings)\n",
    "            score = accuracy_score(test_targets, pred)\n",
    "            print(score)\n",
    "\n",
    "            targetPath = os.path.join(datasetLocation, \"classifiers\")\n",
    "            Path(targetPath).mkdir(parents=True, exist_ok=True)\n",
    "            \n",
    "            with open(os.path.join(targetPath, f\"svc_100_{'sg' if algo else 'cbow'}_{vsize}\" ), \"wb\") as file:\n",
    "                pickle.dump(clf, file)"
   ]
  },
  {
   "cell_type": "markdown",
   "id": "351d127f",
   "metadata": {},
   "source": [
    "## Experiments"
   ]
  },
  {
   "cell_type": "code",
   "execution_count": 35,
   "id": "cf55ec3f",
   "metadata": {},
   "outputs": [
    {
     "name": "stdout",
     "output_type": "stream",
     "text": [
      "Number of entities with walks: 2000\n",
      "Walks per entity: 484\n",
      "First walk of first entity:\n",
      "('http://dbpedia.org/resource/Category:Romanian_films_by_genre', 'http://www.w3.org/2004/02/skos/core#broader', 'http://dbpedia.org/resource/Category:Romanian_drama_films', 'http://purl.org/dc/terms/subject', 'http://dbpedia.org/resource/4_Months,_3_Weeks_and_2_Days', 'http://purl.org/dc/terms/subject', 'http://dbpedia.org/resource/Category:European_Film_Awards_winners_(films)', 'http://www.w3.org/2004/02/skos/core#prefLabel', 'European Film Awards winners (films)')\n"
     ]
    }
   ],
   "source": [
    "walks = transformer._walks\n",
    "\n",
    "print(f\"Number of entities with walks: {len(walks)}\")\n",
    "print(f\"Walks per entity: {len(walks[0])}\")\n",
    "print(f\"First walk of first entity:\")\n",
    "print(walks[0][0])\n",
    "\n",
    "# Distance(Matrix, Matrix Reloaded) < Distance(Matrix, The Batman)?\n",
    "# Can we represent the embeddings in a 2D space for visualization? -> See examples"
   ]
  },
  {
   "cell_type": "code",
   "execution_count": null,
   "id": "f5178744",
   "metadata": {},
   "outputs": [],
   "source": [
    "import matplotlib.pyplot as plt\n",
    "from sklearn.manifold import TSNE\n",
    "\n",
    "transformer = RDF2VecTransformer.load(os.path.join(movieLocation, \"transformers\", \"rdf2vec_transformer_cbow_200\"))\n",
    "\n",
    "# Reduce the dimensions of entity embeddings to represent them in a 2D plane.\n",
    "X_tsne = TSNE(random_state=42).fit_transform(transformer._embeddings[:])\n",
    "\n",
    "colors = list(map(lambda e: \"#00ff00\" if movieFull[movieFull.DBpedia_URI==e].iloc[0].label == \"good\" else \"#ff0000\", transformer._entities[:]))\n",
    "sizes = list(map(lambda e: abs(50-movieFull[movieFull.DBpedia_URI==e].iloc[0].rating)**2, transformer._entities[:]))\n",
    "\n",
    "# Plot the embeddings of entities in a 2D plane, annotating them.\n",
    "f = plt.figure(figsize=(200, 80))\n",
    "plt.scatter(X_tsne[:, 0], X_tsne[:, 1], c=colors, s=sizes)\n",
    "for x, y, t in zip(X_tsne[:, 0], X_tsne[:, 1], transformer._entities):\n",
    "    plt.annotate(t.split(\"/\")[-1], (x, y))\n",
    "\n",
    "# Display the graph with a title, removing the axes for better readability.\n",
    "plt.title(\"pyRDF2Vec\", fontsize=4)\n",
    "plt.axis(\"off\")\n",
    "#plt.show()\n",
    "\n",
    "f.savefig(os.path.join(movieLocation, \"figure.pdf\"), bbox_inches='tight')"
   ]
  },
  {
   "cell_type": "code",
   "execution_count": null,
   "id": "3da6705c",
   "metadata": {},
   "outputs": [],
   "source": []
  }
 ],
 "metadata": {
  "interpreter": {
   "hash": "ce5a4af9a72a016c4887bc4fbd6c73d917f9c9f5d4de7f9550be99bde2950c61"
  },
  "kernelspec": {
   "display_name": "Python 3.8.13 ('rdflime-util-cLuY5sAo-py3.8')",
   "language": "python",
   "name": "python3"
  },
  "language_info": {
   "codemirror_mode": {
    "name": "ipython",
    "version": 3
   },
   "file_extension": ".py",
   "mimetype": "text/x-python",
   "name": "python",
   "nbconvert_exporter": "python",
   "pygments_lexer": "ipython3",
   "version": "3.8.13"
  }
 },
 "nbformat": 4,
 "nbformat_minor": 5
}
