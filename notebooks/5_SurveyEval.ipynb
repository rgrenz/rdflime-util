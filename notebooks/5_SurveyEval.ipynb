{
 "cells": [
  {
   "cell_type": "code",
   "execution_count": 1,
   "metadata": {},
   "outputs": [
    {
     "data": {
      "text/plain": [
       "22"
      ]
     },
     "execution_count": 1,
     "metadata": {},
     "output_type": "execute_result"
    }
   ],
   "source": [
    "import pandas as pd\n",
    "import seaborn as sns\n",
    "import matplotlib.pyplot as plt\n",
    "\n",
    "from rdflimeConfig import dataLocation\n",
    "import os\n",
    "\n",
    "df = pd.read_json(os.path.join(dataLocation, \"user-study/surveyFinal.json\"))\n",
    "\n",
    "# Said in comments that some answers are not faithful due to time\n",
    "df = df.drop(index=18)\n",
    "\n",
    "len(df)"
   ]
  },
  {
   "cell_type": "markdown",
   "metadata": {},
   "source": [
    "### Demographic data\n",
    "G1Q00001 - AI experience <br>\n",
    "G1Q00002 - Academic degree <br>\n",
    "G1Q00003 - Gender <br>\n",
    "G1Q00004 - Age <br>\n",
    "G2Q00001 - Data Mining <br>\n",
    "G3Q00001 - KG"
   ]
  },
  {
   "cell_type": "code",
   "execution_count": 17,
   "metadata": {},
   "outputs": [],
   "source": [
    "fig, axs = plt.subplots(3,2, figsize=(15,16))\n",
    "\n",
    "sns.countplot(x=df[\"G1Q00001\"], ax=axs[0][0])\n",
    "sns.countplot(x=df[\"G1Q00002\"], ax=axs[0][1])\n",
    "sns.countplot(x=df[\"G1Q00003\"], ax=axs[1][0])\n",
    "sns.countplot(x=df[\"G1Q00004\"], ax=axs[1][1])\n",
    "sns.countplot(x=df[\"G2Q00001\"], ax=axs[2][0])\n",
    "sns.countplot(x=df[\"G3Q00001\"], ax=axs[2][1])\n",
    "\n",
    "plt.close()\n",
    "#plt.show()"
   ]
  },
  {
   "cell_type": "code",
   "execution_count": 18,
   "metadata": {},
   "outputs": [
    {
     "data": {
      "text/plain": [
       "G1Q00001\n",
       "Extensive experience    0.181818\n",
       "No experience           0.181818\n",
       "Some experience         0.590909\n",
       "Name: id, dtype: float64"
      ]
     },
     "metadata": {},
     "output_type": "display_data"
    },
    {
     "data": {
      "text/plain": [
       "G1Q00002\n",
       "Bachelor/Undergraduate    0.545455\n",
       "Master/Graduate           0.409091\n",
       "PhD                       0.045455\n",
       "Name: id, dtype: float64"
      ]
     },
     "metadata": {},
     "output_type": "display_data"
    },
    {
     "data": {
      "text/plain": [
       "G1Q00003\n",
       "Female    0.181818\n",
       "Male      0.818182\n",
       "Name: id, dtype: float64"
      ]
     },
     "metadata": {},
     "output_type": "display_data"
    },
    {
     "data": {
      "text/plain": [
       "G1Q00004\n",
       "18 - 24 years    0.727273\n",
       "25 - 34 years    0.227273\n",
       "45 - 54 years    0.045455\n",
       "Name: id, dtype: float64"
      ]
     },
     "metadata": {},
     "output_type": "display_data"
    },
    {
     "data": {
      "text/plain": [
       "G2Q00001\n",
       "No     0.272727\n",
       "Yes    0.727273\n",
       "Name: id, dtype: float64"
      ]
     },
     "metadata": {},
     "output_type": "display_data"
    },
    {
     "data": {
      "text/plain": [
       "G3Q00001\n",
       "No     0.454545\n",
       "Yes    0.545455\n",
       "Name: id, dtype: float64"
      ]
     },
     "metadata": {},
     "output_type": "display_data"
    }
   ],
   "source": [
    "display(df.groupby(by=\"G1Q00001\").count()[\"id\"]/22)\n",
    "display(df.groupby(by=\"G1Q00002\").count()[\"id\"]/22)\n",
    "display(df.groupby(by=\"G1Q00003\").count()[\"id\"]/22)\n",
    "display(df.groupby(by=\"G1Q00004\").count()[\"id\"]/22)\n",
    "display(df.groupby(by=\"G2Q00001\").count()[\"id\"]/22)\n",
    "display(df.groupby(by=\"G3Q00001\").count()[\"id\"]/22)"
   ]
  },
  {
   "cell_type": "markdown",
   "metadata": {},
   "source": [
    "### Classifier Trust"
   ]
  },
  {
   "cell_type": "markdown",
   "metadata": {},
   "source": [
    "#### Movies"
   ]
  },
  {
   "cell_type": "code",
   "execution_count": 119,
   "metadata": {},
   "outputs": [
    {
     "data": {
      "text/html": [
       "<div>\n",
       "<style scoped>\n",
       "    .dataframe tbody tr th:only-of-type {\n",
       "        vertical-align: middle;\n",
       "    }\n",
       "\n",
       "    .dataframe tbody tr th {\n",
       "        vertical-align: top;\n",
       "    }\n",
       "\n",
       "    .dataframe thead th {\n",
       "        text-align: right;\n",
       "    }\n",
       "</style>\n",
       "<table border=\"1\" class=\"dataframe\">\n",
       "  <thead>\n",
       "    <tr style=\"text-align: right;\">\n",
       "      <th></th>\n",
       "      <th>after</th>\n",
       "      <th>bfore</th>\n",
       "      <th>help</th>\n",
       "      <th>change</th>\n",
       "    </tr>\n",
       "  </thead>\n",
       "  <tbody>\n",
       "    <tr>\n",
       "      <th>after</th>\n",
       "      <td>1.000000</td>\n",
       "      <td>0.342041</td>\n",
       "      <td>0.231597</td>\n",
       "      <td>-0.317509</td>\n",
       "    </tr>\n",
       "    <tr>\n",
       "      <th>bfore</th>\n",
       "      <td>0.342041</td>\n",
       "      <td>1.000000</td>\n",
       "      <td>0.145794</td>\n",
       "      <td>0.075819</td>\n",
       "    </tr>\n",
       "    <tr>\n",
       "      <th>help</th>\n",
       "      <td>0.231597</td>\n",
       "      <td>0.145794</td>\n",
       "      <td>1.000000</td>\n",
       "      <td>0.184055</td>\n",
       "    </tr>\n",
       "    <tr>\n",
       "      <th>change</th>\n",
       "      <td>-0.317509</td>\n",
       "      <td>0.075819</td>\n",
       "      <td>0.184055</td>\n",
       "      <td>1.000000</td>\n",
       "    </tr>\n",
       "  </tbody>\n",
       "</table>\n",
       "</div>"
      ],
      "text/plain": [
       "           after     bfore      help    change\n",
       "after   1.000000  0.342041  0.231597 -0.317509\n",
       "bfore   0.342041  1.000000  0.145794  0.075819\n",
       "help    0.231597  0.145794  1.000000  0.184055\n",
       "change -0.317509  0.075819  0.184055  1.000000"
      ]
     },
     "execution_count": 119,
     "metadata": {},
     "output_type": "execute_result"
    }
   ],
   "source": [
    "d[\"change\"] = abs(d[\"after\"] - d[\"bfore\"])\n",
    "d.corr()"
   ]
  },
  {
   "cell_type": "code",
   "execution_count": 24,
   "metadata": {},
   "outputs": [
    {
     "name": "stdout",
     "output_type": "stream",
     "text": [
      "\\begin{tabular}{llllll}\n",
      "\\toprule\n",
      "                                0Album & 1Prediction & 2Trust before & 3Trust after & 4Absolute change & 5Helpfulness \\\\\n",
      "\\midrule\n",
      " Orphans: Brawlers, Bawlers \\& Bastards &        good &   3.09 (0.81) &  2.73 (1.12) &      0.91 (0.97) &  3.14 (1.28) \\\\\n",
      "               From Here We Go Sublime &        good &   3.00 (0.87) &  2.95 (1.21) &      0.86 (0.89) &  3.18 (1.30) \\\\\n",
      "                        American Idiot &         bad &   1.77 (1.07) &  2.36 (1.40) &      0.86 (0.83) &  2.82 (1.44) \\\\\n",
      "                             Mic Tyson &        good &   2.50 (0.91) &  3.27 (1.08) &      0.95 (0.90) &  3.27 (1.03) \\\\\n",
      "                     The Great Western &         bad &   3.14 (0.99) &  2.82 (0.96) &      0.59 (0.59) &  3.00 (1.27) \\\\\n",
      "                 Laulu laakson kukista &        good &   2.50 (0.96) &  2.36 (1.14) &      0.77 (0.75) &  2.95 (1.17) \\\\\n",
      "                              Daybreak &        good &   2.86 (0.99) &  3.32 (1.17) &      0.73 (0.70) &  3.14 (1.21) \\\\\n",
      "                          Love is Dead &         bad &   3.00 (1.02) &  2.41 (1.10) &      1.05 (1.05) &  2.95 (1.13) \\\\\n",
      "                        Sixes \\& Sevens &         bad &   2.91 (0.92) &  2.95 (1.09) &      0.68 (0.72) &  3.05 (1.33) \\\\\n",
      "                  GhostDeini The Great &         bad &   3.55 (1.18) &  3.14 (1.04) &      0.68 (0.78) &  3.27 (1.28) \\\\\n",
      "                         Overall Trust &         --- &   2.82 (1.01) &  2.77 (1.02) &      0.95 (0.79) &          --- \\\\\n",
      "\\bottomrule\n",
      "\\end{tabular}\n",
      "\n"
     ]
    },
    {
     "data": {
      "text/plain": [
       "KstestResult(statistic=0.09090909090909091, pvalue=0.9999980066032672)"
      ]
     },
     "execution_count": 24,
     "metadata": {},
     "output_type": "execute_result"
    }
   ],
   "source": [
    "d = pd.DataFrame()\n",
    "output_table = pd.DataFrame()\n",
    "\n",
    "movies = [\"Chronicles of Narnia: Prince Caspian\", \"Shallow Grave\", \"Warm Water Under a Red Bridge\", \"BASEketball\", \"Testosterone\", \"Black Knight\", \"Hanging Up\", \"An American Carol\", \"The Human Resources Manager\", \"Slumdog Millionaire\"]\n",
    "movie_preds = [0, 1, 1, 1, 0, 0, 0, 0, 1, 1]\n",
    "albums = [\"Orphans: Brawlers, Bawlers & Bastards\", \"From Here We Go Sublime\", \"American Idiot\", \"Mic Tyson\", \"The Great Western\", \"Laulu laakson kukista\", \"Daybreak\", \"Love is Dead\", \"Sixes & Sevens\", \"GhostDeini The Great\"]\n",
    "album_preds = [1, 1, 0, 1, 0, 1, 1, 0, 0, 0]\n",
    "\n",
    "entity_type = \"Album\"\n",
    "entities = movies if entity_type == \"Movie\" else albums\n",
    "preds = movie_preds if entity_type == \"Movie\" else album_preds\n",
    "start_group = 4 if entity_type == \"Movie\" else 6\n",
    "\n",
    "def mean_std_rounded(series):\n",
    "    return f\"{round(series.mean(), 2):.2f} ({round(series.std(), 2):.2f})\"\n",
    "\n",
    "for entity_idx in range(1, 11):\n",
    "\n",
    "    trust_before = df[f\"G{start_group}Q00001[SQ0{entity_idx:02d}]\"]\n",
    "    trust_after =  df[f\"G{start_group+1}Q00001[SQ0{entity_idx:02d}][1]\"]\n",
    "    explanation_helpful = df[f\"G{start_group+1}Q00001[SQ0{entity_idx:02d}][2]\"]\n",
    "\n",
    "    for before, after, help in zip(trust_before, trust_after, explanation_helpful):\n",
    "        d = d.append({\"bfore\": before, \"after\": after, \"help\": help}, ignore_index=True)\n",
    "\n",
    "    row = {\n",
    "        f\"0{entity_type}\": entities[entity_idx-1],\n",
    "        f\"1Prediction\": \"good\" if preds[entity_idx-1] else \"bad\",\n",
    "        \"2Trust before\": mean_std_rounded(trust_before),\n",
    "        \"3Trust after\":  mean_std_rounded(trust_after),\n",
    "        \"4Absolute change\": mean_std_rounded(abs(trust_before-trust_after)),\n",
    "        \"5Helpfulness\": mean_std_rounded(explanation_helpful)\n",
    "    }\n",
    "\n",
    "    output_table = output_table.append(row, ignore_index=True)\n",
    "\n",
    "\n",
    "### Last row - \"How much do you trust the clf to make accurate predictions in the future\"\n",
    "overall_trust_before = df[f\"G{start_group}Q00002\"]\n",
    "overall_trust_after = df[f\"G{start_group+1}Q00002\"]\n",
    "row = {\n",
    "    f\"0{entity_type}\": \"Overall Trust\",\n",
    "    f\"1Prediction\": \"---\",\n",
    "    \"2Trust before\": mean_std_rounded(overall_trust_before),\n",
    "    \"3Trust after\":  mean_std_rounded(overall_trust_after),\n",
    "    \"4Absolute change\": mean_std_rounded(abs(overall_trust_before-overall_trust_after)),\n",
    "    \"5Helpfulness\": \"---\"\n",
    "}\n",
    "output_table = output_table.append(row, ignore_index=True)\n",
    "\n",
    "\n",
    "print(output_table.to_latex(index=False))\n",
    "\n",
    "\n",
    "from scipy.stats import ks_2samp\n",
    "ks_2samp(overall_trust_before, overall_trust_after)"
   ]
  },
  {
   "cell_type": "markdown",
   "metadata": {},
   "source": [
    "#### Overall Feedback"
   ]
  },
  {
   "cell_type": "code",
   "execution_count": 15,
   "metadata": {},
   "outputs": [
    {
     "name": "stdout",
     "output_type": "stream",
     "text": [
      "count    22.000000\n",
      "mean      3.227273\n",
      "std       0.922307\n",
      "min       1.000000\n",
      "25%       3.000000\n",
      "50%       3.500000\n",
      "75%       4.000000\n",
      "max       4.000000\n",
      "Name: G8Q00001, dtype: float64 count    22.000000\n",
      "mean      3.090909\n",
      "std       1.150945\n",
      "min       1.000000\n",
      "25%       2.000000\n",
      "50%       3.000000\n",
      "75%       4.000000\n",
      "max       5.000000\n",
      "Name: G8Q00002, dtype: float64\n",
      "-50.0 13 2\n"
     ]
    }
   ],
   "source": [
    "def get_overall_feedback(df):\n",
    "    ease_of_use = df[\"G8Q00001\"]\n",
    "    overall_helpful = df[\"G8Q00002\"]\n",
    "    nps = df[\"G8Q00003[SQ001]\"]\n",
    "\n",
    "    n_detractor = len(nps[nps < 7])\n",
    "    n_promoter = len(nps[nps > 8])\n",
    "    nps_score = (n_promoter - n_detractor) / len(nps) * 100\n",
    "\n",
    "    print(ease_of_use.describe(), overall_helpful.describe())\n",
    "    print(nps_score, n_detractor, n_promoter)\n",
    "\n",
    "get_overall_feedback(df)"
   ]
  },
  {
   "cell_type": "code",
   "execution_count": 21,
   "metadata": {},
   "outputs": [
    {
     "name": "stdout",
     "output_type": "stream",
     "text": [
      "count    11.000000\n",
      "mean      3.363636\n",
      "std       0.809040\n",
      "min       2.000000\n",
      "25%       3.000000\n",
      "50%       4.000000\n",
      "75%       4.000000\n",
      "max       4.000000\n",
      "Name: G8Q00001, dtype: float64 count    11.000000\n",
      "mean      3.181818\n",
      "std       1.078720\n",
      "min       2.000000\n",
      "25%       2.000000\n",
      "50%       3.000000\n",
      "75%       4.000000\n",
      "max       5.000000\n",
      "Name: G8Q00002, dtype: float64\n",
      "-27.27272727272727 4 1\n"
     ]
    }
   ],
   "source": [
    "experts = df[((df[\"G1Q00001\"] ==\"Some experience\") | (df[\"G1Q00001\"] == \"Extensive experience\")) & (df[\"G2Q00001\"] == \"Yes\") & (df[\"G3Q00001\"] == \"Yes\")]\n",
    "get_overall_feedback(experts)"
   ]
  },
  {
   "cell_type": "code",
   "execution_count": 23,
   "metadata": {},
   "outputs": [
    {
     "name": "stdout",
     "output_type": "stream",
     "text": [
      "count    11.000000\n",
      "mean      3.090909\n",
      "std       1.044466\n",
      "min       1.000000\n",
      "25%       2.500000\n",
      "50%       3.000000\n",
      "75%       4.000000\n",
      "max       4.000000\n",
      "Name: G8Q00001, dtype: float64 count    11.000000\n",
      "mean      3.000000\n",
      "std       1.264911\n",
      "min       1.000000\n",
      "25%       2.000000\n",
      "50%       3.000000\n",
      "75%       4.000000\n",
      "max       5.000000\n",
      "Name: G8Q00002, dtype: float64\n",
      "-72.72727272727273 9 1\n"
     ]
    }
   ],
   "source": [
    "non_experts = df[(df[\"G1Q00001\"] ==\"No experience\") | (df[\"G2Q00001\"] == \"No\") | (df[\"G3Q00001\"] == \"No\")]\n",
    "get_overall_feedback(non_experts)"
   ]
  },
  {
   "cell_type": "markdown",
   "metadata": {},
   "source": [
    "### Written feedback\n",
    "G8Q00004 - To explanations <br>\n",
    "G8Q00005 - In general"
   ]
  },
  {
   "cell_type": "code",
   "execution_count": 38,
   "metadata": {},
   "outputs": [
    {
     "name": "stdout",
     "output_type": "stream",
     "text": [
      "It seems like positive predictions are easier to understand than negative ones. Sometimes it's a bit weird that, e.g., a movie/album is classified negative, while the majority of edges say \"positive\" (e.g., for Love Is Dead).\n",
      "\n",
      "- some explanations where pretty much telling not a lot, e.g. that an album is bad because it is of type 'album', or because it is a 'thing'\n",
      "- I think in order to get the most out of the graph explanations, one needs some attributes that you can relate to (e.g. like in the example, whether a movie won an award), or one needs some background knowledge in the field, like whether producer/writer X is associated with rather good or bad movies\n",
      "\n",
      "For me as someone not really into knowledge graphs it was hard to understand based on the picture, why a prediction was considered good/bad (at a first glance)\n",
      "\n",
      "The last music classifier should be rated 5 for the first rating (without explanations)\n",
      "\n",
      "some categories in the graph don't make sense (seem unrelated) and might be biased (language, origin, years, birth/founding year), others related to previous work oregeneral categories are good explanations, scale for the contribution would be nice, a simulation on what happens then knowledge is not present (e.g. disabling nodes) would be useful, finer grained predictions => regression on metacritic score and the graph contributions\n",
      "\n",
      "The only thing that the graph could show more clearly is the actual impact on the overall estimated score. The numbers of the relations between nodes (e.g. 0.29) did not add up to 1 in the whole graph. Maybe I am not familiar enough with this graph depiction, but I would expect the relative impact of each of the categories to add up to 100%.\n",
      "\n"
     ]
    }
   ],
   "source": [
    "for x in df[\"G8Q00004\"]:\n",
    "    if x: print(x, end=\"\\n\\n\")"
   ]
  },
  {
   "cell_type": "code",
   "execution_count": 39,
   "metadata": {},
   "outputs": [
    {
     "name": "stdout",
     "output_type": "stream",
     "text": [
      "Probably takes more than 15 min\n",
      "\n",
      "Cool survey! Very good explained and guidance!\n",
      "\n",
      "A back button would be useful\n",
      "\n",
      "It felt pretty confusing at times that no \"solutions\" or results were given after the individual guessing rounds (Maybe I just missed them, idk). I think it would have been helpful to have feedback after each round to know how accurate one's own predictions were in order to be able to understand the classifier better.\n",
      "\n"
     ]
    }
   ],
   "source": [
    "for x in df[\"G8Q00005\"]:\n",
    "    if x: print(x, end=\"\\n\\n\")"
   ]
  },
  {
   "cell_type": "markdown",
   "metadata": {},
   "source": [
    "## Experiments"
   ]
  },
  {
   "cell_type": "code",
   "execution_count": null,
   "metadata": {},
   "outputs": [],
   "source": [
    "sns.heatmap(d.groupby(by=[\"bfore\", \"after\"]).mean().reset_index().pivot(\"bfore\", \"after\", \"help\").sort_index(ascending=False))"
   ]
  }
 ],
 "metadata": {
  "kernelspec": {
   "display_name": "Python 3.8.10 ('rdflime-util-38nYTMWP-py3.8')",
   "language": "python",
   "name": "python3"
  },
  "language_info": {
   "codemirror_mode": {
    "name": "ipython",
    "version": 3
   },
   "file_extension": ".py",
   "mimetype": "text/x-python",
   "name": "python",
   "nbconvert_exporter": "python",
   "pygments_lexer": "ipython3",
   "version": "3.8.10"
  },
  "orig_nbformat": 4,
  "vscode": {
   "interpreter": {
    "hash": "086e9d79f4fdea1d9576d19d588b9175a02cd7cdd421f723b48d3c7f32c0f2e4"
   }
  }
 },
 "nbformat": 4,
 "nbformat_minor": 2
}
