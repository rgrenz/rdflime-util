{
 "cells": [
  {
   "cell_type": "code",
   "execution_count": 4,
   "metadata": {},
   "outputs": [
    {
     "data": {
      "text/plain": [
       "22"
      ]
     },
     "execution_count": 4,
     "metadata": {},
     "output_type": "execute_result"
    }
   ],
   "source": [
    "import pandas as pd\n",
    "import seaborn as sns\n",
    "import matplotlib.pyplot as plt\n",
    "\n",
    "from rdflimeConfig import dataLocation\n",
    "import os\n",
    "\n",
    "df = pd.read_json(os.path.join(dataLocation, \"user-study/surveyFinal.json\"))\n",
    "\n",
    "# Said in comments that some answers are not faithful due to time\n",
    "df = df.drop(index=18)\n",
    "\n",
    "len(df)"
   ]
  },
  {
   "cell_type": "markdown",
   "metadata": {},
   "source": [
    "### Demographic data\n",
    "G1Q00001 - AI experience <br>\n",
    "G1Q00002 - Academic degree <br>\n",
    "G1Q00003 - Gender <br>\n",
    "G1Q00004 - Age <br>\n",
    "G2Q00001 - Data Mining <br>\n",
    "G3Q00001 - KG"
   ]
  },
  {
   "cell_type": "code",
   "execution_count": 17,
   "metadata": {},
   "outputs": [],
   "source": [
    "fig, axs = plt.subplots(3,2, figsize=(15,16))\n",
    "\n",
    "sns.countplot(x=df[\"G1Q00001\"], ax=axs[0][0])\n",
    "sns.countplot(x=df[\"G1Q00002\"], ax=axs[0][1])\n",
    "sns.countplot(x=df[\"G1Q00003\"], ax=axs[1][0])\n",
    "sns.countplot(x=df[\"G1Q00004\"], ax=axs[1][1])\n",
    "sns.countplot(x=df[\"G2Q00001\"], ax=axs[2][0])\n",
    "sns.countplot(x=df[\"G3Q00001\"], ax=axs[2][1])\n",
    "\n",
    "plt.close()\n",
    "#plt.show()"
   ]
  },
  {
   "cell_type": "code",
   "execution_count": 18,
   "metadata": {},
   "outputs": [
    {
     "data": {
      "text/plain": [
       "G1Q00001\n",
       "Extensive experience    0.181818\n",
       "No experience           0.181818\n",
       "Some experience         0.590909\n",
       "Name: id, dtype: float64"
      ]
     },
     "metadata": {},
     "output_type": "display_data"
    },
    {
     "data": {
      "text/plain": [
       "G1Q00002\n",
       "Bachelor/Undergraduate    0.545455\n",
       "Master/Graduate           0.409091\n",
       "PhD                       0.045455\n",
       "Name: id, dtype: float64"
      ]
     },
     "metadata": {},
     "output_type": "display_data"
    },
    {
     "data": {
      "text/plain": [
       "G1Q00003\n",
       "Female    0.181818\n",
       "Male      0.818182\n",
       "Name: id, dtype: float64"
      ]
     },
     "metadata": {},
     "output_type": "display_data"
    },
    {
     "data": {
      "text/plain": [
       "G1Q00004\n",
       "18 - 24 years    0.727273\n",
       "25 - 34 years    0.227273\n",
       "45 - 54 years    0.045455\n",
       "Name: id, dtype: float64"
      ]
     },
     "metadata": {},
     "output_type": "display_data"
    },
    {
     "data": {
      "text/plain": [
       "G2Q00001\n",
       "No     0.272727\n",
       "Yes    0.727273\n",
       "Name: id, dtype: float64"
      ]
     },
     "metadata": {},
     "output_type": "display_data"
    },
    {
     "data": {
      "text/plain": [
       "G3Q00001\n",
       "No     0.454545\n",
       "Yes    0.545455\n",
       "Name: id, dtype: float64"
      ]
     },
     "metadata": {},
     "output_type": "display_data"
    }
   ],
   "source": [
    "display(df.groupby(by=\"G1Q00001\").count()[\"id\"]/22)\n",
    "display(df.groupby(by=\"G1Q00002\").count()[\"id\"]/22)\n",
    "display(df.groupby(by=\"G1Q00003\").count()[\"id\"]/22)\n",
    "display(df.groupby(by=\"G1Q00004\").count()[\"id\"]/22)\n",
    "display(df.groupby(by=\"G2Q00001\").count()[\"id\"]/22)\n",
    "display(df.groupby(by=\"G3Q00001\").count()[\"id\"]/22)"
   ]
  },
  {
   "cell_type": "markdown",
   "metadata": {},
   "source": [
    "### Classifier Trust"
   ]
  },
  {
   "cell_type": "markdown",
   "metadata": {},
   "source": [
    "#### Movies"
   ]
  },
  {
   "cell_type": "code",
   "execution_count": 119,
   "metadata": {},
   "outputs": [
    {
     "data": {
      "text/html": [
       "<div>\n",
       "<style scoped>\n",
       "    .dataframe tbody tr th:only-of-type {\n",
       "        vertical-align: middle;\n",
       "    }\n",
       "\n",
       "    .dataframe tbody tr th {\n",
       "        vertical-align: top;\n",
       "    }\n",
       "\n",
       "    .dataframe thead th {\n",
       "        text-align: right;\n",
       "    }\n",
       "</style>\n",
       "<table border=\"1\" class=\"dataframe\">\n",
       "  <thead>\n",
       "    <tr style=\"text-align: right;\">\n",
       "      <th></th>\n",
       "      <th>after</th>\n",
       "      <th>bfore</th>\n",
       "      <th>help</th>\n",
       "      <th>change</th>\n",
       "    </tr>\n",
       "  </thead>\n",
       "  <tbody>\n",
       "    <tr>\n",
       "      <th>after</th>\n",
       "      <td>1.000000</td>\n",
       "      <td>0.342041</td>\n",
       "      <td>0.231597</td>\n",
       "      <td>-0.317509</td>\n",
       "    </tr>\n",
       "    <tr>\n",
       "      <th>bfore</th>\n",
       "      <td>0.342041</td>\n",
       "      <td>1.000000</td>\n",
       "      <td>0.145794</td>\n",
       "      <td>0.075819</td>\n",
       "    </tr>\n",
       "    <tr>\n",
       "      <th>help</th>\n",
       "      <td>0.231597</td>\n",
       "      <td>0.145794</td>\n",
       "      <td>1.000000</td>\n",
       "      <td>0.184055</td>\n",
       "    </tr>\n",
       "    <tr>\n",
       "      <th>change</th>\n",
       "      <td>-0.317509</td>\n",
       "      <td>0.075819</td>\n",
       "      <td>0.184055</td>\n",
       "      <td>1.000000</td>\n",
       "    </tr>\n",
       "  </tbody>\n",
       "</table>\n",
       "</div>"
      ],
      "text/plain": [
       "           after     bfore      help    change\n",
       "after   1.000000  0.342041  0.231597 -0.317509\n",
       "bfore   0.342041  1.000000  0.145794  0.075819\n",
       "help    0.231597  0.145794  1.000000  0.184055\n",
       "change -0.317509  0.075819  0.184055  1.000000"
      ]
     },
     "execution_count": 119,
     "metadata": {},
     "output_type": "execute_result"
    }
   ],
   "source": [
    "d[\"change\"] = abs(d[\"after\"] - d[\"bfore\"])\n",
    "d.corr()"
   ]
  },
  {
   "cell_type": "code",
   "execution_count": 114,
   "metadata": {},
   "outputs": [
    {
     "data": {
      "text/html": [
       "<div>\n",
       "<style scoped>\n",
       "    .dataframe tbody tr th:only-of-type {\n",
       "        vertical-align: middle;\n",
       "    }\n",
       "\n",
       "    .dataframe tbody tr th {\n",
       "        vertical-align: top;\n",
       "    }\n",
       "\n",
       "    .dataframe thead th {\n",
       "        text-align: right;\n",
       "    }\n",
       "</style>\n",
       "<table border=\"1\" class=\"dataframe\">\n",
       "  <thead>\n",
       "    <tr style=\"text-align: right;\">\n",
       "      <th></th>\n",
       "      <th>after</th>\n",
       "      <th>bfore</th>\n",
       "      <th>help</th>\n",
       "    </tr>\n",
       "  </thead>\n",
       "  <tbody>\n",
       "    <tr>\n",
       "      <th>after</th>\n",
       "      <td>1.000000</td>\n",
       "      <td>0.342041</td>\n",
       "      <td>0.231597</td>\n",
       "    </tr>\n",
       "    <tr>\n",
       "      <th>bfore</th>\n",
       "      <td>0.342041</td>\n",
       "      <td>1.000000</td>\n",
       "      <td>0.145794</td>\n",
       "    </tr>\n",
       "    <tr>\n",
       "      <th>help</th>\n",
       "      <td>0.231597</td>\n",
       "      <td>0.145794</td>\n",
       "      <td>1.000000</td>\n",
       "    </tr>\n",
       "  </tbody>\n",
       "</table>\n",
       "</div>"
      ],
      "text/plain": [
       "          after     bfore      help\n",
       "after  1.000000  0.342041  0.231597\n",
       "bfore  0.342041  1.000000  0.145794\n",
       "help   0.231597  0.145794  1.000000"
      ]
     },
     "execution_count": 114,
     "metadata": {},
     "output_type": "execute_result"
    }
   ],
   "source": [
    "d.corr()"
   ]
  },
  {
   "cell_type": "code",
   "execution_count": 113,
   "metadata": {},
   "outputs": [
    {
     "data": {
      "text/plain": [
       "<AxesSubplot:xlabel='after', ylabel='bfore'>"
      ]
     },
     "execution_count": 113,
     "metadata": {},
     "output_type": "execute_result"
    },
    {
     "data": {
      "image/png": "[encoded data removed]",
      "text/plain": [
       "<Figure size 432x288 with 2 Axes>"
      ]
     },
     "metadata": {
      "needs_background": "light"
     },
     "output_type": "display_data"
    }
   ],
   "source": [
    "sns.heatmap(d.groupby(by=[\"bfore\", \"after\"]).mean().reset_index().pivot(\"bfore\", \"after\", \"help\").sort_index(ascending=False))"
   ]
  },
  {
   "cell_type": "code",
   "execution_count": 85,
   "metadata": {},
   "outputs": [
    {
     "ename": "ValueError",
     "evalue": "Index contains duplicate entries, cannot reshape",
     "output_type": "error",
     "traceback": [
      "\u001b[0;31m---------------------------------------------------------------------------\u001b[0m",
      "\u001b[0;31mValueError\u001b[0m                                Traceback (most recent call last)",
      "\u001b[1;32m/mnt/volume_fra1_01/rdflime-util/notebooks/experiments/survey-eval/surveyEval.ipynb Cell 10\u001b[0m in \u001b[0;36m<cell line: 1>\u001b[0;34m()\u001b[0m\n\u001b[0;32m----> <a href='vscode-notebook-cell://ssh-remote%2B7b22686f73744e616d65223a223133342e3230392e3234312e313531222c2275736572223a22726f6f74227d/mnt/volume_fra1_01/rdflime-util/notebooks/experiments/survey-eval/surveyEval.ipynb#ch0000024vscode-remote?line=0'>1</a>\u001b[0m d\u001b[39m.\u001b[39;49mpivot(index\u001b[39m=\u001b[39;49m\u001b[39m\"\u001b[39;49m\u001b[39mafter\u001b[39;49m\u001b[39m\"\u001b[39;49m, columns\u001b[39m=\u001b[39;49m\u001b[39m\"\u001b[39;49m\u001b[39mbfore\u001b[39;49m\u001b[39m\"\u001b[39;49m, values\u001b[39m=\u001b[39;49m\u001b[39m\"\u001b[39;49m\u001b[39mhelp\u001b[39;49m\u001b[39m\"\u001b[39;49m)\n",
      "File \u001b[0;32m~/.cache/pypoetry/virtualenvs/rdflime-util-38nYTMWP-py3.8/lib/python3.8/site-packages/pandas/core/frame.py:5923\u001b[0m, in \u001b[0;36mDataFrame.pivot\u001b[0;34m(self, index, columns, values)\u001b[0m\n\u001b[1;32m   5918\u001b[0m \u001b[39m@Substitution\u001b[39m(\u001b[39m\"\u001b[39m\u001b[39m\"\u001b[39m)\n\u001b[1;32m   5919\u001b[0m \u001b[39m@Appender\u001b[39m(_shared_docs[\u001b[39m\"\u001b[39m\u001b[39mpivot\u001b[39m\u001b[39m\"\u001b[39m])\n\u001b[1;32m   5920\u001b[0m \u001b[39mdef\u001b[39;00m \u001b[39mpivot\u001b[39m(\u001b[39mself\u001b[39m, index\u001b[39m=\u001b[39m\u001b[39mNone\u001b[39;00m, columns\u001b[39m=\u001b[39m\u001b[39mNone\u001b[39;00m, values\u001b[39m=\u001b[39m\u001b[39mNone\u001b[39;00m) \u001b[39m-\u001b[39m\u001b[39m>\u001b[39m \u001b[39m\"\u001b[39m\u001b[39mDataFrame\u001b[39m\u001b[39m\"\u001b[39m:\n\u001b[1;32m   5921\u001b[0m     \u001b[39mfrom\u001b[39;00m \u001b[39mpandas\u001b[39;00m\u001b[39m.\u001b[39;00m\u001b[39mcore\u001b[39;00m\u001b[39m.\u001b[39;00m\u001b[39mreshape\u001b[39;00m\u001b[39m.\u001b[39;00m\u001b[39mpivot\u001b[39;00m \u001b[39mimport\u001b[39;00m pivot\n\u001b[0;32m-> 5923\u001b[0m     \u001b[39mreturn\u001b[39;00m pivot(\u001b[39mself\u001b[39;49m, index\u001b[39m=\u001b[39;49mindex, columns\u001b[39m=\u001b[39;49mcolumns, values\u001b[39m=\u001b[39;49mvalues)\n",
      "File \u001b[0;32m~/.cache/pypoetry/virtualenvs/rdflime-util-38nYTMWP-py3.8/lib/python3.8/site-packages/pandas/core/reshape/pivot.py:450\u001b[0m, in \u001b[0;36mpivot\u001b[0;34m(data, index, columns, values)\u001b[0m\n\u001b[1;32m    448\u001b[0m     \u001b[39melse\u001b[39;00m:\n\u001b[1;32m    449\u001b[0m         indexed \u001b[39m=\u001b[39m data\u001b[39m.\u001b[39m_constructor_sliced(data[values]\u001b[39m.\u001b[39mvalues, index\u001b[39m=\u001b[39mindex)\n\u001b[0;32m--> 450\u001b[0m \u001b[39mreturn\u001b[39;00m indexed\u001b[39m.\u001b[39;49munstack(columns)\n",
      "File \u001b[0;32m~/.cache/pypoetry/virtualenvs/rdflime-util-38nYTMWP-py3.8/lib/python3.8/site-packages/pandas/core/series.py:3550\u001b[0m, in \u001b[0;36mSeries.unstack\u001b[0;34m(self, level, fill_value)\u001b[0m\n\u001b[1;32m   3510\u001b[0m \u001b[39m\"\"\"\u001b[39;00m\n\u001b[1;32m   3511\u001b[0m \u001b[39mUnstack, a.k.a. pivot, Series with MultiIndex to produce DataFrame.\u001b[39;00m\n\u001b[1;32m   3512\u001b[0m \u001b[39mThe level involved will automatically get sorted.\u001b[39;00m\n\u001b[0;32m   (...)\u001b[0m\n\u001b[1;32m   3546\u001b[0m \u001b[39mb    2    4\u001b[39;00m\n\u001b[1;32m   3547\u001b[0m \u001b[39m\"\"\"\u001b[39;00m\n\u001b[1;32m   3548\u001b[0m \u001b[39mfrom\u001b[39;00m \u001b[39mpandas\u001b[39;00m\u001b[39m.\u001b[39;00m\u001b[39mcore\u001b[39;00m\u001b[39m.\u001b[39;00m\u001b[39mreshape\u001b[39;00m\u001b[39m.\u001b[39;00m\u001b[39mreshape\u001b[39;00m \u001b[39mimport\u001b[39;00m unstack\n\u001b[0;32m-> 3550\u001b[0m \u001b[39mreturn\u001b[39;00m unstack(\u001b[39mself\u001b[39;49m, level, fill_value)\n",
      "File \u001b[0;32m~/.cache/pypoetry/virtualenvs/rdflime-util-38nYTMWP-py3.8/lib/python3.8/site-packages/pandas/core/reshape/reshape.py:414\u001b[0m, in \u001b[0;36munstack\u001b[0;34m(obj, level, fill_value)\u001b[0m\n\u001b[1;32m    412\u001b[0m \u001b[39mif\u001b[39;00m is_extension_array_dtype(obj\u001b[39m.\u001b[39mdtype):\n\u001b[1;32m    413\u001b[0m     \u001b[39mreturn\u001b[39;00m _unstack_extension_series(obj, level, fill_value)\n\u001b[0;32m--> 414\u001b[0m unstacker \u001b[39m=\u001b[39m _Unstacker(\n\u001b[1;32m    415\u001b[0m     obj\u001b[39m.\u001b[39;49mvalues,\n\u001b[1;32m    416\u001b[0m     obj\u001b[39m.\u001b[39;49mindex,\n\u001b[1;32m    417\u001b[0m     level\u001b[39m=\u001b[39;49mlevel,\n\u001b[1;32m    418\u001b[0m     fill_value\u001b[39m=\u001b[39;49mfill_value,\n\u001b[1;32m    419\u001b[0m     constructor\u001b[39m=\u001b[39;49mobj\u001b[39m.\u001b[39;49m_constructor_expanddim,\n\u001b[1;32m    420\u001b[0m )\n\u001b[1;32m    421\u001b[0m \u001b[39mreturn\u001b[39;00m unstacker\u001b[39m.\u001b[39mget_result()\n",
      "File \u001b[0;32m~/.cache/pypoetry/virtualenvs/rdflime-util-38nYTMWP-py3.8/lib/python3.8/site-packages/pandas/core/reshape/reshape.py:141\u001b[0m, in \u001b[0;36m_Unstacker.__init__\u001b[0;34m(self, values, index, level, value_columns, fill_value, constructor)\u001b[0m\n\u001b[1;32m    138\u001b[0m     \u001b[39mraise\u001b[39;00m \u001b[39mValueError\u001b[39;00m(\u001b[39m\"\u001b[39m\u001b[39mUnstacked DataFrame is too big, causing int32 overflow\u001b[39m\u001b[39m\"\u001b[39m)\n\u001b[1;32m    140\u001b[0m \u001b[39mself\u001b[39m\u001b[39m.\u001b[39m_make_sorted_values_labels()\n\u001b[0;32m--> 141\u001b[0m \u001b[39mself\u001b[39;49m\u001b[39m.\u001b[39;49m_make_selectors()\n",
      "File \u001b[0;32m~/.cache/pypoetry/virtualenvs/rdflime-util-38nYTMWP-py3.8/lib/python3.8/site-packages/pandas/core/reshape/reshape.py:179\u001b[0m, in \u001b[0;36m_Unstacker._make_selectors\u001b[0;34m(self)\u001b[0m\n\u001b[1;32m    176\u001b[0m mask\u001b[39m.\u001b[39mput(selector, \u001b[39mTrue\u001b[39;00m)\n\u001b[1;32m    178\u001b[0m \u001b[39mif\u001b[39;00m mask\u001b[39m.\u001b[39msum() \u001b[39m<\u001b[39m \u001b[39mlen\u001b[39m(\u001b[39mself\u001b[39m\u001b[39m.\u001b[39mindex):\n\u001b[0;32m--> 179\u001b[0m     \u001b[39mraise\u001b[39;00m \u001b[39mValueError\u001b[39;00m(\u001b[39m\"\u001b[39m\u001b[39mIndex contains duplicate entries, cannot reshape\u001b[39m\u001b[39m\"\u001b[39m)\n\u001b[1;32m    181\u001b[0m \u001b[39mself\u001b[39m\u001b[39m.\u001b[39mgroup_index \u001b[39m=\u001b[39m comp_index\n\u001b[1;32m    182\u001b[0m \u001b[39mself\u001b[39m\u001b[39m.\u001b[39mmask \u001b[39m=\u001b[39m mask\n",
      "\u001b[0;31mValueError\u001b[0m: Index contains duplicate entries, cannot reshape"
     ]
    }
   ],
   "source": [
    "d.pivot(index=\"after\", columns=\"bfore\", values=\"help\")"
   ]
  },
  {
   "cell_type": "code",
   "execution_count": 80,
   "metadata": {},
   "outputs": [
    {
     "ename": "KeyError",
     "evalue": "\"None of ['after', 'bfore', 'help'] are in the columns\"",
     "output_type": "error",
     "traceback": [
      "\u001b[0;31m---------------------------------------------------------------------------\u001b[0m",
      "\u001b[0;31mKeyError\u001b[0m                                  Traceback (most recent call last)",
      "\u001b[1;32m/mnt/volume_fra1_01/rdflime-util/notebooks/experiments/survey-eval/surveyEval.ipynb Cell 11\u001b[0m in \u001b[0;36m<cell line: 1>\u001b[0;34m()\u001b[0m\n\u001b[0;32m----> <a href='vscode-notebook-cell://ssh-remote%2B7b22686f73744e616d65223a223133342e3230392e3234312e313531222c2275736572223a22726f6f74227d/mnt/volume_fra1_01/rdflime-util/notebooks/experiments/survey-eval/surveyEval.ipynb#ch0000025vscode-remote?line=0'>1</a>\u001b[0m d \u001b[39m=\u001b[39m d\u001b[39m.\u001b[39;49mset_index([\u001b[39m'\u001b[39;49m\u001b[39mafter\u001b[39;49m\u001b[39m'\u001b[39;49m, \u001b[39m'\u001b[39;49m\u001b[39mbfore\u001b[39;49m\u001b[39m'\u001b[39;49m, \u001b[39m'\u001b[39;49m\u001b[39mhelp\u001b[39;49m\u001b[39m'\u001b[39;49m], append\u001b[39m=\u001b[39;49m\u001b[39mTrue\u001b[39;49;00m)\n",
      "File \u001b[0;32m~/.cache/pypoetry/virtualenvs/rdflime-util-38nYTMWP-py3.8/lib/python3.8/site-packages/pandas/core/frame.py:4303\u001b[0m, in \u001b[0;36mDataFrame.set_index\u001b[0;34m(self, keys, drop, append, inplace, verify_integrity)\u001b[0m\n\u001b[1;32m   4300\u001b[0m                 missing\u001b[39m.\u001b[39mappend(col)\n\u001b[1;32m   4302\u001b[0m \u001b[39mif\u001b[39;00m missing:\n\u001b[0;32m-> 4303\u001b[0m     \u001b[39mraise\u001b[39;00m \u001b[39mKeyError\u001b[39;00m(\u001b[39mf\u001b[39m\u001b[39m\"\u001b[39m\u001b[39mNone of \u001b[39m\u001b[39m{\u001b[39;00mmissing\u001b[39m}\u001b[39;00m\u001b[39m are in the columns\u001b[39m\u001b[39m\"\u001b[39m)\n\u001b[1;32m   4305\u001b[0m \u001b[39mif\u001b[39;00m inplace:\n\u001b[1;32m   4306\u001b[0m     frame \u001b[39m=\u001b[39m \u001b[39mself\u001b[39m\n",
      "\u001b[0;31mKeyError\u001b[0m: \"None of ['after', 'bfore', 'help'] are in the columns\""
     ]
    }
   ],
   "source": [
    "d = d.set_index(['after', 'bfore', 'help'], append=True)"
   ]
  },
  {
   "cell_type": "code",
   "execution_count": 73,
   "metadata": {},
   "outputs": [
    {
     "data": {
      "text/html": [
       "<div>\n",
       "<style scoped>\n",
       "    .dataframe tbody tr th:only-of-type {\n",
       "        vertical-align: middle;\n",
       "    }\n",
       "\n",
       "    .dataframe tbody tr th {\n",
       "        vertical-align: top;\n",
       "    }\n",
       "\n",
       "    .dataframe thead th {\n",
       "        text-align: right;\n",
       "    }\n",
       "</style>\n",
       "<table border=\"1\" class=\"dataframe\">\n",
       "  <thead>\n",
       "    <tr style=\"text-align: right;\">\n",
       "      <th></th>\n",
       "      <th>year</th>\n",
       "      <th>month</th>\n",
       "      <th>passengers</th>\n",
       "    </tr>\n",
       "  </thead>\n",
       "  <tbody>\n",
       "    <tr>\n",
       "      <th>0</th>\n",
       "      <td>1949</td>\n",
       "      <td>Jan</td>\n",
       "      <td>112</td>\n",
       "    </tr>\n",
       "    <tr>\n",
       "      <th>1</th>\n",
       "      <td>1949</td>\n",
       "      <td>Feb</td>\n",
       "      <td>118</td>\n",
       "    </tr>\n",
       "    <tr>\n",
       "      <th>2</th>\n",
       "      <td>1949</td>\n",
       "      <td>Mar</td>\n",
       "      <td>132</td>\n",
       "    </tr>\n",
       "    <tr>\n",
       "      <th>3</th>\n",
       "      <td>1949</td>\n",
       "      <td>Apr</td>\n",
       "      <td>129</td>\n",
       "    </tr>\n",
       "    <tr>\n",
       "      <th>4</th>\n",
       "      <td>1949</td>\n",
       "      <td>May</td>\n",
       "      <td>121</td>\n",
       "    </tr>\n",
       "    <tr>\n",
       "      <th>...</th>\n",
       "      <td>...</td>\n",
       "      <td>...</td>\n",
       "      <td>...</td>\n",
       "    </tr>\n",
       "    <tr>\n",
       "      <th>139</th>\n",
       "      <td>1960</td>\n",
       "      <td>Aug</td>\n",
       "      <td>606</td>\n",
       "    </tr>\n",
       "    <tr>\n",
       "      <th>140</th>\n",
       "      <td>1960</td>\n",
       "      <td>Sep</td>\n",
       "      <td>508</td>\n",
       "    </tr>\n",
       "    <tr>\n",
       "      <th>141</th>\n",
       "      <td>1960</td>\n",
       "      <td>Oct</td>\n",
       "      <td>461</td>\n",
       "    </tr>\n",
       "    <tr>\n",
       "      <th>142</th>\n",
       "      <td>1960</td>\n",
       "      <td>Nov</td>\n",
       "      <td>390</td>\n",
       "    </tr>\n",
       "    <tr>\n",
       "      <th>143</th>\n",
       "      <td>1960</td>\n",
       "      <td>Dec</td>\n",
       "      <td>432</td>\n",
       "    </tr>\n",
       "  </tbody>\n",
       "</table>\n",
       "<p>144 rows × 3 columns</p>\n",
       "</div>"
      ],
      "text/plain": [
       "     year month  passengers\n",
       "0    1949   Jan         112\n",
       "1    1949   Feb         118\n",
       "2    1949   Mar         132\n",
       "3    1949   Apr         129\n",
       "4    1949   May         121\n",
       "..    ...   ...         ...\n",
       "139  1960   Aug         606\n",
       "140  1960   Sep         508\n",
       "141  1960   Oct         461\n",
       "142  1960   Nov         390\n",
       "143  1960   Dec         432\n",
       "\n",
       "[144 rows x 3 columns]"
      ]
     },
     "execution_count": 73,
     "metadata": {},
     "output_type": "execute_result"
    }
   ],
   "source": [
    "sns.load_dataset(\"flights\")"
   ]
  },
  {
   "cell_type": "code",
   "execution_count": 69,
   "metadata": {},
   "outputs": [
    {
     "data": {
      "text/html": [
       "<div>\n",
       "<style scoped>\n",
       "    .dataframe tbody tr th:only-of-type {\n",
       "        vertical-align: middle;\n",
       "    }\n",
       "\n",
       "    .dataframe tbody tr th {\n",
       "        vertical-align: top;\n",
       "    }\n",
       "\n",
       "    .dataframe thead th {\n",
       "        text-align: right;\n",
       "    }\n",
       "</style>\n",
       "<table border=\"1\" class=\"dataframe\">\n",
       "  <thead>\n",
       "    <tr style=\"text-align: right;\">\n",
       "      <th>year</th>\n",
       "      <th>1949</th>\n",
       "      <th>1950</th>\n",
       "      <th>1951</th>\n",
       "      <th>1952</th>\n",
       "      <th>1953</th>\n",
       "      <th>1954</th>\n",
       "      <th>1955</th>\n",
       "      <th>1956</th>\n",
       "      <th>1957</th>\n",
       "      <th>1958</th>\n",
       "      <th>1959</th>\n",
       "      <th>1960</th>\n",
       "    </tr>\n",
       "    <tr>\n",
       "      <th>month</th>\n",
       "      <th></th>\n",
       "      <th></th>\n",
       "      <th></th>\n",
       "      <th></th>\n",
       "      <th></th>\n",
       "      <th></th>\n",
       "      <th></th>\n",
       "      <th></th>\n",
       "      <th></th>\n",
       "      <th></th>\n",
       "      <th></th>\n",
       "      <th></th>\n",
       "    </tr>\n",
       "  </thead>\n",
       "  <tbody>\n",
       "    <tr>\n",
       "      <th>Jan</th>\n",
       "      <td>112</td>\n",
       "      <td>115</td>\n",
       "      <td>145</td>\n",
       "      <td>171</td>\n",
       "      <td>196</td>\n",
       "      <td>204</td>\n",
       "      <td>242</td>\n",
       "      <td>284</td>\n",
       "      <td>315</td>\n",
       "      <td>340</td>\n",
       "      <td>360</td>\n",
       "      <td>417</td>\n",
       "    </tr>\n",
       "    <tr>\n",
       "      <th>Feb</th>\n",
       "      <td>118</td>\n",
       "      <td>126</td>\n",
       "      <td>150</td>\n",
       "      <td>180</td>\n",
       "      <td>196</td>\n",
       "      <td>188</td>\n",
       "      <td>233</td>\n",
       "      <td>277</td>\n",
       "      <td>301</td>\n",
       "      <td>318</td>\n",
       "      <td>342</td>\n",
       "      <td>391</td>\n",
       "    </tr>\n",
       "    <tr>\n",
       "      <th>Mar</th>\n",
       "      <td>132</td>\n",
       "      <td>141</td>\n",
       "      <td>178</td>\n",
       "      <td>193</td>\n",
       "      <td>236</td>\n",
       "      <td>235</td>\n",
       "      <td>267</td>\n",
       "      <td>317</td>\n",
       "      <td>356</td>\n",
       "      <td>362</td>\n",
       "      <td>406</td>\n",
       "      <td>419</td>\n",
       "    </tr>\n",
       "    <tr>\n",
       "      <th>Apr</th>\n",
       "      <td>129</td>\n",
       "      <td>135</td>\n",
       "      <td>163</td>\n",
       "      <td>181</td>\n",
       "      <td>235</td>\n",
       "      <td>227</td>\n",
       "      <td>269</td>\n",
       "      <td>313</td>\n",
       "      <td>348</td>\n",
       "      <td>348</td>\n",
       "      <td>396</td>\n",
       "      <td>461</td>\n",
       "    </tr>\n",
       "    <tr>\n",
       "      <th>May</th>\n",
       "      <td>121</td>\n",
       "      <td>125</td>\n",
       "      <td>172</td>\n",
       "      <td>183</td>\n",
       "      <td>229</td>\n",
       "      <td>234</td>\n",
       "      <td>270</td>\n",
       "      <td>318</td>\n",
       "      <td>355</td>\n",
       "      <td>363</td>\n",
       "      <td>420</td>\n",
       "      <td>472</td>\n",
       "    </tr>\n",
       "    <tr>\n",
       "      <th>Jun</th>\n",
       "      <td>135</td>\n",
       "      <td>149</td>\n",
       "      <td>178</td>\n",
       "      <td>218</td>\n",
       "      <td>243</td>\n",
       "      <td>264</td>\n",
       "      <td>315</td>\n",
       "      <td>374</td>\n",
       "      <td>422</td>\n",
       "      <td>435</td>\n",
       "      <td>472</td>\n",
       "      <td>535</td>\n",
       "    </tr>\n",
       "    <tr>\n",
       "      <th>Jul</th>\n",
       "      <td>148</td>\n",
       "      <td>170</td>\n",
       "      <td>199</td>\n",
       "      <td>230</td>\n",
       "      <td>264</td>\n",
       "      <td>302</td>\n",
       "      <td>364</td>\n",
       "      <td>413</td>\n",
       "      <td>465</td>\n",
       "      <td>491</td>\n",
       "      <td>548</td>\n",
       "      <td>622</td>\n",
       "    </tr>\n",
       "    <tr>\n",
       "      <th>Aug</th>\n",
       "      <td>148</td>\n",
       "      <td>170</td>\n",
       "      <td>199</td>\n",
       "      <td>242</td>\n",
       "      <td>272</td>\n",
       "      <td>293</td>\n",
       "      <td>347</td>\n",
       "      <td>405</td>\n",
       "      <td>467</td>\n",
       "      <td>505</td>\n",
       "      <td>559</td>\n",
       "      <td>606</td>\n",
       "    </tr>\n",
       "    <tr>\n",
       "      <th>Sep</th>\n",
       "      <td>136</td>\n",
       "      <td>158</td>\n",
       "      <td>184</td>\n",
       "      <td>209</td>\n",
       "      <td>237</td>\n",
       "      <td>259</td>\n",
       "      <td>312</td>\n",
       "      <td>355</td>\n",
       "      <td>404</td>\n",
       "      <td>404</td>\n",
       "      <td>463</td>\n",
       "      <td>508</td>\n",
       "    </tr>\n",
       "    <tr>\n",
       "      <th>Oct</th>\n",
       "      <td>119</td>\n",
       "      <td>133</td>\n",
       "      <td>162</td>\n",
       "      <td>191</td>\n",
       "      <td>211</td>\n",
       "      <td>229</td>\n",
       "      <td>274</td>\n",
       "      <td>306</td>\n",
       "      <td>347</td>\n",
       "      <td>359</td>\n",
       "      <td>407</td>\n",
       "      <td>461</td>\n",
       "    </tr>\n",
       "    <tr>\n",
       "      <th>Nov</th>\n",
       "      <td>104</td>\n",
       "      <td>114</td>\n",
       "      <td>146</td>\n",
       "      <td>172</td>\n",
       "      <td>180</td>\n",
       "      <td>203</td>\n",
       "      <td>237</td>\n",
       "      <td>271</td>\n",
       "      <td>305</td>\n",
       "      <td>310</td>\n",
       "      <td>362</td>\n",
       "      <td>390</td>\n",
       "    </tr>\n",
       "    <tr>\n",
       "      <th>Dec</th>\n",
       "      <td>118</td>\n",
       "      <td>140</td>\n",
       "      <td>166</td>\n",
       "      <td>194</td>\n",
       "      <td>201</td>\n",
       "      <td>229</td>\n",
       "      <td>278</td>\n",
       "      <td>306</td>\n",
       "      <td>336</td>\n",
       "      <td>337</td>\n",
       "      <td>405</td>\n",
       "      <td>432</td>\n",
       "    </tr>\n",
       "  </tbody>\n",
       "</table>\n",
       "</div>"
      ],
      "text/plain": [
       "year   1949  1950  1951  1952  1953  1954  1955  1956  1957  1958  1959  1960\n",
       "month                                                                        \n",
       "Jan     112   115   145   171   196   204   242   284   315   340   360   417\n",
       "Feb     118   126   150   180   196   188   233   277   301   318   342   391\n",
       "Mar     132   141   178   193   236   235   267   317   356   362   406   419\n",
       "Apr     129   135   163   181   235   227   269   313   348   348   396   461\n",
       "May     121   125   172   183   229   234   270   318   355   363   420   472\n",
       "Jun     135   149   178   218   243   264   315   374   422   435   472   535\n",
       "Jul     148   170   199   230   264   302   364   413   465   491   548   622\n",
       "Aug     148   170   199   242   272   293   347   405   467   505   559   606\n",
       "Sep     136   158   184   209   237   259   312   355   404   404   463   508\n",
       "Oct     119   133   162   191   211   229   274   306   347   359   407   461\n",
       "Nov     104   114   146   172   180   203   237   271   305   310   362   390\n",
       "Dec     118   140   166   194   201   229   278   306   336   337   405   432"
      ]
     },
     "execution_count": 69,
     "metadata": {},
     "output_type": "execute_result"
    },
    {
     "data": {
      "image/png": "[encoded data removed]",
      "text/plain": [
       "<Figure size 432x288 with 2 Axes>"
      ]
     },
     "metadata": {
      "needs_background": "light"
     },
     "output_type": "display_data"
    }
   ],
   "source": [
    "flights = sns.load_dataset(\"flights\")\n",
    "flights = flights.pivot(\"month\", \"year\", \"passengers\")\n",
    "ax = sns.heatmap(flights)\n",
    "\n",
    "flights"
   ]
  },
  {
   "cell_type": "code",
   "execution_count": 67,
   "metadata": {},
   "outputs": [
    {
     "ename": "ValueError",
     "evalue": "Index contains duplicate entries, cannot reshape",
     "output_type": "error",
     "traceback": [
      "\u001b[0;31m---------------------------------------------------------------------------\u001b[0m",
      "\u001b[0;31mValueError\u001b[0m                                Traceback (most recent call last)",
      "\u001b[1;32m/mnt/volume_fra1_01/rdflime-util/notebooks/experiments/survey-eval/surveyEval.ipynb Cell 10\u001b[0m in \u001b[0;36m<cell line: 1>\u001b[0;34m()\u001b[0m\n\u001b[0;32m----> <a href='vscode-notebook-cell://ssh-remote%2B7b22686f73744e616d65223a223133342e3230392e3234312e313531222c2275736572223a22726f6f74227d/mnt/volume_fra1_01/rdflime-util/notebooks/experiments/survey-eval/surveyEval.ipynb#ch0000021vscode-remote?line=0'>1</a>\u001b[0m d\u001b[39m.\u001b[39;49mpivot(\u001b[39m\"\u001b[39;49m\u001b[39mbfore\u001b[39;49m\u001b[39m\"\u001b[39;49m, \u001b[39m\"\u001b[39;49m\u001b[39mafter\u001b[39;49m\u001b[39m\"\u001b[39;49m, \u001b[39m\"\u001b[39;49m\u001b[39mhelp\u001b[39;49m\u001b[39m\"\u001b[39;49m)\n",
      "File \u001b[0;32m~/.cache/pypoetry/virtualenvs/rdflime-util-38nYTMWP-py3.8/lib/python3.8/site-packages/pandas/core/frame.py:5923\u001b[0m, in \u001b[0;36mDataFrame.pivot\u001b[0;34m(self, index, columns, values)\u001b[0m\n\u001b[1;32m   5918\u001b[0m \u001b[39m@Substitution\u001b[39m(\u001b[39m\"\u001b[39m\u001b[39m\"\u001b[39m)\n\u001b[1;32m   5919\u001b[0m \u001b[39m@Appender\u001b[39m(_shared_docs[\u001b[39m\"\u001b[39m\u001b[39mpivot\u001b[39m\u001b[39m\"\u001b[39m])\n\u001b[1;32m   5920\u001b[0m \u001b[39mdef\u001b[39;00m \u001b[39mpivot\u001b[39m(\u001b[39mself\u001b[39m, index\u001b[39m=\u001b[39m\u001b[39mNone\u001b[39;00m, columns\u001b[39m=\u001b[39m\u001b[39mNone\u001b[39;00m, values\u001b[39m=\u001b[39m\u001b[39mNone\u001b[39;00m) \u001b[39m-\u001b[39m\u001b[39m>\u001b[39m \u001b[39m\"\u001b[39m\u001b[39mDataFrame\u001b[39m\u001b[39m\"\u001b[39m:\n\u001b[1;32m   5921\u001b[0m     \u001b[39mfrom\u001b[39;00m \u001b[39mpandas\u001b[39;00m\u001b[39m.\u001b[39;00m\u001b[39mcore\u001b[39;00m\u001b[39m.\u001b[39;00m\u001b[39mreshape\u001b[39;00m\u001b[39m.\u001b[39;00m\u001b[39mpivot\u001b[39;00m \u001b[39mimport\u001b[39;00m pivot\n\u001b[0;32m-> 5923\u001b[0m     \u001b[39mreturn\u001b[39;00m pivot(\u001b[39mself\u001b[39;49m, index\u001b[39m=\u001b[39;49mindex, columns\u001b[39m=\u001b[39;49mcolumns, values\u001b[39m=\u001b[39;49mvalues)\n",
      "File \u001b[0;32m~/.cache/pypoetry/virtualenvs/rdflime-util-38nYTMWP-py3.8/lib/python3.8/site-packages/pandas/core/reshape/pivot.py:450\u001b[0m, in \u001b[0;36mpivot\u001b[0;34m(data, index, columns, values)\u001b[0m\n\u001b[1;32m    448\u001b[0m     \u001b[39melse\u001b[39;00m:\n\u001b[1;32m    449\u001b[0m         indexed \u001b[39m=\u001b[39m data\u001b[39m.\u001b[39m_constructor_sliced(data[values]\u001b[39m.\u001b[39mvalues, index\u001b[39m=\u001b[39mindex)\n\u001b[0;32m--> 450\u001b[0m \u001b[39mreturn\u001b[39;00m indexed\u001b[39m.\u001b[39;49munstack(columns)\n",
      "File \u001b[0;32m~/.cache/pypoetry/virtualenvs/rdflime-util-38nYTMWP-py3.8/lib/python3.8/site-packages/pandas/core/series.py:3550\u001b[0m, in \u001b[0;36mSeries.unstack\u001b[0;34m(self, level, fill_value)\u001b[0m\n\u001b[1;32m   3510\u001b[0m \u001b[39m\"\"\"\u001b[39;00m\n\u001b[1;32m   3511\u001b[0m \u001b[39mUnstack, a.k.a. pivot, Series with MultiIndex to produce DataFrame.\u001b[39;00m\n\u001b[1;32m   3512\u001b[0m \u001b[39mThe level involved will automatically get sorted.\u001b[39;00m\n\u001b[0;32m   (...)\u001b[0m\n\u001b[1;32m   3546\u001b[0m \u001b[39mb    2    4\u001b[39;00m\n\u001b[1;32m   3547\u001b[0m \u001b[39m\"\"\"\u001b[39;00m\n\u001b[1;32m   3548\u001b[0m \u001b[39mfrom\u001b[39;00m \u001b[39mpandas\u001b[39;00m\u001b[39m.\u001b[39;00m\u001b[39mcore\u001b[39;00m\u001b[39m.\u001b[39;00m\u001b[39mreshape\u001b[39;00m\u001b[39m.\u001b[39;00m\u001b[39mreshape\u001b[39;00m \u001b[39mimport\u001b[39;00m unstack\n\u001b[0;32m-> 3550\u001b[0m \u001b[39mreturn\u001b[39;00m unstack(\u001b[39mself\u001b[39;49m, level, fill_value)\n",
      "File \u001b[0;32m~/.cache/pypoetry/virtualenvs/rdflime-util-38nYTMWP-py3.8/lib/python3.8/site-packages/pandas/core/reshape/reshape.py:414\u001b[0m, in \u001b[0;36munstack\u001b[0;34m(obj, level, fill_value)\u001b[0m\n\u001b[1;32m    412\u001b[0m \u001b[39mif\u001b[39;00m is_extension_array_dtype(obj\u001b[39m.\u001b[39mdtype):\n\u001b[1;32m    413\u001b[0m     \u001b[39mreturn\u001b[39;00m _unstack_extension_series(obj, level, fill_value)\n\u001b[0;32m--> 414\u001b[0m unstacker \u001b[39m=\u001b[39m _Unstacker(\n\u001b[1;32m    415\u001b[0m     obj\u001b[39m.\u001b[39;49mvalues,\n\u001b[1;32m    416\u001b[0m     obj\u001b[39m.\u001b[39;49mindex,\n\u001b[1;32m    417\u001b[0m     level\u001b[39m=\u001b[39;49mlevel,\n\u001b[1;32m    418\u001b[0m     fill_value\u001b[39m=\u001b[39;49mfill_value,\n\u001b[1;32m    419\u001b[0m     constructor\u001b[39m=\u001b[39;49mobj\u001b[39m.\u001b[39;49m_constructor_expanddim,\n\u001b[1;32m    420\u001b[0m )\n\u001b[1;32m    421\u001b[0m \u001b[39mreturn\u001b[39;00m unstacker\u001b[39m.\u001b[39mget_result()\n",
      "File \u001b[0;32m~/.cache/pypoetry/virtualenvs/rdflime-util-38nYTMWP-py3.8/lib/python3.8/site-packages/pandas/core/reshape/reshape.py:141\u001b[0m, in \u001b[0;36m_Unstacker.__init__\u001b[0;34m(self, values, index, level, value_columns, fill_value, constructor)\u001b[0m\n\u001b[1;32m    138\u001b[0m     \u001b[39mraise\u001b[39;00m \u001b[39mValueError\u001b[39;00m(\u001b[39m\"\u001b[39m\u001b[39mUnstacked DataFrame is too big, causing int32 overflow\u001b[39m\u001b[39m\"\u001b[39m)\n\u001b[1;32m    140\u001b[0m \u001b[39mself\u001b[39m\u001b[39m.\u001b[39m_make_sorted_values_labels()\n\u001b[0;32m--> 141\u001b[0m \u001b[39mself\u001b[39;49m\u001b[39m.\u001b[39;49m_make_selectors()\n",
      "File \u001b[0;32m~/.cache/pypoetry/virtualenvs/rdflime-util-38nYTMWP-py3.8/lib/python3.8/site-packages/pandas/core/reshape/reshape.py:179\u001b[0m, in \u001b[0;36m_Unstacker._make_selectors\u001b[0;34m(self)\u001b[0m\n\u001b[1;32m    176\u001b[0m mask\u001b[39m.\u001b[39mput(selector, \u001b[39mTrue\u001b[39;00m)\n\u001b[1;32m    178\u001b[0m \u001b[39mif\u001b[39;00m mask\u001b[39m.\u001b[39msum() \u001b[39m<\u001b[39m \u001b[39mlen\u001b[39m(\u001b[39mself\u001b[39m\u001b[39m.\u001b[39mindex):\n\u001b[0;32m--> 179\u001b[0m     \u001b[39mraise\u001b[39;00m \u001b[39mValueError\u001b[39;00m(\u001b[39m\"\u001b[39m\u001b[39mIndex contains duplicate entries, cannot reshape\u001b[39m\u001b[39m\"\u001b[39m)\n\u001b[1;32m    181\u001b[0m \u001b[39mself\u001b[39m\u001b[39m.\u001b[39mgroup_index \u001b[39m=\u001b[39m comp_index\n\u001b[1;32m    182\u001b[0m \u001b[39mself\u001b[39m\u001b[39m.\u001b[39mmask \u001b[39m=\u001b[39m mask\n",
      "\u001b[0;31mValueError\u001b[0m: Index contains duplicate entries, cannot reshape"
     ]
    }
   ],
   "source": [
    "d.pivot(\"bfore\", \"after\", \"help\")"
   ]
  },
  {
   "cell_type": "code",
   "execution_count": 63,
   "metadata": {},
   "outputs": [
    {
     "ename": "ValueError",
     "evalue": "Index contains duplicate entries, cannot reshape",
     "output_type": "error",
     "traceback": [
      "\u001b[0;31m---------------------------------------------------------------------------\u001b[0m",
      "\u001b[0;31mValueError\u001b[0m                                Traceback (most recent call last)",
      "\u001b[1;32m/mnt/volume_fra1_01/rdflime-util/notebooks/experiments/survey-eval/surveyEval.ipynb Cell 10\u001b[0m in \u001b[0;36m<cell line: 3>\u001b[0;34m()\u001b[0m\n\u001b[1;32m      <a href='vscode-notebook-cell://ssh-remote%2B7b22686f73744e616d65223a223133342e3230392e3234312e313531222c2275736572223a22726f6f74227d/mnt/volume_fra1_01/rdflime-util/notebooks/experiments/survey-eval/surveyEval.ipynb#ch0000019vscode-remote?line=0'>1</a>\u001b[0m d\u001b[39m.\u001b[39mcorr()\n\u001b[0;32m----> <a href='vscode-notebook-cell://ssh-remote%2B7b22686f73744e616d65223a223133342e3230392e3234312e313531222c2275736572223a22726f6f74227d/mnt/volume_fra1_01/rdflime-util/notebooks/experiments/survey-eval/surveyEval.ipynb#ch0000019vscode-remote?line=2'>3</a>\u001b[0m sns\u001b[39m.\u001b[39mheatmap(d\u001b[39m.\u001b[39;49mpivot(\u001b[39m\"\u001b[39;49m\u001b[39mbfore\u001b[39;49m\u001b[39m\"\u001b[39;49m, \u001b[39m\"\u001b[39;49m\u001b[39mafter\u001b[39;49m\u001b[39m\"\u001b[39;49m, \u001b[39m\"\u001b[39;49m\u001b[39mhelp\u001b[39;49m\u001b[39m\"\u001b[39;49m))\n",
      "File \u001b[0;32m~/.cache/pypoetry/virtualenvs/rdflime-util-38nYTMWP-py3.8/lib/python3.8/site-packages/pandas/core/frame.py:5923\u001b[0m, in \u001b[0;36mDataFrame.pivot\u001b[0;34m(self, index, columns, values)\u001b[0m\n\u001b[1;32m   5918\u001b[0m \u001b[39m@Substitution\u001b[39m(\u001b[39m\"\u001b[39m\u001b[39m\"\u001b[39m)\n\u001b[1;32m   5919\u001b[0m \u001b[39m@Appender\u001b[39m(_shared_docs[\u001b[39m\"\u001b[39m\u001b[39mpivot\u001b[39m\u001b[39m\"\u001b[39m])\n\u001b[1;32m   5920\u001b[0m \u001b[39mdef\u001b[39;00m \u001b[39mpivot\u001b[39m(\u001b[39mself\u001b[39m, index\u001b[39m=\u001b[39m\u001b[39mNone\u001b[39;00m, columns\u001b[39m=\u001b[39m\u001b[39mNone\u001b[39;00m, values\u001b[39m=\u001b[39m\u001b[39mNone\u001b[39;00m) \u001b[39m-\u001b[39m\u001b[39m>\u001b[39m \u001b[39m\"\u001b[39m\u001b[39mDataFrame\u001b[39m\u001b[39m\"\u001b[39m:\n\u001b[1;32m   5921\u001b[0m     \u001b[39mfrom\u001b[39;00m \u001b[39mpandas\u001b[39;00m\u001b[39m.\u001b[39;00m\u001b[39mcore\u001b[39;00m\u001b[39m.\u001b[39;00m\u001b[39mreshape\u001b[39;00m\u001b[39m.\u001b[39;00m\u001b[39mpivot\u001b[39;00m \u001b[39mimport\u001b[39;00m pivot\n\u001b[0;32m-> 5923\u001b[0m     \u001b[39mreturn\u001b[39;00m pivot(\u001b[39mself\u001b[39;49m, index\u001b[39m=\u001b[39;49mindex, columns\u001b[39m=\u001b[39;49mcolumns, values\u001b[39m=\u001b[39;49mvalues)\n",
      "File \u001b[0;32m~/.cache/pypoetry/virtualenvs/rdflime-util-38nYTMWP-py3.8/lib/python3.8/site-packages/pandas/core/reshape/pivot.py:450\u001b[0m, in \u001b[0;36mpivot\u001b[0;34m(data, index, columns, values)\u001b[0m\n\u001b[1;32m    448\u001b[0m     \u001b[39melse\u001b[39;00m:\n\u001b[1;32m    449\u001b[0m         indexed \u001b[39m=\u001b[39m data\u001b[39m.\u001b[39m_constructor_sliced(data[values]\u001b[39m.\u001b[39mvalues, index\u001b[39m=\u001b[39mindex)\n\u001b[0;32m--> 450\u001b[0m \u001b[39mreturn\u001b[39;00m indexed\u001b[39m.\u001b[39;49munstack(columns)\n",
      "File \u001b[0;32m~/.cache/pypoetry/virtualenvs/rdflime-util-38nYTMWP-py3.8/lib/python3.8/site-packages/pandas/core/series.py:3550\u001b[0m, in \u001b[0;36mSeries.unstack\u001b[0;34m(self, level, fill_value)\u001b[0m\n\u001b[1;32m   3510\u001b[0m \u001b[39m\"\"\"\u001b[39;00m\n\u001b[1;32m   3511\u001b[0m \u001b[39mUnstack, a.k.a. pivot, Series with MultiIndex to produce DataFrame.\u001b[39;00m\n\u001b[1;32m   3512\u001b[0m \u001b[39mThe level involved will automatically get sorted.\u001b[39;00m\n\u001b[0;32m   (...)\u001b[0m\n\u001b[1;32m   3546\u001b[0m \u001b[39mb    2    4\u001b[39;00m\n\u001b[1;32m   3547\u001b[0m \u001b[39m\"\"\"\u001b[39;00m\n\u001b[1;32m   3548\u001b[0m \u001b[39mfrom\u001b[39;00m \u001b[39mpandas\u001b[39;00m\u001b[39m.\u001b[39;00m\u001b[39mcore\u001b[39;00m\u001b[39m.\u001b[39;00m\u001b[39mreshape\u001b[39;00m\u001b[39m.\u001b[39;00m\u001b[39mreshape\u001b[39;00m \u001b[39mimport\u001b[39;00m unstack\n\u001b[0;32m-> 3550\u001b[0m \u001b[39mreturn\u001b[39;00m unstack(\u001b[39mself\u001b[39;49m, level, fill_value)\n",
      "File \u001b[0;32m~/.cache/pypoetry/virtualenvs/rdflime-util-38nYTMWP-py3.8/lib/python3.8/site-packages/pandas/core/reshape/reshape.py:414\u001b[0m, in \u001b[0;36munstack\u001b[0;34m(obj, level, fill_value)\u001b[0m\n\u001b[1;32m    412\u001b[0m \u001b[39mif\u001b[39;00m is_extension_array_dtype(obj\u001b[39m.\u001b[39mdtype):\n\u001b[1;32m    413\u001b[0m     \u001b[39mreturn\u001b[39;00m _unstack_extension_series(obj, level, fill_value)\n\u001b[0;32m--> 414\u001b[0m unstacker \u001b[39m=\u001b[39m _Unstacker(\n\u001b[1;32m    415\u001b[0m     obj\u001b[39m.\u001b[39;49mvalues,\n\u001b[1;32m    416\u001b[0m     obj\u001b[39m.\u001b[39;49mindex,\n\u001b[1;32m    417\u001b[0m     level\u001b[39m=\u001b[39;49mlevel,\n\u001b[1;32m    418\u001b[0m     fill_value\u001b[39m=\u001b[39;49mfill_value,\n\u001b[1;32m    419\u001b[0m     constructor\u001b[39m=\u001b[39;49mobj\u001b[39m.\u001b[39;49m_constructor_expanddim,\n\u001b[1;32m    420\u001b[0m )\n\u001b[1;32m    421\u001b[0m \u001b[39mreturn\u001b[39;00m unstacker\u001b[39m.\u001b[39mget_result()\n",
      "File \u001b[0;32m~/.cache/pypoetry/virtualenvs/rdflime-util-38nYTMWP-py3.8/lib/python3.8/site-packages/pandas/core/reshape/reshape.py:141\u001b[0m, in \u001b[0;36m_Unstacker.__init__\u001b[0;34m(self, values, index, level, value_columns, fill_value, constructor)\u001b[0m\n\u001b[1;32m    138\u001b[0m     \u001b[39mraise\u001b[39;00m \u001b[39mValueError\u001b[39;00m(\u001b[39m\"\u001b[39m\u001b[39mUnstacked DataFrame is too big, causing int32 overflow\u001b[39m\u001b[39m\"\u001b[39m)\n\u001b[1;32m    140\u001b[0m \u001b[39mself\u001b[39m\u001b[39m.\u001b[39m_make_sorted_values_labels()\n\u001b[0;32m--> 141\u001b[0m \u001b[39mself\u001b[39;49m\u001b[39m.\u001b[39;49m_make_selectors()\n",
      "File \u001b[0;32m~/.cache/pypoetry/virtualenvs/rdflime-util-38nYTMWP-py3.8/lib/python3.8/site-packages/pandas/core/reshape/reshape.py:179\u001b[0m, in \u001b[0;36m_Unstacker._make_selectors\u001b[0;34m(self)\u001b[0m\n\u001b[1;32m    176\u001b[0m mask\u001b[39m.\u001b[39mput(selector, \u001b[39mTrue\u001b[39;00m)\n\u001b[1;32m    178\u001b[0m \u001b[39mif\u001b[39;00m mask\u001b[39m.\u001b[39msum() \u001b[39m<\u001b[39m \u001b[39mlen\u001b[39m(\u001b[39mself\u001b[39m\u001b[39m.\u001b[39mindex):\n\u001b[0;32m--> 179\u001b[0m     \u001b[39mraise\u001b[39;00m \u001b[39mValueError\u001b[39;00m(\u001b[39m\"\u001b[39m\u001b[39mIndex contains duplicate entries, cannot reshape\u001b[39m\u001b[39m\"\u001b[39m)\n\u001b[1;32m    181\u001b[0m \u001b[39mself\u001b[39m\u001b[39m.\u001b[39mgroup_index \u001b[39m=\u001b[39m comp_index\n\u001b[1;32m    182\u001b[0m \u001b[39mself\u001b[39m\u001b[39m.\u001b[39mmask \u001b[39m=\u001b[39m mask\n",
      "\u001b[0;31mValueError\u001b[0m: Index contains duplicate entries, cannot reshape"
     ]
    }
   ],
   "source": [
    "d.corr()\n",
    "\n",
    "sns.heatmap(d)"
   ]
  },
  {
   "cell_type": "code",
   "execution_count": null,
   "metadata": {},
   "outputs": [],
   "source": [
    "sns.heatmap"
   ]
  },
  {
   "cell_type": "code",
   "execution_count": 169,
   "metadata": {},
   "outputs": [
    {
     "name": "stdout",
     "output_type": "stream",
     "text": [
      "\\begin{tabular}{llllll}\n",
      "\\toprule\n",
      "                                0Album & 1Prediction & 2Trust before & 3Trust after & 4Absolute change & 5Helpfulness \\\\\n",
      "\\midrule\n",
      " Orphans: Brawlers, Bawlers \\& Bastards &        good &   3.09 (0.81) &  2.73 (1.12) &      0.91 (0.97) &  3.14 (1.28) \\\\\n",
      "               From Here We Go Sublime &        good &   3.00 (0.87) &  2.95 (1.21) &      0.86 (0.89) &  3.18 (1.30) \\\\\n",
      "                        American Idiot &         bad &   1.77 (1.07) &  2.36 (1.40) &      0.86 (0.83) &  2.82 (1.44) \\\\\n",
      "                             Mic Tyson &        good &   2.50 (0.91) &  3.27 (1.08) &      0.95 (0.90) &  3.27 (1.03) \\\\\n",
      "                     The Great Western &         bad &   3.14 (0.99) &  2.82 (0.96) &      0.59 (0.59) &  3.00 (1.27) \\\\\n",
      "                 Laulu laakson kukista &        good &   2.50 (0.96) &  2.36 (1.14) &      0.77 (0.75) &  2.95 (1.17) \\\\\n",
      "                              Daybreak &        good &   2.86 (0.99) &  3.32 (1.17) &      0.73 (0.70) &  3.14 (1.21) \\\\\n",
      "                          Love is Dead &         bad &   3.00 (1.02) &  2.41 (1.10) &      1.05 (1.05) &  2.95 (1.13) \\\\\n",
      "                        Sixes \\& Sevens &         bad &   2.91 (0.92) &  2.95 (1.09) &      0.68 (0.72) &  3.05 (1.33) \\\\\n",
      "                  GhostDeini The Great &         bad &   3.55 (1.18) &  3.14 (1.04) &      0.68 (0.78) &  3.27 (1.28) \\\\\n",
      "                         Overall Trust &         --- &   2.82 (1.01) &  2.77 (1.02) &      0.95 (0.79) &          --- \\\\\n",
      "\\bottomrule\n",
      "\\end{tabular}\n",
      "\n"
     ]
    }
   ],
   "source": [
    "d = pd.DataFrame()\n",
    "output_table = pd.DataFrame()\n",
    "\n",
    "movies = [\"Chronicles of Narnia: Prince Caspian\", \"Shallow Grave\", \"Warm Water Under a Red Bridge\", \"BASEketball\", \"Testosterone\", \"Black Knight\", \"Hanging Up\", \"An American Carol\", \"The Human Resources Manager\", \"Slumdog Millionaire\"]\n",
    "movie_preds = [0, 1, 1, 1, 0, 0, 0, 0, 1, 1]\n",
    "albums = [\"Orphans: Brawlers, Bawlers & Bastards\", \"From Here We Go Sublime\", \"American Idiot\", \"Mic Tyson\", \"The Great Western\", \"Laulu laakson kukista\", \"Daybreak\", \"Love is Dead\", \"Sixes & Sevens\", \"GhostDeini The Great\"]\n",
    "album_preds = [1, 1, 0, 1, 0, 1, 1, 0, 0, 0]\n",
    "\n",
    "entity_type = \"Album\"\n",
    "entities = movies if entity_type == \"Movie\" else albums\n",
    "preds = movie_preds if entity_type == \"Movie\" else album_preds\n",
    "start_group = 4 if entity_type == \"Movie\" else 6\n",
    "\n",
    "def mean_std_rounded(series):\n",
    "    return f\"{round(series.mean(), 2):.2f} ({round(series.std(), 2):.2f})\"\n",
    "\n",
    "for entity_idx in range(1, 11):\n",
    "\n",
    "    trust_before = df[f\"G{start_group}Q00001[SQ0{entity_idx:02d}]\"]\n",
    "    trust_after =  df[f\"G{start_group+1}Q00001[SQ0{entity_idx:02d}][1]\"]\n",
    "    explanation_helpful = df[f\"G{start_group+1}Q00001[SQ0{entity_idx:02d}][2]\"]\n",
    "\n",
    "    for before, after, help in zip(trust_before, trust_after, explanation_helpful):\n",
    "        d = d.append({\"bfore\": before, \"after\": after, \"help\": help}, ignore_index=True)\n",
    "\n",
    "    row = {\n",
    "        f\"0{entity_type}\": entities[entity_idx-1],\n",
    "        f\"1Prediction\": \"good\" if preds[entity_idx-1] else \"bad\",\n",
    "        \"2Trust before\": mean_std_rounded(trust_before),\n",
    "        \"3Trust after\":  mean_std_rounded(trust_after),\n",
    "        \"4Absolute change\": mean_std_rounded(abs(trust_before-trust_after)),\n",
    "        \"5Helpfulness\": mean_std_rounded(explanation_helpful)\n",
    "    }\n",
    "\n",
    "    output_table = output_table.append(row, ignore_index=True)\n",
    "\n",
    "\n",
    "### Last row - \"How much do you trust the clf to make accurate predictions in the future\"\n",
    "overall_trust_before = df[f\"G{start_group}Q00002\"]\n",
    "overall_trust_after = df[f\"G{start_group+1}Q00002\"]\n",
    "row = {\n",
    "    f\"0{entity_type}\": \"Overall Trust\",\n",
    "    f\"1Prediction\": \"---\",\n",
    "    \"2Trust before\": mean_std_rounded(overall_trust_before),\n",
    "    \"3Trust after\":  mean_std_rounded(overall_trust_after),\n",
    "    \"4Absolute change\": mean_std_rounded(abs(overall_trust_before-overall_trust_after)),\n",
    "    \"5Helpfulness\": \"---\"\n",
    "}\n",
    "output_table = output_table.append(row, ignore_index=True)\n",
    "\n",
    "\n",
    "print(output_table.to_latex(index=False))\n",
    "\n"
   ]
  },
  {
   "cell_type": "markdown",
   "metadata": {},
   "source": [
    "#### Overall Trust"
   ]
  },
  {
   "cell_type": "markdown",
   "metadata": {},
   "source": [
    "### Written feedback\n",
    "G8Q00004 - To explanations <br>\n",
    "G8Q00005 - In general"
   ]
  },
  {
   "cell_type": "code",
   "execution_count": 38,
   "metadata": {},
   "outputs": [
    {
     "name": "stdout",
     "output_type": "stream",
     "text": [
      "It seems like positive predictions are easier to understand than negative ones. Sometimes it's a bit weird that, e.g., a movie/album is classified negative, while the majority of edges say \"positive\" (e.g., for Love Is Dead).\n",
      "\n",
      "- some explanations where pretty much telling not a lot, e.g. that an album is bad because it is of type 'album', or because it is a 'thing'\n",
      "- I think in order to get the most out of the graph explanations, one needs some attributes that you can relate to (e.g. like in the example, whether a movie won an award), or one needs some background knowledge in the field, like whether producer/writer X is associated with rather good or bad movies\n",
      "\n",
      "For me as someone not really into knowledge graphs it was hard to understand based on the picture, why a prediction was considered good/bad (at a first glance)\n",
      "\n",
      "The last music classifier should be rated 5 for the first rating (without explanations)\n",
      "\n",
      "some categories in the graph don't make sense (seem unrelated) and might be biased (language, origin, years, birth/founding year), others related to previous work oregeneral categories are good explanations, scale for the contribution would be nice, a simulation on what happens then knowledge is not present (e.g. disabling nodes) would be useful, finer grained predictions => regression on metacritic score and the graph contributions\n",
      "\n",
      "The only thing that the graph could show more clearly is the actual impact on the overall estimated score. The numbers of the relations between nodes (e.g. 0.29) did not add up to 1 in the whole graph. Maybe I am not familiar enough with this graph depiction, but I would expect the relative impact of each of the categories to add up to 100%.\n",
      "\n"
     ]
    }
   ],
   "source": [
    "for x in df[\"G8Q00004\"]:\n",
    "    if x: print(x, end=\"\\n\\n\")"
   ]
  },
  {
   "cell_type": "code",
   "execution_count": 39,
   "metadata": {},
   "outputs": [
    {
     "name": "stdout",
     "output_type": "stream",
     "text": [
      "Probably takes more than 15 min\n",
      "\n",
      "Cool survey! Very good explained and guidance!\n",
      "\n",
      "A back button would be useful\n",
      "\n",
      "It felt pretty confusing at times that no \"solutions\" or results were given after the individual guessing rounds (Maybe I just missed them, idk). I think it would have been helpful to have feedback after each round to know how accurate one's own predictions were in order to be able to understand the classifier better.\n",
      "\n"
     ]
    }
   ],
   "source": [
    "for x in df[\"G8Q00005\"]:\n",
    "    if x: print(x, end=\"\\n\\n\")"
   ]
  }
 ],
 "metadata": {
  "kernelspec": {
   "display_name": "Python 3.8.10 ('rdflime-util-38nYTMWP-py3.8')",
   "language": "python",
   "name": "python3"
  },
  "language_info": {
   "codemirror_mode": {
    "name": "ipython",
    "version": 3
   },
   "file_extension": ".py",
   "mimetype": "text/x-python",
   "name": "python",
   "nbconvert_exporter": "python",
   "pygments_lexer": "ipython3",
   "version": "3.8.10"
  },
  "orig_nbformat": 4,
  "vscode": {
   "interpreter": {
    "hash": "086e9d79f4fdea1d9576d19d588b9175a02cd7cdd421f723b48d3c7f32c0f2e4"
   }
  }
 },
 "nbformat": 4,
 "nbformat_minor": 2
}
