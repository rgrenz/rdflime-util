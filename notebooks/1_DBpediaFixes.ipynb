{
 "cells": [
  {
   "cell_type": "markdown",
   "metadata": {},
   "source": [
    "## DBpedia Fixes\n",
    "The _metacritic-movies_ dataset references some movie URIs that do not exist anymore in our version of the DBpedia Knowledge Graph (subset of dump 2016-04).\n",
    "\n",
    "Example:\n",
    "http://dbpedia.org/resource/Carpool_(film) -> http://dbpedia.org/resource/Carpool_(1996_film)\n",
    "\n",
    "This notebook aims to identify and fix these issues. It outputs a fixed version of the _metacritic-movies_ dataset in the original dataset folder.\n",
    "\n",
    "Make sure that Jena Fuseki is up and running."
   ]
  },
  {
   "cell_type": "code",
   "execution_count": 4,
   "metadata": {},
   "outputs": [],
   "source": [
    "import pandas as pd\n",
    "from pyrdf2vec.graphs import KG\n",
    "import re\n",
    "import os.path\n",
    "import json\n",
    "from rdflimeConfig import dbpediaLocation, movieLocation"
   ]
  },
  {
   "cell_type": "markdown",
   "metadata": {},
   "source": [
    "### Identify broken URIs"
   ]
  },
  {
   "cell_type": "code",
   "execution_count": 5,
   "metadata": {},
   "outputs": [
    {
     "name": "stdout",
     "output_type": "stream",
     "text": [
      "38 out of 2000 movies have broken URIs.\n"
     ]
    }
   ],
   "source": [
    "# Initiate dbpedia connection\n",
    "dbpedia = KG(dbpediaLocation)\n",
    "\n",
    "# Read movie dataset\n",
    "movieFull = pd.read_csv(os.path.join(movieLocation, \"movies.tsv\"), sep=\"\\t\")\n",
    "movies = [movie.DBpedia_URI for index, movie in movieFull.iterrows()]\n",
    "\n",
    "# Check movies\n",
    "missing = [movie for movie in movies if not dbpedia.is_exist([movie])]\n",
    "print(f\"{len(missing)} out of {len(movies)} movies have broken URIs.\")"
   ]
  },
  {
   "cell_type": "markdown",
   "metadata": {},
   "source": [
    "### Try to automagically fix some URIs"
   ]
  },
  {
   "cell_type": "code",
   "execution_count": 6,
   "metadata": {},
   "outputs": [],
   "source": [
    "fixes = []"
   ]
  },
  {
   "cell_type": "code",
   "execution_count": 7,
   "metadata": {},
   "outputs": [
    {
     "name": "stdout",
     "output_type": "stream",
     "text": [
      "27 can be fixed by adding _(film) or _(yyyy_film) to the URI.\n"
     ]
    }
   ],
   "source": [
    "# Try adding _(film) or _(yyyy_film) to URI\n",
    "for movie in missing:\n",
    "    \n",
    "    # Simply add _(film)\n",
    "    simpleFix = movie + \"_(film)\"\n",
    "    if dbpedia.is_exist([simpleFix]) : fixes.append({\"original\": movie, \"fix\": simpleFix})\n",
    "    \n",
    "    # Try to add _(yyyy_film)\n",
    "    else:\n",
    "        releaseDate = movieFull[movieFull.DBpedia_URI == movie][\"Release date\"].iloc[0]\n",
    "        releaseYear = int(re.search(r\"\\d{4}\", releaseDate).group(0))\n",
    "\n",
    "        maxDistYears = 1\n",
    "        for y in range(releaseYear-maxDistYears, releaseYear+maxDistYears+1):\n",
    "\n",
    "            # _(movie) -> _(yyyy_movie) or {blank} -> _(yyyy_movie)\n",
    "            fix = movie.replace(\"(film)\", f\"({y}_film)\")\n",
    "            if not fix.endswith(\"film)\"):\n",
    "                fix += f\"_({y}_film)\"\n",
    "\n",
    "            if dbpedia.is_exist([fix]):\n",
    "                fixes.append({\"original\": movie, \"fix\": fix})\n",
    "                break\n",
    "print(f\"{len(fixes)} can be fixed by adding _(film) or _(yyyy_film) to the URI.\")"
   ]
  },
  {
   "cell_type": "code",
   "execution_count": 8,
   "metadata": {},
   "outputs": [
    {
     "name": "stdout",
     "output_type": "stream",
     "text": [
      "2 can be fixed by removing duplicate (film) part of URI.\n"
     ]
    }
   ],
   "source": [
    "# Try removing duplicate _(film) or _(yyyy_film) endings\n",
    "ctr = len(fixes)\n",
    "for movie in missing:\n",
    "    match = re.search(r\"(?:_\\((?:\\d{4}_|)film\\)){2}\", movie)\n",
    "    if match:\n",
    "        fix = match.group(0)\n",
    "        fix = fix[:int(len(fix)/2)]\n",
    "        fix = movie.replace(fix, \"\", 1)\n",
    "        if dbpedia.is_exist([fix]): fixes.append({\"original\": movie, \"fix\": fix})\n",
    "print(f\"{len(fixes)-ctr} can be fixed by removing duplicate (film) part of URI.\")"
   ]
  },
  {
   "cell_type": "markdown",
   "metadata": {},
   "source": [
    "### Manual matches for remaining movies"
   ]
  },
  {
   "cell_type": "code",
   "execution_count": 9,
   "metadata": {},
   "outputs": [
    {
     "name": "stdout",
     "output_type": "stream",
     "text": [
      "9 can be fixed by manual matching.\n"
     ]
    }
   ],
   "source": [
    "ctr = len(fixes)\n",
    "fixes.extend([\n",
    "    {\"original\": \"http://dbpedia.org:8890/resource/Lone_Star_(1996_film)\", \"fix\": \"http://dbpedia.org/resource/Lone_Star_(1996_film)\"},\n",
    "    {\"original\": \"http://dbpedia.org/resource/La_grande_strada_azzurra\", \"fix\": \"http://dbpedia.org/resource/La_grande_strada\"}, # appeared in US in 2001, but is from 1957\n",
    "    {\"original\": \"http://dbpedia.org/resource/Good_Hair_(film)\", \"fix\": \"http://dbpedia.org/resource/Good_Hair\"},\n",
    "    {\"original\": \"http://dbpedia.org/resource/Alice_and_Martin_(1998_film)\", \"fix\": \"http://dbpedia.org/resource/Alice_and_Martin\"},\n",
    "    {\"original\": \"http://dbpedia.org/resource/Yours,_Mine_and_Ours_(2005_film)\", \"fix\": \"http://dbpedia.org/resource/Yours,_Mine_&_Ours_(2005_film)\"},\n",
    "    {\"original\": \"http://dbpedia.org/resource/As_Luck_Would_Have_It_(2012_film)_(2012_film)\", \"fix\": \"http://dbpedia.org/resource/As_Luck_Would_Have_It_(2011_film)\"},\n",
    "    {\"original\": \"http://dbpedia.org/resource/Das_Wilde_Leben\", \"fix\": \"http://dbpedia.org/resource/Eight_Miles_High_(film)\"},\n",
    "    {\"original\": \"http://dbpedia.org/resource/Someone_Like_You_(film)\", \"fix\": \"http://dbpedia.org/resource/Someone_like_You_(film)\"},\n",
    "    {\"original\": \"http://dbpedia.org/resource/John_Q\", \"fix\": \"http://dbpedia.org/resource/John_Q.\"},\n",
    "    #{\"original\": \"http://dbpedia.org/resource/Moolaad%C3%A9\", \"fix\": \"http://dbpedia.org/resource/Moolaadé\"},\n",
    "])\n",
    "print(f\"{len(fixes)-ctr} can be fixed by manual matching.\")"
   ]
  },
  {
   "cell_type": "markdown",
   "metadata": {},
   "source": [
    "### Check and create fixed datsets"
   ]
  },
  {
   "cell_type": "code",
   "execution_count": 10,
   "metadata": {},
   "outputs": [
    {
     "name": "stdout",
     "output_type": "stream",
     "text": [
      "Created fixed dataset and stored fixes to file.\n"
     ]
    }
   ],
   "source": [
    "# All issues fixed?\n",
    "assert len(fixes) >= len(missing), \"Not every broken URI has been fixed!\"\n",
    "\n",
    "# No duplicate fixes?\n",
    "assert len(fixes) == len(set([fix[\"original\"] for fix in fixes])), \"Some movies have more than one fix!\"\n",
    "\n",
    "# Do all fixes exist?\n",
    "assert dbpedia.is_exist([fix[\"fix\"] for fix in fixes]), \"Not all fixes are found in dbpedia!\"\n",
    "\n",
    "for fix in fixes:\n",
    "    movieFull = movieFull.replace(fix[\"original\"], fix[\"fix\"])\n",
    "\n",
    "movieFull.to_csv(os.path.join(movieLocation, \"movies_fixed.tsv\"), sep=\"\\t\", index=False)\n",
    "with open(os.path.join(movieLocation, \"datasetFixes.json\"), \"w\") as file:\n",
    "    json.dump(fixes, file, indent=4)\n",
    "\n",
    "print(\"Created fixed dataset and stored fixes to file.\")"
   ]
  }
 ],
 "metadata": {
  "interpreter": {
   "hash": "fc6f725a70bbe8041c097ab7eae8aeb625a2cc94c1af18b785b9d981852f3aec"
  },
  "kernelspec": {
   "display_name": "Python 3.10.4 ('rdflime-util-cLuY5sAo-py3.10')",
   "language": "python",
   "name": "python3"
  },
  "language_info": {
   "codemirror_mode": {
    "name": "ipython",
    "version": 3
   },
   "file_extension": ".py",
   "mimetype": "text/x-python",
   "name": "python",
   "nbconvert_exporter": "python",
   "pygments_lexer": "ipython3",
   "version": "3.10.4"
  },
  "orig_nbformat": 4
 },
 "nbformat": 4,
 "nbformat_minor": 2
}
