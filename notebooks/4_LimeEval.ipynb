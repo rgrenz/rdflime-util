{
 "cells": [
  {
   "cell_type": "markdown",
   "metadata": {},
   "source": [
    "#### Evaluation Notebook for batch-generated explanations"
   ]
  },
  {
   "cell_type": "markdown",
   "metadata": {},
   "source": [
    "#### Setup"
   ]
  },
  {
   "cell_type": "code",
   "execution_count": 104,
   "metadata": {},
   "outputs": [
    {
     "name": "stdout",
     "output_type": "stream",
     "text": [
      "Ready to explain cbow_100 classifier predictions for movies.\n"
     ]
    }
   ],
   "source": [
    "import os\n",
    "import pandas as pd\n",
    "import numpy as np\n",
    "import pickle\n",
    "from importlib import reload\n",
    "import lime.lime_rdf\n",
    "import logging\n",
    "import random\n",
    "import seaborn as sns\n",
    "from matplotlib import pyplot as plt\n",
    "from rdflimeConfig import datasets, load_dataset, split_dataset\n",
    "\n",
    "reload(lime.lime_rdf)\n",
    "from lime.lime_rdf import LimeRdfExplainer\n",
    "\n",
    "logging.basicConfig(level=logging.WARN)\n",
    "\n",
    "# 0: Metacritic-Movies\n",
    "# 1: Metacritic-Albums\n",
    "# 2: Forbes-Companies\n",
    "# 3: Mercer-Cities\n",
    "# 4: AAUP-Universities\n",
    "# -> See rdflimeConfig.py\n",
    "explored_dataset_idx = 0\n",
    "algo = \"cbow\"\n",
    "vsize = 100\n",
    "\n",
    "dataset_full, dataset_entities = load_dataset(datasets[explored_dataset_idx], fixed=True)\n",
    "cfg = datasets[explored_dataset_idx]\n",
    "uri_col = cfg[\"columns\"][\"uri_fixed\"]\n",
    "label_col = cfg[\"columns\"][\"label\"]\n",
    "\n",
    "# Will yield the same train/test split that has been used for training the final classifier\n",
    "dataset_train, dataset_test = split_dataset(dataset_full, cfg, randomize=True)\n",
    "\n",
    "# Load classifier\n",
    "with open(os.path.join(cfg[\"location\"], \"classifiers\", f\"svc_10_{algo}_{vsize}\"), \"rb\") as file:\n",
    "    clf = pickle.load(file)\n",
    "\n",
    "# Load RDF2Vec Transformer\n",
    "with open(os.path.join(cfg[\"location\"], \"transformers\", f\"rdf2vec_transformer_{algo}_{vsize}\"), \"rb\") as file:\n",
    "    rdf2vec_transformer = pickle.load(file)\n",
    "\n",
    "explainer = LimeRdfExplainer(\n",
    "    transformer=rdf2vec_transformer, \n",
    "    entities=dataset_entities,\n",
    "    class_names=clf.classes_,\n",
    "    kernel=None,\n",
    "    kernel_width=25,\n",
    "    verbose=False,\n",
    "    feature_selection=\"auto\",\n",
    "    random_state=42\n",
    ")\n",
    "explainer.use_w2v_freeze = False\n",
    "\n",
    "entity_kind = cfg[\"entity\"]\n",
    "print(f\"Ready to explain {algo}_{vsize} classifier predictions for {entity_kind}.\")\n",
    "\n"
   ]
  },
  {
   "cell_type": "code",
   "execution_count": 64,
   "metadata": {},
   "outputs": [],
   "source": [
    "def check_explanation(explainer, explained_entity_uri, triple):\n",
    "    if not triple:\n",
    "        triple = random.choice(list(explainer.indexed_walks.walks_as_triples(explainer.indexed_walks.walks(explained_entity_uri))))\n",
    "\n",
    "    modified_walks = explainer.get_perturbed_walks(explained_entity_uri, added_triples=[], removed_triples=[triple])\n",
    "    \n",
    "    embedding = explainer.get_perturbed_embedding(explained_entity_uri, modified_walks)\n",
    "\n",
    "    new_prediction = clf.predict_proba([embedding])\n",
    "    return new_prediction"
   ]
  },
  {
   "cell_type": "code",
   "execution_count": 65,
   "metadata": {},
   "outputs": [],
   "source": [
    "import pickle\n",
    "\n",
    "with open(\"rows.obj\", \"wb\") as f:\n",
    "    pickle.dump(rows, f)"
   ]
  },
  {
   "cell_type": "code",
   "execution_count": 19,
   "metadata": {},
   "outputs": [],
   "source": [
    "rows = []"
   ]
  },
  {
   "cell_type": "code",
   "execution_count": null,
   "metadata": {},
   "outputs": [],
   "source": [
    "exp_path = os.path.join(cfg[\"location\"], \"explanations\")\n",
    "files = [f for f in os.listdir(exp_path) if os.path.isfile(os.path.join(exp_path, f))]\n",
    "\n",
    "top_n_direction_relevant = 10\n",
    "\n",
    "\n",
    "for file in files:\n",
    "\n",
    "    with open(os.path.join(exp_path, file), \"rb\") as f:\n",
    "        data, probabilities, distances, explanation, prediction, indexed_walks, entity_uri, entity_idx = pickle.load(f)\n",
    "\n",
    "    prediction = prediction[0]\n",
    "    predicted_idx = np.argmax(prediction)\n",
    "    predicted_label = explanation.class_names[predicted_idx]\n",
    "    predicted_label_probability = prediction[predicted_idx]\n",
    "    print(f\"{entity_idx} {entity_uri}\", f\"classified as {predicted_label} ({predicted_label_probability})\", prediction)\n",
    "\n",
    "    # Hack necessary since we do not have explanations for both classes in the binary datasets\n",
    "    target_idx = 1 if explored_dataset_idx < 2 else predicted_idx\n",
    "    exp_list = explanation.as_list(target_idx)\n",
    "\n",
    "    # 1 == \"positive\", -1 == \"negative\"\n",
    "    expected_direction = 1 if predicted_idx == target_idx else -1\n",
    "\n",
    "    n_zeros = 0\n",
    "    n_correct_direction = 0\n",
    "    for index, exp in enumerate(exp_list):\n",
    "        if not exp[1]:\n",
    "            n_zeros += 1\n",
    "            continue\n",
    "        \n",
    "        if index < top_n_direction_relevant:\n",
    "            correct_direction = expected_direction * exp[1] > 0\n",
    "            if correct_direction:\n",
    "                n_correct_direction += 1\n",
    "            #print(expected_direction, exp, correct_direction)\n",
    "\n",
    "    top_exp_ratio = abs(exp_list[-1][1] / exp_list[0][1])\n",
    "\n",
    "    \n",
    "    top_triple = exp_list[0][0]\n",
    "    expected_drift = -exp_list[0][1] # When removing a positive triple, the prediction should become more negative\n",
    "    \n",
    "    # Remove the top triple and check the influence on the classifier\n",
    "    top_prediction = check_explanation(explainer, entity_uri, top_triple)[0][predicted_idx]\n",
    "    top_drift = top_prediction - predicted_label_probability\n",
    "\n",
    "    # Remove a random triple and check the influence on the classifier\n",
    "    random_prediction = check_explanation(explainer, entity_uri, None)[0][predicted_idx]\n",
    "    random_drift = random_prediction - predicted_label_probability\n",
    "\n",
    "    print(top_prediction, top_drift)\n",
    "    print(random_prediction, random_drift)\n",
    "\n",
    "    rows.append({\n",
    "        \"dataset\": explored_dataset_idx,\n",
    "        \"entity_idx\": entity_idx,\n",
    "        \"n_zeros\": n_zeros,\n",
    "        \"n_correct_direction\": n_correct_direction,\n",
    "        \"r2_score\": explanation.score[target_idx],\n",
    "        \"prediction_confidence\": predicted_label_probability,\n",
    "        \"top_exp_ratio\": top_exp_ratio,\n",
    "        \"expected_drift\": expected_drift,\n",
    "        \"drift_top_triple\": top_drift,\n",
    "        \"drift_random_triple\": random_drift\n",
    "    })\n"
   ]
  },
  {
   "cell_type": "code",
   "execution_count": 135,
   "metadata": {},
   "outputs": [
    {
     "data": {
      "text/html": [
       "<div>\n",
       "<style scoped>\n",
       "    .dataframe tbody tr th:only-of-type {\n",
       "        vertical-align: middle;\n",
       "    }\n",
       "\n",
       "    .dataframe tbody tr th {\n",
       "        vertical-align: top;\n",
       "    }\n",
       "\n",
       "    .dataframe thead th {\n",
       "        text-align: right;\n",
       "    }\n",
       "</style>\n",
       "<table border=\"1\" class=\"dataframe\">\n",
       "  <thead>\n",
       "    <tr style=\"text-align: right;\">\n",
       "      <th></th>\n",
       "      <th>dataset</th>\n",
       "      <th>entity_idx</th>\n",
       "      <th>n_zeros</th>\n",
       "      <th>n_correct_direction</th>\n",
       "      <th>r2_score</th>\n",
       "      <th>prediction_confidence</th>\n",
       "      <th>top_exp_ratio</th>\n",
       "      <th>expected_drift</th>\n",
       "      <th>drift_top_triple</th>\n",
       "      <th>drift_random_triple</th>\n",
       "    </tr>\n",
       "  </thead>\n",
       "  <tbody>\n",
       "    <tr>\n",
       "      <th>0</th>\n",
       "      <td>0</td>\n",
       "      <td>13</td>\n",
       "      <td>0</td>\n",
       "      <td>1</td>\n",
       "      <td>0.044927</td>\n",
       "      <td>0.999991</td>\n",
       "      <td>0.282827</td>\n",
       "      <td>-2.807123e-08</td>\n",
       "      <td>-4.060937e-08</td>\n",
       "      <td>9.615500e-08</td>\n",
       "    </tr>\n",
       "    <tr>\n",
       "      <th>1</th>\n",
       "      <td>0</td>\n",
       "      <td>1459</td>\n",
       "      <td>0</td>\n",
       "      <td>2</td>\n",
       "      <td>0.060993</td>\n",
       "      <td>0.999866</td>\n",
       "      <td>0.336798</td>\n",
       "      <td>-2.333830e-07</td>\n",
       "      <td>-3.311428e-06</td>\n",
       "      <td>-4.546463e-06</td>\n",
       "    </tr>\n",
       "    <tr>\n",
       "      <th>2</th>\n",
       "      <td>0</td>\n",
       "      <td>647</td>\n",
       "      <td>0</td>\n",
       "      <td>7</td>\n",
       "      <td>0.129828</td>\n",
       "      <td>0.999999</td>\n",
       "      <td>0.067578</td>\n",
       "      <td>6.440062e-09</td>\n",
       "      <td>4.008803e-09</td>\n",
       "      <td>7.119107e-09</td>\n",
       "    </tr>\n",
       "    <tr>\n",
       "      <th>3</th>\n",
       "      <td>0</td>\n",
       "      <td>20</td>\n",
       "      <td>0</td>\n",
       "      <td>4</td>\n",
       "      <td>0.118513</td>\n",
       "      <td>0.921304</td>\n",
       "      <td>0.082061</td>\n",
       "      <td>-2.646734e-04</td>\n",
       "      <td>-3.848509e-04</td>\n",
       "      <td>-3.860730e-04</td>\n",
       "    </tr>\n",
       "    <tr>\n",
       "      <th>4</th>\n",
       "      <td>0</td>\n",
       "      <td>766</td>\n",
       "      <td>0</td>\n",
       "      <td>5</td>\n",
       "      <td>0.107774</td>\n",
       "      <td>1.000000</td>\n",
       "      <td>0.113905</td>\n",
       "      <td>6.775205e-11</td>\n",
       "      <td>-4.048095e-12</td>\n",
       "      <td>-5.707124e-11</td>\n",
       "    </tr>\n",
       "    <tr>\n",
       "      <th>...</th>\n",
       "      <td>...</td>\n",
       "      <td>...</td>\n",
       "      <td>...</td>\n",
       "      <td>...</td>\n",
       "      <td>...</td>\n",
       "      <td>...</td>\n",
       "      <td>...</td>\n",
       "      <td>...</td>\n",
       "      <td>...</td>\n",
       "      <td>...</td>\n",
       "    </tr>\n",
       "    <tr>\n",
       "      <th>632</th>\n",
       "      <td>4</td>\n",
       "      <td>491</td>\n",
       "      <td>0</td>\n",
       "      <td>1</td>\n",
       "      <td>0.131533</td>\n",
       "      <td>0.547301</td>\n",
       "      <td>0.123384</td>\n",
       "      <td>2.374564e-04</td>\n",
       "      <td>-6.243187e-04</td>\n",
       "      <td>-3.550308e-04</td>\n",
       "    </tr>\n",
       "    <tr>\n",
       "      <th>633</th>\n",
       "      <td>4</td>\n",
       "      <td>191</td>\n",
       "      <td>0</td>\n",
       "      <td>10</td>\n",
       "      <td>0.069224</td>\n",
       "      <td>0.475502</td>\n",
       "      <td>0.158990</td>\n",
       "      <td>-1.686853e-04</td>\n",
       "      <td>5.973358e-04</td>\n",
       "      <td>3.595909e-04</td>\n",
       "    </tr>\n",
       "    <tr>\n",
       "      <th>634</th>\n",
       "      <td>4</td>\n",
       "      <td>252</td>\n",
       "      <td>0</td>\n",
       "      <td>7</td>\n",
       "      <td>0.120657</td>\n",
       "      <td>0.713607</td>\n",
       "      <td>0.077726</td>\n",
       "      <td>2.621785e-04</td>\n",
       "      <td>9.470254e-07</td>\n",
       "      <td>-4.619157e-04</td>\n",
       "    </tr>\n",
       "    <tr>\n",
       "      <th>635</th>\n",
       "      <td>4</td>\n",
       "      <td>315</td>\n",
       "      <td>0</td>\n",
       "      <td>9</td>\n",
       "      <td>0.096430</td>\n",
       "      <td>0.652067</td>\n",
       "      <td>0.105902</td>\n",
       "      <td>-3.834073e-04</td>\n",
       "      <td>1.626358e-03</td>\n",
       "      <td>2.232639e-03</td>\n",
       "    </tr>\n",
       "    <tr>\n",
       "      <th>636</th>\n",
       "      <td>4</td>\n",
       "      <td>747</td>\n",
       "      <td>0</td>\n",
       "      <td>2</td>\n",
       "      <td>0.114736</td>\n",
       "      <td>0.558242</td>\n",
       "      <td>0.109109</td>\n",
       "      <td>-1.087685e-04</td>\n",
       "      <td>-5.987955e-05</td>\n",
       "      <td>3.389752e-04</td>\n",
       "    </tr>\n",
       "  </tbody>\n",
       "</table>\n",
       "<p>636 rows × 10 columns</p>\n",
       "</div>"
      ],
      "text/plain": [
       "     dataset  entity_idx  n_zeros  n_correct_direction  r2_score  \\\n",
       "0          0          13        0                    1  0.044927   \n",
       "1          0        1459        0                    2  0.060993   \n",
       "2          0         647        0                    7  0.129828   \n",
       "3          0          20        0                    4  0.118513   \n",
       "4          0         766        0                    5  0.107774   \n",
       "..       ...         ...      ...                  ...       ...   \n",
       "632        4         491        0                    1  0.131533   \n",
       "633        4         191        0                   10  0.069224   \n",
       "634        4         252        0                    7  0.120657   \n",
       "635        4         315        0                    9  0.096430   \n",
       "636        4         747        0                    2  0.114736   \n",
       "\n",
       "     prediction_confidence  top_exp_ratio  expected_drift  drift_top_triple  \\\n",
       "0                 0.999991       0.282827   -2.807123e-08     -4.060937e-08   \n",
       "1                 0.999866       0.336798   -2.333830e-07     -3.311428e-06   \n",
       "2                 0.999999       0.067578    6.440062e-09      4.008803e-09   \n",
       "3                 0.921304       0.082061   -2.646734e-04     -3.848509e-04   \n",
       "4                 1.000000       0.113905    6.775205e-11     -4.048095e-12   \n",
       "..                     ...            ...             ...               ...   \n",
       "632               0.547301       0.123384    2.374564e-04     -6.243187e-04   \n",
       "633               0.475502       0.158990   -1.686853e-04      5.973358e-04   \n",
       "634               0.713607       0.077726    2.621785e-04      9.470254e-07   \n",
       "635               0.652067       0.105902   -3.834073e-04      1.626358e-03   \n",
       "636               0.558242       0.109109   -1.087685e-04     -5.987955e-05   \n",
       "\n",
       "     drift_random_triple  \n",
       "0           9.615500e-08  \n",
       "1          -4.546463e-06  \n",
       "2           7.119107e-09  \n",
       "3          -3.860730e-04  \n",
       "4          -5.707124e-11  \n",
       "..                   ...  \n",
       "632        -3.550308e-04  \n",
       "633         3.595909e-04  \n",
       "634        -4.619157e-04  \n",
       "635         2.232639e-03  \n",
       "636         3.389752e-04  \n",
       "\n",
       "[636 rows x 10 columns]"
      ]
     },
     "execution_count": 135,
     "metadata": {},
     "output_type": "execute_result"
    }
   ],
   "source": [
    "df = pd.DataFrame(rows)\n",
    "\n",
    "# Remove The_Matrix, a movie that has been used as sample but is not within the test dataset\n",
    "df = df[(df.entity_idx!=92) | (df.dataset!=0)]\n",
    "df\n"
   ]
  },
  {
   "cell_type": "markdown",
   "metadata": {},
   "source": [
    "#### n_correct_direction\n",
    "Plot n_correct_direction, i.e. the nuber of triples among the top 10 that are in the \"expected\" direction."
   ]
  },
  {
   "cell_type": "code",
   "execution_count": 194,
   "metadata": {},
   "outputs": [
    {
     "data": {
      "text/plain": [
       "count    360.000000\n",
       "mean       4.422222\n",
       "std        2.436847\n",
       "min        0.000000\n",
       "25%        3.000000\n",
       "50%        4.000000\n",
       "75%        6.000000\n",
       "max       10.000000\n",
       "Name: n_correct_direction, dtype: float64"
      ]
     },
     "metadata": {},
     "output_type": "display_data"
    },
    {
     "data": {
      "text/plain": [
       "count    276.000000\n",
       "mean       4.905797\n",
       "std        3.042458\n",
       "min        0.000000\n",
       "25%        2.000000\n",
       "50%        5.000000\n",
       "75%        7.000000\n",
       "max       10.000000\n",
       "Name: n_correct_direction, dtype: float64"
      ]
     },
     "metadata": {},
     "output_type": "display_data"
    },
    {
     "name": "stdout",
     "output_type": "stream",
     "text": [
      "---\n"
     ]
    },
    {
     "data": {
      "text/plain": [
       "count    360.000000\n",
       "mean       0.967444\n",
       "std        0.086557\n",
       "min        0.516628\n",
       "25%        0.985517\n",
       "50%        0.999145\n",
       "75%        0.999997\n",
       "max        1.000000\n",
       "Name: prediction_confidence, dtype: float64"
      ]
     },
     "metadata": {},
     "output_type": "display_data"
    },
    {
     "data": {
      "text/plain": [
       "count    276.000000\n",
       "mean       0.734804\n",
       "std        0.144440\n",
       "min        0.408183\n",
       "25%        0.630817\n",
       "50%        0.731010\n",
       "75%        0.870150\n",
       "max        0.991793\n",
       "Name: prediction_confidence, dtype: float64"
      ]
     },
     "execution_count": 194,
     "metadata": {},
     "output_type": "execute_result"
    }
   ],
   "source": [
    "sns.countplot(x=df[df.dataset <= 1].n_correct_direction, color=\"#0C479C\", saturation=0.5)\n",
    "plt.xlabel(\"# of triples in the expected direction\")\n",
    "plt.ylabel(\"count of explanations\")\n",
    "plt.savefig(\"expected-triple-exp-binary.pdf\")\n",
    "plt.close()\n",
    "\n",
    "sns.countplot(x=df[df.dataset > 1].n_correct_direction, color=\"#0C479C\", saturation=0.5)\n",
    "plt.xlabel(\"# of triples in the expected direction\")\n",
    "plt.ylabel(\"count of explanations\")\n",
    "plt.savefig(\"expected-triple-exp-multi.pdf\")\n",
    "plt.close()\n",
    "\n",
    "display(df[df.dataset <= 1].n_correct_direction.describe())\n",
    "display(df[df.dataset > 1].n_correct_direction.describe())\n",
    "print(\"---\")\n",
    "display(df[df.dataset <= 1].prediction_confidence.describe())\n",
    "df[df.dataset > 1].prediction_confidence.describe()"
   ]
  },
  {
   "cell_type": "markdown",
   "metadata": {},
   "source": [
    "#### R² score"
   ]
  },
  {
   "cell_type": "code",
   "execution_count": 199,
   "metadata": {},
   "outputs": [
    {
     "data": {
      "text/plain": [
       "count    636.000000\n",
       "mean       0.096557\n",
       "std        0.042314\n",
       "min        0.000000\n",
       "25%        0.066612\n",
       "50%        0.087675\n",
       "75%        0.114698\n",
       "max        0.358541\n",
       "Name: r2_score, dtype: float64"
      ]
     },
     "execution_count": 199,
     "metadata": {},
     "output_type": "execute_result"
    },
    {
     "data": {
      "image/png": "[encoded data removed]",
      "text/plain": [
       "<Figure size 500x500 with 1 Axes>"
      ]
     },
     "metadata": {},
     "output_type": "display_data"
    }
   ],
   "source": [
    "sns.displot(x=df.r2_score.sort_values().reset_index(drop=True), bins=np.arange(0,1.05,0.03), color=\"#0C479C\")\n",
    "df.r2_score.describe()"
   ]
  },
  {
   "cell_type": "markdown",
   "metadata": {},
   "source": [
    "#### Top-1 triple prediction change"
   ]
  },
  {
   "cell_type": "code",
   "execution_count": 205,
   "metadata": {},
   "outputs": [
    {
     "data": {
      "text/plain": [
       "count       636\n",
       "unique        2\n",
       "top       False\n",
       "freq        412\n",
       "dtype: object"
      ]
     },
     "execution_count": 205,
     "metadata": {},
     "output_type": "execute_result"
    }
   ],
   "source": [
    "((df.drift_top_triple / df.expected_drift)  >= 1).describe()"
   ]
  },
  {
   "cell_type": "markdown",
   "metadata": {},
   "source": [
    "#### Top-1 vs Random-1 prediction change"
   ]
  },
  {
   "cell_type": "code",
   "execution_count": 206,
   "metadata": {},
   "outputs": [
    {
     "data": {
      "text/plain": [
       "KstestResult(statistic=0.03459119496855346, pvalue=0.841623549770212)"
      ]
     },
     "execution_count": 206,
     "metadata": {},
     "output_type": "execute_result"
    }
   ],
   "source": [
    "from scipy.stats import ks_2samp\n",
    "ks_2samp(df.drift_top_triple, df.drift_random_triple)"
   ]
  },
  {
   "cell_type": "code",
   "execution_count": 196,
   "metadata": {},
   "outputs": [
    {
     "data": {
      "text/plain": [
       "count    636.000000\n",
       "mean       0.157329\n",
       "std        0.074577\n",
       "min        0.024015\n",
       "25%        0.101987\n",
       "50%        0.141948\n",
       "75%        0.198008\n",
       "max        0.468065\n",
       "Name: top_exp_ratio, dtype: float64"
      ]
     },
     "execution_count": 196,
     "metadata": {},
     "output_type": "execute_result"
    }
   ],
   "source": [
    "df.top_exp_ratio.describe()"
   ]
  },
  {
   "cell_type": "code",
   "execution_count": 74,
   "metadata": {},
   "outputs": [
    {
     "data": {
      "text/plain": [
       "count    6.370000e+02\n",
       "mean     3.036687e-04\n",
       "std      6.953619e-04\n",
       "min      0.000000e+00\n",
       "25%      9.977925e-07\n",
       "50%      6.534884e-05\n",
       "75%      3.386152e-04\n",
       "max      9.489345e-03\n",
       "Name: drift_top_triple, dtype: float64"
      ]
     },
     "execution_count": 74,
     "metadata": {},
     "output_type": "execute_result"
    }
   ],
   "source": [
    "df.abs().drift_top_triple.describe()"
   ]
  },
  {
   "cell_type": "code",
   "execution_count": 69,
   "metadata": {},
   "outputs": [
    {
     "data": {
      "text/plain": [
       "dataset                     926.000000\n",
       "entity_idx               492548.000000\n",
       "n_zeros                       0.000000\n",
       "n_correct_direction        2950.000000\n",
       "r2_score                     61.475454\n",
       "prediction_confidence       552.082552\n",
       "top_exp_ratio               100.222583\n",
       "expected_drift                0.083034\n",
       "drift_top_triple              0.193437\n",
       "drift_random_triple           0.218882\n",
       "dtype: float64"
      ]
     },
     "execution_count": 69,
     "metadata": {},
     "output_type": "execute_result"
    }
   ],
   "source": [
    "df.abs().sum()"
   ]
  },
  {
   "cell_type": "code",
   "execution_count": 80,
   "metadata": {},
   "outputs": [
    {
     "data": {
      "text/plain": [
       "count    637.0\n",
       "mean       0.0\n",
       "std        0.0\n",
       "min        0.0\n",
       "25%        0.0\n",
       "50%        0.0\n",
       "75%        0.0\n",
       "max        0.0\n",
       "Name: n_zeros, dtype: float64"
      ]
     },
     "execution_count": 80,
     "metadata": {},
     "output_type": "execute_result"
    }
   ],
   "source": [
    "df.n_zeros.describe()"
   ]
  },
  {
   "cell_type": "code",
   "execution_count": 141,
   "metadata": {},
   "outputs": [
    {
     "data": {
      "text/plain": [
       "count    360.000000\n",
       "mean       0.967444\n",
       "std        0.086557\n",
       "min        0.516628\n",
       "25%        0.985517\n",
       "50%        0.999145\n",
       "75%        0.999997\n",
       "max        1.000000\n",
       "Name: prediction_confidence, dtype: float64"
      ]
     },
     "execution_count": 141,
     "metadata": {},
     "output_type": "execute_result"
    }
   ],
   "source": [
    "df[df.dataset < 2].prediction_confidence.describe()"
   ]
  },
  {
   "cell_type": "code",
   "execution_count": 176,
   "metadata": {},
   "outputs": [
    {
     "data": {
      "text/plain": [
       "<AxesSubplot:xlabel='n_correct_direction', ylabel='count'>"
      ]
     },
     "execution_count": 176,
     "metadata": {},
     "output_type": "execute_result"
    },
    {
     "data": {
      "image/png": "[encoded data removed]",
      "text/plain": [
       "<Figure size 640x480 with 1 Axes>"
      ]
     },
     "metadata": {},
     "output_type": "display_data"
    }
   ],
   "source": []
  },
  {
   "cell_type": "code",
   "execution_count": 60,
   "metadata": {},
   "outputs": [
    {
     "data": {
      "text/plain": [
       "count    541.000000\n",
       "mean       4.439926\n",
       "std        2.665033\n",
       "min        0.000000\n",
       "25%        2.000000\n",
       "50%        4.000000\n",
       "75%        6.000000\n",
       "max       10.000000\n",
       "Name: n_correct_direction, dtype: float64"
      ]
     },
     "execution_count": 60,
     "metadata": {},
     "output_type": "execute_result"
    }
   ],
   "source": [
    "df.n_correct_direction.describe()"
   ]
  },
  {
   "cell_type": "code",
   "execution_count": 206,
   "metadata": {},
   "outputs": [],
   "source": [
    "# normal distribution -> naive approach would score the same!"
   ]
  },
  {
   "cell_type": "code",
   "execution_count": 61,
   "metadata": {},
   "outputs": [
    {
     "data": {
      "text/plain": [
       "count    541.000000\n",
       "mean       0.905417\n",
       "std        0.137505\n",
       "min        0.431938\n",
       "25%        0.856173\n",
       "50%        0.986332\n",
       "75%        0.999950\n",
       "max        1.000000\n",
       "Name: prediction_confidence, dtype: float64"
      ]
     },
     "execution_count": 61,
     "metadata": {},
     "output_type": "execute_result"
    }
   ],
   "source": [
    "df.prediction_confidence.describe()"
   ]
  },
  {
   "cell_type": "code",
   "execution_count": 94,
   "metadata": {},
   "outputs": [
    {
     "data": {
      "text/plain": [
       "<seaborn.axisgrid.FacetGrid at 0x7f8eb44f41c0>"
      ]
     },
     "execution_count": 94,
     "metadata": {},
     "output_type": "execute_result"
    },
    {
     "data": {
      "image/png": "[encoded data removed]",
      "text/plain": [
       "<Figure size 360x360 with 1 Axes>"
      ]
     },
     "metadata": {
      "needs_background": "light"
     },
     "output_type": "display_data"
    }
   ],
   "source": [
    "from matplotlib import pyplot as plt\n",
    "sns.displot(x=df.prediction_confidence.sort_values().reset_index(drop=True), bins=np.arange(0,1.05,0.1))\n",
    "#sns.lineplot(data=df.prediction_confidence.sort_values().reset_index(drop=True))\n"
   ]
  },
  {
   "cell_type": "code",
   "execution_count": 50,
   "metadata": {},
   "outputs": [
    {
     "data": {
      "text/plain": [
       "count    519.000000\n",
       "mean       0.096625\n",
       "std        0.043510\n",
       "min        0.000000\n",
       "25%        0.064678\n",
       "50%        0.088189\n",
       "75%        0.115569\n",
       "max        0.358541\n",
       "Name: r2_score, dtype: float64"
      ]
     },
     "execution_count": 50,
     "metadata": {},
     "output_type": "execute_result"
    }
   ],
   "source": []
  },
  {
   "cell_type": "code",
   "execution_count": null,
   "metadata": {},
   "outputs": [],
   "source": []
  },
  {
   "cell_type": "code",
   "execution_count": 34,
   "metadata": {},
   "outputs": [
    {
     "name": "stdout",
     "output_type": "stream",
     "text": [
      "('http://dbpedia.org/resource/Category:European_films', 'http://www.w3.org/2004/02/skos/core#broader', 'http://dbpedia.org/resource/Category:Romanian_films')\n",
      "('http://dbpedia.org/resource/Category:Abortion_by_country', 'http://www.w3.org/2004/02/skos/core#broader', 'http://dbpedia.org/resource/Category:Abortion_in_Romania')\n",
      "('http://dbpedia.org/resource/Vlad_Ivanov', 'http://dbpedia.org/ontology/occupation', 'http://dbpedia.org/resource/Vlad_Ivanov__1')\n",
      "('http://dbpedia.org/resource/Cristian_Mungiu', 'http://dbpedia.org/ontology/director', 'http://dbpedia.org/resource/4_Months,_3_Weeks_and_2_Days')\n",
      "('Abortion in Romania', 'http://www.w3.org/2004/02/skos/core#prefLabel', 'http://dbpedia.org/resource/Category:Abortion_in_Romania')\n",
      "('http://dbpedia.org/resource/Ratatouille_(film)', 'http://purl.org/dc/terms/subject', 'http://dbpedia.org/resource/Category:Animated_comedy_films')\n",
      "('http://xmlns.com/foaf/0.1/Person', 'http://www.w3.org/1999/02/22-rdf-syntax-ns#type', \"http://dbpedia.org/resource/Peter_O'Toole\")\n",
      "('http://dbpedia.org/resource/Brad_Bird', 'http://dbpedia.org/ontology/writer', 'http://dbpedia.org/resource/Ratatouille_(film)')\n",
      "('http://www.w3.org/2004/02/skos/core#Concept', 'http://www.w3.org/1999/02/22-rdf-syntax-ns#type', 'http://dbpedia.org/resource/Category:Ratatouille_(film)')\n",
      "('http://dbpedia.org/resource/Category:Works_about_cooking', 'http://www.w3.org/2004/02/skos/core#broader', 'http://dbpedia.org/resource/Category:Cooking_films')\n",
      "('http://dbpedia.org/resource/Charles_Burnett_(director)', 'http://www.w3.org/1999/02/22-rdf-syntax-ns#type', 'http://www.w3.org/2002/07/owl#Thing')\n",
      "('http://dbpedia.org/resource/Killer_of_Sheep', 'http://www.w3.org/1999/02/22-rdf-syntax-ns#type', 'http://dbpedia.org/ontology/Film')\n",
      "('http://dbpedia.org/resource/Category:American_male_film_actors', 'http://purl.org/dc/terms/subject', 'http://dbpedia.org/resource/Henry_G._Sanders')\n",
      "('http://dbpedia.org/resource/Killer_of_Sheep', 'http://purl.org/dc/terms/subject', 'http://dbpedia.org/resource/Category:Social_realism_in_film')\n",
      "('http://dbpedia.org/resource/Category:Entertainment_in_the_United_States', 'http://www.w3.org/2004/02/skos/core#broader', 'http://dbpedia.org/resource/Category:American_films')\n",
      "('http://dbpedia.org/resource/Film_director', 'http://dbpedia.org/ontology/occupation', 'http://dbpedia.org/resource/Alexander_Payne')\n",
      "('http://dbpedia.org/resource/Category:American_romance_films', 'http://www.w3.org/2004/02/skos/core#broader', 'http://dbpedia.org/resource/Category:American_romantic_drama_films')\n",
      "('http://dbpedia.org/resource/Category:Cinema_of_the_United_States', 'http://www.w3.org/2004/02/skos/core#broader', 'http://dbpedia.org/resource/Category:American_films')\n",
      "('http://dbpedia.org/resource/Category:Best_Adapted_Screenplay_Academy_Award_winners', 'http://purl.org/dc/terms/subject', 'http://dbpedia.org/resource/Alexander_Payne')\n",
      "('http://dbpedia.org/resource/Category:Films_by_genre', 'http://www.w3.org/2004/02/skos/core#broader', 'http://dbpedia.org/resource/Category:Buddy_films')\n",
      "('http://dbpedia.org/resource/Category:Computer-animated_films', 'http://www.w3.org/2004/02/skos/core#prefLabel', 'Computer-animated films')\n",
      "('http://xmlns.com/foaf/0.1/Person', 'http://www.w3.org/1999/02/22-rdf-syntax-ns#type', 'http://dbpedia.org/resource/Manish_Acharya')\n",
      "('http://schema.org/Person', 'http://www.w3.org/1999/02/22-rdf-syntax-ns#type', 'http://dbpedia.org/resource/Nina_Paley')\n",
      "('http://www.ontologydesignpatterns.org/ont/dul/DUL.owl#NaturalPerson', 'http://www.w3.org/1999/02/22-rdf-syntax-ns#type', 'http://dbpedia.org/resource/Manish_Acharya')\n",
      "('http://dbpedia.org/resource/Jazz', 'http://dbpedia.org/ontology/genre', 'http://dbpedia.org/resource/Annette_Hanshaw')\n",
      "('http://dbpedia.org/resource/Category:English_male_Shakespearean_actors', 'http://purl.org/dc/terms/subject', 'http://dbpedia.org/resource/Ralph_Fiennes')\n",
      "('Films whose director won the Best Direction BAFTA Award', 'http://www.w3.org/2004/02/skos/core#prefLabel', 'http://dbpedia.org/resource/Category:Films_whose_director_won_the_Best_Direction_BAFTA_Award')\n",
      "('http://www.w3.org/2004/02/skos/core#Concept', 'http://www.w3.org/1999/02/22-rdf-syntax-ns#type', 'http://dbpedia.org/resource/Category:Films_whose_writer_won_the_Best_Original_Screenplay_Academy_Award')\n",
      "('http://dbpedia.org/resource/Category:American_films_by_studio', 'http://www.w3.org/2004/02/skos/core#broader', 'http://dbpedia.org/resource/Category:Lions_Gate_Entertainment_films')\n",
      "('http://dbpedia.org/resource/Category:1974_births', 'http://purl.org/dc/terms/subject', 'http://dbpedia.org/resource/Nicolas_Chartier')\n",
      "('http://www.w3.org/2004/02/skos/core#Concept', 'http://www.w3.org/1999/02/22-rdf-syntax-ns#type', 'http://dbpedia.org/resource/Category:Films_shot_in_Wyoming')\n",
      "('http://dbpedia.org/resource/Category:Films_shot_in_the_United_States_by_city', 'http://www.w3.org/2004/02/skos/core#broader', 'http://dbpedia.org/resource/Category:Films_shot_in_Mobile,_Alabama')\n",
      "('http://schema.org/Person', 'http://www.w3.org/1999/02/22-rdf-syntax-ns#type', 'http://dbpedia.org/resource/Julia_Phillips')\n",
      "('http://dbpedia.org/resource/Category:Films_shot_in_Alabama', 'http://www.w3.org/2004/02/skos/core#broader', 'http://dbpedia.org/resource/Category:Films_shot_in_Mobile,_Alabama')\n",
      "('http://www.w3.org/2002/07/owl#Thing', 'http://www.w3.org/1999/02/22-rdf-syntax-ns#type', 'http://dbpedia.org/resource/Vilmos_Zsigmond')\n",
      "('Science fiction adventure films', 'http://www.w3.org/2004/02/skos/core#prefLabel', 'http://dbpedia.org/resource/Category:Science_fiction_adventure_films')\n",
      "('Screenplays by George Lucas', 'http://www.w3.org/2004/02/skos/core#prefLabel', 'http://dbpedia.org/resource/Category:Screenplays_by_George_Lucas')\n",
      "('http://dbpedia.org/resource/Cultural_impact_of_Star_Wars', 'http://purl.org/dc/terms/subject', 'http://dbpedia.org/resource/Category:Films_in_popular_culture')\n",
      "('http://dbpedia.org/resource/Category:Films_whose_art_director_won_the_Best_Art_Direction_Academy_Award', 'http://purl.org/dc/terms/subject', 'http://dbpedia.org/resource/Star_Wars_(film)')\n",
      "('http://dbpedia.org/resource/Category:Disney_films', 'http://www.w3.org/2004/02/skos/core#broader', 'http://dbpedia.org/resource/Category:Lucasfilm_films')\n",
      "('http://dbpedia.org/resource/Category:Languages_of_Ivory_Coast', 'http://purl.org/dc/terms/subject', 'http://dbpedia.org/resource/Bambara_language')\n",
      "('http://dbpedia.org/resource/Moolaadé', 'http://purl.org/dc/terms/subject', 'http://dbpedia.org/resource/Category:Films_shot_in_Senegal')\n",
      "('http://dbpedia.org/resource/Moolaadé', 'http://dbpedia.org/ontology/starring', 'http://dbpedia.org/resource/Fatoumata_Coulibaly')\n",
      "('http://dbpedia.org/ontology/Wikidata:Q11424', 'http://www.w3.org/1999/02/22-rdf-syntax-ns#type', 'http://dbpedia.org/resource/Moolaadé')\n",
      "('http://www.w3.org/2004/02/skos/core#Concept', 'http://www.w3.org/1999/02/22-rdf-syntax-ns#type', 'http://dbpedia.org/resource/Category:Cameroonian_films')\n",
      "('http://dbpedia.org/resource/Category:Films_featuring_a_Best_Actor_Lumières_Award_winning_performance', 'http://purl.org/dc/terms/subject', 'http://dbpedia.org/resource/A_Prophet')\n",
      "('Corsican-language films', 'http://www.w3.org/2004/02/skos/core#prefLabel', 'http://dbpedia.org/resource/Category:Corsican-language_films')\n",
      "('http://dbpedia.org/resource/A_Prophet', 'http://dbpedia.org/ontology/producer', 'http://dbpedia.org/resource/Martine_Cassinelli')\n",
      "('http://www.wikidata.org/entity/Q5', 'http://www.w3.org/1999/02/22-rdf-syntax-ns#type', 'http://dbpedia.org/resource/Thomas_Bidegain')\n",
      "('http://dbpedia.org/resource/Category:Corsican-language_films', 'http://purl.org/dc/terms/subject', 'http://dbpedia.org/resource/A_Prophet')\n",
      "('http://dbpedia.org/resource/Category:Films_shot_in_Paris', 'http://www.w3.org/2004/02/skos/core#broader', 'http://dbpedia.org/resource/Category:Films_shot_in_France')\n",
      "('http://dbpedia.org/resource/Category:American_romantic_drama_films', 'http://www.w3.org/2004/02/skos/core#prefLabel', 'American romantic drama films')\n",
      "('http://www.wikidata.org/entity/Q215627', 'http://www.w3.org/1999/02/22-rdf-syntax-ns#type', 'http://dbpedia.org/resource/Lee_Daniel')\n",
      "('http://wip.warnerbros.com/', 'http://xmlns.com/foaf/0.1/homepage', 'http://dbpedia.org/resource/Warner_Independent_Pictures')\n",
      "('http://dbpedia.org/resource/Category:Best_Director_Golden_Globe_winners', 'http://purl.org/dc/terms/subject', 'http://dbpedia.org/resource/Richard_Linklater')\n",
      "('http://xmlns.com/foaf/0.1/Person', 'http://www.w3.org/1999/02/22-rdf-syntax-ns#type', 'http://dbpedia.org/resource/Andrea_Morricone')\n",
      "('http://dbpedia.org/ontology/Agent', 'http://www.w3.org/1999/02/22-rdf-syntax-ns#type', 'http://dbpedia.org/resource/Magnolia_Pictures')\n",
      "('http://dbpedia.org/resource/Category:University_of_Southern_California_alumni', 'http://purl.org/dc/terms/subject', 'http://dbpedia.org/resource/Marc_Smerling')\n",
      "('http://dbpedia.org/resource/Category:Year_of_birth_missing_(living_people)', 'http://purl.org/dc/terms/subject', 'http://dbpedia.org/resource/Marc_Smerling')\n",
      "('http://www.w3.org/2002/07/owl#Thing', 'http://www.w3.org/1999/02/22-rdf-syntax-ns#type', 'http://dbpedia.org/resource/Marc_Smerling')\n",
      "('http://www.w3.org/2004/02/skos/core#Concept', 'http://www.w3.org/1999/02/22-rdf-syntax-ns#type', 'http://dbpedia.org/resource/Category:Best_Animated_Feature_Broadcast_Film_Critics_Association_Award_winners')\n",
      "('http://dbpedia.org/resource/Category:Films_set_in_the_Pacific_Ocean', 'http://purl.org/dc/terms/subject', 'http://dbpedia.org/resource/Finding_Nemo')\n",
      "('http://dbpedia.org/resource/Category:Walt_Disney_Pictures_films', 'http://www.w3.org/2004/02/skos/core#broader', 'http://dbpedia.org/resource/Category:American_films_by_studio')\n",
      "('http://dbpedia.org/resource/Category:Directors_of_Best_Animated_Feature_Academy_Award_winners', 'http://purl.org/dc/terms/subject', 'http://dbpedia.org/resource/Andrew_Stanton')\n",
      "('Animated duos', 'http://www.w3.org/2004/02/skos/core#prefLabel', 'http://dbpedia.org/resource/Category:Animated_duos')\n",
      "('Films featuring a Best Supporting Actress Academy Award winning performance', 'http://www.w3.org/2004/02/skos/core#prefLabel', 'http://dbpedia.org/resource/Category:Films_featuring_a_Best_Supporting_Actress_Academy_Award_winning_performance')\n",
      "('http://dbpedia.org/resource/Italy', 'http://dbpedia.org/ontology/deathPlace', 'http://dbpedia.org/resource/Carlo_Di_Palma')\n",
      "('http://dbpedia.org/resource/Category:American_women_screenwriters', 'http://purl.org/dc/terms/subject', 'http://dbpedia.org/resource/Carrie_Fisher')\n",
      "('http://dbpedia.org/ontology/Agent', 'http://www.w3.org/1999/02/22-rdf-syntax-ns#type', 'http://dbpedia.org/resource/Woody_Allen')\n",
      "(\"http://dbpedia.org/resource/Maureen_O'Sullivan\", 'http://dbpedia.org/ontology/parent', 'http://dbpedia.org/resource/Mia_Farrow')\n",
      "('http://dbpedia.org/resource/Raiders_of_the_Lost_Ark', 'http://purl.org/dc/terms/subject', 'http://dbpedia.org/resource/Category:Paramount_Pictures_films')\n",
      "('http://dbpedia.org/resource/Category:Culture_of_San_Francisco,_California', 'http://www.w3.org/2004/02/skos/core#broader', 'http://dbpedia.org/resource/Category:Films_shot_in_San_Francisco,_California')\n",
      "('http://dbpedia.org/resource/Category:Viacom_subsidiaries', 'http://purl.org/dc/terms/subject', 'http://dbpedia.org/resource/Paramount_Pictures')\n",
      "('http://www.w3.org/2004/02/skos/core#Concept', 'http://www.w3.org/1999/02/22-rdf-syntax-ns#type', 'http://dbpedia.org/resource/Category:Films_shot_in_Tunisia')\n",
      "('http://dbpedia.org/resource/List_of_Indiana_Jones_characters', 'http://www.w3.org/2000/01/rdf-schema#seeAlso', 'http://dbpedia.org/resource/Raiders_of_the_Lost_Ark')\n",
      "('http://dbpedia.org/resource/Category:North_Carolina_in_fiction', 'http://www.w3.org/2004/02/skos/core#broader', 'http://dbpedia.org/resource/Category:Films_set_in_North_Carolina')\n",
      "('http://www.w3.org/2004/02/skos/core#Concept', 'http://www.w3.org/1999/02/22-rdf-syntax-ns#type', 'http://dbpedia.org/resource/Category:Films_directed_by_Ramin_Bahrani')\n",
      "('http://dbpedia.org/ontology/Person', 'http://www.w3.org/1999/02/22-rdf-syntax-ns#type', 'http://dbpedia.org/resource/Ramin_Bahrani')\n",
      "('http://dbpedia.org/resource/Category:Ivorian_emigrants_to_the_United_States', 'http://purl.org/dc/terms/subject', 'http://dbpedia.org/resource/Souléymane_Sy_Savané')\n",
      "('http://dbpedia.org/resource/Winston-Salem,_North_Carolina', 'http://dbpedia.org/ontology/birthPlace', 'http://dbpedia.org/resource/Ramin_Bahrani')\n"
     ]
    },
    {
     "data": {
      "image/png": "[encoded data removed]",
      "text/plain": [
       "<Figure size 288x720 with 1 Axes>"
      ]
     },
     "metadata": {
      "needs_background": "light"
     },
     "output_type": "display_data"
    }
   ],
   "source": [
    "explanations = pd.DataFrame()\n",
    "\n",
    "for i in range(16):\n",
    "    with open(f\"explanation-{i}\", \"rb\") as f:\n",
    "        explanation, perturbed_predictions = pickle.load(f)\n",
    "        entity = movies[i]\n",
    "        \n",
    "        for idx, exp in enumerate(explanation.as_list()[:5]):\n",
    "            entry = {\n",
    "                \"entity_id\": i,\n",
    "                \"entity_name\": movies[i].split(\"/\")[-1],\n",
    "                \"explanation_index\": idx,\n",
    "                \"explanation\": exp[0],\n",
    "                \"explanation_indicator\": exp[1],\n",
    "                \"original_prediction\": clf.predict_proba([rdf2vec_transformer._embeddings[i]])[0][1],\n",
    "                \"new_prediction\": check_explanation(entity, exp)[0][1],\n",
    "            }\n",
    "            entry[\"prediction_delta\"] = entry[\"new_prediction\"] - entry[\"original_prediction\"]\n",
    "            entry[\"explanation_factor\"] = entry[\"prediction_delta\"] / entry[\"explanation_indicator\"]\n",
    "            explanations = explanations.append(entry, ignore_index=True)\n",
    "\n",
    "        if i==0:\n",
    "            explanation.domain_mapper.short_uris=True\n",
    "            explanation.as_pyplot_figure(figsize=(4, 10))\n",
    "            explanation.domain_mapper.short_uris=False\n"
   ]
  },
  {
   "cell_type": "code",
   "execution_count": 35,
   "metadata": {},
   "outputs": [
    {
     "data": {
      "text/html": [
       "<div>\n",
       "<style scoped>\n",
       "    .dataframe tbody tr th:only-of-type {\n",
       "        vertical-align: middle;\n",
       "    }\n",
       "\n",
       "    .dataframe tbody tr th {\n",
       "        vertical-align: top;\n",
       "    }\n",
       "\n",
       "    .dataframe thead th {\n",
       "        text-align: right;\n",
       "    }\n",
       "</style>\n",
       "<table border=\"1\" class=\"dataframe\">\n",
       "  <thead>\n",
       "    <tr style=\"text-align: right;\">\n",
       "      <th></th>\n",
       "      <th>entity_id</th>\n",
       "      <th>entity_name</th>\n",
       "      <th>explanation</th>\n",
       "      <th>explanation_factor</th>\n",
       "      <th>explanation_index</th>\n",
       "      <th>explanation_indicator</th>\n",
       "      <th>new_prediction</th>\n",
       "      <th>original_prediction</th>\n",
       "      <th>prediction_delta</th>\n",
       "    </tr>\n",
       "  </thead>\n",
       "  <tbody>\n",
       "    <tr>\n",
       "      <th>0</th>\n",
       "      <td>0.0</td>\n",
       "      <td>4_Months,_3_Weeks_and_2_Days</td>\n",
       "      <td>(http://dbpedia.org/resource/4_Months,_3_Weeks...</td>\n",
       "      <td>6.659259</td>\n",
       "      <td>0.0</td>\n",
       "      <td>0.000003</td>\n",
       "      <td>0.993284</td>\n",
       "      <td>0.993266</td>\n",
       "      <td>0.000018</td>\n",
       "    </tr>\n",
       "    <tr>\n",
       "      <th>1</th>\n",
       "      <td>0.0</td>\n",
       "      <td>4_Months,_3_Weeks_and_2_Days</td>\n",
       "      <td>(http://dbpedia.org/resource/Vlad_Ivanov, http...</td>\n",
       "      <td>5.003005</td>\n",
       "      <td>1.0</td>\n",
       "      <td>0.000003</td>\n",
       "      <td>0.993279</td>\n",
       "      <td>0.993266</td>\n",
       "      <td>0.000013</td>\n",
       "    </tr>\n",
       "    <tr>\n",
       "      <th>2</th>\n",
       "      <td>0.0</td>\n",
       "      <td>4_Months,_3_Weeks_and_2_Days</td>\n",
       "      <td>(http://dbpedia.org/resource/4_Months,_3_Weeks...</td>\n",
       "      <td>9.421225</td>\n",
       "      <td>2.0</td>\n",
       "      <td>0.000002</td>\n",
       "      <td>0.993285</td>\n",
       "      <td>0.993266</td>\n",
       "      <td>0.000018</td>\n",
       "    </tr>\n",
       "    <tr>\n",
       "      <th>3</th>\n",
       "      <td>0.0</td>\n",
       "      <td>4_Months,_3_Weeks_and_2_Days</td>\n",
       "      <td>(http://dbpedia.org/resource/4_Months,_3_Weeks...</td>\n",
       "      <td>7.414963</td>\n",
       "      <td>3.0</td>\n",
       "      <td>0.000001</td>\n",
       "      <td>0.993277</td>\n",
       "      <td>0.993266</td>\n",
       "      <td>0.000011</td>\n",
       "    </tr>\n",
       "    <tr>\n",
       "      <th>4</th>\n",
       "      <td>0.0</td>\n",
       "      <td>4_Months,_3_Weeks_and_2_Days</td>\n",
       "      <td>(http://dbpedia.org/resource/Romania, http://d...</td>\n",
       "      <td>16.233061</td>\n",
       "      <td>4.0</td>\n",
       "      <td>0.000001</td>\n",
       "      <td>0.993285</td>\n",
       "      <td>0.993266</td>\n",
       "      <td>0.000019</td>\n",
       "    </tr>\n",
       "    <tr>\n",
       "      <th>...</th>\n",
       "      <td>...</td>\n",
       "      <td>...</td>\n",
       "      <td>...</td>\n",
       "      <td>...</td>\n",
       "      <td>...</td>\n",
       "      <td>...</td>\n",
       "      <td>...</td>\n",
       "      <td>...</td>\n",
       "      <td>...</td>\n",
       "    </tr>\n",
       "    <tr>\n",
       "      <th>75</th>\n",
       "      <td>15.0</td>\n",
       "      <td>Goodbye_Solo</td>\n",
       "      <td>(http://dbpedia.org/resource/Category:Films_di...</td>\n",
       "      <td>-5.841992</td>\n",
       "      <td>0.0</td>\n",
       "      <td>0.000245</td>\n",
       "      <td>0.686022</td>\n",
       "      <td>0.687451</td>\n",
       "      <td>-0.001430</td>\n",
       "    </tr>\n",
       "    <tr>\n",
       "      <th>76</th>\n",
       "      <td>15.0</td>\n",
       "      <td>Goodbye_Solo</td>\n",
       "      <td>(http://dbpedia.org/resource/Goodbye_Solo, htt...</td>\n",
       "      <td>-2.293056</td>\n",
       "      <td>1.0</td>\n",
       "      <td>0.000242</td>\n",
       "      <td>0.686897</td>\n",
       "      <td>0.687451</td>\n",
       "      <td>-0.000554</td>\n",
       "    </tr>\n",
       "    <tr>\n",
       "      <th>77</th>\n",
       "      <td>15.0</td>\n",
       "      <td>Goodbye_Solo</td>\n",
       "      <td>(http://dbpedia.org/resource/Goodbye_Solo, htt...</td>\n",
       "      <td>-0.345438</td>\n",
       "      <td>2.0</td>\n",
       "      <td>-0.000239</td>\n",
       "      <td>0.687534</td>\n",
       "      <td>0.687451</td>\n",
       "      <td>0.000083</td>\n",
       "    </tr>\n",
       "    <tr>\n",
       "      <th>78</th>\n",
       "      <td>15.0</td>\n",
       "      <td>Goodbye_Solo</td>\n",
       "      <td>(http://dbpedia.org/resource/Goodbye_Solo, htt...</td>\n",
       "      <td>2.407875</td>\n",
       "      <td>3.0</td>\n",
       "      <td>-0.000157</td>\n",
       "      <td>0.687074</td>\n",
       "      <td>0.687451</td>\n",
       "      <td>-0.000377</td>\n",
       "    </tr>\n",
       "    <tr>\n",
       "      <th>79</th>\n",
       "      <td>15.0</td>\n",
       "      <td>Goodbye_Solo</td>\n",
       "      <td>(http://schema.org/CreativeWork, http://www.w3...</td>\n",
       "      <td>-0.176021</td>\n",
       "      <td>4.0</td>\n",
       "      <td>0.000135</td>\n",
       "      <td>0.687428</td>\n",
       "      <td>0.687451</td>\n",
       "      <td>-0.000024</td>\n",
       "    </tr>\n",
       "  </tbody>\n",
       "</table>\n",
       "<p>80 rows × 9 columns</p>\n",
       "</div>"
      ],
      "text/plain": [
       "    entity_id                   entity_name  \\\n",
       "0         0.0  4_Months,_3_Weeks_and_2_Days   \n",
       "1         0.0  4_Months,_3_Weeks_and_2_Days   \n",
       "2         0.0  4_Months,_3_Weeks_and_2_Days   \n",
       "3         0.0  4_Months,_3_Weeks_and_2_Days   \n",
       "4         0.0  4_Months,_3_Weeks_and_2_Days   \n",
       "..        ...                           ...   \n",
       "75       15.0                  Goodbye_Solo   \n",
       "76       15.0                  Goodbye_Solo   \n",
       "77       15.0                  Goodbye_Solo   \n",
       "78       15.0                  Goodbye_Solo   \n",
       "79       15.0                  Goodbye_Solo   \n",
       "\n",
       "                                          explanation  explanation_factor  \\\n",
       "0   (http://dbpedia.org/resource/4_Months,_3_Weeks...            6.659259   \n",
       "1   (http://dbpedia.org/resource/Vlad_Ivanov, http...            5.003005   \n",
       "2   (http://dbpedia.org/resource/4_Months,_3_Weeks...            9.421225   \n",
       "3   (http://dbpedia.org/resource/4_Months,_3_Weeks...            7.414963   \n",
       "4   (http://dbpedia.org/resource/Romania, http://d...           16.233061   \n",
       "..                                                ...                 ...   \n",
       "75  (http://dbpedia.org/resource/Category:Films_di...           -5.841992   \n",
       "76  (http://dbpedia.org/resource/Goodbye_Solo, htt...           -2.293056   \n",
       "77  (http://dbpedia.org/resource/Goodbye_Solo, htt...           -0.345438   \n",
       "78  (http://dbpedia.org/resource/Goodbye_Solo, htt...            2.407875   \n",
       "79  (http://schema.org/CreativeWork, http://www.w3...           -0.176021   \n",
       "\n",
       "    explanation_index  explanation_indicator  new_prediction  \\\n",
       "0                 0.0               0.000003        0.993284   \n",
       "1                 1.0               0.000003        0.993279   \n",
       "2                 2.0               0.000002        0.993285   \n",
       "3                 3.0               0.000001        0.993277   \n",
       "4                 4.0               0.000001        0.993285   \n",
       "..                ...                    ...             ...   \n",
       "75                0.0               0.000245        0.686022   \n",
       "76                1.0               0.000242        0.686897   \n",
       "77                2.0              -0.000239        0.687534   \n",
       "78                3.0              -0.000157        0.687074   \n",
       "79                4.0               0.000135        0.687428   \n",
       "\n",
       "    original_prediction  prediction_delta  \n",
       "0              0.993266          0.000018  \n",
       "1              0.993266          0.000013  \n",
       "2              0.993266          0.000018  \n",
       "3              0.993266          0.000011  \n",
       "4              0.993266          0.000019  \n",
       "..                  ...               ...  \n",
       "75             0.687451         -0.001430  \n",
       "76             0.687451         -0.000554  \n",
       "77             0.687451          0.000083  \n",
       "78             0.687451         -0.000377  \n",
       "79             0.687451         -0.000024  \n",
       "\n",
       "[80 rows x 9 columns]"
      ]
     },
     "execution_count": 35,
     "metadata": {},
     "output_type": "execute_result"
    }
   ],
   "source": [
    "explanations"
   ]
  },
  {
   "cell_type": "code",
   "execution_count": 36,
   "metadata": {},
   "outputs": [
    {
     "data": {
      "text/plain": [
       "<AxesSubplot:>"
      ]
     },
     "execution_count": 36,
     "metadata": {},
     "output_type": "execute_result"
    },
    {
     "data": {
      "image/png": "[encoded data removed]",
      "text/plain": [
       "<Figure size 432x288 with 1 Axes>"
      ]
     },
     "metadata": {
      "needs_background": "light"
     },
     "output_type": "display_data"
    }
   ],
   "source": [
    "explanations.explanation_factor.hist(bins=30)"
   ]
  },
  {
   "cell_type": "code",
   "execution_count": 37,
   "metadata": {},
   "outputs": [
    {
     "data": {
      "text/plain": [
       "count    80.000000\n",
       "mean      2.935684\n",
       "std       4.903636\n",
       "min      -9.112430\n",
       "25%      -0.872708\n",
       "50%       2.559983\n",
       "75%       6.946342\n",
       "max      16.233061\n",
       "Name: explanation_factor, dtype: float64"
      ]
     },
     "execution_count": 37,
     "metadata": {},
     "output_type": "execute_result"
    }
   ],
   "source": [
    "explanations.explanation_factor.describe()"
   ]
  },
  {
   "cell_type": "code",
   "execution_count": 38,
   "metadata": {},
   "outputs": [
    {
     "data": {
      "text/plain": [
       "0.35"
      ]
     },
     "execution_count": 38,
     "metadata": {},
     "output_type": "execute_result"
    }
   ],
   "source": [
    "# Fraction of negative explanation_factors\n",
    "len(explanations[explanations.explanation_factor < 0]) / len(explanations)"
   ]
  },
  {
   "cell_type": "code",
   "execution_count": 39,
   "metadata": {},
   "outputs": [
    {
     "data": {
      "text/plain": [
       "0.01378369022520114"
      ]
     },
     "execution_count": 39,
     "metadata": {},
     "output_type": "execute_result"
    }
   ],
   "source": [
    "explanations.prediction_delta.abs().sum()"
   ]
  },
  {
   "cell_type": "code",
   "execution_count": 40,
   "metadata": {},
   "outputs": [],
   "source": [
    "x = 0.014858028851393373"
   ]
  },
  {
   "cell_type": "code",
   "execution_count": null,
   "metadata": {},
   "outputs": [],
   "source": []
  }
 ],
 "metadata": {
  "kernelspec": {
   "display_name": "Python 3.8.10 ('rdflime-util-38nYTMWP-py3.8')",
   "language": "python",
   "name": "python3"
  },
  "language_info": {
   "codemirror_mode": {
    "name": "ipython",
    "version": 3
   },
   "file_extension": ".py",
   "mimetype": "text/x-python",
   "name": "python",
   "nbconvert_exporter": "python",
   "pygments_lexer": "ipython3",
   "version": "3.8.10"
  },
  "orig_nbformat": 4,
  "vscode": {
   "interpreter": {
    "hash": "086e9d79f4fdea1d9576d19d588b9175a02cd7cdd421f723b48d3c7f32c0f2e4"
   }
  }
 },
 "nbformat": 4,
 "nbformat_minor": 2
}
