{
 "cells": [
  {
   "cell_type": "markdown",
   "metadata": {},
   "source": [
    "### Word2Vec Minimal PoC\n",
    "\n",
    "This notebook shows that we can create artificial embeddings that are similar to their original."
   ]
  },
  {
   "cell_type": "code",
   "execution_count": 1,
   "metadata": {},
   "outputs": [],
   "source": [
    "import gensim.downloader as api\n",
    "from gensim.models.word2vec import Word2Vec\n",
    "import numpy as np\n",
    "\n",
    "# Calculate initial text embeddings for the \"text8\" dataset\n",
    "dataset = api.load(\"text8\")\n",
    "model = Word2Vec(dataset)"
   ]
  },
  {
   "cell_type": "code",
   "execution_count": 10,
   "metadata": {},
   "outputs": [
    {
     "data": {
      "text/plain": [
       "[('topological', 0.8520455956459045),\n",
       " ('scalar', 0.8470284938812256),\n",
       " ('matrix', 0.8333741426467896),\n",
       " ('inverse', 0.8174808025360107),\n",
       " ('orthogonal', 0.8171056509017944),\n",
       " ('euclidean', 0.8150019645690918),\n",
       " ('linear', 0.8076074123382568),\n",
       " ('topology', 0.8004781007766724),\n",
       " ('associative', 0.8003930449485779),\n",
       " ('banach', 0.7997741103172302)]"
      ]
     },
     "execution_count": 10,
     "metadata": {},
     "output_type": "execute_result"
    }
   ],
   "source": [
    "word_of_interest = \"vector\"\n",
    "\n",
    "# Check closest words to word_of_interest\n",
    "model.wv.most_similar(word_of_interest)"
   ]
  },
  {
   "cell_type": "code",
   "execution_count": 11,
   "metadata": {},
   "outputs": [],
   "source": [
    "update = []\n",
    "\n",
    "# Create an updated set of words with all instances of word_of_interest replaced by an artificial entity\n",
    "for part in dataset:\n",
    "    update.append([w if w != word_of_interest else word_of_interest+\"_\" for w in part])"
   ]
  },
  {
   "cell_type": "code",
   "execution_count": 12,
   "metadata": {},
   "outputs": [],
   "source": [
    "# Extend vocab with the new word\n",
    "model.build_vocab(update, update=True)"
   ]
  },
  {
   "cell_type": "code",
   "execution_count": 13,
   "metadata": {},
   "outputs": [],
   "source": [
    "# Optional: lock existing words against change\n",
    "v = np.zeros(len(model.wv.vectors), np.float32)\n",
    "v[-1] = 1\n",
    "model.wv.vectors_lockf = v"
   ]
  },
  {
   "cell_type": "code",
   "execution_count": 14,
   "metadata": {},
   "outputs": [
    {
     "data": {
      "text/plain": [
       "(62530208, 85026035)"
      ]
     },
     "execution_count": 14,
     "metadata": {},
     "output_type": "execute_result"
    }
   ],
   "source": [
    "# Continue training with the update\n",
    "# Notice: No warning about alpha given\n",
    "model.train(update, total_examples=model.corpus_count, epochs=model.epochs)"
   ]
  },
  {
   "cell_type": "code",
   "execution_count": 18,
   "metadata": {},
   "outputs": [
    {
     "data": {
      "text/plain": [
       "[('vector_', 0.9323139786720276),\n",
       " ('topological', 0.8520455956459045),\n",
       " ('scalar', 0.8470284938812256),\n",
       " ('matrix', 0.8333741426467896),\n",
       " ('inverse', 0.8174808025360107),\n",
       " ('orthogonal', 0.8171056509017944),\n",
       " ('euclidean', 0.8150019645690918),\n",
       " ('linear', 0.8076074123382568),\n",
       " ('topology', 0.8004781007766724),\n",
       " ('associative', 0.8003930449485779)]"
      ]
     },
     "execution_count": 18,
     "metadata": {},
     "output_type": "execute_result"
    }
   ],
   "source": [
    "# Demonstrate that the artificial word is very close to the original in terms of cosine distance\n",
    "model.wv.most_similar(word_of_interest)"
   ]
  },
  {
   "cell_type": "code",
   "execution_count": null,
   "metadata": {},
   "outputs": [],
   "source": []
  }
 ],
 "metadata": {
  "interpreter": {
   "hash": "fc6f725a70bbe8041c097ab7eae8aeb625a2cc94c1af18b785b9d981852f3aec"
  },
  "kernelspec": {
   "display_name": "Python 3.10.4 ('rdflime-util-cLuY5sAo-py3.10')",
   "language": "python",
   "name": "python3"
  },
  "language_info": {
   "codemirror_mode": {
    "name": "ipython",
    "version": 3
   },
   "file_extension": ".py",
   "mimetype": "text/x-python",
   "name": "python",
   "nbconvert_exporter": "python",
   "pygments_lexer": "ipython3",
   "version": "3.10.4"
  },
  "orig_nbformat": 4
 },
 "nbformat": 4,
 "nbformat_minor": 2
}
