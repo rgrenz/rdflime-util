{
 "cells": [
  {
   "cell_type": "markdown",
   "metadata": {},
   "source": [
    "### Word2Vec Minimal PoC\n",
    "\n",
    "This notebook shows that we can create artificial embeddings that are similar to their original."
   ]
  },
  {
   "cell_type": "code",
   "execution_count": 36,
   "metadata": {},
   "outputs": [],
   "source": [
    "import gensim.downloader as api\n",
    "from gensim.models.word2vec import Word2Vec\n",
    "import numpy as np\n",
    "\n",
    "# Calculate initial text embeddings for the \"text8\" dataset\n",
    "dataset = api.load(\"text8\")\n",
    "model = Word2Vec(dataset)"
   ]
  },
  {
   "cell_type": "code",
   "execution_count": 37,
   "metadata": {},
   "outputs": [
    {
     "data": {
      "text/plain": [
       "[('spacecraft', 0.6211189031600952),\n",
       " ('shuttle', 0.6114946603775024),\n",
       " ('spaces', 0.6003172993659973),\n",
       " ('probe', 0.5929622650146484),\n",
       " ('orbit', 0.5790212750434875),\n",
       " ('probes', 0.5662890076637268),\n",
       " ('manned', 0.565723180770874),\n",
       " ('satellites', 0.5644378066062927),\n",
       " ('planet', 0.5641493201255798),\n",
       " ('plane', 0.5581268072128296)]"
      ]
     },
     "execution_count": 37,
     "metadata": {},
     "output_type": "execute_result"
    }
   ],
   "source": [
    "word_of_interest = \"space\"\n",
    "\n",
    "# Check closest words to word_of_interest\n",
    "model.wv.most_similar(word_of_interest)"
   ]
  },
  {
   "cell_type": "code",
   "execution_count": 38,
   "metadata": {},
   "outputs": [],
   "source": [
    "update = []\n",
    "\n",
    "# Create an updated set of words with all instances of word_of_interest replaced by an artificial entity\n",
    "for part in dataset:\n",
    "    update.append([w if w != word_of_interest else word_of_interest+\"_\" for w in part])"
   ]
  },
  {
   "cell_type": "code",
   "execution_count": 39,
   "metadata": {},
   "outputs": [],
   "source": [
    "# Extend vocab with the new word\n",
    "model.build_vocab(update, update=True)"
   ]
  },
  {
   "cell_type": "code",
   "execution_count": 40,
   "metadata": {},
   "outputs": [],
   "source": [
    "# Optional: lock existing words against change\n",
    "v = np.zeros(len(model.wv.vectors), np.float32)\n",
    "v[-1] = 1\n",
    "model.wv.vectors_lockf = v"
   ]
  },
  {
   "cell_type": "code",
   "execution_count": 41,
   "metadata": {},
   "outputs": [
    {
     "data": {
      "text/plain": [
       "(62528163, 85026035)"
      ]
     },
     "execution_count": 41,
     "metadata": {},
     "output_type": "execute_result"
    }
   ],
   "source": [
    "# Continue training with the update\n",
    "# Notice: No warning about alpha given\n",
    "model.train(update, total_examples=model.corpus_count, epochs=model.epochs)"
   ]
  },
  {
   "cell_type": "code",
   "execution_count": 42,
   "metadata": {},
   "outputs": [
    {
     "data": {
      "text/plain": [
       "[('space_', 0.9595503211021423),\n",
       " ('spacecraft', 0.6211189031600952),\n",
       " ('shuttle', 0.6114946603775024),\n",
       " ('spaces', 0.6003172993659973),\n",
       " ('probe', 0.5929622650146484),\n",
       " ('orbit', 0.5790212750434875),\n",
       " ('probes', 0.5662890076637268),\n",
       " ('manned', 0.565723180770874),\n",
       " ('satellites', 0.5644378066062927),\n",
       " ('planet', 0.5641493201255798)]"
      ]
     },
     "execution_count": 42,
     "metadata": {},
     "output_type": "execute_result"
    }
   ],
   "source": [
    "# Demonstrate that the artificial word is very close to the original in terms of cosine distance - or is it?\n",
    "model.wv.most_similar(word_of_interest)"
   ]
  },
  {
   "cell_type": "code",
   "execution_count": 26,
   "metadata": {},
   "outputs": [
    {
     "name": "stdout",
     "output_type": "stream",
     "text": [
      "vector\n",
      "dinosaur\n",
      "king\n",
      "computer\n",
      "oxygen\n",
      "time\n",
      "caesar\n",
      "merkel\n",
      "washington\n",
      "space\n"
     ]
    }
   ],
   "source": [
    "import pickle\n",
    "\n",
    "results = []\n",
    "\n",
    "for word_of_interest in [\"vector\", \"dinosaur\", \"king\", \"computer\", \"oxygen\", \"time\", \"caesar\", \"merkel\", \"washington\", \"space\"]:\n",
    "    print(word_of_interest)\n",
    "    \n",
    "    model = pickle.loads(pickle.dumps(model))\n",
    "\n",
    "    update = []\n",
    "\n",
    "    # Create an updated set of words with all instances of word_of_interest replaced by an artificial entity\n",
    "    for part in dataset:\n",
    "        update.append([w if w != word_of_interest else word_of_interest+\"_\" for w in part])\n",
    "\n",
    "    # Extend vocab with the new word\n",
    "    model.build_vocab(update, update=True)\n",
    "\n",
    "    # Optional: lock existing words against change\n",
    "    v = np.zeros(len(model.wv.vectors), np.float32)\n",
    "    v[-1] = 1\n",
    "    model.wv.vectors_lockf = v\n",
    "\n",
    "    # Continue training with the update\n",
    "    # Notice: No warning about alpha given\n",
    "    model.train(update, total_examples=model.corpus_count, epochs=model.epochs)\n",
    "\n",
    "    # Demonstrate that the artificial word is very close to the original in terms of cosine distance\n",
    "    results.append(model.wv.most_similar(word_of_interest)[0])"
   ]
  },
  {
   "cell_type": "code",
   "execution_count": 27,
   "metadata": {},
   "outputs": [
    {
     "data": {
      "text/plain": [
       "[('vector_', 0.9348177909851074),\n",
       " ('dinosaur_', 0.8981873393058777),\n",
       " ('king_', 0.980374276638031),\n",
       " ('computer_', 0.9713629484176636),\n",
       " ('oxygen_', 0.8975173234939575),\n",
       " ('time_', 0.9628214836120605),\n",
       " ('caesar_', 0.8691752552986145),\n",
       " ('angela', 0.8305437564849854),\n",
       " ('washington_', 0.9386913776397705),\n",
       " ('space_', 0.9476979970932007)]"
      ]
     },
     "execution_count": 27,
     "metadata": {},
     "output_type": "execute_result"
    }
   ],
   "source": [
    "results"
   ]
  },
  {
   "cell_type": "code",
   "execution_count": null,
   "metadata": {},
   "outputs": [],
   "source": []
  }
 ],
 "metadata": {
  "interpreter": {
   "hash": "09a2b30e646311bb4529bfea3c9a2184931d996f797c8b7e6e3c6397973ff7db"
  },
  "kernelspec": {
   "display_name": "Python 3.10.4 ('rdflime-util-gHAPOX-U-py3.10')",
   "language": "python",
   "name": "python3"
  },
  "language_info": {
   "codemirror_mode": {
    "name": "ipython",
    "version": 3
   },
   "file_extension": ".py",
   "mimetype": "text/x-python",
   "name": "python",
   "nbconvert_exporter": "python",
   "pygments_lexer": "ipython3",
   "version": "3.10.4"
  },
  "orig_nbformat": 4
 },
 "nbformat": 4,
 "nbformat_minor": 2
}
