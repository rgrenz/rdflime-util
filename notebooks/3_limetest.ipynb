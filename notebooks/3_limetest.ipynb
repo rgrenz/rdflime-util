{
 "cells": [
  {
   "cell_type": "code",
   "execution_count": 30,
   "metadata": {},
   "outputs": [
    {
     "name": "stdout",
     "output_type": "stream",
     "text": [
      "Hello, world!\n"
     ]
    },
    {
     "name": "stderr",
     "output_type": "stream",
     "text": [
      "100%|██████████| 20/20 [00:00<00:00, 381.86it/s]\n",
      "WARNING:gensim.models.word2vec:Effective 'alpha' higher than previous training cycles\n"
     ]
    }
   ],
   "source": [
    "import os\n",
    "import pandas as pd\n",
    "from importlib import reload\n",
    "import pickle\n",
    "\n",
    "import lime.lime_rdf\n",
    "reload(lime.lime_rdf)\n",
    "from lime.lime_rdf import LimeRdfExplainer\n",
    "\n",
    "moviePath = \"/workspaces/rdflime/rdflime-util/data/metacritic-movies\"\n",
    "with open(os.path.join(moviePath, \"rdf2vec_transformer_cbow_50\"), \"rb\") as f:\n",
    "    t = pickle.load(f)\n",
    "movieFull = pd.read_csv(os.path.join(moviePath, \"movies_fixed.tsv\"), sep=\"\\t\")\n",
    "movies = [movie.DBpedia_URI for index, movie in movieFull.iterrows()]\n",
    "\n",
    "explainer = LimeRdfExplainer(t, movies)\n",
    "\n",
    "\n",
    "num_samples = 20\n",
    "num_changed = 2\n",
    "data, emb, corpus = explainer.explain_instance(movies[123], None, num_samples=num_samples, max_removed_triples=num_changed)\n",
    "\n",
    "\n",
    "x = explainer.transformer._embeddings"
   ]
  },
  {
   "cell_type": "code",
   "execution_count": 31,
   "metadata": {},
   "outputs": [],
   "source": [
    "wv_old = explainer.oldTransformer.embedder._model.wv\n",
    "wv_new = explainer.transformer.embedder._model.wv\n",
    "def embedding(URI, new):\n",
    "    wv = wv_new if new else wv_old\n",
    "    return wv.get_vector(URI)"
   ]
  },
  {
   "cell_type": "code",
   "execution_count": 26,
   "metadata": {},
   "outputs": [
    {
     "data": {
      "text/plain": [
       "array([ True,  True,  True,  True,  True,  True,  True,  True,  True,\n",
       "        True,  True,  True,  True,  True,  True,  True,  True,  True,\n",
       "        True,  True,  True,  True,  True,  True,  True,  True,  True,\n",
       "        True,  True,  True,  True,  True,  True,  True,  True,  True,\n",
       "        True,  True,  True,  True,  True,  True,  True,  True,  True,\n",
       "        True,  True,  True,  True,  True])"
      ]
     },
     "execution_count": 26,
     "metadata": {},
     "output_type": "execute_result"
    }
   ],
   "source": [
    "cinderella_man = \"http://dbpedia.org/resource/Cinderella_Man\"\n",
    "\n",
    "embedding(cinderella_man, new=True) == embedding(cinderella_man, new=False)"
   ]
  },
  {
   "cell_type": "code",
   "execution_count": 32,
   "metadata": {},
   "outputs": [
    {
     "data": {
      "text/plain": [
       "[('http://dbpedia.org/resource/Cinderella_Man', 0.9999447464942932),\n",
       " ('http://dbpedia.org/resource/Backdraft_(film)', 0.6019250750541687),\n",
       " ('http://dbpedia.org/resource/Abandon_(film)', 0.596493661403656),\n",
       " ('http://dbpedia.org/resource/Blue_Crush', 0.5888547897338867),\n",
       " ('http://dbpedia.org/resource/The_Player_(film)', 0.5883273482322693),\n",
       " ('http://dbpedia.org/resource/Dazed_and_Confused_(film)', 0.5844845175743103),\n",
       " ('http://dbpedia.org/resource/Category:Screenplays_by_Akiva_Goldsman',\n",
       "  0.5787481069564819),\n",
       " ('http://dbpedia.org/resource/The_Skulls_(film)', 0.576318085193634),\n",
       " ('http://dbpedia.org/resource/Simon_Birch', 0.5673640966415405),\n",
       " ('http://dbpedia.org/resource/October_Sky', 0.5612045526504517)]"
      ]
     },
     "execution_count": 32,
     "metadata": {},
     "output_type": "execute_result"
    }
   ],
   "source": [
    "dif_to_center = embedding(cinderella_man+\"*0*\", new=True) - embedding(cinderella_man, new=True)\n",
    "a = embedding(cinderella_man+\"*1*\", new=True) - dif_to_center\n",
    "wv_new.most_similar(a)\n",
    "\n",
    "# noch mal freezen mit richtiger Größe?"
   ]
  },
  {
   "cell_type": "code",
   "execution_count": 33,
   "metadata": {},
   "outputs": [
    {
     "data": {
      "text/plain": [
       "[('http://dbpedia.org/resource/Cinderella_Man', 1.0000001192092896),\n",
       " ('http://dbpedia.org/resource/Backdraft_(film)', 0.6000975966453552),\n",
       " ('http://dbpedia.org/resource/Abandon_(film)', 0.5968028903007507),\n",
       " ('http://dbpedia.org/resource/Blue_Crush', 0.5883461833000183),\n",
       " ('http://dbpedia.org/resource/The_Player_(film)', 0.5879160165786743),\n",
       " ('http://dbpedia.org/resource/Dazed_and_Confused_(film)', 0.5848406553268433),\n",
       " ('http://dbpedia.org/resource/Category:Screenplays_by_Akiva_Goldsman',\n",
       "  0.5781734585762024),\n",
       " ('http://dbpedia.org/resource/The_Skulls_(film)', 0.576590895652771),\n",
       " ('http://dbpedia.org/resource/Simon_Birch', 0.5680033564567566),\n",
       " ('http://dbpedia.org/resource/Jerry_Maguire', 0.5619823932647705)]"
      ]
     },
     "execution_count": 33,
     "metadata": {},
     "output_type": "execute_result"
    }
   ],
   "source": [
    "wv_new.most_similar(embedding(cinderella_man, new=True))"
   ]
  },
  {
   "cell_type": "code",
   "execution_count": 5,
   "metadata": {},
   "outputs": [
    {
     "data": {
      "text/plain": [
       "[('http://dbpedia.org/resource/Cinderella_Man', 1.0000001192092896),\n",
       " ('http://dbpedia.org/resource/Backdraft_(film)', 0.6000975966453552),\n",
       " ('http://dbpedia.org/resource/Abandon_(film)', 0.5968028903007507),\n",
       " ('http://dbpedia.org/resource/Blue_Crush', 0.5883461833000183),\n",
       " ('http://dbpedia.org/resource/The_Player_(film)', 0.5879160165786743),\n",
       " ('http://dbpedia.org/resource/Dazed_and_Confused_(film)', 0.5848406553268433),\n",
       " ('http://dbpedia.org/resource/Category:Screenplays_by_Akiva_Goldsman',\n",
       "  0.5781734585762024),\n",
       " ('http://dbpedia.org/resource/The_Skulls_(film)', 0.576590895652771),\n",
       " ('http://dbpedia.org/resource/Simon_Birch', 0.5680033564567566),\n",
       " ('http://dbpedia.org/resource/Jerry_Maguire', 0.5619823932647705)]"
      ]
     },
     "execution_count": 5,
     "metadata": {},
     "output_type": "execute_result"
    }
   ],
   "source": [
    "explainer.oldTransformer.embedder._model.wv.most_similar(x[123])"
   ]
  },
  {
   "cell_type": "code",
   "execution_count": 64,
   "metadata": {},
   "outputs": [
    {
     "data": {
      "text/plain": [
       "array([ 0.01920439, -0.01917059, -0.01651181, -0.01652301, -0.01858101,\n",
       "       -0.01670909,  0.00652348, -0.01793889,  0.0139054 ,  0.00485731,\n",
       "        0.01814482, -0.01211903, -0.00447576,  0.01589042,  0.01041324,\n",
       "        0.01866846, -0.00270528, -0.00374249,  0.01114732, -0.0021802 ,\n",
       "        0.01061333, -0.0161376 ,  0.00088714,  0.00148041,  0.01673099,\n",
       "        0.00537844,  0.00518128, -0.01879095,  0.01506278,  0.01363979,\n",
       "       -0.01956757, -0.00913975, -0.01164664, -0.01946638, -0.00928497,\n",
       "       -0.00506615,  0.01974719, -0.00252509,  0.01917149,  0.0165253 ,\n",
       "       -0.00078658,  0.00164425, -0.01374285, -0.00030615, -0.00985807,\n",
       "       -0.0186675 , -0.00576478,  0.01429979, -0.00348817, -0.01843766],\n",
       "      dtype=float32)"
      ]
     },
     "execution_count": 64,
     "metadata": {},
     "output_type": "execute_result"
    }
   ],
   "source": [
    "wvNew = explainer.transformer.embedder._model.wv\n",
    "\n",
    "wvNew.most_similar(cinderella_man+\"*19*\")\n",
    "\n",
    "\n",
    "wvNew.get_vector(cinderella_man+\"*5*\")\n",
    "\n",
    "\n",
    "\n",
    "\n",
    "\n",
    "\n"
   ]
  },
  {
   "cell_type": "code",
   "execution_count": 43,
   "metadata": {},
   "outputs": [
    {
     "ename": "IndexError",
     "evalue": "list index out of range",
     "output_type": "error",
     "traceback": [
      "\u001b[0;31m---------------------------------------------------------------------------\u001b[0m",
      "\u001b[0;31mIndexError\u001b[0m                                Traceback (most recent call last)",
      "\u001b[1;32m/workspaces/rdflime/rdflime-util/notebooks/3_limetest.ipynb Cell 8'\u001b[0m in \u001b[0;36m<cell line: 1>\u001b[0;34m()\u001b[0m\n\u001b[0;32m----> <a href='vscode-notebook-cell://dev-container%2B5c5c77736c2e6c6f63616c686f73745c44656269616e5c686f6d655c726f7576656e5c776f726b5c756e696d615c7264666c696d65/workspaces/rdflime/rdflime-util/notebooks/3_limetest.ipynb#ch0000007vscode-remote?line=0'>1</a>\u001b[0m wvNew\u001b[39m.\u001b[39mmost_similar(x[\u001b[39m9999\u001b[39;49m])\n",
      "\u001b[0;31mIndexError\u001b[0m: list index out of range"
     ]
    }
   ],
   "source": [
    "wvNew.most_similar(x[9999])"
   ]
  },
  {
   "cell_type": "code",
   "execution_count": 64,
   "metadata": {},
   "outputs": [
    {
     "data": {
      "text/plain": [
       "array([1., 1., 1., 1., 1., 1., 1., 1., 1., 1., 1., 1., 1., 1., 1., 1., 1.,\n",
       "       1., 1., 1., 1., 1., 1., 1., 1., 1., 1., 1., 1., 1., 1., 1., 1., 1.,\n",
       "       1., 0., 1., 1., 1., 1., 1., 1., 1., 1., 1., 1., 1., 1., 1., 1., 1.,\n",
       "       1., 1., 1., 1., 1., 1., 1., 1., 1., 1., 1., 1., 1., 1., 1., 1., 1.,\n",
       "       1., 1., 1., 1., 1., 1., 1., 1., 1., 1., 1., 1., 1., 1., 1., 1., 1.,\n",
       "       1., 1., 1., 1., 1., 1., 1., 1., 1., 1., 1., 1., 1., 1., 1., 1., 1.,\n",
       "       1., 1., 1., 1., 1., 1., 1., 1., 1., 1., 1., 1., 1., 1., 1., 1., 1.,\n",
       "       1., 1., 1., 1., 1., 1., 1., 1., 1., 1., 1., 1., 1., 1., 1., 1., 1.,\n",
       "       1., 1., 1., 1., 1., 1., 1., 1., 1., 1., 1., 1., 1., 1., 1., 1., 1.,\n",
       "       1., 1., 1., 1., 1., 1., 1., 1., 1., 1., 1., 1., 1., 1., 1., 1., 1.,\n",
       "       1., 1., 1., 1., 1., 1., 1., 1., 1., 1., 1., 1., 1., 1., 1., 1., 1.,\n",
       "       1., 1., 1., 1., 1., 1., 1., 1., 1., 1., 1., 1., 1., 1., 1., 1., 1.,\n",
       "       1., 1., 1., 1., 1., 1., 1., 1., 1., 1., 1., 1., 1., 1., 1., 1., 1.,\n",
       "       1., 1., 1., 1., 1., 1., 1., 1., 1., 1., 1., 1., 1., 1., 1., 1., 1.,\n",
       "       1., 1., 1., 1., 1., 1., 1., 1., 1., 1., 1., 1., 1., 1., 1., 1., 1.,\n",
       "       1., 1., 1., 1., 1., 1., 1., 1., 1., 1., 1., 1., 1., 1., 1., 1., 1.,\n",
       "       1., 1., 1., 1., 1., 1., 1., 1., 1., 1., 1., 1., 1., 1., 1., 1., 1.,\n",
       "       1., 1., 1., 1., 1., 1., 1., 1., 1., 1., 1., 1., 1., 1., 1., 1., 1.])"
      ]
     },
     "execution_count": 64,
     "metadata": {},
     "output_type": "execute_result"
    }
   ],
   "source": [
    "data[4]"
   ]
  },
  {
   "cell_type": "code",
   "execution_count": null,
   "metadata": {},
   "outputs": [],
   "source": []
  },
  {
   "cell_type": "code",
   "execution_count": null,
   "metadata": {},
   "outputs": [],
   "source": [
    "print(walks)"
   ]
  },
  {
   "cell_type": "code",
   "execution_count": 24,
   "metadata": {},
   "outputs": [],
   "source": [
    "for walk in explainer.indexedWalks.walks(e):\n",
    "    for step in walk:\n",
    "        if not step in changed and not step == e:\n",
    "            print(step)"
   ]
  },
  {
   "cell_type": "code",
   "execution_count": 21,
   "metadata": {},
   "outputs": [
    {
     "name": "stdout",
     "output_type": "stream",
     "text": [
      "http://purl.org/dc/terms/subject\n",
      "http://www.w3.org/1999/02/22-rdf-syntax-ns#type\n",
      "http://www.w3.org/2004/02/skos/core#broader\n",
      "http://dbpedia.org/ontology/starring\n",
      "http://www.w3.org/2004/02/skos/core#Concept\n",
      "http://www.w3.org/2004/02/skos/core#prefLabel\n",
      "http://dbpedia.org/ontology/producer\n",
      "http://www.w3.org/2002/07/owl#Thing\n",
      "http://dbpedia.org/ontology/writer\n",
      "http://dbpedia.org/ontology/director\n",
      "http://dbpedia.org/ontology/distributor\n",
      "http://dbpedia.org/resource/Category:American_films\n",
      "http://dbpedia.org/ontology/musicComposer\n",
      "http://dbpedia.org/ontology/Work\n",
      "http://dbpedia.org/ontology/Wikidata:Q11424\n",
      "http://schema.org/Movie\n",
      "http://www.wikidata.org/entity/Q386724\n",
      "http://dbpedia.org/ontology/Film\n",
      "http://schema.org/CreativeWork\n",
      "http://dbpedia.org/resource/Category:English-language_films\n",
      "http://dbpedia.org/ontology/cinematography\n",
      "http://dbpedia.org/ontology/occupation\n",
      "http://dbpedia.org/ontology/birthPlace\n",
      "http://dbpedia.org/ontology/editing\n",
      "http://dbpedia.org/ontology/Agent\n",
      "http://dbpedia.org/resource/Category:Living_people\n",
      "http://xmlns.com/foaf/0.1/Person\n",
      "http://www.ontologydesignpatterns.org/ont/dul/DUL.owl#Agent\n",
      "http://schema.org/Person\n",
      "http://www.wikidata.org/entity/Q5\n",
      "http://dbpedia.org/ontology/Person\n",
      "http://www.wikidata.org/entity/Q215627\n",
      "http://www.ontologydesignpatterns.org/ont/dul/DUL.owl#NaturalPerson\n",
      "http://dbpedia.org/resource/Category:Films_by_year\n",
      "http://dbpedia.org/resource/Category:Films_by_country\n",
      "English-language films\n",
      "http://dbpedia.org/resource/Category:American_films_by_studio\n",
      "http://dbpedia.org/resource/Category:English-language_works\n",
      "http://dbpedia.org/resource/United_States\n",
      "http://dbpedia.org/resource/Category:Entertainment_in_the_United_States\n",
      "http://dbpedia.org/resource/Category:Cinema_of_the_United_States\n",
      "http://dbpedia.org/resource/Category:2000s_films\n",
      "http://dbpedia.org/resource/Category:Works_by_American_people\n",
      "American films\n",
      "http://dbpedia.org/resource/Category:American_films_by_genre\n",
      "http://dbpedia.org/resource/Category:American_drama_films\n",
      "http://dbpedia.org/resource/Category:Films_by_American_directors\n",
      "http://dbpedia.org/resource/Category:2005_films\n",
      "http://dbpedia.org/ontology/spouse\n",
      "http://dbpedia.org/resource/Category:American_male_film_actors\n",
      "http://dbpedia.org/resource/Category:Films_set_in_New_York_City\n",
      "http://xmlns.com/foaf/0.1/homepage\n",
      "http://dbpedia.org/resource/Category:American_film_directors\n",
      "http://dbpedia.org/resource/Category:American_male_television_actors\n",
      "http://dbpedia.org/resource/Category:American_film_producers\n",
      "http://dbpedia.org/resource/Category:Film_scores_by_composer\n",
      "http://dbpedia.org/resource/Category:21st-century_American_male_actors\n",
      "http://dbpedia.org/resource/Category:Films_by_producer\n",
      "http://www.w3.org/2002/07/owl#differentFrom\n",
      "http://dbpedia.org/resource/Universal_Studios\n",
      "http://dbpedia.org/resource/Category:Drama_films_by_country\n",
      "http://dbpedia.org/resource/Category:Universal_Pictures_films\n",
      "http://dbpedia.org/resource/Category:20th-century_American_male_actors\n",
      "http://dbpedia.org/resource/Category:Films_set_in_the_United_States_by_state\n",
      "http://dbpedia.org/resource/Walt_Disney_Studios_Motion_Pictures\n",
      "http://dbpedia.org/resource/Category:Screenplays_by_writer\n",
      "http://dbpedia.org/ontology/Organisation\n",
      "http://dbpedia.org/resource/Category:American_film_actresses\n",
      "http://dbpedia.org/resource/Category:Films_by_studio\n",
      "http://dbpedia.org/resource/Category:Films_set_in_the_United_States_by_city\n",
      "http://schema.org/Organization\n",
      "http://dbpedia.org/resource/Category:20th-century_American_actresses\n",
      "http://dbpedia.org/ontology/parentCompany\n",
      "http://dbpedia.org/ontology/residence\n",
      "http://dbpedia.org/resource/Category:Miramax_films\n",
      "http://dbpedia.org/resource/Category:Film_production_companies_of_the_United_States\n",
      "http://dbpedia.org/ontology/location\n",
      "http://dbpedia.org/ontology/industry\n",
      "http://dbpedia.org/resource/Category:Films_shot_in_Toronto\n",
      "http://dbpedia.org/resource/New_York_City\n",
      "http://dbpedia.org/ontology/product\n",
      "http://dbpedia.org/ontology/subsidiary\n",
      "http://dbpedia.org/resource/Category:Films_based_on_actual_events\n",
      "2005 films\n",
      "http://dbpedia.org/ontology/foundedBy\n",
      "http://dbpedia.org/resource/Category:2005_in_fiction\n",
      "http://dbpedia.org/ontology/award\n",
      "American drama films\n",
      "http://dbpedia.org/resource/New_York\n",
      "http://dbpedia.org/ontology/locationCity\n",
      "http://dbpedia.org/resource/Category:Touchstone_Pictures_films\n",
      "http://dbpedia.org/resource/Category:Films_set_in_New_York\n",
      "http://dbpedia.org/resource/Category:Cinema_of_New_York_City\n",
      "http://dbpedia.org/resource/Category:Entertainment_companies_based_in_California\n",
      "http://dbpedia.org/resource/Film\n",
      "http://dbpedia.org/resource/Cinematographer\n",
      "http://dbpedia.org/ontology/MusicalArtist\n",
      "http://dbpedia.org/resource/Category:American_cinematographers\n",
      "http://dbpedia.org/resource/Category:American_Cinema_Editors\n",
      "http://dbpedia.org/resource/Category:Films_by_decade_of_setting\n",
      "http://dbpedia.org/resource/Category:Male_television_writers\n",
      "http://dbpedia.org/resource/Category:Films_shot_in_Canada_by_city\n",
      "http://dbpedia.org/resource/Category:American_male_stage_actors\n",
      "http://dbpedia.org/resource/Category:Films_set_in_the_20th_century\n",
      "http://dbpedia.org/resource/Category:Films_set_in_New_Jersey\n",
      "http://dbpedia.org/resource/Category:New_York_City_in_fiction\n",
      "http://dbpedia.org/resource/Category:BAFTA_winners_(people)\n",
      "http://dbpedia.org/resource/Category:American_biographical_films\n",
      "http://dbpedia.org/resource/Focus_Features\n",
      "http://dbpedia.org/resource/Category:New_Jersey_media\n",
      "http://dbpedia.org/resource/Category:Jewish_American_male_actors\n",
      "Films set in New York City\n",
      "http://dbpedia.org/resource/Category:Sports_films_by_sport\n",
      "http://dbpedia.org/resource/Category:Films_shot_in_Ontario\n",
      "Universal Pictures films\n",
      "http://dbpedia.org/resource/Category:Films_shot_in_Hamilton,_Ontario\n",
      "http://dbpedia.org/resource/Category:African-American_male_actors\n",
      "http://dbpedia.org/resource/Brooklyn\n",
      "http://dbpedia.org/resource/Film_score\n",
      "http://dbpedia.org/ontology/locationCountry\n",
      "http://dbpedia.org/resource/Category:English_male_film_actors\n",
      "http://dbpedia.org/resource/Category:Universal_Studios\n",
      "http://dbpedia.org/resource/Category:Articles_containing_video_clips\n",
      "http://dbpedia.org/resource/Category:Directors_Guild_of_America_Award_winners\n",
      "http://dbpedia.org/resource/Category:Hollywood_history_and_culture\n",
      "http://dbpedia.org/resource/Category:Films_set_in_the_1930s\n",
      "http://dbpedia.org/resource/Category:Annie_Award_winners\n",
      "http://dbpedia.org/resource/Category:Entertainment_companies_of_the_United_States\n",
      "http://dbpedia.org/resource/Category:Biographical_films_by_country\n",
      "http://dbpedia.org/resource/Category:Media_companies_of_the_United_States\n",
      "http://dbpedia.org/resource/Category:Best_Film_Editing_Academy_Award_winners\n",
      "http://dbpedia.org/resource/Category:Boxing_films\n",
      "http://dbpedia.org/resource/Category:Films_set_in_the_1920s\n",
      "Miramax films\n",
      "http://dbpedia.org/resource/Category:Imagine_Entertainment_films\n",
      "http://dbpedia.org/resource/Film_industry\n",
      "http://dbpedia.org/resource/Burbank,_California\n",
      "http://dbpedia.org/resource/Category:Film_scores_by_Thomas_Newman\n",
      "http://dbpedia.org/resource/Category:American_people_of_Swedish_descent\n",
      "http://dbpedia.org/resource/Universal_City,_California\n",
      "http://dbpedia.org/resource/Brian_Grazer\n",
      "http://dbpedia.org/resource/Category:Martial_arts_films_by_genre\n",
      "http://dbpedia.org/resource/Category:Films_produced_by_Brian_Grazer\n",
      "http://dbpedia.org/resource/Category:Touchstone_Pictures\n",
      "http://dbpedia.org/resource/Touchstone_Pictures\n",
      "American biographical films\n",
      "http://dbpedia.org/resource/Paul_Giamatti\n",
      "http://dbpedia.org/resource/Category:Sports_films_based_on_actual_events\n",
      "http://dbpedia.org/resource/Film_distribution\n",
      "http://dbpedia.org/resource/Category:20th-century_classical_composers\n",
      "http://dbpedia.org/resource/Thomas_Newman\n",
      "http://dbpedia.org/resource/Category:Musicians_from_Los_Angeles,_California\n",
      "Touchstone Pictures films\n",
      "http://dbpedia.org/resource/Category:Entertainment_companies_established_in_1912\n",
      "Films set in New Jersey\n",
      "http://dbpedia.org/resource/Renée_Zellweger\n",
      "http://dbpedia.org/resource/Category:Entertainment_companies_established_in_1953\n",
      "http://dbpedia.org/resource/Category:American_film_directors_of_Italian_descent\n",
      "http://dbpedia.org/resource/Category:Great_Depression_films\n",
      "http://dbpedia.org/resource/Akiva_Goldsman\n",
      "http://dbpedia.org/resource/Paddy_Considine\n",
      "Films shot in Hamilton, Ontario\n",
      "http://dbpedia.org/resource/Buena_Vista_(brand)\n",
      "http://dbpedia.org/resource/Texas\n",
      "http://dbpedia.org/resource/Category:1930s_in_film\n",
      "http://waltdisneystudios.com/corp/unit/74\n",
      "http://dbpedia.org/resource/Penny_Marshall\n",
      "http://dbpedia.org/resource/Category:New_Jersey_culture\n",
      "http://dbpedia.org/resource/Category:Actresses_from_Texas\n",
      "http://dbpedia.org/resource/Category:21st-century_American_musicians\n",
      "http://dbpedia.org/resource/Ron_Canada\n",
      "http://dbpedia.org/resource/Category:New_Jersey_in_fiction\n",
      "Film scores by Thomas Newman\n",
      "http://dbpedia.org/resource/Category:1920s_in_film\n",
      "http://dbpedia.org/resource/Category:Media_companies_established_in_1953\n",
      "http://dbpedia.org/resource/Category:American_male_musical_theatre_actors\n",
      "http://dbpedia.org/resource/Category:Screenplays_by_Akiva_Goldsman\n",
      "http://dbpedia.org/ontology/service\n",
      "http://dbpedia.org/resource/Category:The_Walt_Disney_Studios\n",
      "http://dbpedia.org/resource/Illumination_Entertainment\n",
      "http://dbpedia.org/resource/Ron_Howard\n",
      "http://dbpedia.org/resource/Bruce_McGill\n",
      "http://dbpedia.org/resource/Category:American_people_of_Swiss_descent\n",
      "http://dbpedia.org/resource/Category:2000s_sports_films\n",
      "Films produced by Brian Grazer\n",
      "http://dbpedia.org/resource/Category:1930s_in_fiction\n",
      "http://dbpedia.org/resource/Category:Works_set_in_the_1930s\n",
      "http://dbpedia.org/resource/Universal_Pictures_Home_Entertainment\n",
      "http://dbpedia.org/resource/Category:Silent_film_studios\n",
      "http://dbpedia.org/resource/Category:United_States_National_Medal_of_Arts_recipients\n",
      "Imagine Entertainment films\n",
      "http://dbpedia.org/resource/San_Antonio\n",
      "http://dbpedia.org/resource/Category:Films_directed_by_Ron_Howard\n",
      "http://dbpedia.org/resource/Walt_Disney_Studios_(Burbank)\n",
      "http://dbpedia.org/resource/Category:Sports_films\n",
      "http://dbpedia.org/resource/Jules_Brulatour\n",
      "Boxing films\n",
      "http://dbpedia.org/resource/Gigi_Levangie_Grazer\n",
      "http://dbpedia.org/resource/Oahu\n",
      "http://dbpedia.org/resource/Omaha,_Nebraska\n",
      "http://dbpedia.org/resource/Category:21st-century_classical_composers\n",
      "http://dbpedia.org/resource/Russell_Crowe\n",
      "http://dbpedia.org/resource/Craig_Bierko\n",
      "http://dbpedia.org/resource/Daniel_P._Hanley\n",
      "2000s sports films\n",
      "http://dbpedia.org/resource/Rebecca_Spikings-Goldsman\n",
      "http://dbpedia.org/resource/Category:Works_by_Akiva_Goldsman\n",
      "http://dbpedia.org/resource/Salvatore_Totino\n",
      "http://dbpedia.org/resource/Category:Actresses_from_Austin,_Texas\n",
      "http://dbpedia.org/resource/Category:New_Zealand_male_film_actors\n",
      "Films set in the 1930s\n",
      "http://dbpedia.org/resource/Category:People_from_Katy,_Texas\n",
      "Films directed by Ron Howard\n",
      "http://dbpedia.org/resource/Category:Boxing_culture\n",
      "Screenplays by Akiva Goldsman\n",
      "Films set in the 1920s\n",
      "http://dbpedia.org/resource/Category:Actresses_from_Houston,_Texas\n",
      "http://dbpedia.org/resource/Category:Sports_films_by_decade\n",
      "http://dbpedia.org/resource/Category:Works_set_in_the_1920s\n",
      "http://dbpedia.org/resource/Mike_Hill_(film_editor)\n",
      "http://dbpedia.org/resource/Category:1920s_in_fiction\n",
      "http://dbpedia.org/resource/Category:Newman_family_(show_business)\n",
      "http://dbpedia.org/resource/Category:20th-century_American_businesspeople\n",
      "http://dbpedia.org/resource/Category:People_from_San_Antonio,_Texas\n",
      "http://dbpedia.org/resource/Category:Irish-American_culture\n",
      "Great Depression films\n",
      "http://dbpedia.org/resource/Simon_Wiesenthal_Center\n",
      "http://dbpedia.org/resource/Category:Male_actors_from_Greenwich,_Connecticut\n",
      "Irish-American culture\n",
      "http://dbpedia.org/resource/Category:Best_Supporting_Actor_AACTA_Award_winners\n",
      "http://dbpedia.org/resource/Category:Alumni_of_Burton_College\n",
      "http://dbpedia.org/resource/Daniel_P._Hanley__1\n",
      "http://dbpedia.org/resource/Renée_Zellweger__1\n",
      "http://dbpedia.org/resource/Kenny_Chesney\n",
      "http://dbpedia.org/resource/Category:Male_actors_from_New_Haven,_Connecticut\n",
      "http://dbpedia.org/resource/Category:European-American_culture\n",
      "http://dbpedia.org/resource/Category:People_from_Oahu\n",
      "http://dbpedia.org/resource/Category:Australian_Living_Treasures\n",
      "http://dbpedia.org/resource/Category:Irish_American\n",
      "http://dbpedia.org/resource/Category:Rugby_league_people_in_Australia\n",
      "http://dbpedia.org/resource/Category:New_Zealand_rock_singers\n",
      "http://dbpedia.org/resource/Empire_Awards\n",
      "http://dbpedia.org/resource/Ron_Canada__1\n",
      "http://dbpedia.org/resource/Bruce_McGill__1\n",
      "http://dbpedia.org/resource/Category:New_Zealand_people_of_Welsh_descent\n",
      "http://dbpedia.org/resource/Category:New_Zealand_rugby_league_chairmen_and_investors\n",
      "http://dbpedia.org/resource/British_Independent_Film_Awards\n",
      "http://dbpedia.org/resource/Category:New_Zealand_people_of_Italian_descent\n",
      "248\n"
     ]
    }
   ],
   "source": [
    "bad = 0\n",
    "changed = []\n",
    "\n",
    "for i in range(len(wv_old)):\n",
    "    if not (wv_old[i] == wv_new[i]).all():\n",
    "        print(wv_new.index_to_key[i])\n",
    "        changed.append(wv_new.index_to_key[i])\n",
    "\n",
    "        bad += 1\n",
    "\n",
    "print(bad) "
   ]
  },
  {
   "cell_type": "code",
   "execution_count": 56,
   "metadata": {},
   "outputs": [
    {
     "data": {
      "text/plain": [
       "('http://dbpedia.org/resource/Judy_Greer', -0.5391753911972046)"
      ]
     },
     "execution_count": 56,
     "metadata": {},
     "output_type": "execute_result"
    }
   ],
   "source": [
    "keanu = embedding(\"http://dbpedia.org/resource/Keanu_Reeves\", new=True)\n",
    "matrix = embedding(\"http://dbpedia.org/resource/The_Matrix\", new=True)\n",
    "wv_new.most_similar(matrix-keanu, topn=len(wv_new))[-2]"
   ]
  },
  {
   "cell_type": "code",
   "execution_count": 57,
   "metadata": {},
   "outputs": [
    {
     "data": {
      "text/plain": [
       "[('http://dbpedia.org/resource/The_Matrix_Reloaded', 0.6328825354576111),\n",
       " ('http://dbpedia.org/resource/The_Empire_Strikes_Back', 0.6072103977203369),\n",
       " ('http://dbpedia.org/resource/District_9', 0.5993965268135071),\n",
       " ('http://dbpedia.org/resource/Rambo_III', 0.5748681426048279),\n",
       " ('http://dbpedia.org/resource/Category:Gun_fu_films', 0.5665922164916992),\n",
       " ('http://dbpedia.org/resource/Fast_Five', 0.5504526495933533),\n",
       " ('http://dbpedia.org/resource/Blade_Runner', 0.5391538143157959),\n",
       " ('http://dbpedia.org/resource/Alien:_Resurrection', 0.5331454873085022),\n",
       " ('http://dbpedia.org/resource/G.I._Jane', 0.5284064412117004),\n",
       " ('http://dbpedia.org/resource/The_Condemned', 0.5274669528007507)]"
      ]
     },
     "execution_count": 57,
     "metadata": {},
     "output_type": "execute_result"
    }
   ],
   "source": [
    "wv_new.most_similar(positive=[\"http://dbpedia.org/resource/The_Matrix\"], negative=[\"http://dbpedia.org/resource/Keanu_Reeves\"])"
   ]
  },
  {
   "cell_type": "code",
   "execution_count": 59,
   "metadata": {},
   "outputs": [
    {
     "data": {
      "text/plain": [
       "[('http://dbpedia.org/resource/The_Matrix', 0.7232573628425598),\n",
       " ('http://dbpedia.org/resource/RoboCop', 0.681049644947052),\n",
       " ('http://dbpedia.org/resource/The_Terminator', 0.6796393394470215),\n",
       " ('http://dbpedia.org/resource/The_Condemned', 0.6456360816955566),\n",
       " ('http://dbpedia.org/resource/Category:Drone_films', 0.6386860609054565),\n",
       " ('http://dbpedia.org/resource/The_Matrix_Reloaded', 0.6282235980033875),\n",
       " ('http://dbpedia.org/resource/RoboCop__1', 0.625795841217041),\n",
       " ('http://dbpedia.org/resource/The_Matrix_(franchise)', 0.6230692267417908),\n",
       " ('http://dbpedia.org/resource/Jerry_Goldsmith__1', 0.6173606514930725),\n",
       " ('http://dbpedia.org/resource/Garry_Kasparov__2', 0.6136869788169861)]"
      ]
     },
     "execution_count": 59,
     "metadata": {},
     "output_type": "execute_result"
    }
   ],
   "source": [
    "wv_new.most_similar(\"http://dbpedia.org/resource/Blade_Runner\")"
   ]
  },
  {
   "cell_type": "code",
   "execution_count": null,
   "metadata": {},
   "outputs": [],
   "source": []
  }
 ],
 "metadata": {
  "interpreter": {
   "hash": "fc6f725a70bbe8041c097ab7eae8aeb625a2cc94c1af18b785b9d981852f3aec"
  },
  "kernelspec": {
   "display_name": "Python 3.10.4 ('rdflime-util-cLuY5sAo-py3.10')",
   "language": "python",
   "name": "python3"
  },
  "language_info": {
   "codemirror_mode": {
    "name": "ipython",
    "version": 3
   },
   "file_extension": ".py",
   "mimetype": "text/x-python",
   "name": "python",
   "nbconvert_exporter": "python",
   "pygments_lexer": "ipython3",
   "version": "3.10.4"
  },
  "orig_nbformat": 4
 },
 "nbformat": 4,
 "nbformat_minor": 2
}
