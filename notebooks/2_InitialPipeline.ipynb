{
 "cells": [
  {
   "cell_type": "markdown",
   "id": "74656ace",
   "metadata": {},
   "source": [
    "## Initial embedding pipeline\n",
    "Prerequisites:<br>\n",
    "DBpedia subset hosted with a SPARQL endpoint, metacritic-movies dataset cleaned in previous notebook.\n",
    "\n",
    "Purpose:<br>\n",
    "This pipeline builds knowledge graph embeddings for movie entities in the metacritic-movies dataset and trains a binary classifier to predict movie ratings (good/bad).\n",
    "\n",
    "(Hint)\n",
    "Make sure to select the poetry kernel. If it does not show up, try to reload your editor."
   ]
  },
  {
   "cell_type": "code",
   "execution_count": 2,
   "id": "c6525562",
   "metadata": {},
   "outputs": [],
   "source": [
    "import pandas as pd\n",
    "import numpy as np\n",
    "import os.path\n",
    "import pickle\n",
    "import json\n",
    "from pyrdf2vec import RDF2VecTransformer\n",
    "from pyrdf2vec.embedders import Word2Vec\n",
    "from pyrdf2vec.graphs import KG\n",
    "from pyrdf2vec.walkers import RandomWalker\n",
    "from sklearn.model_selection import cross_val_score\n",
    "from sklearn.svm import SVC\n",
    "from rdflimeConfig import dbpediaLocation, movieLocation"
   ]
  },
  {
   "cell_type": "markdown",
   "id": "5bd18d7e",
   "metadata": {},
   "source": [
    "### Initiate DBpedia and metacritic-movie datasets"
   ]
  },
  {
   "cell_type": "code",
   "execution_count": 3,
   "id": "bdc82a2e",
   "metadata": {},
   "outputs": [
    {
     "data": {
      "text/html": [
       "<div>\n",
       "<style scoped>\n",
       "    .dataframe tbody tr th:only-of-type {\n",
       "        vertical-align: middle;\n",
       "    }\n",
       "\n",
       "    .dataframe tbody tr th {\n",
       "        vertical-align: top;\n",
       "    }\n",
       "\n",
       "    .dataframe thead th {\n",
       "        text-align: right;\n",
       "    }\n",
       "</style>\n",
       "<table border=\"1\" class=\"dataframe\">\n",
       "  <thead>\n",
       "    <tr style=\"text-align: right;\">\n",
       "      <th></th>\n",
       "      <th>Wikidata_URI15</th>\n",
       "      <th>Movie</th>\n",
       "      <th>Release date</th>\n",
       "      <th>DBpedia_URI</th>\n",
       "      <th>label</th>\n",
       "      <th>id</th>\n",
       "      <th>rating</th>\n",
       "      <th>DBpedia_URI15</th>\n",
       "      <th>YAGO_URI15</th>\n",
       "      <th>DBpedia_URI15_Base32</th>\n",
       "    </tr>\n",
       "  </thead>\n",
       "  <tbody>\n",
       "    <tr>\n",
       "      <th>92</th>\n",
       "      <td>http://www.wikidata.org/entity/Q83495</td>\n",
       "      <td>The Matrix</td>\n",
       "      <td>3/31/1999 0:00</td>\n",
       "      <td>http://dbpedia.org/resource/The_Matrix</td>\n",
       "      <td>good</td>\n",
       "      <td>1693</td>\n",
       "      <td>73</td>\n",
       "      <td>http://dbpedia.org/resource/The_Matrix</td>\n",
       "      <td>http://yago-knowledge.org/resource/The_Matrix</td>\n",
       "      <td>NB2HI4B2F4XWIYTQMVSGSYJON5ZGOL3SMVZW65LSMNSS6V...</td>\n",
       "    </tr>\n",
       "    <tr>\n",
       "      <th>1154</th>\n",
       "      <td>http://www.wikidata.org/entity/Q189600</td>\n",
       "      <td>The Matrix Reloaded</td>\n",
       "      <td>5/15/2003 0:00</td>\n",
       "      <td>http://dbpedia.org/resource/The_Matrix_Reloaded</td>\n",
       "      <td>good</td>\n",
       "      <td>755</td>\n",
       "      <td>62</td>\n",
       "      <td>http://dbpedia.org/resource/The_Matrix_Reloaded</td>\n",
       "      <td>http://yago-knowledge.org/resource/The_Matrix_...</td>\n",
       "      <td>NB2HI4B2F4XWIYTQMVSGSYJON5ZGOL3SMVZW65LSMNSS6V...</td>\n",
       "    </tr>\n",
       "  </tbody>\n",
       "</table>\n",
       "</div>"
      ],
      "text/plain": [
       "                              Wikidata_URI15                Movie  \\\n",
       "92     http://www.wikidata.org/entity/Q83495           The Matrix   \n",
       "1154  http://www.wikidata.org/entity/Q189600  The Matrix Reloaded   \n",
       "\n",
       "        Release date                                      DBpedia_URI label  \\\n",
       "92    3/31/1999 0:00           http://dbpedia.org/resource/The_Matrix  good   \n",
       "1154  5/15/2003 0:00  http://dbpedia.org/resource/The_Matrix_Reloaded  good   \n",
       "\n",
       "        id  rating                                    DBpedia_URI15  \\\n",
       "92    1693      73           http://dbpedia.org/resource/The_Matrix   \n",
       "1154   755      62  http://dbpedia.org/resource/The_Matrix_Reloaded   \n",
       "\n",
       "                                             YAGO_URI15  \\\n",
       "92        http://yago-knowledge.org/resource/The_Matrix   \n",
       "1154  http://yago-knowledge.org/resource/The_Matrix_...   \n",
       "\n",
       "                                   DBpedia_URI15_Base32  \n",
       "92    NB2HI4B2F4XWIYTQMVSGSYJON5ZGOL3SMVZW65LSMNSS6V...  \n",
       "1154  NB2HI4B2F4XWIYTQMVSGSYJON5ZGOL3SMVZW65LSMNSS6V...  "
      ]
     },
     "execution_count": 3,
     "metadata": {},
     "output_type": "execute_result"
    }
   ],
   "source": [
    "# Read movie dataset\n",
    "movieFull = pd.read_csv(os.path.join(movieLocation, \"movies_fixed.tsv\"), sep=\"\\t\")\n",
    "movieTrain = movieFull[:1600]\n",
    "movieTest = movieFull[1600:]\n",
    "movies = [movie.DBpedia_URI for index, movie in movieFull.iterrows()]\n",
    "\n",
    "# Check dataset structure\n",
    "movieFull[movieFull.DBpedia_URI.str.contains(\"Matrix\")]"
   ]
  },
  {
   "cell_type": "markdown",
   "id": "5654e869",
   "metadata": {},
   "source": [
    "### Build DBpedia embeddings"
   ]
  },
  {
   "cell_type": "code",
   "execution_count": 3,
   "id": "aaedf8a9",
   "metadata": {},
   "outputs": [
    {
     "name": "stdout",
     "output_type": "stream",
     "text": [
      "0 50\n",
      "0 100\n",
      "0 200\n"
     ]
    },
    {
     "name": "stderr",
     "output_type": "stream",
     "text": [
      "100%|██████████| 2000/2000 [08:54<00:00,  3.75it/s]\n"
     ]
    },
    {
     "name": "stdout",
     "output_type": "stream",
     "text": [
      "Extracted 927694 walks for 2000 entities (534.4617s)\n",
      "Fitted 927694 walks (120.4660s)\n",
      "1 50\n"
     ]
    },
    {
     "name": "stderr",
     "output_type": "stream",
     "text": [
      "100%|██████████| 2000/2000 [09:14<00:00,  3.61it/s]\n"
     ]
    },
    {
     "name": "stdout",
     "output_type": "stream",
     "text": [
      "Extracted 927689 walks for 2000 entities (555.2162s)\n",
      "Fitted 927689 walks (248.2377s)\n",
      "1 100\n"
     ]
    },
    {
     "name": "stderr",
     "output_type": "stream",
     "text": [
      "100%|██████████| 2000/2000 [09:15<00:00,  3.60it/s]\n"
     ]
    },
    {
     "name": "stdout",
     "output_type": "stream",
     "text": [
      "Extracted 927688 walks for 2000 entities (557.1990s)\n",
      "Fitted 927688 walks (260.9383s)\n",
      "1 200\n"
     ]
    },
    {
     "name": "stderr",
     "output_type": "stream",
     "text": [
      "100%|██████████| 2000/2000 [09:39<00:00,  3.45it/s] \n"
     ]
    },
    {
     "name": "stdout",
     "output_type": "stream",
     "text": [
      "Extracted 927686 walks for 2000 entities (592.8399s)\n",
      "Fitted 927686 walks (283.8501s)\n"
     ]
    }
   ],
   "source": [
    "for algo in [0,1]: # 0: CBOW, 1: SG\n",
    "    for vsize in [50, 100, 200]: # Vector size of embeddings\n",
    "        print(algo, vsize)\n",
    "        if os.path.exists(os.path.join(movieLocation, f\"rdf2vec_transformer_{'sg' if algo else 'cbow'}_{vsize}\")):\n",
    "            continue\n",
    "        \n",
    "        dbpedia = KG(dbpediaLocation, skip_verify=False, mul_req=False)\n",
    "        \n",
    "        transformer = RDF2VecTransformer(\n",
    "            Word2Vec(negative=25, sg=algo, vector_size=vsize),\n",
    "            walkers=[RandomWalker(max_walks=22, max_depth=2, with_reverse=True, n_jobs=8, md5_bytes=None)],\n",
    "            verbose=1\n",
    "        )\n",
    "\n",
    "        # transformer.get_walks(KG, Entities) -> Walks\n",
    "        # transformer.fit(Walks) -> Emebeddings?\n",
    "        # transformer.transform(KG, Entities) -> Embeddings\n",
    "        # transformer.fit_transform(KG, Entities) -> Embeddings \n",
    "        walks = transformer.get_walks(dbpedia, movies[:])\n",
    "        transformer.fit(walks)\n",
    "        embeddings, literals = transformer.transform(dbpedia, movies[:])\n",
    "\n",
    "        transformer.save(os.path.join(movieLocation, f\"rdf2vec_transformer_{'sg' if algo else 'cbow'}_{vsize}\"))\n",
    "\n",
    "        "
   ]
  },
  {
   "cell_type": "markdown",
   "id": "1f464e3f",
   "metadata": {},
   "source": [
    "### Store embeddings that are compatible to the Evaluation Framework"
   ]
  },
  {
   "cell_type": "code",
   "execution_count": 20,
   "id": "f7b056ce",
   "metadata": {},
   "outputs": [],
   "source": [
    "with open(os.path.join(movieLocation, \"datasetFixes.json\"), \"r\") as f:\n",
    "    fixes = json.load(f)\n",
    "\n",
    "for algo in [\"cbow\", \"sg\"]: # 0: CBOW, 1: SG\n",
    "    for vsize in [50, 100, 200]: # Vector size of embeddings\n",
    "\n",
    "        with open(os.path.join(movieLocation, f\"rdf2vec_transformer_{algo}_{vsize}\"), \"rb\") as file:\n",
    "            transformer: RDF2VecTransformer = pickle.load(file)\n",
    "\n",
    "        with open(os.path.join(movieLocation, f\"embeddings_{algo}_{vsize}\"), \"w\") as file:\n",
    "            for index, embedding in enumerate(transformer._embeddings):\n",
    "\n",
    "                # \"Unfix\" URL and replace with the version that the Evaluation Framework by Pellegrino et al. understands\n",
    "                movie = movies[index]\n",
    "                fix = next(filter(lambda f: f[\"fix\"] == movie, fixes), None)\n",
    "                if fix: movie = fix[\"original\"]            \n",
    "\n",
    "                # Write embedding to file\n",
    "                line = f\"{movie} {' '.join(map(str,embedding))}\\n\"\n",
    "                file.write(line)"
   ]
  },
  {
   "cell_type": "markdown",
   "id": "64077094",
   "metadata": {},
   "source": [
    "## Evaluation"
   ]
  },
  {
   "cell_type": "markdown",
   "id": "331db838",
   "metadata": {},
   "source": [
    "### Learn classifier on embeddings"
   ]
  },
  {
   "cell_type": "code",
   "execution_count": 4,
   "id": "ff568210",
   "metadata": {},
   "outputs": [
    {
     "name": "stdout",
     "output_type": "stream",
     "text": [
      "0 50 0.82\n",
      "0 100 0.84\n",
      "0 200 0.85\n",
      "1 50 0.74\n",
      "1 100 0.76\n",
      "1 200 0.79\n"
     ]
    }
   ],
   "source": [
    "for algo in [0,1]: # 0: CBOW, 1: SG\n",
    "    for vsize in [50,100,200]: # Vector size of embeddings\n",
    "        pt = os.path.join(movieLocation, f\"rdf2vec_transformer_{'sg' if algo else 'cbow'}_{vsize}\")\n",
    "        if os.path.exists(pt):\n",
    "            with open(pt, \"rb\") as file:\n",
    "                transformer = pickle.load(file)\n",
    "\n",
    "            clf = SVC(C=100, probability=True)\n",
    "            scores = cross_val_score(clf, transformer._embeddings, movieFull.label, cv=10, scoring=\"accuracy\")\n",
    "            print(algo, vsize, round(np.mean(scores), 2))\n",
    "\n",
    "            pc = os.path.join(movieLocation, f\"embedding_classifier_{'sg' if algo else 'cbow'}_{vsize}\")\n",
    "            clf = SVC(C=100, probability=True)\n",
    "            clf.fit(transformer._embeddings[:1600], movieFull.label[:1600])\n",
    "            with open(pc, \"wb\") as file:\n",
    "                pickle.dump(clf, file)\n",
    "            "
   ]
  },
  {
   "cell_type": "markdown",
   "id": "d8b207f3",
   "metadata": {},
   "source": [
    "### Evaluation using Evaluation-Framework by Pellegrino et al.\n",
    "- Might need to run this in a separate project due to dependency conflicts"
   ]
  },
  {
   "cell_type": "code",
   "execution_count": 6,
   "id": "bc5e727d",
   "metadata": {},
   "outputs": [],
   "source": [
    "\n",
    "# poetry add evaluation-framework\n",
    "from evaluation_framework.manager import FrameworkManager\n",
    "\n",
    "for algo in [\"cbow\", \"sg\"]:\n",
    "    for vsize in [50, 100, 200]: # Vector size of embeddings\n",
    "        p = os.path.join(movieLocation, f\"embeddings_{algo}_{vsize}\")\n",
    "\n",
    "        evaluation_manager = FrameworkManager()\n",
    "        evaluation_manager.evaluate(\n",
    "            p,\n",
    "            tasks=[\"Classification\"],\n",
    "            parallel=False,\n",
    "            debugging_mode=False,\n",
    "            vector_size=vsize,\n",
    "            result_directory_path=os.path.join(movieLocation, f\"embedding_evaluation_{algo}_{vsize}\")\n",
    "        )\n"
   ]
  },
  {
   "cell_type": "code",
   "execution_count": null,
   "id": "27d31e69",
   "metadata": {},
   "outputs": [],
   "source": [
    "results = pd.read_csv(\"comparison.csv\", sep=\" \")\n",
    "tab = pd.DataFrame()\n",
    "\n",
    "for algo in [\"cbow\", \"sg\"]:\n",
    "    for vsize in [50, 100, 200]:\n",
    "        r = results[results.test_name.str.contains(f\"{algo}_{vsize}\")] \\\n",
    "            .groupby(\"model\") \\\n",
    "            .max() \\\n",
    "            .reset_index()\n",
    "\n",
    "        row = {\"strategy\": f\"{algo}_{vsize}\"}\n",
    "        for m in [\"NB\", \"KNN\", \"SVM\", \"C45\"]:\n",
    "            row[m] = round(r[r.model==m].iloc[0][\"score_value\"]*100, 2)\n",
    "        tab = pd.concat([tab, pd.DataFrame([row])], ignore_index=True)\n",
    "\n",
    "tab"
   ]
  },
  {
   "cell_type": "markdown",
   "id": "351d127f",
   "metadata": {},
   "source": [
    "### Experiments"
   ]
  },
  {
   "cell_type": "code",
   "execution_count": null,
   "id": "cf55ec3f",
   "metadata": {},
   "outputs": [],
   "source": [
    "walks = transformer._walks\n",
    "\n",
    "print(f\"Number of entities with walks: {len(walks)}\")\n",
    "\n",
    "print(movies[0])\n",
    "print(f\"Walks per entity: {len(walks[0])}\")\n",
    "print(f\"First walk of first entity:\")\n",
    "print(walks[0][0])\n",
    "\n",
    "for walk in walks[1692]:\n",
    "    print(walk[0], walk[1], walk[2])\n",
    "\n",
    "# Distance(Matrix, Matrix Reloaded) < Distance(Matrix, The Batman)?\n",
    "# Can we represent the embeddings in a 2D space for visualization? -> See examples\n"
   ]
  },
  {
   "cell_type": "code",
   "execution_count": null,
   "id": "f5178744",
   "metadata": {},
   "outputs": [],
   "source": [
    "import matplotlib.pyplot as plt\n",
    "from sklearn.manifold import TSNE\n",
    "# Reduce the dimensions of entity embeddings to represent them in a 2D plane.\n",
    "X_tsne = TSNE(random_state=42).fit_transform(transformer._embeddings[1600:])\n",
    "\n",
    "colors = list(map(lambda e: \"#00ff00\" if movieTest[movieTest.DBpedia_URI==e].iloc[0].label == \"good\" else \"#ff0000\", transformer._entities[1600:]))\n",
    "sizes = list(map(lambda e: abs(50-movieTest[movieTest.DBpedia_URI==e].iloc[0].rating)**2, transformer._entities[1600:]))\n",
    "\n",
    "# Ploy the embeddings of entities in a 2D plane, annotating them.\n",
    "f = plt.figure(figsize=(200, 80))\n",
    "plt.scatter(X_tsne[:, 0], X_tsne[:, 1], c=colors, s=sizes)\n",
    "for x, y, t in zip(X_tsne[:, 0], X_tsne[:, 1], transformer._entities):\n",
    "    plt.annotate(t.split(\"/\")[-1], (x, y))\n",
    "\n",
    "# Display the graph with a title, removing the axes for better readability.\n",
    "plt.title(\"pyRDF2Vec\", fontsize=4)\n",
    "plt.axis(\"off\")\n",
    "plt.show()\n",
    "\n",
    "#f.savefig(\"figure.pdf\", bbox_inches='tight')\n"
   ]
  },
  {
   "cell_type": "code",
   "execution_count": 85,
   "id": "29b63cfb",
   "metadata": {},
   "outputs": [
    {
     "data": {
      "text/plain": [
       "'#ff0000'"
      ]
     },
     "execution_count": 85,
     "metadata": {},
     "output_type": "execute_result"
    }
   ],
   "source": []
  },
  {
   "cell_type": "code",
   "execution_count": 102,
   "id": "86cf3f55",
   "metadata": {},
   "outputs": [
    {
     "data": {
      "text/html": [
       "<div>\n",
       "<style scoped>\n",
       "    .dataframe tbody tr th:only-of-type {\n",
       "        vertical-align: middle;\n",
       "    }\n",
       "\n",
       "    .dataframe tbody tr th {\n",
       "        vertical-align: top;\n",
       "    }\n",
       "\n",
       "    .dataframe thead th {\n",
       "        text-align: right;\n",
       "    }\n",
       "</style>\n",
       "<table border=\"1\" class=\"dataframe\">\n",
       "  <thead>\n",
       "    <tr style=\"text-align: right;\">\n",
       "      <th></th>\n",
       "      <th>Wikidata_URI15</th>\n",
       "      <th>Movie</th>\n",
       "      <th>Release date</th>\n",
       "      <th>DBpedia_URI</th>\n",
       "      <th>label</th>\n",
       "      <th>id</th>\n",
       "      <th>rating</th>\n",
       "      <th>DBpedia_URI15</th>\n",
       "      <th>YAGO_URI15</th>\n",
       "      <th>DBpedia_URI15_Base32</th>\n",
       "    </tr>\n",
       "  </thead>\n",
       "  <tbody>\n",
       "    <tr>\n",
       "      <th>1999</th>\n",
       "      <td>http://www.wikidata.org/entity/Q2067539</td>\n",
       "      <td>Bio-Dome</td>\n",
       "      <td>01/12/1996 00:00</td>\n",
       "      <td>http://dbpedia.org/resource/Bio-Dome</td>\n",
       "      <td>bad</td>\n",
       "      <td>1600</td>\n",
       "      <td>1</td>\n",
       "      <td>http://dbpedia.org/resource/Bio-Dome</td>\n",
       "      <td>http://yago-knowledge.org/resource/Bio-Dome</td>\n",
       "      <td>NB2HI4B2F4XWIYTQMVSGSYJON5ZGOL3SMVZW65LSMNSS6Q...</td>\n",
       "    </tr>\n",
       "    <tr>\n",
       "      <th>1997</th>\n",
       "      <td>http://www.wikidata.org/entity/Q232248</td>\n",
       "      <td>Two of a Kind</td>\n",
       "      <td>12/16/1983 0:00</td>\n",
       "      <td>http://dbpedia.org/resource/Two_of_a_Kind_(198...</td>\n",
       "      <td>bad</td>\n",
       "      <td>1598</td>\n",
       "      <td>5</td>\n",
       "      <td>http://dbpedia.org/resource/Two_of_a_Kind_(198...</td>\n",
       "      <td>NaN</td>\n",
       "      <td>NB2HI4B2F4XWIYTQMVSGSYJON5ZGOL3SMVZW65LSMNSS6V...</td>\n",
       "    </tr>\n",
       "    <tr>\n",
       "      <th>1998</th>\n",
       "      <td>http://www.wikidata.org/entity/Q7943531</td>\n",
       "      <td>Vulgar</td>\n",
       "      <td>4/26/2002 0:00</td>\n",
       "      <td>http://dbpedia.org/resource/Vulgar_(film)</td>\n",
       "      <td>bad</td>\n",
       "      <td>1599</td>\n",
       "      <td>5</td>\n",
       "      <td>http://dbpedia.org/resource/Vulgar_(film)</td>\n",
       "      <td>http://yago-knowledge.org/resource/Vulgar_(film)</td>\n",
       "      <td>NB2HI4B2F4XWIYTQMVSGSYJON5ZGOL3SMVZW65LSMNSS6V...</td>\n",
       "    </tr>\n",
       "    <tr>\n",
       "      <th>399</th>\n",
       "      <td>http://www.wikidata.org/entity/Q3079834</td>\n",
       "      <td>Baby Geniuses</td>\n",
       "      <td>03/12/1999 00:00</td>\n",
       "      <td>http://dbpedia.org/resource/Baby_Geniuses</td>\n",
       "      <td>bad</td>\n",
       "      <td>2000</td>\n",
       "      <td>6</td>\n",
       "      <td>http://dbpedia.org/resource/Baby_Geniuses</td>\n",
       "      <td>http://yago-knowledge.org/resource/Baby_Geniuses</td>\n",
       "      <td>NB2HI4B2F4XWIYTQMVSGSYJON5ZGOL3SMVZW65LSMNSS6Q...</td>\n",
       "    </tr>\n",
       "    <tr>\n",
       "      <th>1995</th>\n",
       "      <td>http://www.wikidata.org/entity/Q475136</td>\n",
       "      <td>Miss March</td>\n",
       "      <td>3/13/2009 0:00</td>\n",
       "      <td>http://dbpedia.org/resource/Miss_March</td>\n",
       "      <td>bad</td>\n",
       "      <td>1596</td>\n",
       "      <td>7</td>\n",
       "      <td>http://dbpedia.org/resource/Miss_March</td>\n",
       "      <td>http://yago-knowledge.org/resource/Miss_March</td>\n",
       "      <td>NB2HI4B2F4XWIYTQMVSGSYJON5ZGOL3SMVZW65LSMNSS6T...</td>\n",
       "    </tr>\n",
       "    <tr>\n",
       "      <th>...</th>\n",
       "      <td>...</td>\n",
       "      <td>...</td>\n",
       "      <td>...</td>\n",
       "      <td>...</td>\n",
       "      <td>...</td>\n",
       "      <td>...</td>\n",
       "      <td>...</td>\n",
       "      <td>...</td>\n",
       "      <td>...</td>\n",
       "      <td>...</td>\n",
       "    </tr>\n",
       "    <tr>\n",
       "      <th>403</th>\n",
       "      <td>http://www.wikidata.org/entity/Q511914</td>\n",
       "      <td>Hoop Dreams</td>\n",
       "      <td>10/14/1994 0:00</td>\n",
       "      <td>http://dbpedia.org/resource/Hoop_Dreams</td>\n",
       "      <td>good</td>\n",
       "      <td>4</td>\n",
       "      <td>98</td>\n",
       "      <td>http://dbpedia.org/resource/Hoop_Dreams</td>\n",
       "      <td>http://yago-knowledge.org/resource/Hoop_Dreams</td>\n",
       "      <td>NB2HI4B2F4XWIYTQMVSGSYJON5ZGOL3SMVZW65LSMNSS6S...</td>\n",
       "    </tr>\n",
       "    <tr>\n",
       "      <th>404</th>\n",
       "      <td>http://www.wikidata.org/entity/Q216006</td>\n",
       "      <td>Pan's Labyrinth</td>\n",
       "      <td>12/29/2006 0:00</td>\n",
       "      <td>http://dbpedia.org/resource/Pan's_Labyrinth</td>\n",
       "      <td>good</td>\n",
       "      <td>5</td>\n",
       "      <td>98</td>\n",
       "      <td>http://dbpedia.org/resource/Pan's_Labyrinth</td>\n",
       "      <td>http://yago-knowledge.org/resource/Pan's_Labyr...</td>\n",
       "      <td>NB2HI4B2F4XWIYTQMVSGSYJON5ZGOL3SMVZW65LSMNSS6U...</td>\n",
       "    </tr>\n",
       "    <tr>\n",
       "      <th>402</th>\n",
       "      <td>http://www.wikidata.org/entity/Q681225</td>\n",
       "      <td>Army of Shadows</td>\n",
       "      <td>4/28/2006 0:00</td>\n",
       "      <td>http://dbpedia.org/resource/Army_of_Shadows</td>\n",
       "      <td>good</td>\n",
       "      <td>3</td>\n",
       "      <td>99</td>\n",
       "      <td>http://dbpedia.org/resource/Army_of_Shadows</td>\n",
       "      <td>http://yago-knowledge.org/resource/Army_of_Sha...</td>\n",
       "      <td>NB2HI4B2F4XWIYTQMVSGSYJON5ZGOL3SMVZW65LSMNSS6Q...</td>\n",
       "    </tr>\n",
       "    <tr>\n",
       "      <th>401</th>\n",
       "      <td>http://www.wikidata.org/entity/Q47703</td>\n",
       "      <td>The Godfather</td>\n",
       "      <td>03/11/1972 00:00</td>\n",
       "      <td>http://dbpedia.org/resource/The_Godfather</td>\n",
       "      <td>good</td>\n",
       "      <td>2</td>\n",
       "      <td>100</td>\n",
       "      <td>http://dbpedia.org/resource/The_Godfather</td>\n",
       "      <td>http://yago-knowledge.org/resource/The_Godfather</td>\n",
       "      <td>NB2HI4B2F4XWIYTQMVSGSYJON5ZGOL3SMVZW65LSMNSS6V...</td>\n",
       "    </tr>\n",
       "    <tr>\n",
       "      <th>400</th>\n",
       "      <td>http://www.wikidata.org/entity/Q15052285</td>\n",
       "      <td>Best Kept Secret</td>\n",
       "      <td>09/06/2013 00:00</td>\n",
       "      <td>http://dbpedia.org/resource/Best_Kept_Secret_(...</td>\n",
       "      <td>good</td>\n",
       "      <td>1</td>\n",
       "      <td>100</td>\n",
       "      <td>http://dbpedia.org/resource/Best_Kept_Secret_(...</td>\n",
       "      <td>NaN</td>\n",
       "      <td>NB2HI4B2F4XWIYTQMVSGSYJON5ZGOL3SMVZW65LSMNSS6Q...</td>\n",
       "    </tr>\n",
       "  </tbody>\n",
       "</table>\n",
       "<p>2000 rows × 10 columns</p>\n",
       "</div>"
      ],
      "text/plain": [
       "                                Wikidata_URI15             Movie  \\\n",
       "1999   http://www.wikidata.org/entity/Q2067539          Bio-Dome   \n",
       "1997    http://www.wikidata.org/entity/Q232248     Two of a Kind   \n",
       "1998   http://www.wikidata.org/entity/Q7943531            Vulgar   \n",
       "399    http://www.wikidata.org/entity/Q3079834     Baby Geniuses   \n",
       "1995    http://www.wikidata.org/entity/Q475136        Miss March   \n",
       "...                                        ...               ...   \n",
       "403     http://www.wikidata.org/entity/Q511914       Hoop Dreams   \n",
       "404     http://www.wikidata.org/entity/Q216006   Pan's Labyrinth   \n",
       "402     http://www.wikidata.org/entity/Q681225   Army of Shadows   \n",
       "401      http://www.wikidata.org/entity/Q47703     The Godfather   \n",
       "400   http://www.wikidata.org/entity/Q15052285  Best Kept Secret   \n",
       "\n",
       "          Release date                                        DBpedia_URI  \\\n",
       "1999  01/12/1996 00:00               http://dbpedia.org/resource/Bio-Dome   \n",
       "1997   12/16/1983 0:00  http://dbpedia.org/resource/Two_of_a_Kind_(198...   \n",
       "1998    4/26/2002 0:00          http://dbpedia.org/resource/Vulgar_(film)   \n",
       "399   03/12/1999 00:00          http://dbpedia.org/resource/Baby_Geniuses   \n",
       "1995    3/13/2009 0:00             http://dbpedia.org/resource/Miss_March   \n",
       "...                ...                                                ...   \n",
       "403    10/14/1994 0:00            http://dbpedia.org/resource/Hoop_Dreams   \n",
       "404    12/29/2006 0:00        http://dbpedia.org/resource/Pan's_Labyrinth   \n",
       "402     4/28/2006 0:00        http://dbpedia.org/resource/Army_of_Shadows   \n",
       "401   03/11/1972 00:00          http://dbpedia.org/resource/The_Godfather   \n",
       "400   09/06/2013 00:00  http://dbpedia.org/resource/Best_Kept_Secret_(...   \n",
       "\n",
       "     label    id  rating                                      DBpedia_URI15  \\\n",
       "1999   bad  1600       1               http://dbpedia.org/resource/Bio-Dome   \n",
       "1997   bad  1598       5  http://dbpedia.org/resource/Two_of_a_Kind_(198...   \n",
       "1998   bad  1599       5          http://dbpedia.org/resource/Vulgar_(film)   \n",
       "399    bad  2000       6          http://dbpedia.org/resource/Baby_Geniuses   \n",
       "1995   bad  1596       7             http://dbpedia.org/resource/Miss_March   \n",
       "...    ...   ...     ...                                                ...   \n",
       "403   good     4      98            http://dbpedia.org/resource/Hoop_Dreams   \n",
       "404   good     5      98        http://dbpedia.org/resource/Pan's_Labyrinth   \n",
       "402   good     3      99        http://dbpedia.org/resource/Army_of_Shadows   \n",
       "401   good     2     100          http://dbpedia.org/resource/The_Godfather   \n",
       "400   good     1     100  http://dbpedia.org/resource/Best_Kept_Secret_(...   \n",
       "\n",
       "                                             YAGO_URI15  \\\n",
       "1999        http://yago-knowledge.org/resource/Bio-Dome   \n",
       "1997                                                NaN   \n",
       "1998   http://yago-knowledge.org/resource/Vulgar_(film)   \n",
       "399    http://yago-knowledge.org/resource/Baby_Geniuses   \n",
       "1995      http://yago-knowledge.org/resource/Miss_March   \n",
       "...                                                 ...   \n",
       "403      http://yago-knowledge.org/resource/Hoop_Dreams   \n",
       "404   http://yago-knowledge.org/resource/Pan's_Labyr...   \n",
       "402   http://yago-knowledge.org/resource/Army_of_Sha...   \n",
       "401    http://yago-knowledge.org/resource/The_Godfather   \n",
       "400                                                 NaN   \n",
       "\n",
       "                                   DBpedia_URI15_Base32  \n",
       "1999  NB2HI4B2F4XWIYTQMVSGSYJON5ZGOL3SMVZW65LSMNSS6Q...  \n",
       "1997  NB2HI4B2F4XWIYTQMVSGSYJON5ZGOL3SMVZW65LSMNSS6V...  \n",
       "1998  NB2HI4B2F4XWIYTQMVSGSYJON5ZGOL3SMVZW65LSMNSS6V...  \n",
       "399   NB2HI4B2F4XWIYTQMVSGSYJON5ZGOL3SMVZW65LSMNSS6Q...  \n",
       "1995  NB2HI4B2F4XWIYTQMVSGSYJON5ZGOL3SMVZW65LSMNSS6T...  \n",
       "...                                                 ...  \n",
       "403   NB2HI4B2F4XWIYTQMVSGSYJON5ZGOL3SMVZW65LSMNSS6S...  \n",
       "404   NB2HI4B2F4XWIYTQMVSGSYJON5ZGOL3SMVZW65LSMNSS6U...  \n",
       "402   NB2HI4B2F4XWIYTQMVSGSYJON5ZGOL3SMVZW65LSMNSS6Q...  \n",
       "401   NB2HI4B2F4XWIYTQMVSGSYJON5ZGOL3SMVZW65LSMNSS6V...  \n",
       "400   NB2HI4B2F4XWIYTQMVSGSYJON5ZGOL3SMVZW65LSMNSS6Q...  \n",
       "\n",
       "[2000 rows x 10 columns]"
      ]
     },
     "execution_count": 102,
     "metadata": {},
     "output_type": "execute_result"
    }
   ],
   "source": [
    "movieFull.sort_values(by=\"rating\")"
   ]
  },
  {
   "cell_type": "code",
   "execution_count": null,
   "id": "661cb4f0",
   "metadata": {},
   "outputs": [],
   "source": []
  }
 ],
 "metadata": {
  "interpreter": {
   "hash": "fc6f725a70bbe8041c097ab7eae8aeb625a2cc94c1af18b785b9d981852f3aec"
  },
  "kernelspec": {
   "display_name": "lime-kernel",
   "language": "python",
   "name": "python3"
  },
  "language_info": {
   "codemirror_mode": {
    "name": "ipython",
    "version": 3
   },
   "file_extension": ".py",
   "mimetype": "text/x-python",
   "name": "python",
   "nbconvert_exporter": "python",
   "pygments_lexer": "ipython3",
   "version": "3.10.4"
  }
 },
 "nbformat": 4,
 "nbformat_minor": 5
}
