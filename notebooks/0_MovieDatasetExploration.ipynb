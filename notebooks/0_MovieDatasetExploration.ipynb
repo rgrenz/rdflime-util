{
 "cells": [
  {
   "cell_type": "code",
   "execution_count": 1,
   "id": "c6525562",
   "metadata": {},
   "outputs": [],
   "source": [
    "import pandas as pd\n",
    "import os.path\n",
    "import matplotlib.pyplot as plt\n",
    "from rdflimeConfig import movieLocation"
   ]
  },
  {
   "cell_type": "code",
   "execution_count": 2,
   "id": "bdc82a2e",
   "metadata": {},
   "outputs": [
    {
     "ename": "FileNotFoundError",
     "evalue": "[Errno 2] No such file or directory: '../data/metacritic-movies/movies.tsv'",
     "output_type": "error",
     "traceback": [
      "\u001b[0;31m---------------------------------------------------------------------------\u001b[0m",
      "\u001b[0;31mFileNotFoundError\u001b[0m                         Traceback (most recent call last)",
      "\u001b[1;32m/workspaces/rdflime/rdflime-util/notebooks/0_MovieDatasetExploration.ipynb Cell 2'\u001b[0m in \u001b[0;36m<cell line: 5>\u001b[0;34m()\u001b[0m\n\u001b[1;32m      <a href='vscode-notebook-cell://dev-container%2B5c5c77736c2e6c6f63616c686f73745c44656269616e5c686f6d655c726f7576656e5c776f726b5c756e696d615c7264666c696d65/workspaces/rdflime/rdflime-util/notebooks/0_MovieDatasetExploration.ipynb#ch0000001vscode-remote?line=0'>1</a>\u001b[0m \u001b[39m# Read movie dataset\u001b[39;00m\n\u001b[1;32m      <a href='vscode-notebook-cell://dev-container%2B5c5c77736c2e6c6f63616c686f73745c44656269616e5c686f6d655c726f7576656e5c776f726b5c756e696d615c7264666c696d65/workspaces/rdflime/rdflime-util/notebooks/0_MovieDatasetExploration.ipynb#ch0000001vscode-remote?line=1'>2</a>\u001b[0m \u001b[39m#movieTrain = pd.read_csv(os.path.join(movieLocation, \"train_fixed.csv\"), sep='\\t')\u001b[39;00m\n\u001b[1;32m      <a href='vscode-notebook-cell://dev-container%2B5c5c77736c2e6c6f63616c686f73745c44656269616e5c686f6d655c726f7576656e5c776f726b5c756e696d615c7264666c696d65/workspaces/rdflime/rdflime-util/notebooks/0_MovieDatasetExploration.ipynb#ch0000001vscode-remote?line=2'>3</a>\u001b[0m \u001b[39m#movieTest = pd.read_csv(os.path.join(movieLocation, \"test_fixed.csv\"), sep='\\t')\u001b[39;00m\n\u001b[1;32m      <a href='vscode-notebook-cell://dev-container%2B5c5c77736c2e6c6f63616c686f73745c44656269616e5c686f6d655c726f7576656e5c776f726b5c756e696d615c7264666c696d65/workspaces/rdflime/rdflime-util/notebooks/0_MovieDatasetExploration.ipynb#ch0000001vscode-remote?line=3'>4</a>\u001b[0m \u001b[39m#movieFull = pd.concat(objs=[movieTrain, movieTest]).reset_index(drop=True)\u001b[39;00m\n\u001b[0;32m----> <a href='vscode-notebook-cell://dev-container%2B5c5c77736c2e6c6f63616c686f73745c44656269616e5c686f6d655c726f7576656e5c776f726b5c756e696d615c7264666c696d65/workspaces/rdflime/rdflime-util/notebooks/0_MovieDatasetExploration.ipynb#ch0000001vscode-remote?line=4'>5</a>\u001b[0m movieFull \u001b[39m=\u001b[39m pd\u001b[39m.\u001b[39;49mread_csv(os\u001b[39m.\u001b[39;49mpath\u001b[39m.\u001b[39;49mjoin(movieLocation, \u001b[39m\"\u001b[39;49m\u001b[39mmovies.tsv\u001b[39;49m\u001b[39m\"\u001b[39;49m), sep\u001b[39m=\u001b[39;49m\u001b[39m\"\u001b[39;49m\u001b[39m\\t\u001b[39;49;00m\u001b[39m\"\u001b[39;49m)\n\u001b[1;32m      <a href='vscode-notebook-cell://dev-container%2B5c5c77736c2e6c6f63616c686f73745c44656269616e5c686f6d655c726f7576656e5c776f726b5c756e696d615c7264666c696d65/workspaces/rdflime/rdflime-util/notebooks/0_MovieDatasetExploration.ipynb#ch0000001vscode-remote?line=6'>7</a>\u001b[0m \u001b[39mprint\u001b[39m(\u001b[39mf\u001b[39m\u001b[39m\"\"\"\u001b[39m\n\u001b[1;32m      <a href='vscode-notebook-cell://dev-container%2B5c5c77736c2e6c6f63616c686f73745c44656269616e5c686f6d655c726f7576656e5c776f726b5c756e696d615c7264666c696d65/workspaces/rdflime/rdflime-util/notebooks/0_MovieDatasetExploration.ipynb#ch0000001vscode-remote?line=7'>8</a>\u001b[0m \u001b[39mMetacritic-Movies dataset loaded.\u001b[39m\n\u001b[1;32m      <a href='vscode-notebook-cell://dev-container%2B5c5c77736c2e6c6f63616c686f73745c44656269616e5c686f6d655c726f7576656e5c776f726b5c756e696d615c7264666c696d65/workspaces/rdflime/rdflime-util/notebooks/0_MovieDatasetExploration.ipynb#ch0000001vscode-remote?line=8'>9</a>\u001b[0m \u001b[39mTrain samples: \u001b[39m\u001b[39m{\u001b[39;00m\u001b[39mlen\u001b[39m(movieTrain)\u001b[39m}\u001b[39;00m\u001b[39m \u001b[39m\n\u001b[1;32m     <a href='vscode-notebook-cell://dev-container%2B5c5c77736c2e6c6f63616c686f73745c44656269616e5c686f6d655c726f7576656e5c776f726b5c756e696d615c7264666c696d65/workspaces/rdflime/rdflime-util/notebooks/0_MovieDatasetExploration.ipynb#ch0000001vscode-remote?line=9'>10</a>\u001b[0m \u001b[39mTest samples: \u001b[39m\u001b[39m{\u001b[39;00m\u001b[39mlen\u001b[39m(movieTest)\u001b[39m}\u001b[39;00m\n\u001b[1;32m     <a href='vscode-notebook-cell://dev-container%2B5c5c77736c2e6c6f63616c686f73745c44656269616e5c686f6d655c726f7576656e5c776f726b5c756e696d615c7264666c696d65/workspaces/rdflime/rdflime-util/notebooks/0_MovieDatasetExploration.ipynb#ch0000001vscode-remote?line=10'>11</a>\u001b[0m \u001b[39mTotal samples: \u001b[39m\u001b[39m{\u001b[39;00m\u001b[39mlen\u001b[39m(movieFull)\u001b[39m}\u001b[39;00m\n\u001b[1;32m     <a href='vscode-notebook-cell://dev-container%2B5c5c77736c2e6c6f63616c686f73745c44656269616e5c686f6d655c726f7576656e5c776f726b5c756e696d615c7264666c696d65/workspaces/rdflime/rdflime-util/notebooks/0_MovieDatasetExploration.ipynb#ch0000001vscode-remote?line=11'>12</a>\u001b[0m \u001b[39m\"\"\"\u001b[39m)\n\u001b[1;32m     <a href='vscode-notebook-cell://dev-container%2B5c5c77736c2e6c6f63616c686f73745c44656269616e5c686f6d655c726f7576656e5c776f726b5c756e696d615c7264666c696d65/workspaces/rdflime/rdflime-util/notebooks/0_MovieDatasetExploration.ipynb#ch0000001vscode-remote?line=13'>14</a>\u001b[0m movieFull\n",
      "File \u001b[0;32m~/.cache/pypoetry/virtualenvs/rdflime-util-cLuY5sAo-py3.10/lib/python3.10/site-packages/pandas/util/_decorators.py:311\u001b[0m, in \u001b[0;36mdeprecate_nonkeyword_arguments.<locals>.decorate.<locals>.wrapper\u001b[0;34m(*args, **kwargs)\u001b[0m\n\u001b[1;32m    <a href='file:///home/vscode/.cache/pypoetry/virtualenvs/rdflime-util-cLuY5sAo-py3.10/lib/python3.10/site-packages/pandas/util/_decorators.py?line=304'>305</a>\u001b[0m \u001b[39mif\u001b[39;00m \u001b[39mlen\u001b[39m(args) \u001b[39m>\u001b[39m num_allow_args:\n\u001b[1;32m    <a href='file:///home/vscode/.cache/pypoetry/virtualenvs/rdflime-util-cLuY5sAo-py3.10/lib/python3.10/site-packages/pandas/util/_decorators.py?line=305'>306</a>\u001b[0m     warnings\u001b[39m.\u001b[39mwarn(\n\u001b[1;32m    <a href='file:///home/vscode/.cache/pypoetry/virtualenvs/rdflime-util-cLuY5sAo-py3.10/lib/python3.10/site-packages/pandas/util/_decorators.py?line=306'>307</a>\u001b[0m         msg\u001b[39m.\u001b[39mformat(arguments\u001b[39m=\u001b[39marguments),\n\u001b[1;32m    <a href='file:///home/vscode/.cache/pypoetry/virtualenvs/rdflime-util-cLuY5sAo-py3.10/lib/python3.10/site-packages/pandas/util/_decorators.py?line=307'>308</a>\u001b[0m         \u001b[39mFutureWarning\u001b[39;00m,\n\u001b[1;32m    <a href='file:///home/vscode/.cache/pypoetry/virtualenvs/rdflime-util-cLuY5sAo-py3.10/lib/python3.10/site-packages/pandas/util/_decorators.py?line=308'>309</a>\u001b[0m         stacklevel\u001b[39m=\u001b[39mstacklevel,\n\u001b[1;32m    <a href='file:///home/vscode/.cache/pypoetry/virtualenvs/rdflime-util-cLuY5sAo-py3.10/lib/python3.10/site-packages/pandas/util/_decorators.py?line=309'>310</a>\u001b[0m     )\n\u001b[0;32m--> <a href='file:///home/vscode/.cache/pypoetry/virtualenvs/rdflime-util-cLuY5sAo-py3.10/lib/python3.10/site-packages/pandas/util/_decorators.py?line=310'>311</a>\u001b[0m \u001b[39mreturn\u001b[39;00m func(\u001b[39m*\u001b[39;49margs, \u001b[39m*\u001b[39;49m\u001b[39m*\u001b[39;49mkwargs)\n",
      "File \u001b[0;32m~/.cache/pypoetry/virtualenvs/rdflime-util-cLuY5sAo-py3.10/lib/python3.10/site-packages/pandas/io/parsers/readers.py:680\u001b[0m, in \u001b[0;36mread_csv\u001b[0;34m(filepath_or_buffer, sep, delimiter, header, names, index_col, usecols, squeeze, prefix, mangle_dupe_cols, dtype, engine, converters, true_values, false_values, skipinitialspace, skiprows, skipfooter, nrows, na_values, keep_default_na, na_filter, verbose, skip_blank_lines, parse_dates, infer_datetime_format, keep_date_col, date_parser, dayfirst, cache_dates, iterator, chunksize, compression, thousands, decimal, lineterminator, quotechar, quoting, doublequote, escapechar, comment, encoding, encoding_errors, dialect, error_bad_lines, warn_bad_lines, on_bad_lines, delim_whitespace, low_memory, memory_map, float_precision, storage_options)\u001b[0m\n\u001b[1;32m    <a href='file:///home/vscode/.cache/pypoetry/virtualenvs/rdflime-util-cLuY5sAo-py3.10/lib/python3.10/site-packages/pandas/io/parsers/readers.py?line=664'>665</a>\u001b[0m kwds_defaults \u001b[39m=\u001b[39m _refine_defaults_read(\n\u001b[1;32m    <a href='file:///home/vscode/.cache/pypoetry/virtualenvs/rdflime-util-cLuY5sAo-py3.10/lib/python3.10/site-packages/pandas/io/parsers/readers.py?line=665'>666</a>\u001b[0m     dialect,\n\u001b[1;32m    <a href='file:///home/vscode/.cache/pypoetry/virtualenvs/rdflime-util-cLuY5sAo-py3.10/lib/python3.10/site-packages/pandas/io/parsers/readers.py?line=666'>667</a>\u001b[0m     delimiter,\n\u001b[0;32m   (...)\u001b[0m\n\u001b[1;32m    <a href='file:///home/vscode/.cache/pypoetry/virtualenvs/rdflime-util-cLuY5sAo-py3.10/lib/python3.10/site-packages/pandas/io/parsers/readers.py?line=675'>676</a>\u001b[0m     defaults\u001b[39m=\u001b[39m{\u001b[39m\"\u001b[39m\u001b[39mdelimiter\u001b[39m\u001b[39m\"\u001b[39m: \u001b[39m\"\u001b[39m\u001b[39m,\u001b[39m\u001b[39m\"\u001b[39m},\n\u001b[1;32m    <a href='file:///home/vscode/.cache/pypoetry/virtualenvs/rdflime-util-cLuY5sAo-py3.10/lib/python3.10/site-packages/pandas/io/parsers/readers.py?line=676'>677</a>\u001b[0m )\n\u001b[1;32m    <a href='file:///home/vscode/.cache/pypoetry/virtualenvs/rdflime-util-cLuY5sAo-py3.10/lib/python3.10/site-packages/pandas/io/parsers/readers.py?line=677'>678</a>\u001b[0m kwds\u001b[39m.\u001b[39mupdate(kwds_defaults)\n\u001b[0;32m--> <a href='file:///home/vscode/.cache/pypoetry/virtualenvs/rdflime-util-cLuY5sAo-py3.10/lib/python3.10/site-packages/pandas/io/parsers/readers.py?line=679'>680</a>\u001b[0m \u001b[39mreturn\u001b[39;00m _read(filepath_or_buffer, kwds)\n",
      "File \u001b[0;32m~/.cache/pypoetry/virtualenvs/rdflime-util-cLuY5sAo-py3.10/lib/python3.10/site-packages/pandas/io/parsers/readers.py:575\u001b[0m, in \u001b[0;36m_read\u001b[0;34m(filepath_or_buffer, kwds)\u001b[0m\n\u001b[1;32m    <a href='file:///home/vscode/.cache/pypoetry/virtualenvs/rdflime-util-cLuY5sAo-py3.10/lib/python3.10/site-packages/pandas/io/parsers/readers.py?line=571'>572</a>\u001b[0m _validate_names(kwds\u001b[39m.\u001b[39mget(\u001b[39m\"\u001b[39m\u001b[39mnames\u001b[39m\u001b[39m\"\u001b[39m, \u001b[39mNone\u001b[39;00m))\n\u001b[1;32m    <a href='file:///home/vscode/.cache/pypoetry/virtualenvs/rdflime-util-cLuY5sAo-py3.10/lib/python3.10/site-packages/pandas/io/parsers/readers.py?line=573'>574</a>\u001b[0m \u001b[39m# Create the parser.\u001b[39;00m\n\u001b[0;32m--> <a href='file:///home/vscode/.cache/pypoetry/virtualenvs/rdflime-util-cLuY5sAo-py3.10/lib/python3.10/site-packages/pandas/io/parsers/readers.py?line=574'>575</a>\u001b[0m parser \u001b[39m=\u001b[39m TextFileReader(filepath_or_buffer, \u001b[39m*\u001b[39;49m\u001b[39m*\u001b[39;49mkwds)\n\u001b[1;32m    <a href='file:///home/vscode/.cache/pypoetry/virtualenvs/rdflime-util-cLuY5sAo-py3.10/lib/python3.10/site-packages/pandas/io/parsers/readers.py?line=576'>577</a>\u001b[0m \u001b[39mif\u001b[39;00m chunksize \u001b[39mor\u001b[39;00m iterator:\n\u001b[1;32m    <a href='file:///home/vscode/.cache/pypoetry/virtualenvs/rdflime-util-cLuY5sAo-py3.10/lib/python3.10/site-packages/pandas/io/parsers/readers.py?line=577'>578</a>\u001b[0m     \u001b[39mreturn\u001b[39;00m parser\n",
      "File \u001b[0;32m~/.cache/pypoetry/virtualenvs/rdflime-util-cLuY5sAo-py3.10/lib/python3.10/site-packages/pandas/io/parsers/readers.py:933\u001b[0m, in \u001b[0;36mTextFileReader.__init__\u001b[0;34m(self, f, engine, **kwds)\u001b[0m\n\u001b[1;32m    <a href='file:///home/vscode/.cache/pypoetry/virtualenvs/rdflime-util-cLuY5sAo-py3.10/lib/python3.10/site-packages/pandas/io/parsers/readers.py?line=929'>930</a>\u001b[0m     \u001b[39mself\u001b[39m\u001b[39m.\u001b[39moptions[\u001b[39m\"\u001b[39m\u001b[39mhas_index_names\u001b[39m\u001b[39m\"\u001b[39m] \u001b[39m=\u001b[39m kwds[\u001b[39m\"\u001b[39m\u001b[39mhas_index_names\u001b[39m\u001b[39m\"\u001b[39m]\n\u001b[1;32m    <a href='file:///home/vscode/.cache/pypoetry/virtualenvs/rdflime-util-cLuY5sAo-py3.10/lib/python3.10/site-packages/pandas/io/parsers/readers.py?line=931'>932</a>\u001b[0m \u001b[39mself\u001b[39m\u001b[39m.\u001b[39mhandles: IOHandles \u001b[39m|\u001b[39m \u001b[39mNone\u001b[39;00m \u001b[39m=\u001b[39m \u001b[39mNone\u001b[39;00m\n\u001b[0;32m--> <a href='file:///home/vscode/.cache/pypoetry/virtualenvs/rdflime-util-cLuY5sAo-py3.10/lib/python3.10/site-packages/pandas/io/parsers/readers.py?line=932'>933</a>\u001b[0m \u001b[39mself\u001b[39m\u001b[39m.\u001b[39m_engine \u001b[39m=\u001b[39m \u001b[39mself\u001b[39;49m\u001b[39m.\u001b[39;49m_make_engine(f, \u001b[39mself\u001b[39;49m\u001b[39m.\u001b[39;49mengine)\n",
      "File \u001b[0;32m~/.cache/pypoetry/virtualenvs/rdflime-util-cLuY5sAo-py3.10/lib/python3.10/site-packages/pandas/io/parsers/readers.py:1217\u001b[0m, in \u001b[0;36mTextFileReader._make_engine\u001b[0;34m(self, f, engine)\u001b[0m\n\u001b[1;32m   <a href='file:///home/vscode/.cache/pypoetry/virtualenvs/rdflime-util-cLuY5sAo-py3.10/lib/python3.10/site-packages/pandas/io/parsers/readers.py?line=1212'>1213</a>\u001b[0m     mode \u001b[39m=\u001b[39m \u001b[39m\"\u001b[39m\u001b[39mrb\u001b[39m\u001b[39m\"\u001b[39m\n\u001b[1;32m   <a href='file:///home/vscode/.cache/pypoetry/virtualenvs/rdflime-util-cLuY5sAo-py3.10/lib/python3.10/site-packages/pandas/io/parsers/readers.py?line=1213'>1214</a>\u001b[0m \u001b[39m# error: No overload variant of \"get_handle\" matches argument types\u001b[39;00m\n\u001b[1;32m   <a href='file:///home/vscode/.cache/pypoetry/virtualenvs/rdflime-util-cLuY5sAo-py3.10/lib/python3.10/site-packages/pandas/io/parsers/readers.py?line=1214'>1215</a>\u001b[0m \u001b[39m# \"Union[str, PathLike[str], ReadCsvBuffer[bytes], ReadCsvBuffer[str]]\"\u001b[39;00m\n\u001b[1;32m   <a href='file:///home/vscode/.cache/pypoetry/virtualenvs/rdflime-util-cLuY5sAo-py3.10/lib/python3.10/site-packages/pandas/io/parsers/readers.py?line=1215'>1216</a>\u001b[0m \u001b[39m# , \"str\", \"bool\", \"Any\", \"Any\", \"Any\", \"Any\", \"Any\"\u001b[39;00m\n\u001b[0;32m-> <a href='file:///home/vscode/.cache/pypoetry/virtualenvs/rdflime-util-cLuY5sAo-py3.10/lib/python3.10/site-packages/pandas/io/parsers/readers.py?line=1216'>1217</a>\u001b[0m \u001b[39mself\u001b[39m\u001b[39m.\u001b[39mhandles \u001b[39m=\u001b[39m get_handle(  \u001b[39m# type: ignore[call-overload]\u001b[39;49;00m\n\u001b[1;32m   <a href='file:///home/vscode/.cache/pypoetry/virtualenvs/rdflime-util-cLuY5sAo-py3.10/lib/python3.10/site-packages/pandas/io/parsers/readers.py?line=1217'>1218</a>\u001b[0m     f,\n\u001b[1;32m   <a href='file:///home/vscode/.cache/pypoetry/virtualenvs/rdflime-util-cLuY5sAo-py3.10/lib/python3.10/site-packages/pandas/io/parsers/readers.py?line=1218'>1219</a>\u001b[0m     mode,\n\u001b[1;32m   <a href='file:///home/vscode/.cache/pypoetry/virtualenvs/rdflime-util-cLuY5sAo-py3.10/lib/python3.10/site-packages/pandas/io/parsers/readers.py?line=1219'>1220</a>\u001b[0m     encoding\u001b[39m=\u001b[39;49m\u001b[39mself\u001b[39;49m\u001b[39m.\u001b[39;49moptions\u001b[39m.\u001b[39;49mget(\u001b[39m\"\u001b[39;49m\u001b[39mencoding\u001b[39;49m\u001b[39m\"\u001b[39;49m, \u001b[39mNone\u001b[39;49;00m),\n\u001b[1;32m   <a href='file:///home/vscode/.cache/pypoetry/virtualenvs/rdflime-util-cLuY5sAo-py3.10/lib/python3.10/site-packages/pandas/io/parsers/readers.py?line=1220'>1221</a>\u001b[0m     compression\u001b[39m=\u001b[39;49m\u001b[39mself\u001b[39;49m\u001b[39m.\u001b[39;49moptions\u001b[39m.\u001b[39;49mget(\u001b[39m\"\u001b[39;49m\u001b[39mcompression\u001b[39;49m\u001b[39m\"\u001b[39;49m, \u001b[39mNone\u001b[39;49;00m),\n\u001b[1;32m   <a href='file:///home/vscode/.cache/pypoetry/virtualenvs/rdflime-util-cLuY5sAo-py3.10/lib/python3.10/site-packages/pandas/io/parsers/readers.py?line=1221'>1222</a>\u001b[0m     memory_map\u001b[39m=\u001b[39;49m\u001b[39mself\u001b[39;49m\u001b[39m.\u001b[39;49moptions\u001b[39m.\u001b[39;49mget(\u001b[39m\"\u001b[39;49m\u001b[39mmemory_map\u001b[39;49m\u001b[39m\"\u001b[39;49m, \u001b[39mFalse\u001b[39;49;00m),\n\u001b[1;32m   <a href='file:///home/vscode/.cache/pypoetry/virtualenvs/rdflime-util-cLuY5sAo-py3.10/lib/python3.10/site-packages/pandas/io/parsers/readers.py?line=1222'>1223</a>\u001b[0m     is_text\u001b[39m=\u001b[39;49mis_text,\n\u001b[1;32m   <a href='file:///home/vscode/.cache/pypoetry/virtualenvs/rdflime-util-cLuY5sAo-py3.10/lib/python3.10/site-packages/pandas/io/parsers/readers.py?line=1223'>1224</a>\u001b[0m     errors\u001b[39m=\u001b[39;49m\u001b[39mself\u001b[39;49m\u001b[39m.\u001b[39;49moptions\u001b[39m.\u001b[39;49mget(\u001b[39m\"\u001b[39;49m\u001b[39mencoding_errors\u001b[39;49m\u001b[39m\"\u001b[39;49m, \u001b[39m\"\u001b[39;49m\u001b[39mstrict\u001b[39;49m\u001b[39m\"\u001b[39;49m),\n\u001b[1;32m   <a href='file:///home/vscode/.cache/pypoetry/virtualenvs/rdflime-util-cLuY5sAo-py3.10/lib/python3.10/site-packages/pandas/io/parsers/readers.py?line=1224'>1225</a>\u001b[0m     storage_options\u001b[39m=\u001b[39;49m\u001b[39mself\u001b[39;49m\u001b[39m.\u001b[39;49moptions\u001b[39m.\u001b[39;49mget(\u001b[39m\"\u001b[39;49m\u001b[39mstorage_options\u001b[39;49m\u001b[39m\"\u001b[39;49m, \u001b[39mNone\u001b[39;49;00m),\n\u001b[1;32m   <a href='file:///home/vscode/.cache/pypoetry/virtualenvs/rdflime-util-cLuY5sAo-py3.10/lib/python3.10/site-packages/pandas/io/parsers/readers.py?line=1225'>1226</a>\u001b[0m )\n\u001b[1;32m   <a href='file:///home/vscode/.cache/pypoetry/virtualenvs/rdflime-util-cLuY5sAo-py3.10/lib/python3.10/site-packages/pandas/io/parsers/readers.py?line=1226'>1227</a>\u001b[0m \u001b[39massert\u001b[39;00m \u001b[39mself\u001b[39m\u001b[39m.\u001b[39mhandles \u001b[39mis\u001b[39;00m \u001b[39mnot\u001b[39;00m \u001b[39mNone\u001b[39;00m\n\u001b[1;32m   <a href='file:///home/vscode/.cache/pypoetry/virtualenvs/rdflime-util-cLuY5sAo-py3.10/lib/python3.10/site-packages/pandas/io/parsers/readers.py?line=1227'>1228</a>\u001b[0m f \u001b[39m=\u001b[39m \u001b[39mself\u001b[39m\u001b[39m.\u001b[39mhandles\u001b[39m.\u001b[39mhandle\n",
      "File \u001b[0;32m~/.cache/pypoetry/virtualenvs/rdflime-util-cLuY5sAo-py3.10/lib/python3.10/site-packages/pandas/io/common.py:789\u001b[0m, in \u001b[0;36mget_handle\u001b[0;34m(path_or_buf, mode, encoding, compression, memory_map, is_text, errors, storage_options)\u001b[0m\n\u001b[1;32m    <a href='file:///home/vscode/.cache/pypoetry/virtualenvs/rdflime-util-cLuY5sAo-py3.10/lib/python3.10/site-packages/pandas/io/common.py?line=783'>784</a>\u001b[0m \u001b[39melif\u001b[39;00m \u001b[39misinstance\u001b[39m(handle, \u001b[39mstr\u001b[39m):\n\u001b[1;32m    <a href='file:///home/vscode/.cache/pypoetry/virtualenvs/rdflime-util-cLuY5sAo-py3.10/lib/python3.10/site-packages/pandas/io/common.py?line=784'>785</a>\u001b[0m     \u001b[39m# Check whether the filename is to be opened in binary mode.\u001b[39;00m\n\u001b[1;32m    <a href='file:///home/vscode/.cache/pypoetry/virtualenvs/rdflime-util-cLuY5sAo-py3.10/lib/python3.10/site-packages/pandas/io/common.py?line=785'>786</a>\u001b[0m     \u001b[39m# Binary mode does not support 'encoding' and 'newline'.\u001b[39;00m\n\u001b[1;32m    <a href='file:///home/vscode/.cache/pypoetry/virtualenvs/rdflime-util-cLuY5sAo-py3.10/lib/python3.10/site-packages/pandas/io/common.py?line=786'>787</a>\u001b[0m     \u001b[39mif\u001b[39;00m ioargs\u001b[39m.\u001b[39mencoding \u001b[39mand\u001b[39;00m \u001b[39m\"\u001b[39m\u001b[39mb\u001b[39m\u001b[39m\"\u001b[39m \u001b[39mnot\u001b[39;00m \u001b[39min\u001b[39;00m ioargs\u001b[39m.\u001b[39mmode:\n\u001b[1;32m    <a href='file:///home/vscode/.cache/pypoetry/virtualenvs/rdflime-util-cLuY5sAo-py3.10/lib/python3.10/site-packages/pandas/io/common.py?line=787'>788</a>\u001b[0m         \u001b[39m# Encoding\u001b[39;00m\n\u001b[0;32m--> <a href='file:///home/vscode/.cache/pypoetry/virtualenvs/rdflime-util-cLuY5sAo-py3.10/lib/python3.10/site-packages/pandas/io/common.py?line=788'>789</a>\u001b[0m         handle \u001b[39m=\u001b[39m \u001b[39mopen\u001b[39;49m(\n\u001b[1;32m    <a href='file:///home/vscode/.cache/pypoetry/virtualenvs/rdflime-util-cLuY5sAo-py3.10/lib/python3.10/site-packages/pandas/io/common.py?line=789'>790</a>\u001b[0m             handle,\n\u001b[1;32m    <a href='file:///home/vscode/.cache/pypoetry/virtualenvs/rdflime-util-cLuY5sAo-py3.10/lib/python3.10/site-packages/pandas/io/common.py?line=790'>791</a>\u001b[0m             ioargs\u001b[39m.\u001b[39;49mmode,\n\u001b[1;32m    <a href='file:///home/vscode/.cache/pypoetry/virtualenvs/rdflime-util-cLuY5sAo-py3.10/lib/python3.10/site-packages/pandas/io/common.py?line=791'>792</a>\u001b[0m             encoding\u001b[39m=\u001b[39;49mioargs\u001b[39m.\u001b[39;49mencoding,\n\u001b[1;32m    <a href='file:///home/vscode/.cache/pypoetry/virtualenvs/rdflime-util-cLuY5sAo-py3.10/lib/python3.10/site-packages/pandas/io/common.py?line=792'>793</a>\u001b[0m             errors\u001b[39m=\u001b[39;49merrors,\n\u001b[1;32m    <a href='file:///home/vscode/.cache/pypoetry/virtualenvs/rdflime-util-cLuY5sAo-py3.10/lib/python3.10/site-packages/pandas/io/common.py?line=793'>794</a>\u001b[0m             newline\u001b[39m=\u001b[39;49m\u001b[39m\"\u001b[39;49m\u001b[39m\"\u001b[39;49m,\n\u001b[1;32m    <a href='file:///home/vscode/.cache/pypoetry/virtualenvs/rdflime-util-cLuY5sAo-py3.10/lib/python3.10/site-packages/pandas/io/common.py?line=794'>795</a>\u001b[0m         )\n\u001b[1;32m    <a href='file:///home/vscode/.cache/pypoetry/virtualenvs/rdflime-util-cLuY5sAo-py3.10/lib/python3.10/site-packages/pandas/io/common.py?line=795'>796</a>\u001b[0m     \u001b[39melse\u001b[39;00m:\n\u001b[1;32m    <a href='file:///home/vscode/.cache/pypoetry/virtualenvs/rdflime-util-cLuY5sAo-py3.10/lib/python3.10/site-packages/pandas/io/common.py?line=796'>797</a>\u001b[0m         \u001b[39m# Binary mode\u001b[39;00m\n\u001b[1;32m    <a href='file:///home/vscode/.cache/pypoetry/virtualenvs/rdflime-util-cLuY5sAo-py3.10/lib/python3.10/site-packages/pandas/io/common.py?line=797'>798</a>\u001b[0m         handle \u001b[39m=\u001b[39m \u001b[39mopen\u001b[39m(handle, ioargs\u001b[39m.\u001b[39mmode)\n",
      "\u001b[0;31mFileNotFoundError\u001b[0m: [Errno 2] No such file or directory: '../data/metacritic-movies/movies.tsv'"
     ]
    }
   ],
   "source": [
    "# Read movie dataset\n",
    "#movieTrain = pd.read_csv(os.path.join(movieLocation, \"train_fixed.csv\"), sep='\\t')\n",
    "#movieTest = pd.read_csv(os.path.join(movieLocation, \"test_fixed.csv\"), sep='\\t')\n",
    "#movieFull = pd.concat(objs=[movieTrain, movieTest]).reset_index(drop=True)\n",
    "movieFull = pd.read_csv(os.path.join(movieLocation, \"movies.tsv\"), sep=\"\\t\")\n",
    "\n",
    "print(f\"\"\"\n",
    "Metacritic-Movies dataset loaded.\n",
    "Train samples: {len(movieTrain)} \n",
    "Test samples: {len(movieTest)}\n",
    "Total samples: {len(movieFull)}\n",
    "\"\"\")\n",
    "\n",
    "movieFull"
   ]
  },
  {
   "cell_type": "code",
   "execution_count": 3,
   "id": "79b3f280",
   "metadata": {},
   "outputs": [
    {
     "data": {
      "image/png": "[encoded data removed]",
      "text/plain": [
       "<Figure size 432x288 with 1 Axes>"
      ]
     },
     "metadata": {
      "needs_background": "light"
     },
     "output_type": "display_data"
    }
   ],
   "source": [
    "# Check rating distribution using histogram\n",
    "_ratingHist = movieFull.copy()\n",
    "_ratingHist.pivot(columns=\"Label\", values=\"rating\").plot.hist(color=[\"#F4BBBA\", \"#C3E5BD\"])\n",
    "plt.show()\n",
    "\n",
    "# Findings:\n",
    "# All movies with rating <= 40 marked bad\n",
    "# All movies with rating >= 60 marked good\n",
    "# No movies with rating 40-60 contained\n",
    "\n",
    "# Future Work: \n",
    "# Check for test / train individually"
   ]
  },
  {
   "cell_type": "code",
   "execution_count": 4,
   "id": "bcf8d5a0",
   "metadata": {},
   "outputs": [
    {
     "data": {
      "text/html": [
       "<div>\n",
       "<style scoped>\n",
       "    .dataframe tbody tr th:only-of-type {\n",
       "        vertical-align: middle;\n",
       "    }\n",
       "\n",
       "    .dataframe tbody tr th {\n",
       "        vertical-align: top;\n",
       "    }\n",
       "\n",
       "    .dataframe thead th {\n",
       "        text-align: right;\n",
       "    }\n",
       "</style>\n",
       "<table border=\"1\" class=\"dataframe\">\n",
       "  <thead>\n",
       "    <tr style=\"text-align: right;\">\n",
       "      <th></th>\n",
       "      <th>Movie</th>\n",
       "      <th>Release date</th>\n",
       "      <th>DBpedia_URI</th>\n",
       "      <th>Label</th>\n",
       "      <th>id</th>\n",
       "      <th>rating</th>\n",
       "    </tr>\n",
       "  </thead>\n",
       "  <tbody>\n",
       "    <tr>\n",
       "      <th>496</th>\n",
       "      <td>Alice et Martin</td>\n",
       "      <td>7/21/2000 0:00</td>\n",
       "      <td>http://dbpedia.org/resource/Alice_and_Martin</td>\n",
       "      <td>good</td>\n",
       "      <td>497</td>\n",
       "      <td>NaN</td>\n",
       "    </tr>\n",
       "    <tr>\n",
       "      <th>679</th>\n",
       "      <td>Alien: Resurrection</td>\n",
       "      <td>11/26/1997 0:00</td>\n",
       "      <td>http://dbpedia.org/resource/Alien:_Resurrection</td>\n",
       "      <td>good</td>\n",
       "      <td>680</td>\n",
       "      <td>NaN</td>\n",
       "    </tr>\n",
       "    <tr>\n",
       "      <th>721</th>\n",
       "      <td>All the Right Moves</td>\n",
       "      <td>10/21/1983 0:00</td>\n",
       "      <td>http://dbpedia.org/resource/All_the_Right_Move...</td>\n",
       "      <td>good</td>\n",
       "      <td>722</td>\n",
       "      <td>NaN</td>\n",
       "    </tr>\n",
       "    <tr>\n",
       "      <th>802</th>\n",
       "      <td>Aftershock</td>\n",
       "      <td>5/10/2013 0:00</td>\n",
       "      <td>http://dbpedia.org/resource/Aftershock_(2012_f...</td>\n",
       "      <td>bad</td>\n",
       "      <td>803</td>\n",
       "      <td>NaN</td>\n",
       "    </tr>\n",
       "    <tr>\n",
       "      <th>1071</th>\n",
       "      <td>21 and Over</td>\n",
       "      <td>3/1/2013 0:00</td>\n",
       "      <td>http://dbpedia.org/resource/21_&amp;_Over_(film)</td>\n",
       "      <td>bad</td>\n",
       "      <td>1072</td>\n",
       "      <td>NaN</td>\n",
       "    </tr>\n",
       "    <tr>\n",
       "      <th>1175</th>\n",
       "      <td>As Luck Would Have It</td>\n",
       "      <td>2/1/2013 0:00</td>\n",
       "      <td>http://dbpedia.org/resource/As_Luck_Would_Have...</td>\n",
       "      <td>bad</td>\n",
       "      <td>1176</td>\n",
       "      <td>NaN</td>\n",
       "    </tr>\n",
       "    <tr>\n",
       "      <th>1639</th>\n",
       "      <td>Bad Education</td>\n",
       "      <td>11/19/2004 0:00</td>\n",
       "      <td>http://dbpedia.org/resource/Bad_Education_(film)</td>\n",
       "      <td>good</td>\n",
       "      <td>1640</td>\n",
       "      <td>NaN</td>\n",
       "    </tr>\n",
       "    <tr>\n",
       "      <th>1894</th>\n",
       "      <td>Bandido</td>\n",
       "      <td>12/10/2004 0:00</td>\n",
       "      <td>http://dbpedia.org/resource/Bandido_(2004_film)</td>\n",
       "      <td>bad</td>\n",
       "      <td>1895</td>\n",
       "      <td>NaN</td>\n",
       "    </tr>\n",
       "  </tbody>\n",
       "</table>\n",
       "</div>"
      ],
      "text/plain": [
       "                      Movie     Release date  \\\n",
       "496         Alice et Martin   7/21/2000 0:00   \n",
       "679     Alien: Resurrection  11/26/1997 0:00   \n",
       "721     All the Right Moves  10/21/1983 0:00   \n",
       "802              Aftershock   5/10/2013 0:00   \n",
       "1071            21 and Over    3/1/2013 0:00   \n",
       "1175  As Luck Would Have It    2/1/2013 0:00   \n",
       "1639          Bad Education  11/19/2004 0:00   \n",
       "1894                Bandido  12/10/2004 0:00   \n",
       "\n",
       "                                            DBpedia_URI Label    id  rating  \n",
       "496        http://dbpedia.org/resource/Alice_and_Martin  good   497     NaN  \n",
       "679     http://dbpedia.org/resource/Alien:_Resurrection  good   680     NaN  \n",
       "721   http://dbpedia.org/resource/All_the_Right_Move...  good   722     NaN  \n",
       "802   http://dbpedia.org/resource/Aftershock_(2012_f...   bad   803     NaN  \n",
       "1071       http://dbpedia.org/resource/21_&_Over_(film)   bad  1072     NaN  \n",
       "1175  http://dbpedia.org/resource/As_Luck_Would_Have...   bad  1176     NaN  \n",
       "1639   http://dbpedia.org/resource/Bad_Education_(film)  good  1640     NaN  \n",
       "1894    http://dbpedia.org/resource/Bandido_(2004_film)   bad  1895     NaN  "
      ]
     },
     "execution_count": 4,
     "metadata": {},
     "output_type": "execute_result"
    }
   ],
   "source": [
    "# Check movies without rating\n",
    "movieFull[pd.isna(movieFull.rating)]\n",
    "\n",
    "# Findings:\n",
    "# 8 movies, 4 good and 4 bad, have no rating"
   ]
  },
  {
   "cell_type": "code",
   "execution_count": 5,
   "id": "151c2486",
   "metadata": {},
   "outputs": [
    {
     "data": {
      "text/plain": [
       "996"
      ]
     },
     "execution_count": 5,
     "metadata": {},
     "output_type": "execute_result"
    }
   ],
   "source": [
    "len(movieFull)\n",
    "len(movieFull[movieFull.rating <= 40])\n",
    "len(movieFull[movieFull.rating >= 50])"
   ]
  },
  {
   "cell_type": "code",
   "execution_count": null,
   "id": "be33988c",
   "metadata": {},
   "outputs": [],
   "source": []
  }
 ],
 "metadata": {
  "interpreter": {
   "hash": "fc6f725a70bbe8041c097ab7eae8aeb625a2cc94c1af18b785b9d981852f3aec"
  },
  "kernelspec": {
   "display_name": "lime-kernel",
   "language": "python",
   "name": "python3"
  },
  "language_info": {
   "codemirror_mode": {
    "name": "ipython",
    "version": 3
   },
   "file_extension": ".py",
   "mimetype": "text/x-python",
   "name": "python",
   "nbconvert_exporter": "python",
   "pygments_lexer": "ipython3",
   "version": "3.10.4"
  }
 },
 "nbformat": 4,
 "nbformat_minor": 5
}
